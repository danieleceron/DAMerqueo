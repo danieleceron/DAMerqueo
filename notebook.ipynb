{
 "metadata": {
  "language_info": {
   "codemirror_mode": {
    "name": "ipython",
    "version": 3
   },
   "file_extension": ".py",
   "mimetype": "text/x-python",
   "name": "python",
   "nbconvert_exporter": "python",
   "pygments_lexer": "ipython3",
   "version": "3.8.2-final"
  },
  "orig_nbformat": 2,
  "kernelspec": {
   "name": "python38264bite937ce24d65d4f4ab6b22f45869aa0bd",
   "display_name": "Python 3.8.2 64-bit"
  }
 },
 "nbformat": 4,
 "nbformat_minor": 2,
 "cells": [
  {
   "source": [
    "1. Con la información que se encuentra en la pestaña \"Base\", realice un análisis descriptivo sobre el negocio en general y enumere las principales conclusiones sobre el periodo dado. Este punto realizarlo en un jupyter notebook (opcional)\n",
    "\n",
    "2. Defina un plan de acción para identificar usuarios que con una alta probabilidad dejarian de usar una aplicación de retail ('Usuario Churn'). Realice una descripción de los pasos que llevaría a cabo, para completar esta tarea y que variables tendría en cuenta. ¿Que fuentes de datos usaria? ¿Que recursos externos? ¿Como modelaria el problema? ¿Que resultados esperaria lograr?\n",
    "\n",
    "3. En Merqueo actualmente se tiene la necesidad de realizar una segmentación de usuarios. Realice la descripcion del proyecto que desarrollaría (desde la descripción y recolección de la necesidad, hasta el despliegue del modelo) para llegar a dicho fín. Defina los pasos a seguir, las variables y los recursos necesarios. "
   ],
   "cell_type": "markdown",
   "metadata": {}
  },
  {
   "cell_type": "code",
   "execution_count": 54,
   "metadata": {},
   "outputs": [],
   "source": [
    "import pandas as pd\n",
    "import numpy as np\n",
    "import matplotlib.pyplot as plt\n",
    "import seaborn as sns\n",
    "\n",
    "pd.options.plotting.backend = \"plotly\"\n",
    "pd.set_option('max_columns', None)"
   ]
  },
  {
   "cell_type": "code",
   "execution_count": 55,
   "metadata": {},
   "outputs": [],
   "source": [
    "#df=pd.read_excel('Prueba Analista Data.xlsx',sheet_name='Base')\n",
    "#df.to_pickle(\"./dummy.pkl\")"
   ]
  },
  {
   "cell_type": "code",
   "execution_count": 56,
   "metadata": {},
   "outputs": [],
   "source": [
    "#Saving the dataframe in a pickle file\n",
    "#df.to_pickle(\"./dummy.pkl\")\n",
    "\n",
    "#if you want to remove the pkl file\n",
    "#import os\n",
    "#os.remove(\"./dummy.pkl\")"
   ]
  },
  {
   "cell_type": "code",
   "execution_count": 57,
   "metadata": {},
   "outputs": [
    {
     "output_type": "execute_result",
     "data": {
      "text/plain": "   IdOrden  Source osSource        FechaDespacho       FechaCreacion  \\\n0   431199  Device  Android  2018-02-02 08:28:42 2018-02-01 00:07:58   \n1   431200  Device  Android  2018-02-02 06:16:52 2018-02-01 00:13:41   \n2   431201  Device  Android  2018-02-02 07:00:50 2018-02-01 00:14:16   \n3   431202     Web       \\N  2018-02-02 06:16:53 2018-02-01 00:18:50   \n4   431204     Web       \\N  2018-02-02 06:21:29 2018-02-01 00:24:20   \n\n         FechaGestion             Horario        MetodoDePago  PagoCliente  \\\n0 2018-02-02 13:42:40  7:00 am - 12:00 pm            Efectivo      42552.0   \n1 2018-02-02 07:13:01  7:00 am - 12:00 pm            Efectivo      32340.0   \n2 2018-02-02 10:07:37  7:00 am - 12:00 pm  Tarjeta de crédito     156610.0   \n3 2018-02-02 09:29:54  7:00 am - 12:00 pm            Efectivo     201140.0   \n4 2018-02-02 08:49:35  7:00 am - 12:00 pm  Tarjeta de crédito     102290.0   \n\n   Descuento  Domicilio Calificacion  Bodega  Devolucion  Ciudad  \\\n0        0.0       2500           \\N  Ferias           0  Bogotá   \n1        0.0       2500           \\N  Ferias           0  Bogotá   \n2        0.0          0           \\N  Ferias           0  Bogotá   \n3        0.0          0           \\N  Ferias           0  Bogotá   \n4    10229.0          0            0  Ferias           0  Bogotá   \n\n  RazonCancelacionGeneral          nombre_picker_frio  \\\n0                       0    Sergio David Plazas Cruz   \n1                       0  Jose Daniel  Segura Poveda   \n2                       0  Diego Mauricio Garzon Peña   \n3                       0  Jose Daniel  Segura Poveda   \n4                       0                luisa vargas   \n\n        nombre_picker_seco          Tienda     Tipo FechaEsperadaEntrega  \\\n0  Daniel  Alvarez Bonilla  Merqueo Bogotá  Merqueo  2018-02-02 12:00:00   \n1          johana s castro  Merqueo Bogotá  Merqueo  2018-02-02 12:00:00   \n2           anirley garzon  Merqueo Bogotá  Merqueo  2018-02-02 12:00:00   \n3             Alison acuña  Merqueo Bogotá  Merqueo  2018-02-02 12:00:00   \n4       magnoliaT trujillo  Merqueo Bogotá  Merqueo  2018-02-02 12:00:00   \n\n  StatusOrden  Unidades  UnidadesDisponibles  UnidadesNoDisponibles  \\\n0   Delivered        10                   10                      0   \n1   Delivered         7                    7                      0   \n2   Delivered        47                   47                      0   \n3   Delivered        80                   80                      0   \n4   Delivered        26                   26                      0   \n\n   Repartidor  Otro  TiempoEntrega  El producto estaba en mal estado  \\\n0           0     0              0                                 0   \n1           0     0              0                                 0   \n2           0     0              0                                 0   \n3           0     0              0                                 0   \n4           0     0              0                                 0   \n\n   El producto estaba vencido  Me molesta no haber recibido este producto  \\\n0                           0                                           0   \n1                           0                                           0   \n2                           0                                           0   \n3                           0                                           0   \n4                           0                                           0   \n\n   No recibi el producto y me lo cobraron  Recibí el producto equivocado  \n0                                       0                              0  \n1                                       0                              0  \n2                                       0                              0  \n3                                       0                              0  \n4                                       1                              0  ",
      "text/html": "<div>\n<style scoped>\n    .dataframe tbody tr th:only-of-type {\n        vertical-align: middle;\n    }\n\n    .dataframe tbody tr th {\n        vertical-align: top;\n    }\n\n    .dataframe thead th {\n        text-align: right;\n    }\n</style>\n<table border=\"1\" class=\"dataframe\">\n  <thead>\n    <tr style=\"text-align: right;\">\n      <th></th>\n      <th>IdOrden</th>\n      <th>Source</th>\n      <th>osSource</th>\n      <th>FechaDespacho</th>\n      <th>FechaCreacion</th>\n      <th>FechaGestion</th>\n      <th>Horario</th>\n      <th>MetodoDePago</th>\n      <th>PagoCliente</th>\n      <th>Descuento</th>\n      <th>Domicilio</th>\n      <th>Calificacion</th>\n      <th>Bodega</th>\n      <th>Devolucion</th>\n      <th>Ciudad</th>\n      <th>RazonCancelacionGeneral</th>\n      <th>nombre_picker_frio</th>\n      <th>nombre_picker_seco</th>\n      <th>Tienda</th>\n      <th>Tipo</th>\n      <th>FechaEsperadaEntrega</th>\n      <th>StatusOrden</th>\n      <th>Unidades</th>\n      <th>UnidadesDisponibles</th>\n      <th>UnidadesNoDisponibles</th>\n      <th>Repartidor</th>\n      <th>Otro</th>\n      <th>TiempoEntrega</th>\n      <th>El producto estaba en mal estado</th>\n      <th>El producto estaba vencido</th>\n      <th>Me molesta no haber recibido este producto</th>\n      <th>No recibi el producto y me lo cobraron</th>\n      <th>Recibí el producto equivocado</th>\n    </tr>\n  </thead>\n  <tbody>\n    <tr>\n      <th>0</th>\n      <td>431199</td>\n      <td>Device</td>\n      <td>Android</td>\n      <td>2018-02-02 08:28:42</td>\n      <td>2018-02-01 00:07:58</td>\n      <td>2018-02-02 13:42:40</td>\n      <td>7:00 am - 12:00 pm</td>\n      <td>Efectivo</td>\n      <td>42552.0</td>\n      <td>0.0</td>\n      <td>2500</td>\n      <td>\\N</td>\n      <td>Ferias</td>\n      <td>0</td>\n      <td>Bogotá</td>\n      <td>0</td>\n      <td>Sergio David Plazas Cruz</td>\n      <td>Daniel  Alvarez Bonilla</td>\n      <td>Merqueo Bogotá</td>\n      <td>Merqueo</td>\n      <td>2018-02-02 12:00:00</td>\n      <td>Delivered</td>\n      <td>10</td>\n      <td>10</td>\n      <td>0</td>\n      <td>0</td>\n      <td>0</td>\n      <td>0</td>\n      <td>0</td>\n      <td>0</td>\n      <td>0</td>\n      <td>0</td>\n      <td>0</td>\n    </tr>\n    <tr>\n      <th>1</th>\n      <td>431200</td>\n      <td>Device</td>\n      <td>Android</td>\n      <td>2018-02-02 06:16:52</td>\n      <td>2018-02-01 00:13:41</td>\n      <td>2018-02-02 07:13:01</td>\n      <td>7:00 am - 12:00 pm</td>\n      <td>Efectivo</td>\n      <td>32340.0</td>\n      <td>0.0</td>\n      <td>2500</td>\n      <td>\\N</td>\n      <td>Ferias</td>\n      <td>0</td>\n      <td>Bogotá</td>\n      <td>0</td>\n      <td>Jose Daniel  Segura Poveda</td>\n      <td>johana s castro</td>\n      <td>Merqueo Bogotá</td>\n      <td>Merqueo</td>\n      <td>2018-02-02 12:00:00</td>\n      <td>Delivered</td>\n      <td>7</td>\n      <td>7</td>\n      <td>0</td>\n      <td>0</td>\n      <td>0</td>\n      <td>0</td>\n      <td>0</td>\n      <td>0</td>\n      <td>0</td>\n      <td>0</td>\n      <td>0</td>\n    </tr>\n    <tr>\n      <th>2</th>\n      <td>431201</td>\n      <td>Device</td>\n      <td>Android</td>\n      <td>2018-02-02 07:00:50</td>\n      <td>2018-02-01 00:14:16</td>\n      <td>2018-02-02 10:07:37</td>\n      <td>7:00 am - 12:00 pm</td>\n      <td>Tarjeta de crédito</td>\n      <td>156610.0</td>\n      <td>0.0</td>\n      <td>0</td>\n      <td>\\N</td>\n      <td>Ferias</td>\n      <td>0</td>\n      <td>Bogotá</td>\n      <td>0</td>\n      <td>Diego Mauricio Garzon Peña</td>\n      <td>anirley garzon</td>\n      <td>Merqueo Bogotá</td>\n      <td>Merqueo</td>\n      <td>2018-02-02 12:00:00</td>\n      <td>Delivered</td>\n      <td>47</td>\n      <td>47</td>\n      <td>0</td>\n      <td>0</td>\n      <td>0</td>\n      <td>0</td>\n      <td>0</td>\n      <td>0</td>\n      <td>0</td>\n      <td>0</td>\n      <td>0</td>\n    </tr>\n    <tr>\n      <th>3</th>\n      <td>431202</td>\n      <td>Web</td>\n      <td>\\N</td>\n      <td>2018-02-02 06:16:53</td>\n      <td>2018-02-01 00:18:50</td>\n      <td>2018-02-02 09:29:54</td>\n      <td>7:00 am - 12:00 pm</td>\n      <td>Efectivo</td>\n      <td>201140.0</td>\n      <td>0.0</td>\n      <td>0</td>\n      <td>\\N</td>\n      <td>Ferias</td>\n      <td>0</td>\n      <td>Bogotá</td>\n      <td>0</td>\n      <td>Jose Daniel  Segura Poveda</td>\n      <td>Alison acuña</td>\n      <td>Merqueo Bogotá</td>\n      <td>Merqueo</td>\n      <td>2018-02-02 12:00:00</td>\n      <td>Delivered</td>\n      <td>80</td>\n      <td>80</td>\n      <td>0</td>\n      <td>0</td>\n      <td>0</td>\n      <td>0</td>\n      <td>0</td>\n      <td>0</td>\n      <td>0</td>\n      <td>0</td>\n      <td>0</td>\n    </tr>\n    <tr>\n      <th>4</th>\n      <td>431204</td>\n      <td>Web</td>\n      <td>\\N</td>\n      <td>2018-02-02 06:21:29</td>\n      <td>2018-02-01 00:24:20</td>\n      <td>2018-02-02 08:49:35</td>\n      <td>7:00 am - 12:00 pm</td>\n      <td>Tarjeta de crédito</td>\n      <td>102290.0</td>\n      <td>10229.0</td>\n      <td>0</td>\n      <td>0</td>\n      <td>Ferias</td>\n      <td>0</td>\n      <td>Bogotá</td>\n      <td>0</td>\n      <td>luisa vargas</td>\n      <td>magnoliaT trujillo</td>\n      <td>Merqueo Bogotá</td>\n      <td>Merqueo</td>\n      <td>2018-02-02 12:00:00</td>\n      <td>Delivered</td>\n      <td>26</td>\n      <td>26</td>\n      <td>0</td>\n      <td>0</td>\n      <td>0</td>\n      <td>0</td>\n      <td>0</td>\n      <td>0</td>\n      <td>0</td>\n      <td>1</td>\n      <td>0</td>\n    </tr>\n  </tbody>\n</table>\n</div>"
     },
     "metadata": {},
     "execution_count": 57
    }
   ],
   "source": [
    "#Reading pickle\n",
    "df = pd.read_pickle(\"./dummy.pkl\")\n",
    "df.head()"
   ]
  },
  {
   "cell_type": "code",
   "execution_count": 58,
   "metadata": {},
   "outputs": [
    {
     "output_type": "execute_result",
     "data": {
      "text/plain": "(70181, 33)"
     },
     "metadata": {},
     "execution_count": 58
    }
   ],
   "source": [
    "df.shape"
   ]
  },
  {
   "cell_type": "code",
   "execution_count": 59,
   "metadata": {
    "tags": []
   },
   "outputs": [
    {
     "output_type": "stream",
     "name": "stdout",
     "text": "working with 33 columns and 70181 rows of data\n"
    },
    {
     "output_type": "execute_result",
     "data": {
      "text/plain": "   IdOrden  Source osSource        FechaDespacho       FechaCreacion  \\\n0   431199  Device  Android  2018-02-02 08:28:42 2018-02-01 00:07:58   \n1   431200  Device  Android  2018-02-02 06:16:52 2018-02-01 00:13:41   \n2   431201  Device  Android  2018-02-02 07:00:50 2018-02-01 00:14:16   \n3   431202     Web       \\N  2018-02-02 06:16:53 2018-02-01 00:18:50   \n4   431204     Web       \\N  2018-02-02 06:21:29 2018-02-01 00:24:20   \n\n         FechaGestion             Horario        MetodoDePago  PagoCliente  \\\n0 2018-02-02 13:42:40  7:00 am - 12:00 pm            Efectivo      42552.0   \n1 2018-02-02 07:13:01  7:00 am - 12:00 pm            Efectivo      32340.0   \n2 2018-02-02 10:07:37  7:00 am - 12:00 pm  Tarjeta de crédito     156610.0   \n3 2018-02-02 09:29:54  7:00 am - 12:00 pm            Efectivo     201140.0   \n4 2018-02-02 08:49:35  7:00 am - 12:00 pm  Tarjeta de crédito     102290.0   \n\n   Descuento  Domicilio Calificacion  Bodega  Devolucion  Ciudad  \\\n0        0.0       2500           \\N  Ferias           0  Bogotá   \n1        0.0       2500           \\N  Ferias           0  Bogotá   \n2        0.0          0           \\N  Ferias           0  Bogotá   \n3        0.0          0           \\N  Ferias           0  Bogotá   \n4    10229.0          0            0  Ferias           0  Bogotá   \n\n  RazonCancelacionGeneral          nombre_picker_frio  \\\n0                       0    Sergio David Plazas Cruz   \n1                       0  Jose Daniel  Segura Poveda   \n2                       0  Diego Mauricio Garzon Peña   \n3                       0  Jose Daniel  Segura Poveda   \n4                       0                luisa vargas   \n\n        nombre_picker_seco          Tienda     Tipo FechaEsperadaEntrega  \\\n0  Daniel  Alvarez Bonilla  Merqueo Bogotá  Merqueo  2018-02-02 12:00:00   \n1          johana s castro  Merqueo Bogotá  Merqueo  2018-02-02 12:00:00   \n2           anirley garzon  Merqueo Bogotá  Merqueo  2018-02-02 12:00:00   \n3             Alison acuña  Merqueo Bogotá  Merqueo  2018-02-02 12:00:00   \n4       magnoliaT trujillo  Merqueo Bogotá  Merqueo  2018-02-02 12:00:00   \n\n  StatusOrden  Unidades  UnidadesDisponibles  UnidadesNoDisponibles  \\\n0   Delivered        10                   10                      0   \n1   Delivered         7                    7                      0   \n2   Delivered        47                   47                      0   \n3   Delivered        80                   80                      0   \n4   Delivered        26                   26                      0   \n\n   Repartidor  Otro  TiempoEntrega  El producto estaba en mal estado  \\\n0           0     0              0                                 0   \n1           0     0              0                                 0   \n2           0     0              0                                 0   \n3           0     0              0                                 0   \n4           0     0              0                                 0   \n\n   El producto estaba vencido  Me molesta no haber recibido este producto  \\\n0                           0                                           0   \n1                           0                                           0   \n2                           0                                           0   \n3                           0                                           0   \n4                           0                                           0   \n\n   No recibi el producto y me lo cobraron  Recibí el producto equivocado  \n0                                       0                              0  \n1                                       0                              0  \n2                                       0                              0  \n3                                       0                              0  \n4                                       1                              0  ",
      "text/html": "<div>\n<style scoped>\n    .dataframe tbody tr th:only-of-type {\n        vertical-align: middle;\n    }\n\n    .dataframe tbody tr th {\n        vertical-align: top;\n    }\n\n    .dataframe thead th {\n        text-align: right;\n    }\n</style>\n<table border=\"1\" class=\"dataframe\">\n  <thead>\n    <tr style=\"text-align: right;\">\n      <th></th>\n      <th>IdOrden</th>\n      <th>Source</th>\n      <th>osSource</th>\n      <th>FechaDespacho</th>\n      <th>FechaCreacion</th>\n      <th>FechaGestion</th>\n      <th>Horario</th>\n      <th>MetodoDePago</th>\n      <th>PagoCliente</th>\n      <th>Descuento</th>\n      <th>Domicilio</th>\n      <th>Calificacion</th>\n      <th>Bodega</th>\n      <th>Devolucion</th>\n      <th>Ciudad</th>\n      <th>RazonCancelacionGeneral</th>\n      <th>nombre_picker_frio</th>\n      <th>nombre_picker_seco</th>\n      <th>Tienda</th>\n      <th>Tipo</th>\n      <th>FechaEsperadaEntrega</th>\n      <th>StatusOrden</th>\n      <th>Unidades</th>\n      <th>UnidadesDisponibles</th>\n      <th>UnidadesNoDisponibles</th>\n      <th>Repartidor</th>\n      <th>Otro</th>\n      <th>TiempoEntrega</th>\n      <th>El producto estaba en mal estado</th>\n      <th>El producto estaba vencido</th>\n      <th>Me molesta no haber recibido este producto</th>\n      <th>No recibi el producto y me lo cobraron</th>\n      <th>Recibí el producto equivocado</th>\n    </tr>\n  </thead>\n  <tbody>\n    <tr>\n      <th>0</th>\n      <td>431199</td>\n      <td>Device</td>\n      <td>Android</td>\n      <td>2018-02-02 08:28:42</td>\n      <td>2018-02-01 00:07:58</td>\n      <td>2018-02-02 13:42:40</td>\n      <td>7:00 am - 12:00 pm</td>\n      <td>Efectivo</td>\n      <td>42552.0</td>\n      <td>0.0</td>\n      <td>2500</td>\n      <td>\\N</td>\n      <td>Ferias</td>\n      <td>0</td>\n      <td>Bogotá</td>\n      <td>0</td>\n      <td>Sergio David Plazas Cruz</td>\n      <td>Daniel  Alvarez Bonilla</td>\n      <td>Merqueo Bogotá</td>\n      <td>Merqueo</td>\n      <td>2018-02-02 12:00:00</td>\n      <td>Delivered</td>\n      <td>10</td>\n      <td>10</td>\n      <td>0</td>\n      <td>0</td>\n      <td>0</td>\n      <td>0</td>\n      <td>0</td>\n      <td>0</td>\n      <td>0</td>\n      <td>0</td>\n      <td>0</td>\n    </tr>\n    <tr>\n      <th>1</th>\n      <td>431200</td>\n      <td>Device</td>\n      <td>Android</td>\n      <td>2018-02-02 06:16:52</td>\n      <td>2018-02-01 00:13:41</td>\n      <td>2018-02-02 07:13:01</td>\n      <td>7:00 am - 12:00 pm</td>\n      <td>Efectivo</td>\n      <td>32340.0</td>\n      <td>0.0</td>\n      <td>2500</td>\n      <td>\\N</td>\n      <td>Ferias</td>\n      <td>0</td>\n      <td>Bogotá</td>\n      <td>0</td>\n      <td>Jose Daniel  Segura Poveda</td>\n      <td>johana s castro</td>\n      <td>Merqueo Bogotá</td>\n      <td>Merqueo</td>\n      <td>2018-02-02 12:00:00</td>\n      <td>Delivered</td>\n      <td>7</td>\n      <td>7</td>\n      <td>0</td>\n      <td>0</td>\n      <td>0</td>\n      <td>0</td>\n      <td>0</td>\n      <td>0</td>\n      <td>0</td>\n      <td>0</td>\n      <td>0</td>\n    </tr>\n    <tr>\n      <th>2</th>\n      <td>431201</td>\n      <td>Device</td>\n      <td>Android</td>\n      <td>2018-02-02 07:00:50</td>\n      <td>2018-02-01 00:14:16</td>\n      <td>2018-02-02 10:07:37</td>\n      <td>7:00 am - 12:00 pm</td>\n      <td>Tarjeta de crédito</td>\n      <td>156610.0</td>\n      <td>0.0</td>\n      <td>0</td>\n      <td>\\N</td>\n      <td>Ferias</td>\n      <td>0</td>\n      <td>Bogotá</td>\n      <td>0</td>\n      <td>Diego Mauricio Garzon Peña</td>\n      <td>anirley garzon</td>\n      <td>Merqueo Bogotá</td>\n      <td>Merqueo</td>\n      <td>2018-02-02 12:00:00</td>\n      <td>Delivered</td>\n      <td>47</td>\n      <td>47</td>\n      <td>0</td>\n      <td>0</td>\n      <td>0</td>\n      <td>0</td>\n      <td>0</td>\n      <td>0</td>\n      <td>0</td>\n      <td>0</td>\n      <td>0</td>\n    </tr>\n    <tr>\n      <th>3</th>\n      <td>431202</td>\n      <td>Web</td>\n      <td>\\N</td>\n      <td>2018-02-02 06:16:53</td>\n      <td>2018-02-01 00:18:50</td>\n      <td>2018-02-02 09:29:54</td>\n      <td>7:00 am - 12:00 pm</td>\n      <td>Efectivo</td>\n      <td>201140.0</td>\n      <td>0.0</td>\n      <td>0</td>\n      <td>\\N</td>\n      <td>Ferias</td>\n      <td>0</td>\n      <td>Bogotá</td>\n      <td>0</td>\n      <td>Jose Daniel  Segura Poveda</td>\n      <td>Alison acuña</td>\n      <td>Merqueo Bogotá</td>\n      <td>Merqueo</td>\n      <td>2018-02-02 12:00:00</td>\n      <td>Delivered</td>\n      <td>80</td>\n      <td>80</td>\n      <td>0</td>\n      <td>0</td>\n      <td>0</td>\n      <td>0</td>\n      <td>0</td>\n      <td>0</td>\n      <td>0</td>\n      <td>0</td>\n      <td>0</td>\n    </tr>\n    <tr>\n      <th>4</th>\n      <td>431204</td>\n      <td>Web</td>\n      <td>\\N</td>\n      <td>2018-02-02 06:21:29</td>\n      <td>2018-02-01 00:24:20</td>\n      <td>2018-02-02 08:49:35</td>\n      <td>7:00 am - 12:00 pm</td>\n      <td>Tarjeta de crédito</td>\n      <td>102290.0</td>\n      <td>10229.0</td>\n      <td>0</td>\n      <td>0</td>\n      <td>Ferias</td>\n      <td>0</td>\n      <td>Bogotá</td>\n      <td>0</td>\n      <td>luisa vargas</td>\n      <td>magnoliaT trujillo</td>\n      <td>Merqueo Bogotá</td>\n      <td>Merqueo</td>\n      <td>2018-02-02 12:00:00</td>\n      <td>Delivered</td>\n      <td>26</td>\n      <td>26</td>\n      <td>0</td>\n      <td>0</td>\n      <td>0</td>\n      <td>0</td>\n      <td>0</td>\n      <td>0</td>\n      <td>0</td>\n      <td>1</td>\n      <td>0</td>\n    </tr>\n  </tbody>\n</table>\n</div>"
     },
     "metadata": {},
     "execution_count": 59
    }
   ],
   "source": [
    "print('working with {} columns and {} rows of data'.format(len(df.columns),len(df.index)))\n",
    "df.head()"
   ]
  },
  {
   "cell_type": "code",
   "execution_count": 60,
   "metadata": {
    "tags": []
   },
   "outputs": [
    {
     "output_type": "stream",
     "name": "stdout",
     "text": "<class 'pandas.core.frame.DataFrame'>\nRangeIndex: 70181 entries, 0 to 70180\nData columns (total 33 columns):\n #   Column                                      Non-Null Count  Dtype         \n---  ------                                      --------------  -----         \n 0   IdOrden                                     70181 non-null  int64         \n 1   Source                                      70181 non-null  object        \n 2   osSource                                    70181 non-null  object        \n 3   FechaDespacho                               70181 non-null  object        \n 4   FechaCreacion                               70181 non-null  datetime64[ns]\n 5   FechaGestion                                70181 non-null  datetime64[ns]\n 6   Horario                                     70181 non-null  object        \n 7   MetodoDePago                                70181 non-null  object        \n 8   PagoCliente                                 70181 non-null  float64       \n 9   Descuento                                   70181 non-null  float64       \n 10  Domicilio                                   70181 non-null  int64         \n 11  Calificacion                                70181 non-null  object        \n 12  Bodega                                      70181 non-null  object        \n 13  Devolucion                                  70181 non-null  int64         \n 14  Ciudad                                      70181 non-null  object        \n 15  RazonCancelacionGeneral                     70181 non-null  object        \n 16  nombre_picker_frio                          70181 non-null  object        \n 17  nombre_picker_seco                          70181 non-null  object        \n 18  Tienda                                      70181 non-null  object        \n 19  Tipo                                        70181 non-null  object        \n 20  FechaEsperadaEntrega                        70181 non-null  datetime64[ns]\n 21  StatusOrden                                 70181 non-null  object        \n 22  Unidades                                    70181 non-null  int64         \n 23  UnidadesDisponibles                         70181 non-null  int64         \n 24  UnidadesNoDisponibles                       70181 non-null  int64         \n 25  Repartidor                                  70181 non-null  int64         \n 26  Otro                                        70181 non-null  int64         \n 27  TiempoEntrega                               70181 non-null  int64         \n 28  El producto estaba en mal estado            70181 non-null  int64         \n 29  El producto estaba vencido                  70181 non-null  int64         \n 30  Me molesta no haber recibido este producto  70181 non-null  int64         \n 31  No recibi el producto y me lo cobraron      70181 non-null  int64         \n 32  Recibí el producto equivocado               70181 non-null  int64         \ndtypes: datetime64[ns](3), float64(2), int64(14), object(14)\nmemory usage: 17.7+ MB\n"
    }
   ],
   "source": [
    "#Seeing the typyes and values of each column\n",
    "df.info()"
   ]
  },
  {
   "source": [
    "seems that we have we have no missing values, but we're going to check if any column contains nan"
   ],
   "cell_type": "markdown",
   "metadata": {}
  },
  {
   "cell_type": "code",
   "execution_count": 61,
   "metadata": {},
   "outputs": [
    {
     "output_type": "execute_result",
     "data": {
      "text/plain": "IdOrden                                       False\nSource                                        False\nosSource                                      False\nFechaDespacho                                 False\nFechaCreacion                                 False\nFechaGestion                                  False\nHorario                                       False\nMetodoDePago                                  False\nPagoCliente                                   False\nDescuento                                     False\nDomicilio                                     False\nCalificacion                                  False\nBodega                                        False\nDevolucion                                    False\nCiudad                                        False\nRazonCancelacionGeneral                       False\nnombre_picker_frio                            False\nnombre_picker_seco                            False\nTienda                                        False\nTipo                                          False\nFechaEsperadaEntrega                          False\nStatusOrden                                   False\nUnidades                                      False\nUnidadesDisponibles                           False\nUnidadesNoDisponibles                         False\nRepartidor                                    False\nOtro                                          False\nTiempoEntrega                                 False\nEl producto estaba en mal estado              False\nEl producto estaba vencido                    False\nMe molesta no haber recibido este producto    False\nNo recibi el producto y me lo cobraron        False\nRecibí el producto equivocado                 False\ndtype: bool"
     },
     "metadata": {},
     "execution_count": 61
    }
   ],
   "source": [
    "df.isna().any()"
   ]
  },
  {
   "source": [
    "In fact, we have no nan values. every row of each feature has values"
   ],
   "cell_type": "markdown",
   "metadata": {}
  },
  {
   "cell_type": "code",
   "execution_count": 62,
   "metadata": {},
   "outputs": [
    {
     "output_type": "execute_result",
     "data": {
      "text/plain": "        FechaCreacion        FechaGestion FechaEsperadaEntrega\n0 2018-02-01 00:07:58 2018-02-02 13:42:40  2018-02-02 12:00:00\n1 2018-02-01 00:13:41 2018-02-02 07:13:01  2018-02-02 12:00:00\n2 2018-02-01 00:14:16 2018-02-02 10:07:37  2018-02-02 12:00:00\n3 2018-02-01 00:18:50 2018-02-02 09:29:54  2018-02-02 12:00:00\n4 2018-02-01 00:24:20 2018-02-02 08:49:35  2018-02-02 12:00:00",
      "text/html": "<div>\n<style scoped>\n    .dataframe tbody tr th:only-of-type {\n        vertical-align: middle;\n    }\n\n    .dataframe tbody tr th {\n        vertical-align: top;\n    }\n\n    .dataframe thead th {\n        text-align: right;\n    }\n</style>\n<table border=\"1\" class=\"dataframe\">\n  <thead>\n    <tr style=\"text-align: right;\">\n      <th></th>\n      <th>FechaCreacion</th>\n      <th>FechaGestion</th>\n      <th>FechaEsperadaEntrega</th>\n    </tr>\n  </thead>\n  <tbody>\n    <tr>\n      <th>0</th>\n      <td>2018-02-01 00:07:58</td>\n      <td>2018-02-02 13:42:40</td>\n      <td>2018-02-02 12:00:00</td>\n    </tr>\n    <tr>\n      <th>1</th>\n      <td>2018-02-01 00:13:41</td>\n      <td>2018-02-02 07:13:01</td>\n      <td>2018-02-02 12:00:00</td>\n    </tr>\n    <tr>\n      <th>2</th>\n      <td>2018-02-01 00:14:16</td>\n      <td>2018-02-02 10:07:37</td>\n      <td>2018-02-02 12:00:00</td>\n    </tr>\n    <tr>\n      <th>3</th>\n      <td>2018-02-01 00:18:50</td>\n      <td>2018-02-02 09:29:54</td>\n      <td>2018-02-02 12:00:00</td>\n    </tr>\n    <tr>\n      <th>4</th>\n      <td>2018-02-01 00:24:20</td>\n      <td>2018-02-02 08:49:35</td>\n      <td>2018-02-02 12:00:00</td>\n    </tr>\n  </tbody>\n</table>\n</div>"
     },
     "metadata": {},
     "execution_count": 62
    }
   ],
   "source": [
    "df.select_dtypes(include='datetime').head()"
   ]
  },
  {
   "source": [
    "We must have 4 columns in datetime format instead of 3"
   ],
   "cell_type": "markdown",
   "metadata": {}
  },
  {
   "cell_type": "code",
   "execution_count": 63,
   "metadata": {},
   "outputs": [],
   "source": [
    "#formating FechaDespacho and Horario\n",
    "#pd.to_datetime(df.FechaDespacho,format='%Y-%m-%d %H:%M:%S')"
   ]
  },
  {
   "source": [
    "The issue with the feature FechaDespacho is that it contains \\N value"
   ],
   "cell_type": "markdown",
   "metadata": {}
  },
  {
   "cell_type": "code",
   "execution_count": 64,
   "metadata": {},
   "outputs": [
    {
     "output_type": "execute_result",
     "data": {
      "text/plain": "       IdOrden  Source osSource FechaDespacho       FechaCreacion  \\\n12      431214  Device  Android            \\N 2018-02-01 01:23:17   \n15      431218  Device  Android            \\N 2018-02-01 02:14:39   \n36      431242  Device  Android            \\N 2018-02-01 06:16:37   \n73      431280  Device      iOS            \\N 2018-02-01 07:37:21   \n153     431366     Web       \\N            \\N 2018-02-01 09:04:56   \n...        ...     ...      ...           ...                 ...   \n70129   501055  Device  Android            \\N 2018-03-31 17:31:47   \n70143   501216  Device  Android            \\N 2018-03-31 19:11:25   \n70158   501341  Device      iOS            \\N 2018-03-31 20:24:23   \n70163   501387  Device  Android            \\N 2018-03-31 20:44:19   \n70166   501488  Device      iOS            \\N 2018-03-31 21:53:18   \n\n             FechaGestion             Horario        MetodoDePago  \\\n12    2018-02-05 15:43:39  12:00 pm - 5:00 pm            Efectivo   \n15    2018-02-01 07:28:15  12:00 pm - 5:00 pm            Efectivo   \n36    2018-02-01 18:27:41  7:00 am - 12:00 pm            Efectivo   \n73    2018-02-01 20:02:02  7:00 am - 12:00 pm            Datáfono   \n153   2018-02-05 15:36:58  7:00 am - 12:00 pm            Efectivo   \n...                   ...                 ...                 ...   \n70129 2018-03-31 22:58:14  12:00 pm - 5:00 pm  Tarjeta de crédito   \n70143 2018-04-01 00:06:34  7:00 am - 12:00 pm            Efectivo   \n70158 2018-04-01 03:10:02  7:00 am - 12:00 pm  Tarjeta de crédito   \n70163 2018-03-31 23:51:02  7:00 am - 12:00 pm            Efectivo   \n70166 2018-03-31 23:40:07  7:00 am - 12:00 pm            Efectivo   \n\n       PagoCliente  Descuento  Domicilio Calificacion       Bodega  \\\n12         57390.0        0.0          0           \\N       Ferias   \n15         37750.0        0.0       2500           \\N       Ferias   \n36         65700.0        0.0       2500           \\N       Ferias   \n73        107310.0    10731.0          0           \\N       Ferias   \n153        57390.0        0.0          0            1       Ferias   \n...            ...        ...        ...          ...          ...   \n70129     256623.0    50000.0          0           \\N  La Estrella   \n70143     171990.0        0.0          0           \\N  La Estrella   \n70158      81430.0        0.0       4500           \\N  La Estrella   \n70163      39430.0        0.0       4500           \\N  La Estrella   \n70166     154449.0        0.0          0           \\N  La Estrella   \n\n       Devolucion    Ciudad            RazonCancelacionGeneral  \\\n12              0    Bogotá             Reprogramación-Merqueo   \n15              0    Bogotá  Cancelado definitivamente-Cliente   \n36              0    Bogotá  Cancelado definitivamente-Cliente   \n73              0    Bogotá  Cancelado definitivamente-Cliente   \n153             0    Bogotá             Reprogramación-Merqueo   \n...           ...       ...                                ...   \n70129           0  Medellín  Cancelado definitivamente-Cliente   \n70143           0  Medellín  Cancelado definitivamente-Merqueo   \n70158           0  Medellín  Cancelado definitivamente-Cliente   \n70163           0  Medellín  Cancelado definitivamente-Merqueo   \n70166           0  Medellín  Cancelado definitivamente-Cliente   \n\n          nombre_picker_frio nombre_picker_seco            Tienda  \\\n12                        \\N                 \\N    Merqueo Bogotá   \n15                        \\N                 \\N    Merqueo Bogotá   \n36                        \\N                 \\N    Merqueo Bogotá   \n73                        \\N                 \\N    Merqueo Bogotá   \n153                       \\N                 \\N    Merqueo Bogotá   \n...                      ...                ...               ...   \n70129                     \\N                 \\N  Merqueo Medellín   \n70143                     \\N                 \\N  Merqueo Medellín   \n70158  Ximena Ricardo Oviedo                 \\N  Merqueo Medellín   \n70163                     \\N                 \\N  Merqueo Medellín   \n70166                     \\N                 \\N  Merqueo Medellín   \n\n              Tipo FechaEsperadaEntrega StatusOrden  Unidades  \\\n12     Marketplace  2018-02-05 17:00:00   Cancelled         1   \n15         Merqueo  2018-02-02 17:00:00   Cancelled         6   \n36         Merqueo  2018-02-02 12:00:00   Cancelled        11   \n73         Merqueo  2018-02-02 12:00:00   Cancelled        24   \n153    Marketplace  2018-02-05 12:00:00   Cancelled         1   \n...            ...                  ...         ...       ...   \n70129      Merqueo  2018-04-01 17:00:00   Cancelled        34   \n70143      Merqueo  2018-04-01 12:00:00   Cancelled        45   \n70158      Merqueo  2018-04-01 12:00:00   Cancelled        23   \n70163      Merqueo  2018-04-01 12:00:00   Cancelled        16   \n70166      Merqueo  2018-04-01 12:00:00   Cancelled        29   \n\n       UnidadesDisponibles  UnidadesNoDisponibles  Repartidor  Otro  \\\n12                       0                      0           0     0   \n15                       0                      0           0     0   \n36                       0                      0           0     0   \n73                       0                      0           0     0   \n153                      0                      0           0     0   \n...                    ...                    ...         ...   ...   \n70129                    0                      0           0     0   \n70143                    0                      0           0     0   \n70158                    9                      0           0     0   \n70163                    0                      0           0     0   \n70166                    0                      0           0     0   \n\n       TiempoEntrega  El producto estaba en mal estado  \\\n12                 0                                 0   \n15                 0                                 0   \n36                 0                                 0   \n73                 0                                 0   \n153                0                                 0   \n...              ...                               ...   \n70129              0                                 0   \n70143              0                                 0   \n70158              0                                 0   \n70163              0                                 0   \n70166              0                                 0   \n\n       El producto estaba vencido  Me molesta no haber recibido este producto  \\\n12                              0                                           0   \n15                              0                                           0   \n36                              0                                           0   \n73                              0                                           0   \n153                             0                                           0   \n...                           ...                                         ...   \n70129                           0                                           0   \n70143                           0                                           0   \n70158                           0                                           0   \n70163                           0                                           0   \n70166                           0                                           0   \n\n       No recibi el producto y me lo cobraron  Recibí el producto equivocado  \n12                                          0                              0  \n15                                          0                              0  \n36                                          0                              0  \n73                                          0                              0  \n153                                         0                              0  \n...                                       ...                            ...  \n70129                                       0                              0  \n70143                                       0                              0  \n70158                                       0                              0  \n70163                                       0                              0  \n70166                                       0                              0  \n\n[2664 rows x 33 columns]",
      "text/html": "<div>\n<style scoped>\n    .dataframe tbody tr th:only-of-type {\n        vertical-align: middle;\n    }\n\n    .dataframe tbody tr th {\n        vertical-align: top;\n    }\n\n    .dataframe thead th {\n        text-align: right;\n    }\n</style>\n<table border=\"1\" class=\"dataframe\">\n  <thead>\n    <tr style=\"text-align: right;\">\n      <th></th>\n      <th>IdOrden</th>\n      <th>Source</th>\n      <th>osSource</th>\n      <th>FechaDespacho</th>\n      <th>FechaCreacion</th>\n      <th>FechaGestion</th>\n      <th>Horario</th>\n      <th>MetodoDePago</th>\n      <th>PagoCliente</th>\n      <th>Descuento</th>\n      <th>Domicilio</th>\n      <th>Calificacion</th>\n      <th>Bodega</th>\n      <th>Devolucion</th>\n      <th>Ciudad</th>\n      <th>RazonCancelacionGeneral</th>\n      <th>nombre_picker_frio</th>\n      <th>nombre_picker_seco</th>\n      <th>Tienda</th>\n      <th>Tipo</th>\n      <th>FechaEsperadaEntrega</th>\n      <th>StatusOrden</th>\n      <th>Unidades</th>\n      <th>UnidadesDisponibles</th>\n      <th>UnidadesNoDisponibles</th>\n      <th>Repartidor</th>\n      <th>Otro</th>\n      <th>TiempoEntrega</th>\n      <th>El producto estaba en mal estado</th>\n      <th>El producto estaba vencido</th>\n      <th>Me molesta no haber recibido este producto</th>\n      <th>No recibi el producto y me lo cobraron</th>\n      <th>Recibí el producto equivocado</th>\n    </tr>\n  </thead>\n  <tbody>\n    <tr>\n      <th>12</th>\n      <td>431214</td>\n      <td>Device</td>\n      <td>Android</td>\n      <td>\\N</td>\n      <td>2018-02-01 01:23:17</td>\n      <td>2018-02-05 15:43:39</td>\n      <td>12:00 pm - 5:00 pm</td>\n      <td>Efectivo</td>\n      <td>57390.0</td>\n      <td>0.0</td>\n      <td>0</td>\n      <td>\\N</td>\n      <td>Ferias</td>\n      <td>0</td>\n      <td>Bogotá</td>\n      <td>Reprogramación-Merqueo</td>\n      <td>\\N</td>\n      <td>\\N</td>\n      <td>Merqueo Bogotá</td>\n      <td>Marketplace</td>\n      <td>2018-02-05 17:00:00</td>\n      <td>Cancelled</td>\n      <td>1</td>\n      <td>0</td>\n      <td>0</td>\n      <td>0</td>\n      <td>0</td>\n      <td>0</td>\n      <td>0</td>\n      <td>0</td>\n      <td>0</td>\n      <td>0</td>\n      <td>0</td>\n    </tr>\n    <tr>\n      <th>15</th>\n      <td>431218</td>\n      <td>Device</td>\n      <td>Android</td>\n      <td>\\N</td>\n      <td>2018-02-01 02:14:39</td>\n      <td>2018-02-01 07:28:15</td>\n      <td>12:00 pm - 5:00 pm</td>\n      <td>Efectivo</td>\n      <td>37750.0</td>\n      <td>0.0</td>\n      <td>2500</td>\n      <td>\\N</td>\n      <td>Ferias</td>\n      <td>0</td>\n      <td>Bogotá</td>\n      <td>Cancelado definitivamente-Cliente</td>\n      <td>\\N</td>\n      <td>\\N</td>\n      <td>Merqueo Bogotá</td>\n      <td>Merqueo</td>\n      <td>2018-02-02 17:00:00</td>\n      <td>Cancelled</td>\n      <td>6</td>\n      <td>0</td>\n      <td>0</td>\n      <td>0</td>\n      <td>0</td>\n      <td>0</td>\n      <td>0</td>\n      <td>0</td>\n      <td>0</td>\n      <td>0</td>\n      <td>0</td>\n    </tr>\n    <tr>\n      <th>36</th>\n      <td>431242</td>\n      <td>Device</td>\n      <td>Android</td>\n      <td>\\N</td>\n      <td>2018-02-01 06:16:37</td>\n      <td>2018-02-01 18:27:41</td>\n      <td>7:00 am - 12:00 pm</td>\n      <td>Efectivo</td>\n      <td>65700.0</td>\n      <td>0.0</td>\n      <td>2500</td>\n      <td>\\N</td>\n      <td>Ferias</td>\n      <td>0</td>\n      <td>Bogotá</td>\n      <td>Cancelado definitivamente-Cliente</td>\n      <td>\\N</td>\n      <td>\\N</td>\n      <td>Merqueo Bogotá</td>\n      <td>Merqueo</td>\n      <td>2018-02-02 12:00:00</td>\n      <td>Cancelled</td>\n      <td>11</td>\n      <td>0</td>\n      <td>0</td>\n      <td>0</td>\n      <td>0</td>\n      <td>0</td>\n      <td>0</td>\n      <td>0</td>\n      <td>0</td>\n      <td>0</td>\n      <td>0</td>\n    </tr>\n    <tr>\n      <th>73</th>\n      <td>431280</td>\n      <td>Device</td>\n      <td>iOS</td>\n      <td>\\N</td>\n      <td>2018-02-01 07:37:21</td>\n      <td>2018-02-01 20:02:02</td>\n      <td>7:00 am - 12:00 pm</td>\n      <td>Datáfono</td>\n      <td>107310.0</td>\n      <td>10731.0</td>\n      <td>0</td>\n      <td>\\N</td>\n      <td>Ferias</td>\n      <td>0</td>\n      <td>Bogotá</td>\n      <td>Cancelado definitivamente-Cliente</td>\n      <td>\\N</td>\n      <td>\\N</td>\n      <td>Merqueo Bogotá</td>\n      <td>Merqueo</td>\n      <td>2018-02-02 12:00:00</td>\n      <td>Cancelled</td>\n      <td>24</td>\n      <td>0</td>\n      <td>0</td>\n      <td>0</td>\n      <td>0</td>\n      <td>0</td>\n      <td>0</td>\n      <td>0</td>\n      <td>0</td>\n      <td>0</td>\n      <td>0</td>\n    </tr>\n    <tr>\n      <th>153</th>\n      <td>431366</td>\n      <td>Web</td>\n      <td>\\N</td>\n      <td>\\N</td>\n      <td>2018-02-01 09:04:56</td>\n      <td>2018-02-05 15:36:58</td>\n      <td>7:00 am - 12:00 pm</td>\n      <td>Efectivo</td>\n      <td>57390.0</td>\n      <td>0.0</td>\n      <td>0</td>\n      <td>1</td>\n      <td>Ferias</td>\n      <td>0</td>\n      <td>Bogotá</td>\n      <td>Reprogramación-Merqueo</td>\n      <td>\\N</td>\n      <td>\\N</td>\n      <td>Merqueo Bogotá</td>\n      <td>Marketplace</td>\n      <td>2018-02-05 12:00:00</td>\n      <td>Cancelled</td>\n      <td>1</td>\n      <td>0</td>\n      <td>0</td>\n      <td>0</td>\n      <td>0</td>\n      <td>0</td>\n      <td>0</td>\n      <td>0</td>\n      <td>0</td>\n      <td>0</td>\n      <td>0</td>\n    </tr>\n    <tr>\n      <th>...</th>\n      <td>...</td>\n      <td>...</td>\n      <td>...</td>\n      <td>...</td>\n      <td>...</td>\n      <td>...</td>\n      <td>...</td>\n      <td>...</td>\n      <td>...</td>\n      <td>...</td>\n      <td>...</td>\n      <td>...</td>\n      <td>...</td>\n      <td>...</td>\n      <td>...</td>\n      <td>...</td>\n      <td>...</td>\n      <td>...</td>\n      <td>...</td>\n      <td>...</td>\n      <td>...</td>\n      <td>...</td>\n      <td>...</td>\n      <td>...</td>\n      <td>...</td>\n      <td>...</td>\n      <td>...</td>\n      <td>...</td>\n      <td>...</td>\n      <td>...</td>\n      <td>...</td>\n      <td>...</td>\n      <td>...</td>\n    </tr>\n    <tr>\n      <th>70129</th>\n      <td>501055</td>\n      <td>Device</td>\n      <td>Android</td>\n      <td>\\N</td>\n      <td>2018-03-31 17:31:47</td>\n      <td>2018-03-31 22:58:14</td>\n      <td>12:00 pm - 5:00 pm</td>\n      <td>Tarjeta de crédito</td>\n      <td>256623.0</td>\n      <td>50000.0</td>\n      <td>0</td>\n      <td>\\N</td>\n      <td>La Estrella</td>\n      <td>0</td>\n      <td>Medellín</td>\n      <td>Cancelado definitivamente-Cliente</td>\n      <td>\\N</td>\n      <td>\\N</td>\n      <td>Merqueo Medellín</td>\n      <td>Merqueo</td>\n      <td>2018-04-01 17:00:00</td>\n      <td>Cancelled</td>\n      <td>34</td>\n      <td>0</td>\n      <td>0</td>\n      <td>0</td>\n      <td>0</td>\n      <td>0</td>\n      <td>0</td>\n      <td>0</td>\n      <td>0</td>\n      <td>0</td>\n      <td>0</td>\n    </tr>\n    <tr>\n      <th>70143</th>\n      <td>501216</td>\n      <td>Device</td>\n      <td>Android</td>\n      <td>\\N</td>\n      <td>2018-03-31 19:11:25</td>\n      <td>2018-04-01 00:06:34</td>\n      <td>7:00 am - 12:00 pm</td>\n      <td>Efectivo</td>\n      <td>171990.0</td>\n      <td>0.0</td>\n      <td>0</td>\n      <td>\\N</td>\n      <td>La Estrella</td>\n      <td>0</td>\n      <td>Medellín</td>\n      <td>Cancelado definitivamente-Merqueo</td>\n      <td>\\N</td>\n      <td>\\N</td>\n      <td>Merqueo Medellín</td>\n      <td>Merqueo</td>\n      <td>2018-04-01 12:00:00</td>\n      <td>Cancelled</td>\n      <td>45</td>\n      <td>0</td>\n      <td>0</td>\n      <td>0</td>\n      <td>0</td>\n      <td>0</td>\n      <td>0</td>\n      <td>0</td>\n      <td>0</td>\n      <td>0</td>\n      <td>0</td>\n    </tr>\n    <tr>\n      <th>70158</th>\n      <td>501341</td>\n      <td>Device</td>\n      <td>iOS</td>\n      <td>\\N</td>\n      <td>2018-03-31 20:24:23</td>\n      <td>2018-04-01 03:10:02</td>\n      <td>7:00 am - 12:00 pm</td>\n      <td>Tarjeta de crédito</td>\n      <td>81430.0</td>\n      <td>0.0</td>\n      <td>4500</td>\n      <td>\\N</td>\n      <td>La Estrella</td>\n      <td>0</td>\n      <td>Medellín</td>\n      <td>Cancelado definitivamente-Cliente</td>\n      <td>Ximena Ricardo Oviedo</td>\n      <td>\\N</td>\n      <td>Merqueo Medellín</td>\n      <td>Merqueo</td>\n      <td>2018-04-01 12:00:00</td>\n      <td>Cancelled</td>\n      <td>23</td>\n      <td>9</td>\n      <td>0</td>\n      <td>0</td>\n      <td>0</td>\n      <td>0</td>\n      <td>0</td>\n      <td>0</td>\n      <td>0</td>\n      <td>0</td>\n      <td>0</td>\n    </tr>\n    <tr>\n      <th>70163</th>\n      <td>501387</td>\n      <td>Device</td>\n      <td>Android</td>\n      <td>\\N</td>\n      <td>2018-03-31 20:44:19</td>\n      <td>2018-03-31 23:51:02</td>\n      <td>7:00 am - 12:00 pm</td>\n      <td>Efectivo</td>\n      <td>39430.0</td>\n      <td>0.0</td>\n      <td>4500</td>\n      <td>\\N</td>\n      <td>La Estrella</td>\n      <td>0</td>\n      <td>Medellín</td>\n      <td>Cancelado definitivamente-Merqueo</td>\n      <td>\\N</td>\n      <td>\\N</td>\n      <td>Merqueo Medellín</td>\n      <td>Merqueo</td>\n      <td>2018-04-01 12:00:00</td>\n      <td>Cancelled</td>\n      <td>16</td>\n      <td>0</td>\n      <td>0</td>\n      <td>0</td>\n      <td>0</td>\n      <td>0</td>\n      <td>0</td>\n      <td>0</td>\n      <td>0</td>\n      <td>0</td>\n      <td>0</td>\n    </tr>\n    <tr>\n      <th>70166</th>\n      <td>501488</td>\n      <td>Device</td>\n      <td>iOS</td>\n      <td>\\N</td>\n      <td>2018-03-31 21:53:18</td>\n      <td>2018-03-31 23:40:07</td>\n      <td>7:00 am - 12:00 pm</td>\n      <td>Efectivo</td>\n      <td>154449.0</td>\n      <td>0.0</td>\n      <td>0</td>\n      <td>\\N</td>\n      <td>La Estrella</td>\n      <td>0</td>\n      <td>Medellín</td>\n      <td>Cancelado definitivamente-Cliente</td>\n      <td>\\N</td>\n      <td>\\N</td>\n      <td>Merqueo Medellín</td>\n      <td>Merqueo</td>\n      <td>2018-04-01 12:00:00</td>\n      <td>Cancelled</td>\n      <td>29</td>\n      <td>0</td>\n      <td>0</td>\n      <td>0</td>\n      <td>0</td>\n      <td>0</td>\n      <td>0</td>\n      <td>0</td>\n      <td>0</td>\n      <td>0</td>\n      <td>0</td>\n    </tr>\n  </tbody>\n</table>\n<p>2664 rows × 33 columns</p>\n</div>"
     },
     "metadata": {},
     "execution_count": 64
    }
   ],
   "source": [
    "df[df.FechaDespacho=='\\\\N']"
   ]
  },
  {
   "source": [
    "Found that we have 2664 row tat not cotaints a FechaDespacho, some of reseason may be found looking at the RazonCancelacionGeneral or StatusOrden feature"
   ],
   "cell_type": "markdown",
   "metadata": {}
  },
  {
   "source": [
    "instad of having \\N values we are going to change it to NaT (NotaTime)"
   ],
   "cell_type": "markdown",
   "metadata": {}
  },
  {
   "cell_type": "code",
   "execution_count": 65,
   "metadata": {},
   "outputs": [],
   "source": [
    "df.FechaDespacho=df.FechaDespacho.apply(lambda x: pd.NaT if x=='\\\\N' else x)"
   ]
  },
  {
   "cell_type": "code",
   "execution_count": 66,
   "metadata": {},
   "outputs": [
    {
     "output_type": "execute_result",
     "data": {
      "text/plain": "        FechaDespacho       FechaCreacion        FechaGestion  \\\n0 2018-02-02 08:28:42 2018-02-01 00:07:58 2018-02-02 13:42:40   \n1 2018-02-02 06:16:52 2018-02-01 00:13:41 2018-02-02 07:13:01   \n2 2018-02-02 07:00:50 2018-02-01 00:14:16 2018-02-02 10:07:37   \n3 2018-02-02 06:16:53 2018-02-01 00:18:50 2018-02-02 09:29:54   \n4 2018-02-02 06:21:29 2018-02-01 00:24:20 2018-02-02 08:49:35   \n\n  FechaEsperadaEntrega  \n0  2018-02-02 12:00:00  \n1  2018-02-02 12:00:00  \n2  2018-02-02 12:00:00  \n3  2018-02-02 12:00:00  \n4  2018-02-02 12:00:00  ",
      "text/html": "<div>\n<style scoped>\n    .dataframe tbody tr th:only-of-type {\n        vertical-align: middle;\n    }\n\n    .dataframe tbody tr th {\n        vertical-align: top;\n    }\n\n    .dataframe thead th {\n        text-align: right;\n    }\n</style>\n<table border=\"1\" class=\"dataframe\">\n  <thead>\n    <tr style=\"text-align: right;\">\n      <th></th>\n      <th>FechaDespacho</th>\n      <th>FechaCreacion</th>\n      <th>FechaGestion</th>\n      <th>FechaEsperadaEntrega</th>\n    </tr>\n  </thead>\n  <tbody>\n    <tr>\n      <th>0</th>\n      <td>2018-02-02 08:28:42</td>\n      <td>2018-02-01 00:07:58</td>\n      <td>2018-02-02 13:42:40</td>\n      <td>2018-02-02 12:00:00</td>\n    </tr>\n    <tr>\n      <th>1</th>\n      <td>2018-02-02 06:16:52</td>\n      <td>2018-02-01 00:13:41</td>\n      <td>2018-02-02 07:13:01</td>\n      <td>2018-02-02 12:00:00</td>\n    </tr>\n    <tr>\n      <th>2</th>\n      <td>2018-02-02 07:00:50</td>\n      <td>2018-02-01 00:14:16</td>\n      <td>2018-02-02 10:07:37</td>\n      <td>2018-02-02 12:00:00</td>\n    </tr>\n    <tr>\n      <th>3</th>\n      <td>2018-02-02 06:16:53</td>\n      <td>2018-02-01 00:18:50</td>\n      <td>2018-02-02 09:29:54</td>\n      <td>2018-02-02 12:00:00</td>\n    </tr>\n    <tr>\n      <th>4</th>\n      <td>2018-02-02 06:21:29</td>\n      <td>2018-02-01 00:24:20</td>\n      <td>2018-02-02 08:49:35</td>\n      <td>2018-02-02 12:00:00</td>\n    </tr>\n  </tbody>\n</table>\n</div>"
     },
     "metadata": {},
     "execution_count": 66
    }
   ],
   "source": [
    "df.select_dtypes(include='datetime').head()"
   ]
  },
  {
   "source": [
    "Next I need to check if True FechaCreacion<FechaGestion<FechaDespacho<FechaEsperadaEntrega"
   ],
   "cell_type": "markdown",
   "metadata": {}
  },
  {
   "cell_type": "code",
   "execution_count": 67,
   "metadata": {},
   "outputs": [
    {
     "output_type": "execute_result",
     "data": {
      "text/plain": "0        True\n1        True\n2        True\n3        True\n4        True\n         ... \n70176    True\n70177    True\n70178    True\n70179    True\n70180    True\nLength: 70181, dtype: bool"
     },
     "metadata": {},
     "execution_count": 67
    }
   ],
   "source": [
    "df.FechaCreacion<df.FechaGestion#<df.FechaDespacho<df.FechaEsperadaEntrega"
   ]
  },
  {
   "source": [
    "Because I don want to spend to much time looking if the condition matches and if not seeing through each one of those vales i will skip this step. But it is important to see in a intensive data cleaning analysis."
   ],
   "cell_type": "markdown",
   "metadata": {}
  },
  {
   "source": [
    "Now I like to see some brief statistical description of the df"
   ],
   "cell_type": "markdown",
   "metadata": {}
  },
  {
   "cell_type": "code",
   "execution_count": 68,
   "metadata": {},
   "outputs": [
    {
     "output_type": "execute_result",
     "data": {
      "text/plain": "             IdOrden   PagoCliente      Descuento     Domicilio    Devolucion  \\\ncount   70181.000000  7.018100e+04   70181.000000  70181.000000  70181.000000   \nmean   466483.124792  8.225072e+04    2358.352087   2188.677847      0.082187   \nstd     20328.678624  9.087189e+04    8034.243455   2019.508881      0.274652   \nmin    431197.000000  0.000000e+00       0.000000      0.000000      0.000000   \n25%    448896.000000  3.356000e+04       0.000000      0.000000      0.000000   \n50%    466474.000000  5.291000e+04       0.000000   2500.000000      0.000000   \n75%    484080.000000  1.057080e+05       0.000000   4500.000000      0.000000   \nmax    513624.000000  6.679970e+06  206438.000000   5500.000000      1.000000   \n\n           Unidades  UnidadesDisponibles  UnidadesNoDisponibles    Repartidor  \\\ncount  70181.000000         70181.000000           70181.000000  70181.000000   \nmean      19.076830            16.488836               0.582807      0.006697   \nstd       18.587636            17.582149               1.597893      0.081561   \nmin        1.000000             0.000000               0.000000      0.000000   \n25%        7.000000             5.000000               0.000000      0.000000   \n50%       12.000000            10.000000               0.000000      0.000000   \n75%       26.000000            23.000000               0.000000      0.000000   \nmax      488.000000           268.000000              70.000000      1.000000   \n\n               Otro  TiempoEntrega  El producto estaba en mal estado  \\\ncount  70181.000000   70181.000000                      70181.000000   \nmean       0.006255       0.005999                          0.005286   \nstd        0.078843       0.077220                          0.072515   \nmin        0.000000       0.000000                          0.000000   \n25%        0.000000       0.000000                          0.000000   \n50%        0.000000       0.000000                          0.000000   \n75%        0.000000       0.000000                          0.000000   \nmax        1.000000       1.000000                          1.000000   \n\n       El producto estaba vencido  Me molesta no haber recibido este producto  \\\ncount                70181.000000                                70181.000000   \nmean                     0.001111                                    0.008991   \nstd                      0.033320                                    0.094395   \nmin                      0.000000                                    0.000000   \n25%                      0.000000                                    0.000000   \n50%                      0.000000                                    0.000000   \n75%                      0.000000                                    0.000000   \nmax                      1.000000                                    1.000000   \n\n       No recibi el producto y me lo cobraron  Recibí el producto equivocado  \ncount                            70181.000000                   70181.000000  \nmean                                 0.013109                       0.005814  \nstd                                  0.113742                       0.076025  \nmin                                  0.000000                       0.000000  \n25%                                  0.000000                       0.000000  \n50%                                  0.000000                       0.000000  \n75%                                  0.000000                       0.000000  \nmax                                  1.000000                       1.000000  ",
      "text/html": "<div>\n<style scoped>\n    .dataframe tbody tr th:only-of-type {\n        vertical-align: middle;\n    }\n\n    .dataframe tbody tr th {\n        vertical-align: top;\n    }\n\n    .dataframe thead th {\n        text-align: right;\n    }\n</style>\n<table border=\"1\" class=\"dataframe\">\n  <thead>\n    <tr style=\"text-align: right;\">\n      <th></th>\n      <th>IdOrden</th>\n      <th>PagoCliente</th>\n      <th>Descuento</th>\n      <th>Domicilio</th>\n      <th>Devolucion</th>\n      <th>Unidades</th>\n      <th>UnidadesDisponibles</th>\n      <th>UnidadesNoDisponibles</th>\n      <th>Repartidor</th>\n      <th>Otro</th>\n      <th>TiempoEntrega</th>\n      <th>El producto estaba en mal estado</th>\n      <th>El producto estaba vencido</th>\n      <th>Me molesta no haber recibido este producto</th>\n      <th>No recibi el producto y me lo cobraron</th>\n      <th>Recibí el producto equivocado</th>\n    </tr>\n  </thead>\n  <tbody>\n    <tr>\n      <th>count</th>\n      <td>70181.000000</td>\n      <td>7.018100e+04</td>\n      <td>70181.000000</td>\n      <td>70181.000000</td>\n      <td>70181.000000</td>\n      <td>70181.000000</td>\n      <td>70181.000000</td>\n      <td>70181.000000</td>\n      <td>70181.000000</td>\n      <td>70181.000000</td>\n      <td>70181.000000</td>\n      <td>70181.000000</td>\n      <td>70181.000000</td>\n      <td>70181.000000</td>\n      <td>70181.000000</td>\n      <td>70181.000000</td>\n    </tr>\n    <tr>\n      <th>mean</th>\n      <td>466483.124792</td>\n      <td>8.225072e+04</td>\n      <td>2358.352087</td>\n      <td>2188.677847</td>\n      <td>0.082187</td>\n      <td>19.076830</td>\n      <td>16.488836</td>\n      <td>0.582807</td>\n      <td>0.006697</td>\n      <td>0.006255</td>\n      <td>0.005999</td>\n      <td>0.005286</td>\n      <td>0.001111</td>\n      <td>0.008991</td>\n      <td>0.013109</td>\n      <td>0.005814</td>\n    </tr>\n    <tr>\n      <th>std</th>\n      <td>20328.678624</td>\n      <td>9.087189e+04</td>\n      <td>8034.243455</td>\n      <td>2019.508881</td>\n      <td>0.274652</td>\n      <td>18.587636</td>\n      <td>17.582149</td>\n      <td>1.597893</td>\n      <td>0.081561</td>\n      <td>0.078843</td>\n      <td>0.077220</td>\n      <td>0.072515</td>\n      <td>0.033320</td>\n      <td>0.094395</td>\n      <td>0.113742</td>\n      <td>0.076025</td>\n    </tr>\n    <tr>\n      <th>min</th>\n      <td>431197.000000</td>\n      <td>0.000000e+00</td>\n      <td>0.000000</td>\n      <td>0.000000</td>\n      <td>0.000000</td>\n      <td>1.000000</td>\n      <td>0.000000</td>\n      <td>0.000000</td>\n      <td>0.000000</td>\n      <td>0.000000</td>\n      <td>0.000000</td>\n      <td>0.000000</td>\n      <td>0.000000</td>\n      <td>0.000000</td>\n      <td>0.000000</td>\n      <td>0.000000</td>\n    </tr>\n    <tr>\n      <th>25%</th>\n      <td>448896.000000</td>\n      <td>3.356000e+04</td>\n      <td>0.000000</td>\n      <td>0.000000</td>\n      <td>0.000000</td>\n      <td>7.000000</td>\n      <td>5.000000</td>\n      <td>0.000000</td>\n      <td>0.000000</td>\n      <td>0.000000</td>\n      <td>0.000000</td>\n      <td>0.000000</td>\n      <td>0.000000</td>\n      <td>0.000000</td>\n      <td>0.000000</td>\n      <td>0.000000</td>\n    </tr>\n    <tr>\n      <th>50%</th>\n      <td>466474.000000</td>\n      <td>5.291000e+04</td>\n      <td>0.000000</td>\n      <td>2500.000000</td>\n      <td>0.000000</td>\n      <td>12.000000</td>\n      <td>10.000000</td>\n      <td>0.000000</td>\n      <td>0.000000</td>\n      <td>0.000000</td>\n      <td>0.000000</td>\n      <td>0.000000</td>\n      <td>0.000000</td>\n      <td>0.000000</td>\n      <td>0.000000</td>\n      <td>0.000000</td>\n    </tr>\n    <tr>\n      <th>75%</th>\n      <td>484080.000000</td>\n      <td>1.057080e+05</td>\n      <td>0.000000</td>\n      <td>4500.000000</td>\n      <td>0.000000</td>\n      <td>26.000000</td>\n      <td>23.000000</td>\n      <td>0.000000</td>\n      <td>0.000000</td>\n      <td>0.000000</td>\n      <td>0.000000</td>\n      <td>0.000000</td>\n      <td>0.000000</td>\n      <td>0.000000</td>\n      <td>0.000000</td>\n      <td>0.000000</td>\n    </tr>\n    <tr>\n      <th>max</th>\n      <td>513624.000000</td>\n      <td>6.679970e+06</td>\n      <td>206438.000000</td>\n      <td>5500.000000</td>\n      <td>1.000000</td>\n      <td>488.000000</td>\n      <td>268.000000</td>\n      <td>70.000000</td>\n      <td>1.000000</td>\n      <td>1.000000</td>\n      <td>1.000000</td>\n      <td>1.000000</td>\n      <td>1.000000</td>\n      <td>1.000000</td>\n      <td>1.000000</td>\n      <td>1.000000</td>\n    </tr>\n  </tbody>\n</table>\n</div>"
     },
     "metadata": {},
     "execution_count": 68
    }
   ],
   "source": [
    "#Done some descritive analysis of the numerical feature of the df\n",
    "df.describe()"
   ]
  },
  {
   "source": [
    "As we ahve multiple numerical values that just contain 0-1, we need to change the way fo analysing those.\n",
    "\n",
    "As a matter of fact, I print the features and the unique values for the ones that only contains less than 10 unique values and store those with more than 10 unique values in FWMT10UV."
   ],
   "cell_type": "markdown",
   "metadata": {}
  },
  {
   "cell_type": "code",
   "execution_count": 69,
   "metadata": {
    "tags": []
   },
   "outputs": [
    {
     "output_type": "stream",
     "name": "stdout",
     "text": "---------------------------\nFeature: Source, data type: object\n['Device' 'Web' 'Reclamo']\n---------------------------\nFeature: osSource, data type: object\n['Android' '\\\\N' 'iOS']\n---------------------------\nFeature: Horario, data type: object\n['7:00 am - 12:00 pm' '12:00 pm - 5:00 pm' '5:00 pm - 10:00 pm']\n---------------------------\nFeature: MetodoDePago, data type: object\n['Efectivo' 'Tarjeta de crédito' 'Datáfono' 'Efectivo y datáfono']\n---------------------------\nFeature: Domicilio, data type: int64\n[2500    0 3500 1500 4500 5500 1900  900]\n---------------------------\nFeature: Calificacion, data type: object\n['\\\\N' 0 1]\n---------------------------\nFeature: Bodega, data type: object\n['Ferias' 'Montevideo' 'La Estrella']\n---------------------------\nFeature: Devolucion, data type: int64\n[0 1]\n---------------------------\nFeature: Ciudad, data type: object\n['Bogotá' 'Medellín']\n---------------------------\nFeature: RazonCancelacionGeneral, data type: object\n[0 'Reprogramación-Merqueo' 'Cancelado definitivamente-Cliente'\n 'Reprogramación-Cliente' 'Cancelado definitivamente-Merqueo' 'Otros'\n 'Cancelado temporalmente-Cliente' 'Cancelado temporalmente-Merqueo']\n---------------------------\nFeature: Tienda, data type: object\n['Merqueo Bogotá' 'Merqueo Medellín']\n---------------------------\nFeature: Tipo, data type: object\n['Merqueo' 'Marketplace']\n---------------------------\nFeature: StatusOrden, data type: object\n['Delivered' 'Cancelled']\n---------------------------\nFeature: Repartidor, data type: int64\n[0 1]\n---------------------------\nFeature: Otro, data type: int64\n[0 1]\n---------------------------\nFeature: TiempoEntrega, data type: int64\n[0 1]\n---------------------------\nFeature: El producto estaba en mal estado, data type: int64\n[0 1]\n---------------------------\nFeature: El producto estaba vencido, data type: int64\n[0 1]\n---------------------------\nFeature: Me molesta no haber recibido este producto, data type: int64\n[0 1]\n---------------------------\nFeature: No recibi el producto y me lo cobraron, data type: int64\n[0 1]\n---------------------------\nFeature: Recibí el producto equivocado, data type: int64\n[0 1]\n---------------------------\n['IdOrden', 'FechaDespacho', 'FechaCreacion', 'FechaGestion', 'PagoCliente', 'Descuento', 'nombre_picker_frio', 'nombre_picker_seco', 'FechaEsperadaEntrega', 'Unidades', 'UnidadesDisponibles', 'UnidadesNoDisponibles']\n---------------------------\n21 features less than ten unique values, on the other hand 12 features with more than ten unique values\n"
    }
   ],
   "source": [
    "#multiple features contains just values between 0-1 we like to se those columns\n",
    "c=0\n",
    "FWMT10UV=[]#features with more than 10 unique values\n",
    "FWLT10UV=[]#features with less than 10 unique values\n",
    "for feature in df.columns:\n",
    "    if len(df[feature].unique())<=10:\n",
    "        print('---------------------------')\n",
    "        print('Feature: {}, data type: {}'.format(feature,df[feature].dtype))\n",
    "        print(df[feature].unique())\n",
    "        FWLT10UV.append(feature)\n",
    "        c+=1\n",
    "    else:\n",
    "        FWMT10UV.append(feature)\n",
    "print('---------------------------')\n",
    "print(FWMT10UV)\n",
    "print('---------------------------')\n",
    "print('{} features less than ten unique values, on the other hand {} features with more than ten unique values'.format(c,len(FWMT10UV)))"
   ]
  },
  {
   "source": [
    "Now lets get some insights of the features with more than ten unique values."
   ],
   "cell_type": "markdown",
   "metadata": {}
  },
  {
   "cell_type": "code",
   "execution_count": 70,
   "metadata": {},
   "outputs": [
    {
     "output_type": "execute_result",
     "data": {
      "text/plain": "       IdOrden  PagoCliente  Descuento          nombre_picker_frio  \\\n0       431199      42552.0        0.0    Sergio David Plazas Cruz   \n1       431200      32340.0        0.0  Jose Daniel  Segura Poveda   \n2       431201     156610.0        0.0  Diego Mauricio Garzon Peña   \n3       431202     201140.0        0.0  Jose Daniel  Segura Poveda   \n4       431204     102290.0    10229.0                luisa vargas   \n...        ...          ...        ...                         ...   \n70176   503463      25761.0        0.0                          \\N   \n70177   504544     161708.0        0.0       Ximena Ricardo Oviedo   \n70178   504874      25790.0        0.0                          \\N   \n70179   504914      57770.0    17331.0                          \\N   \n70180   507730     147355.0    44207.0              Nelson Herrera   \n\n                     nombre_picker_seco  Unidades  UnidadesDisponibles  \\\n0               Daniel  Alvarez Bonilla        10                   10   \n1                       johana s castro         7                    7   \n2                        anirley garzon        47                   47   \n3                          Alison acuña        80                   80   \n4                    magnoliaT trujillo        26                   26   \n...                                 ...       ...                  ...   \n70176             Ximena Ricardo Oviedo         6                    0   \n70177                    Cristian Ortiz        31                   30   \n70178  natalia andrea  zabala jaramillo         3                    3   \n70179                    Cristian Ortiz        14                    0   \n70180                       Juan Garcia        36                   35   \n\n       UnidadesNoDisponibles  \n0                          0  \n1                          0  \n2                          0  \n3                          0  \n4                          0  \n...                      ...  \n70176                      0  \n70177                      1  \n70178                      0  \n70179                      0  \n70180                      1  \n\n[70181 rows x 8 columns]",
      "text/html": "<div>\n<style scoped>\n    .dataframe tbody tr th:only-of-type {\n        vertical-align: middle;\n    }\n\n    .dataframe tbody tr th {\n        vertical-align: top;\n    }\n\n    .dataframe thead th {\n        text-align: right;\n    }\n</style>\n<table border=\"1\" class=\"dataframe\">\n  <thead>\n    <tr style=\"text-align: right;\">\n      <th></th>\n      <th>IdOrden</th>\n      <th>PagoCliente</th>\n      <th>Descuento</th>\n      <th>nombre_picker_frio</th>\n      <th>nombre_picker_seco</th>\n      <th>Unidades</th>\n      <th>UnidadesDisponibles</th>\n      <th>UnidadesNoDisponibles</th>\n    </tr>\n  </thead>\n  <tbody>\n    <tr>\n      <th>0</th>\n      <td>431199</td>\n      <td>42552.0</td>\n      <td>0.0</td>\n      <td>Sergio David Plazas Cruz</td>\n      <td>Daniel  Alvarez Bonilla</td>\n      <td>10</td>\n      <td>10</td>\n      <td>0</td>\n    </tr>\n    <tr>\n      <th>1</th>\n      <td>431200</td>\n      <td>32340.0</td>\n      <td>0.0</td>\n      <td>Jose Daniel  Segura Poveda</td>\n      <td>johana s castro</td>\n      <td>7</td>\n      <td>7</td>\n      <td>0</td>\n    </tr>\n    <tr>\n      <th>2</th>\n      <td>431201</td>\n      <td>156610.0</td>\n      <td>0.0</td>\n      <td>Diego Mauricio Garzon Peña</td>\n      <td>anirley garzon</td>\n      <td>47</td>\n      <td>47</td>\n      <td>0</td>\n    </tr>\n    <tr>\n      <th>3</th>\n      <td>431202</td>\n      <td>201140.0</td>\n      <td>0.0</td>\n      <td>Jose Daniel  Segura Poveda</td>\n      <td>Alison acuña</td>\n      <td>80</td>\n      <td>80</td>\n      <td>0</td>\n    </tr>\n    <tr>\n      <th>4</th>\n      <td>431204</td>\n      <td>102290.0</td>\n      <td>10229.0</td>\n      <td>luisa vargas</td>\n      <td>magnoliaT trujillo</td>\n      <td>26</td>\n      <td>26</td>\n      <td>0</td>\n    </tr>\n    <tr>\n      <th>...</th>\n      <td>...</td>\n      <td>...</td>\n      <td>...</td>\n      <td>...</td>\n      <td>...</td>\n      <td>...</td>\n      <td>...</td>\n      <td>...</td>\n    </tr>\n    <tr>\n      <th>70176</th>\n      <td>503463</td>\n      <td>25761.0</td>\n      <td>0.0</td>\n      <td>\\N</td>\n      <td>Ximena Ricardo Oviedo</td>\n      <td>6</td>\n      <td>0</td>\n      <td>0</td>\n    </tr>\n    <tr>\n      <th>70177</th>\n      <td>504544</td>\n      <td>161708.0</td>\n      <td>0.0</td>\n      <td>Ximena Ricardo Oviedo</td>\n      <td>Cristian Ortiz</td>\n      <td>31</td>\n      <td>30</td>\n      <td>1</td>\n    </tr>\n    <tr>\n      <th>70178</th>\n      <td>504874</td>\n      <td>25790.0</td>\n      <td>0.0</td>\n      <td>\\N</td>\n      <td>natalia andrea  zabala jaramillo</td>\n      <td>3</td>\n      <td>3</td>\n      <td>0</td>\n    </tr>\n    <tr>\n      <th>70179</th>\n      <td>504914</td>\n      <td>57770.0</td>\n      <td>17331.0</td>\n      <td>\\N</td>\n      <td>Cristian Ortiz</td>\n      <td>14</td>\n      <td>0</td>\n      <td>0</td>\n    </tr>\n    <tr>\n      <th>70180</th>\n      <td>507730</td>\n      <td>147355.0</td>\n      <td>44207.0</td>\n      <td>Nelson Herrera</td>\n      <td>Juan Garcia</td>\n      <td>36</td>\n      <td>35</td>\n      <td>1</td>\n    </tr>\n  </tbody>\n</table>\n<p>70181 rows × 8 columns</p>\n</div>"
     },
     "metadata": {},
     "execution_count": 70
    }
   ],
   "source": [
    "#This is the DataFrame contains the features with more than ten unique values excluding the dates\n",
    "df[FWMT10UV].select_dtypes(exclude='datetime')"
   ]
  },
  {
   "source": [
    "Notice that we only have 8 features"
   ],
   "cell_type": "markdown",
   "metadata": {}
  },
  {
   "cell_type": "code",
   "execution_count": 71,
   "metadata": {},
   "outputs": [
    {
     "output_type": "execute_result",
     "data": {
      "text/plain": "Index(['IdOrden', 'PagoCliente', 'Descuento', 'nombre_picker_frio',\n       'nombre_picker_seco', 'Unidades', 'UnidadesDisponibles',\n       'UnidadesNoDisponibles'],\n      dtype='object')"
     },
     "metadata": {},
     "execution_count": 71
    }
   ],
   "source": [
    "df[FWMT10UV].select_dtypes(exclude='datetime').columns"
   ]
  },
  {
   "cell_type": "code",
   "execution_count": 72,
   "metadata": {},
   "outputs": [
    {
     "output_type": "execute_result",
     "data": {
      "text/plain": "454383    2\n432109    1\n451273    1\n434881    1\n441026    1\n         ..\n441725    1\n439676    1\n433529    1\n431480    1\n432147    1\nName: IdOrden, Length: 70180, dtype: int64"
     },
     "metadata": {},
     "execution_count": 72
    }
   ],
   "source": [
    "df.IdOrden.value_counts()"
   ]
  },
  {
   "source": [
    "Because IdOrden must be unique, it is worth noting the value of that Id on the df"
   ],
   "cell_type": "markdown",
   "metadata": {}
  },
  {
   "cell_type": "code",
   "execution_count": 73,
   "metadata": {},
   "outputs": [
    {
     "output_type": "execute_result",
     "data": {
      "text/plain": "       IdOrden   Source osSource       FechaDespacho       FechaCreacion  \\\n20777   454383  Reclamo  Android 2018-02-19 07:40:04 2018-02-18 22:50:57   \n20778   454383  Reclamo  Android 2018-02-19 07:40:04 2018-02-18 22:50:57   \n\n             FechaGestion             Horario MetodoDePago  PagoCliente  \\\n20777 2018-02-20 15:39:20  7:00 am - 12:00 pm     Efectivo          0.0   \n20778 2018-02-20 15:39:20  7:00 am - 12:00 pm     Efectivo          0.0   \n\n       Descuento  Domicilio Calificacion  Bodega  Devolucion  Ciudad  \\\n20777        0.0          0           \\N  Ferias           1  Bogotá   \n20778        0.0          0           \\N  Ferias           1  Bogotá   \n\n                 RazonCancelacionGeneral nombre_picker_frio  \\\n20777  Cancelado definitivamente-Merqueo                 \\N   \n20778  Cancelado definitivamente-Merqueo                 \\N   \n\n      nombre_picker_seco          Tienda     Tipo FechaEsperadaEntrega  \\\n20777       Javier Gamez  Merqueo Bogotá  Merqueo  2018-02-19 12:00:00   \n20778       Javier Gamez  Merqueo Bogotá  Merqueo  2018-02-19 12:00:00   \n\n      StatusOrden  Unidades  UnidadesDisponibles  UnidadesNoDisponibles  \\\n20777   Cancelled         1                    0                      0   \n20778   Cancelled         1                    0                      0   \n\n       Repartidor  Otro  TiempoEntrega  El producto estaba en mal estado  \\\n20777           0     0              0                                 0   \n20778           0     0              0                                 0   \n\n       El producto estaba vencido  Me molesta no haber recibido este producto  \\\n20777                           0                                           0   \n20778                           0                                           0   \n\n       No recibi el producto y me lo cobraron  Recibí el producto equivocado  \n20777                                       0                              0  \n20778                                       0                              0  ",
      "text/html": "<div>\n<style scoped>\n    .dataframe tbody tr th:only-of-type {\n        vertical-align: middle;\n    }\n\n    .dataframe tbody tr th {\n        vertical-align: top;\n    }\n\n    .dataframe thead th {\n        text-align: right;\n    }\n</style>\n<table border=\"1\" class=\"dataframe\">\n  <thead>\n    <tr style=\"text-align: right;\">\n      <th></th>\n      <th>IdOrden</th>\n      <th>Source</th>\n      <th>osSource</th>\n      <th>FechaDespacho</th>\n      <th>FechaCreacion</th>\n      <th>FechaGestion</th>\n      <th>Horario</th>\n      <th>MetodoDePago</th>\n      <th>PagoCliente</th>\n      <th>Descuento</th>\n      <th>Domicilio</th>\n      <th>Calificacion</th>\n      <th>Bodega</th>\n      <th>Devolucion</th>\n      <th>Ciudad</th>\n      <th>RazonCancelacionGeneral</th>\n      <th>nombre_picker_frio</th>\n      <th>nombre_picker_seco</th>\n      <th>Tienda</th>\n      <th>Tipo</th>\n      <th>FechaEsperadaEntrega</th>\n      <th>StatusOrden</th>\n      <th>Unidades</th>\n      <th>UnidadesDisponibles</th>\n      <th>UnidadesNoDisponibles</th>\n      <th>Repartidor</th>\n      <th>Otro</th>\n      <th>TiempoEntrega</th>\n      <th>El producto estaba en mal estado</th>\n      <th>El producto estaba vencido</th>\n      <th>Me molesta no haber recibido este producto</th>\n      <th>No recibi el producto y me lo cobraron</th>\n      <th>Recibí el producto equivocado</th>\n    </tr>\n  </thead>\n  <tbody>\n    <tr>\n      <th>20777</th>\n      <td>454383</td>\n      <td>Reclamo</td>\n      <td>Android</td>\n      <td>2018-02-19 07:40:04</td>\n      <td>2018-02-18 22:50:57</td>\n      <td>2018-02-20 15:39:20</td>\n      <td>7:00 am - 12:00 pm</td>\n      <td>Efectivo</td>\n      <td>0.0</td>\n      <td>0.0</td>\n      <td>0</td>\n      <td>\\N</td>\n      <td>Ferias</td>\n      <td>1</td>\n      <td>Bogotá</td>\n      <td>Cancelado definitivamente-Merqueo</td>\n      <td>\\N</td>\n      <td>Javier Gamez</td>\n      <td>Merqueo Bogotá</td>\n      <td>Merqueo</td>\n      <td>2018-02-19 12:00:00</td>\n      <td>Cancelled</td>\n      <td>1</td>\n      <td>0</td>\n      <td>0</td>\n      <td>0</td>\n      <td>0</td>\n      <td>0</td>\n      <td>0</td>\n      <td>0</td>\n      <td>0</td>\n      <td>0</td>\n      <td>0</td>\n    </tr>\n    <tr>\n      <th>20778</th>\n      <td>454383</td>\n      <td>Reclamo</td>\n      <td>Android</td>\n      <td>2018-02-19 07:40:04</td>\n      <td>2018-02-18 22:50:57</td>\n      <td>2018-02-20 15:39:20</td>\n      <td>7:00 am - 12:00 pm</td>\n      <td>Efectivo</td>\n      <td>0.0</td>\n      <td>0.0</td>\n      <td>0</td>\n      <td>\\N</td>\n      <td>Ferias</td>\n      <td>1</td>\n      <td>Bogotá</td>\n      <td>Cancelado definitivamente-Merqueo</td>\n      <td>\\N</td>\n      <td>Javier Gamez</td>\n      <td>Merqueo Bogotá</td>\n      <td>Merqueo</td>\n      <td>2018-02-19 12:00:00</td>\n      <td>Cancelled</td>\n      <td>1</td>\n      <td>0</td>\n      <td>0</td>\n      <td>0</td>\n      <td>0</td>\n      <td>0</td>\n      <td>0</td>\n      <td>0</td>\n      <td>0</td>\n      <td>0</td>\n      <td>0</td>\n    </tr>\n  </tbody>\n</table>\n</div>"
     },
     "metadata": {},
     "execution_count": 73
    }
   ],
   "source": [
    "df[df['IdOrden'].isin([454383])]"
   ]
  },
  {
   "cell_type": "code",
   "execution_count": 74,
   "metadata": {},
   "outputs": [
    {
     "output_type": "execute_result",
     "data": {
      "text/plain": "0.0         2106\n57390.0      132\n218400.0      96\n30980.0       84\n56890.0       74\n            ... \n36067.0        1\n380584.0       1\n150945.0       1\n129636.0       1\n170010.0       1\nName: PagoCliente, Length: 32757, dtype: int64"
     },
     "metadata": {},
     "execution_count": 74
    }
   ],
   "source": [
    "df.PagoCliente.value_counts()"
   ]
  },
  {
   "cell_type": "code",
   "execution_count": 75,
   "metadata": {},
   "outputs": [
    {
     "output_type": "display_data",
     "data": {
      "text/plain": "<Figure size 432x288 with 1 Axes>",
      "image/svg+xml": "<?xml version=\"1.0\" encoding=\"utf-8\" standalone=\"no\"?>\n<!DOCTYPE svg PUBLIC \"-//W3C//DTD SVG 1.1//EN\"\n  \"http://www.w3.org/Graphics/SVG/1.1/DTD/svg11.dtd\">\n<!-- Created with matplotlib (https://matplotlib.org/) -->\n<svg height=\"261.19625pt\" version=\"1.1\" viewBox=\"0 0 390.557295 261.19625\" width=\"390.557295pt\" xmlns=\"http://www.w3.org/2000/svg\" xmlns:xlink=\"http://www.w3.org/1999/xlink\">\n <metadata>\n  <rdf:RDF xmlns:cc=\"http://creativecommons.org/ns#\" xmlns:dc=\"http://purl.org/dc/elements/1.1/\" xmlns:rdf=\"http://www.w3.org/1999/02/22-rdf-syntax-ns#\">\n   <cc:Work>\n    <dc:type rdf:resource=\"http://purl.org/dc/dcmitype/StillImage\"/>\n    <dc:date>2020-09-14T12:30:38.763052</dc:date>\n    <dc:format>image/svg+xml</dc:format>\n    <dc:creator>\n     <cc:Agent>\n      <dc:title>Matplotlib v3.3.1, https://matplotlib.org/</dc:title>\n     </cc:Agent>\n    </dc:creator>\n   </cc:Work>\n  </rdf:RDF>\n </metadata>\n <defs>\n  <style type=\"text/css\">*{stroke-linecap:butt;stroke-linejoin:round;}</style>\n </defs>\n <g id=\"figure_1\">\n  <g id=\"patch_1\">\n   <path d=\"M 0 261.19625 \nL 390.557295 261.19625 \nL 390.557295 0 \nL 0 0 \nz\n\" style=\"fill:none;\"/>\n  </g>\n  <g id=\"axes_1\">\n   <g id=\"patch_2\">\n    <path d=\"M 46.0125 224.64 \nL 380.8125 224.64 \nL 380.8125 7.2 \nL 46.0125 7.2 \nz\n\" style=\"fill:#ffffff;\"/>\n   </g>\n   <g id=\"patch_3\">\n    <path clip-path=\"url(#pcedaab9cfd)\" d=\"M 61.230682 224.64 \nL 91.667045 224.64 \nL 91.667045 17.554286 \nL 61.230682 17.554286 \nz\n\" style=\"fill:#1f77b4;\"/>\n   </g>\n   <g id=\"patch_4\">\n    <path clip-path=\"url(#pcedaab9cfd)\" d=\"M 91.667045 224.64 \nL 122.103409 224.64 \nL 122.103409 224.471633 \nL 91.667045 224.471633 \nz\n\" style=\"fill:#1f77b4;\"/>\n   </g>\n   <g id=\"patch_5\">\n    <path clip-path=\"url(#pcedaab9cfd)\" d=\"M 122.103409 224.64 \nL 152.539773 224.64 \nL 152.539773 224.631139 \nL 122.103409 224.631139 \nz\n\" style=\"fill:#1f77b4;\"/>\n   </g>\n   <g id=\"patch_6\">\n    <path clip-path=\"url(#pcedaab9cfd)\" d=\"M 152.539773 224.64 \nL 182.976136 224.64 \nL 182.976136 224.613416 \nL 152.539773 224.613416 \nz\n\" style=\"fill:#1f77b4;\"/>\n   </g>\n   <g id=\"patch_7\">\n    <path clip-path=\"url(#pcedaab9cfd)\" d=\"M 182.976136 224.64 \nL 213.4125 224.64 \nL 213.4125 224.64 \nL 182.976136 224.64 \nz\n\" style=\"fill:#1f77b4;\"/>\n   </g>\n   <g id=\"patch_8\">\n    <path clip-path=\"url(#pcedaab9cfd)\" d=\"M 213.4125 224.64 \nL 243.848864 224.64 \nL 243.848864 224.64 \nL 213.4125 224.64 \nz\n\" style=\"fill:#1f77b4;\"/>\n   </g>\n   <g id=\"patch_9\">\n    <path clip-path=\"url(#pcedaab9cfd)\" d=\"M 243.848864 224.64 \nL 274.285227 224.64 \nL 274.285227 224.637046 \nL 243.848864 224.637046 \nz\n\" style=\"fill:#1f77b4;\"/>\n   </g>\n   <g id=\"patch_10\">\n    <path clip-path=\"url(#pcedaab9cfd)\" d=\"M 274.285227 224.64 \nL 304.721591 224.64 \nL 304.721591 224.64 \nL 274.285227 224.64 \nz\n\" style=\"fill:#1f77b4;\"/>\n   </g>\n   <g id=\"patch_11\">\n    <path clip-path=\"url(#pcedaab9cfd)\" d=\"M 304.721591 224.64 \nL 335.157955 224.64 \nL 335.157955 224.64 \nL 304.721591 224.64 \nz\n\" style=\"fill:#1f77b4;\"/>\n   </g>\n   <g id=\"patch_12\">\n    <path clip-path=\"url(#pcedaab9cfd)\" d=\"M 335.157955 224.64 \nL 365.594318 224.64 \nL 365.594318 224.631139 \nL 335.157955 224.631139 \nz\n\" style=\"fill:#1f77b4;\"/>\n   </g>\n   <g id=\"matplotlib.axis_1\">\n    <g id=\"xtick_1\">\n     <g id=\"line2d_1\">\n      <defs>\n       <path d=\"M 0 0 \nL 0 3.5 \n\" id=\"mb22b46d32c\" style=\"stroke:#000000;stroke-width:0.8;\"/>\n      </defs>\n      <g>\n       <use style=\"stroke:#000000;stroke-width:0.8;\" x=\"61.230682\" xlink:href=\"#mb22b46d32c\" y=\"224.64\"/>\n      </g>\n     </g>\n     <g id=\"text_1\">\n      <!-- 0 -->\n      <g transform=\"translate(58.049432 239.238437)scale(0.1 -0.1)\">\n       <defs>\n        <path d=\"M 31.78125 66.40625 \nQ 24.171875 66.40625 20.328125 58.90625 \nQ 16.5 51.421875 16.5 36.375 \nQ 16.5 21.390625 20.328125 13.890625 \nQ 24.171875 6.390625 31.78125 6.390625 \nQ 39.453125 6.390625 43.28125 13.890625 \nQ 47.125 21.390625 47.125 36.375 \nQ 47.125 51.421875 43.28125 58.90625 \nQ 39.453125 66.40625 31.78125 66.40625 \nz\nM 31.78125 74.21875 \nQ 44.046875 74.21875 50.515625 64.515625 \nQ 56.984375 54.828125 56.984375 36.375 \nQ 56.984375 17.96875 50.515625 8.265625 \nQ 44.046875 -1.421875 31.78125 -1.421875 \nQ 19.53125 -1.421875 13.0625 8.265625 \nQ 6.59375 17.96875 6.59375 36.375 \nQ 6.59375 54.828125 13.0625 64.515625 \nQ 19.53125 74.21875 31.78125 74.21875 \nz\n\" id=\"DejaVuSans-48\"/>\n       </defs>\n       <use xlink:href=\"#DejaVuSans-48\"/>\n      </g>\n     </g>\n    </g>\n    <g id=\"xtick_2\">\n     <g id=\"line2d_2\">\n      <g>\n       <use style=\"stroke:#000000;stroke-width:0.8;\" x=\"106.794305\" xlink:href=\"#mb22b46d32c\" y=\"224.64\"/>\n      </g>\n     </g>\n     <g id=\"text_2\">\n      <!-- 1 -->\n      <g transform=\"translate(103.613055 239.238437)scale(0.1 -0.1)\">\n       <defs>\n        <path d=\"M 12.40625 8.296875 \nL 28.515625 8.296875 \nL 28.515625 63.921875 \nL 10.984375 60.40625 \nL 10.984375 69.390625 \nL 28.421875 72.90625 \nL 38.28125 72.90625 \nL 38.28125 8.296875 \nL 54.390625 8.296875 \nL 54.390625 0 \nL 12.40625 0 \nz\n\" id=\"DejaVuSans-49\"/>\n       </defs>\n       <use xlink:href=\"#DejaVuSans-49\"/>\n      </g>\n     </g>\n    </g>\n    <g id=\"xtick_3\">\n     <g id=\"line2d_3\">\n      <g>\n       <use style=\"stroke:#000000;stroke-width:0.8;\" x=\"152.357928\" xlink:href=\"#mb22b46d32c\" y=\"224.64\"/>\n      </g>\n     </g>\n     <g id=\"text_3\">\n      <!-- 2 -->\n      <g transform=\"translate(149.176678 239.238437)scale(0.1 -0.1)\">\n       <defs>\n        <path d=\"M 19.1875 8.296875 \nL 53.609375 8.296875 \nL 53.609375 0 \nL 7.328125 0 \nL 7.328125 8.296875 \nQ 12.9375 14.109375 22.625 23.890625 \nQ 32.328125 33.6875 34.8125 36.53125 \nQ 39.546875 41.84375 41.421875 45.53125 \nQ 43.3125 49.21875 43.3125 52.78125 \nQ 43.3125 58.59375 39.234375 62.25 \nQ 35.15625 65.921875 28.609375 65.921875 \nQ 23.96875 65.921875 18.8125 64.3125 \nQ 13.671875 62.703125 7.8125 59.421875 \nL 7.8125 69.390625 \nQ 13.765625 71.78125 18.9375 73 \nQ 24.125 74.21875 28.421875 74.21875 \nQ 39.75 74.21875 46.484375 68.546875 \nQ 53.21875 62.890625 53.21875 53.421875 \nQ 53.21875 48.921875 51.53125 44.890625 \nQ 49.859375 40.875 45.40625 35.40625 \nQ 44.1875 33.984375 37.640625 27.21875 \nQ 31.109375 20.453125 19.1875 8.296875 \nz\n\" id=\"DejaVuSans-50\"/>\n       </defs>\n       <use xlink:href=\"#DejaVuSans-50\"/>\n      </g>\n     </g>\n    </g>\n    <g id=\"xtick_4\">\n     <g id=\"line2d_4\">\n      <g>\n       <use style=\"stroke:#000000;stroke-width:0.8;\" x=\"197.921552\" xlink:href=\"#mb22b46d32c\" y=\"224.64\"/>\n      </g>\n     </g>\n     <g id=\"text_4\">\n      <!-- 3 -->\n      <g transform=\"translate(194.740302 239.238437)scale(0.1 -0.1)\">\n       <defs>\n        <path d=\"M 40.578125 39.3125 \nQ 47.65625 37.796875 51.625 33 \nQ 55.609375 28.21875 55.609375 21.1875 \nQ 55.609375 10.40625 48.1875 4.484375 \nQ 40.765625 -1.421875 27.09375 -1.421875 \nQ 22.515625 -1.421875 17.65625 -0.515625 \nQ 12.796875 0.390625 7.625 2.203125 \nL 7.625 11.71875 \nQ 11.71875 9.328125 16.59375 8.109375 \nQ 21.484375 6.890625 26.8125 6.890625 \nQ 36.078125 6.890625 40.9375 10.546875 \nQ 45.796875 14.203125 45.796875 21.1875 \nQ 45.796875 27.640625 41.28125 31.265625 \nQ 36.765625 34.90625 28.71875 34.90625 \nL 20.21875 34.90625 \nL 20.21875 43.015625 \nL 29.109375 43.015625 \nQ 36.375 43.015625 40.234375 45.921875 \nQ 44.09375 48.828125 44.09375 54.296875 \nQ 44.09375 59.90625 40.109375 62.90625 \nQ 36.140625 65.921875 28.71875 65.921875 \nQ 24.65625 65.921875 20.015625 65.03125 \nQ 15.375 64.15625 9.8125 62.3125 \nL 9.8125 71.09375 \nQ 15.4375 72.65625 20.34375 73.4375 \nQ 25.25 74.21875 29.59375 74.21875 \nQ 40.828125 74.21875 47.359375 69.109375 \nQ 53.90625 64.015625 53.90625 55.328125 \nQ 53.90625 49.265625 50.4375 45.09375 \nQ 46.96875 40.921875 40.578125 39.3125 \nz\n\" id=\"DejaVuSans-51\"/>\n       </defs>\n       <use xlink:href=\"#DejaVuSans-51\"/>\n      </g>\n     </g>\n    </g>\n    <g id=\"xtick_5\">\n     <g id=\"line2d_5\">\n      <g>\n       <use style=\"stroke:#000000;stroke-width:0.8;\" x=\"243.485175\" xlink:href=\"#mb22b46d32c\" y=\"224.64\"/>\n      </g>\n     </g>\n     <g id=\"text_5\">\n      <!-- 4 -->\n      <g transform=\"translate(240.303925 239.238437)scale(0.1 -0.1)\">\n       <defs>\n        <path d=\"M 37.796875 64.3125 \nL 12.890625 25.390625 \nL 37.796875 25.390625 \nz\nM 35.203125 72.90625 \nL 47.609375 72.90625 \nL 47.609375 25.390625 \nL 58.015625 25.390625 \nL 58.015625 17.1875 \nL 47.609375 17.1875 \nL 47.609375 0 \nL 37.796875 0 \nL 37.796875 17.1875 \nL 4.890625 17.1875 \nL 4.890625 26.703125 \nz\n\" id=\"DejaVuSans-52\"/>\n       </defs>\n       <use xlink:href=\"#DejaVuSans-52\"/>\n      </g>\n     </g>\n    </g>\n    <g id=\"xtick_6\">\n     <g id=\"line2d_6\">\n      <g>\n       <use style=\"stroke:#000000;stroke-width:0.8;\" x=\"289.048798\" xlink:href=\"#mb22b46d32c\" y=\"224.64\"/>\n      </g>\n     </g>\n     <g id=\"text_6\">\n      <!-- 5 -->\n      <g transform=\"translate(285.867548 239.238437)scale(0.1 -0.1)\">\n       <defs>\n        <path d=\"M 10.796875 72.90625 \nL 49.515625 72.90625 \nL 49.515625 64.59375 \nL 19.828125 64.59375 \nL 19.828125 46.734375 \nQ 21.96875 47.46875 24.109375 47.828125 \nQ 26.265625 48.1875 28.421875 48.1875 \nQ 40.625 48.1875 47.75 41.5 \nQ 54.890625 34.8125 54.890625 23.390625 \nQ 54.890625 11.625 47.5625 5.09375 \nQ 40.234375 -1.421875 26.90625 -1.421875 \nQ 22.3125 -1.421875 17.546875 -0.640625 \nQ 12.796875 0.140625 7.71875 1.703125 \nL 7.71875 11.625 \nQ 12.109375 9.234375 16.796875 8.0625 \nQ 21.484375 6.890625 26.703125 6.890625 \nQ 35.15625 6.890625 40.078125 11.328125 \nQ 45.015625 15.765625 45.015625 23.390625 \nQ 45.015625 31 40.078125 35.4375 \nQ 35.15625 39.890625 26.703125 39.890625 \nQ 22.75 39.890625 18.8125 39.015625 \nQ 14.890625 38.140625 10.796875 36.28125 \nz\n\" id=\"DejaVuSans-53\"/>\n       </defs>\n       <use xlink:href=\"#DejaVuSans-53\"/>\n      </g>\n     </g>\n    </g>\n    <g id=\"xtick_7\">\n     <g id=\"line2d_7\">\n      <g>\n       <use style=\"stroke:#000000;stroke-width:0.8;\" x=\"334.612421\" xlink:href=\"#mb22b46d32c\" y=\"224.64\"/>\n      </g>\n     </g>\n     <g id=\"text_7\">\n      <!-- 6 -->\n      <g transform=\"translate(331.431171 239.238437)scale(0.1 -0.1)\">\n       <defs>\n        <path d=\"M 33.015625 40.375 \nQ 26.375 40.375 22.484375 35.828125 \nQ 18.609375 31.296875 18.609375 23.390625 \nQ 18.609375 15.53125 22.484375 10.953125 \nQ 26.375 6.390625 33.015625 6.390625 \nQ 39.65625 6.390625 43.53125 10.953125 \nQ 47.40625 15.53125 47.40625 23.390625 \nQ 47.40625 31.296875 43.53125 35.828125 \nQ 39.65625 40.375 33.015625 40.375 \nz\nM 52.59375 71.296875 \nL 52.59375 62.3125 \nQ 48.875 64.0625 45.09375 64.984375 \nQ 41.3125 65.921875 37.59375 65.921875 \nQ 27.828125 65.921875 22.671875 59.328125 \nQ 17.53125 52.734375 16.796875 39.40625 \nQ 19.671875 43.65625 24.015625 45.921875 \nQ 28.375 48.1875 33.59375 48.1875 \nQ 44.578125 48.1875 50.953125 41.515625 \nQ 57.328125 34.859375 57.328125 23.390625 \nQ 57.328125 12.15625 50.6875 5.359375 \nQ 44.046875 -1.421875 33.015625 -1.421875 \nQ 20.359375 -1.421875 13.671875 8.265625 \nQ 6.984375 17.96875 6.984375 36.375 \nQ 6.984375 53.65625 15.1875 63.9375 \nQ 23.390625 74.21875 37.203125 74.21875 \nQ 40.921875 74.21875 44.703125 73.484375 \nQ 48.484375 72.75 52.59375 71.296875 \nz\n\" id=\"DejaVuSans-54\"/>\n       </defs>\n       <use xlink:href=\"#DejaVuSans-54\"/>\n      </g>\n     </g>\n    </g>\n    <g id=\"xtick_8\">\n     <g id=\"line2d_8\">\n      <g>\n       <use style=\"stroke:#000000;stroke-width:0.8;\" x=\"380.176045\" xlink:href=\"#mb22b46d32c\" y=\"224.64\"/>\n      </g>\n     </g>\n     <g id=\"text_8\">\n      <!-- 7 -->\n      <g transform=\"translate(376.994795 239.238437)scale(0.1 -0.1)\">\n       <defs>\n        <path d=\"M 8.203125 72.90625 \nL 55.078125 72.90625 \nL 55.078125 68.703125 \nL 28.609375 0 \nL 18.3125 0 \nL 43.21875 64.59375 \nL 8.203125 64.59375 \nz\n\" id=\"DejaVuSans-55\"/>\n       </defs>\n       <use xlink:href=\"#DejaVuSans-55\"/>\n      </g>\n     </g>\n    </g>\n    <g id=\"text_9\">\n     <!-- 1e6 -->\n     <g transform=\"translate(361.934375 251.916562)scale(0.1 -0.1)\">\n      <defs>\n       <path d=\"M 56.203125 29.59375 \nL 56.203125 25.203125 \nL 14.890625 25.203125 \nQ 15.484375 15.921875 20.484375 11.0625 \nQ 25.484375 6.203125 34.421875 6.203125 \nQ 39.59375 6.203125 44.453125 7.46875 \nQ 49.3125 8.734375 54.109375 11.28125 \nL 54.109375 2.78125 \nQ 49.265625 0.734375 44.1875 -0.34375 \nQ 39.109375 -1.421875 33.890625 -1.421875 \nQ 20.796875 -1.421875 13.15625 6.1875 \nQ 5.515625 13.8125 5.515625 26.8125 \nQ 5.515625 40.234375 12.765625 48.109375 \nQ 20.015625 56 32.328125 56 \nQ 43.359375 56 49.78125 48.890625 \nQ 56.203125 41.796875 56.203125 29.59375 \nz\nM 47.21875 32.234375 \nQ 47.125 39.59375 43.09375 43.984375 \nQ 39.0625 48.390625 32.421875 48.390625 \nQ 24.90625 48.390625 20.390625 44.140625 \nQ 15.875 39.890625 15.1875 32.171875 \nz\n\" id=\"DejaVuSans-101\"/>\n      </defs>\n      <use xlink:href=\"#DejaVuSans-49\"/>\n      <use x=\"63.623047\" xlink:href=\"#DejaVuSans-101\"/>\n      <use x=\"125.146484\" xlink:href=\"#DejaVuSans-54\"/>\n     </g>\n    </g>\n   </g>\n   <g id=\"matplotlib.axis_2\">\n    <g id=\"ytick_1\">\n     <g id=\"line2d_9\">\n      <defs>\n       <path d=\"M 0 0 \nL -3.5 0 \n\" id=\"m7881f1e6be\" style=\"stroke:#000000;stroke-width:0.8;\"/>\n      </defs>\n      <g>\n       <use style=\"stroke:#000000;stroke-width:0.8;\" x=\"46.0125\" xlink:href=\"#m7881f1e6be\" y=\"224.64\"/>\n      </g>\n     </g>\n     <g id=\"text_10\">\n      <!-- 0 -->\n      <g transform=\"translate(32.65 228.439219)scale(0.1 -0.1)\">\n       <use xlink:href=\"#DejaVuSans-48\"/>\n      </g>\n     </g>\n    </g>\n    <g id=\"ytick_2\">\n     <g id=\"line2d_10\">\n      <g>\n       <use style=\"stroke:#000000;stroke-width:0.8;\" x=\"46.0125\" xlink:href=\"#m7881f1e6be\" y=\"195.1019\"/>\n      </g>\n     </g>\n     <g id=\"text_11\">\n      <!-- 10000 -->\n      <g transform=\"translate(7.2 198.901118)scale(0.1 -0.1)\">\n       <use xlink:href=\"#DejaVuSans-49\"/>\n       <use x=\"63.623047\" xlink:href=\"#DejaVuSans-48\"/>\n       <use x=\"127.246094\" xlink:href=\"#DejaVuSans-48\"/>\n       <use x=\"190.869141\" xlink:href=\"#DejaVuSans-48\"/>\n       <use x=\"254.492188\" xlink:href=\"#DejaVuSans-48\"/>\n      </g>\n     </g>\n    </g>\n    <g id=\"ytick_3\">\n     <g id=\"line2d_11\">\n      <g>\n       <use style=\"stroke:#000000;stroke-width:0.8;\" x=\"46.0125\" xlink:href=\"#m7881f1e6be\" y=\"165.563799\"/>\n      </g>\n     </g>\n     <g id=\"text_12\">\n      <!-- 20000 -->\n      <g transform=\"translate(7.2 169.363018)scale(0.1 -0.1)\">\n       <use xlink:href=\"#DejaVuSans-50\"/>\n       <use x=\"63.623047\" xlink:href=\"#DejaVuSans-48\"/>\n       <use x=\"127.246094\" xlink:href=\"#DejaVuSans-48\"/>\n       <use x=\"190.869141\" xlink:href=\"#DejaVuSans-48\"/>\n       <use x=\"254.492188\" xlink:href=\"#DejaVuSans-48\"/>\n      </g>\n     </g>\n    </g>\n    <g id=\"ytick_4\">\n     <g id=\"line2d_12\">\n      <g>\n       <use style=\"stroke:#000000;stroke-width:0.8;\" x=\"46.0125\" xlink:href=\"#m7881f1e6be\" y=\"136.025699\"/>\n      </g>\n     </g>\n     <g id=\"text_13\">\n      <!-- 30000 -->\n      <g transform=\"translate(7.2 139.824918)scale(0.1 -0.1)\">\n       <use xlink:href=\"#DejaVuSans-51\"/>\n       <use x=\"63.623047\" xlink:href=\"#DejaVuSans-48\"/>\n       <use x=\"127.246094\" xlink:href=\"#DejaVuSans-48\"/>\n       <use x=\"190.869141\" xlink:href=\"#DejaVuSans-48\"/>\n       <use x=\"254.492188\" xlink:href=\"#DejaVuSans-48\"/>\n      </g>\n     </g>\n    </g>\n    <g id=\"ytick_5\">\n     <g id=\"line2d_13\">\n      <g>\n       <use style=\"stroke:#000000;stroke-width:0.8;\" x=\"46.0125\" xlink:href=\"#m7881f1e6be\" y=\"106.487598\"/>\n      </g>\n     </g>\n     <g id=\"text_14\">\n      <!-- 40000 -->\n      <g transform=\"translate(7.2 110.286817)scale(0.1 -0.1)\">\n       <use xlink:href=\"#DejaVuSans-52\"/>\n       <use x=\"63.623047\" xlink:href=\"#DejaVuSans-48\"/>\n       <use x=\"127.246094\" xlink:href=\"#DejaVuSans-48\"/>\n       <use x=\"190.869141\" xlink:href=\"#DejaVuSans-48\"/>\n       <use x=\"254.492188\" xlink:href=\"#DejaVuSans-48\"/>\n      </g>\n     </g>\n    </g>\n    <g id=\"ytick_6\">\n     <g id=\"line2d_14\">\n      <g>\n       <use style=\"stroke:#000000;stroke-width:0.8;\" x=\"46.0125\" xlink:href=\"#m7881f1e6be\" y=\"76.949498\"/>\n      </g>\n     </g>\n     <g id=\"text_15\">\n      <!-- 50000 -->\n      <g transform=\"translate(7.2 80.748717)scale(0.1 -0.1)\">\n       <use xlink:href=\"#DejaVuSans-53\"/>\n       <use x=\"63.623047\" xlink:href=\"#DejaVuSans-48\"/>\n       <use x=\"127.246094\" xlink:href=\"#DejaVuSans-48\"/>\n       <use x=\"190.869141\" xlink:href=\"#DejaVuSans-48\"/>\n       <use x=\"254.492188\" xlink:href=\"#DejaVuSans-48\"/>\n      </g>\n     </g>\n    </g>\n    <g id=\"ytick_7\">\n     <g id=\"line2d_15\">\n      <g>\n       <use style=\"stroke:#000000;stroke-width:0.8;\" x=\"46.0125\" xlink:href=\"#m7881f1e6be\" y=\"47.411398\"/>\n      </g>\n     </g>\n     <g id=\"text_16\">\n      <!-- 60000 -->\n      <g transform=\"translate(7.2 51.210616)scale(0.1 -0.1)\">\n       <use xlink:href=\"#DejaVuSans-54\"/>\n       <use x=\"63.623047\" xlink:href=\"#DejaVuSans-48\"/>\n       <use x=\"127.246094\" xlink:href=\"#DejaVuSans-48\"/>\n       <use x=\"190.869141\" xlink:href=\"#DejaVuSans-48\"/>\n       <use x=\"254.492188\" xlink:href=\"#DejaVuSans-48\"/>\n      </g>\n     </g>\n    </g>\n    <g id=\"ytick_8\">\n     <g id=\"line2d_16\">\n      <g>\n       <use style=\"stroke:#000000;stroke-width:0.8;\" x=\"46.0125\" xlink:href=\"#m7881f1e6be\" y=\"17.873297\"/>\n      </g>\n     </g>\n     <g id=\"text_17\">\n      <!-- 70000 -->\n      <g transform=\"translate(7.2 21.672516)scale(0.1 -0.1)\">\n       <use xlink:href=\"#DejaVuSans-55\"/>\n       <use x=\"63.623047\" xlink:href=\"#DejaVuSans-48\"/>\n       <use x=\"127.246094\" xlink:href=\"#DejaVuSans-48\"/>\n       <use x=\"190.869141\" xlink:href=\"#DejaVuSans-48\"/>\n       <use x=\"254.492188\" xlink:href=\"#DejaVuSans-48\"/>\n      </g>\n     </g>\n    </g>\n   </g>\n   <g id=\"patch_13\">\n    <path d=\"M 46.0125 224.64 \nL 46.0125 7.2 \n\" style=\"fill:none;stroke:#000000;stroke-linecap:square;stroke-linejoin:miter;stroke-width:0.8;\"/>\n   </g>\n   <g id=\"patch_14\">\n    <path d=\"M 380.8125 224.64 \nL 380.8125 7.2 \n\" style=\"fill:none;stroke:#000000;stroke-linecap:square;stroke-linejoin:miter;stroke-width:0.8;\"/>\n   </g>\n   <g id=\"patch_15\">\n    <path d=\"M 46.0125 224.64 \nL 380.8125 224.64 \n\" style=\"fill:none;stroke:#000000;stroke-linecap:square;stroke-linejoin:miter;stroke-width:0.8;\"/>\n   </g>\n   <g id=\"patch_16\">\n    <path d=\"M 46.0125 7.2 \nL 380.8125 7.2 \n\" style=\"fill:none;stroke:#000000;stroke-linecap:square;stroke-linejoin:miter;stroke-width:0.8;\"/>\n   </g>\n  </g>\n </g>\n <defs>\n  <clipPath id=\"pcedaab9cfd\">\n   <rect height=\"217.44\" width=\"334.8\" x=\"46.0125\" y=\"7.2\"/>\n  </clipPath>\n </defs>\n</svg>\n",
      "image/png": "[encoded data removed]"
     },
     "metadata": {
      "needs_background": "light"
     }
    }
   ],
   "source": [
    "plt.hist(df.PagoCliente)\n",
    "plt.show()"
   ]
  },
  {
   "source": [
    "2106 spend 0 pesos!. but maybe this happenbecause of a cuppon(Descuento) or cancelled orders?"
   ],
   "cell_type": "markdown",
   "metadata": {}
  },
  {
   "cell_type": "code",
   "execution_count": 76,
   "metadata": {
    "tags": []
   },
   "outputs": [
    {
     "output_type": "stream",
     "name": "stdout",
     "text": "(1690, 33)\n(1690, 33)\n"
    },
    {
     "output_type": "execute_result",
     "data": {
      "text/plain": "     IdOrden   Source osSource       FechaDespacho       FechaCreacion  \\\n110   431320  Reclamo  Android 2018-02-02 07:30:00 2018-02-01 08:23:00   \n186   431403  Reclamo  Android 2018-02-02 08:28:44 2018-02-01 09:35:48   \n203   431422  Reclamo  Android 2018-02-02 08:28:42 2018-02-01 09:51:15   \n300   431529  Reclamo      iOS 2018-02-02 08:28:42 2018-02-01 11:32:48   \n322   431555  Reclamo  Android 2018-02-02 06:16:51 2018-02-01 11:50:07   \n\n           FechaGestion             Horario MetodoDePago  PagoCliente  \\\n110 2018-02-02 10:59:32  7:00 am - 12:00 pm     Efectivo          0.0   \n186 2018-02-02 13:55:57  12:00 pm - 5:00 pm     Efectivo          0.0   \n203 2018-02-02 09:49:56  7:00 am - 12:00 pm     Efectivo          0.0   \n300 2018-02-02 10:56:41  7:00 am - 12:00 pm     Efectivo          0.0   \n322 2018-02-02 11:59:29  7:00 am - 12:00 pm     Efectivo          0.0   \n\n     Descuento  Domicilio Calificacion  Bodega  Devolucion  Ciudad  \\\n110        0.0          0           \\N  Ferias           0  Bogotá   \n186        0.0          0           \\N  Ferias           0  Bogotá   \n203        0.0          0           \\N  Ferias           0  Bogotá   \n300        0.0          0           \\N  Ferias           0  Bogotá   \n322        0.0          0           \\N  Ferias           0  Bogotá   \n\n    RazonCancelacionGeneral          nombre_picker_frio  \\\n110                       0  Jose Daniel  Segura Poveda   \n186                       0  Jose Daniel  Segura Poveda   \n203                       0                          \\N   \n300                       0  Jose Daniel  Segura Poveda   \n322                       0                          \\N   \n\n        nombre_picker_seco          Tienda     Tipo FechaEsperadaEntrega  \\\n110                     \\N  Merqueo Bogotá  Merqueo  2018-02-02 12:00:00   \n186  jose sebastian rativa  Merqueo Bogotá  Merqueo  2018-02-02 17:00:00   \n203     magnoliaT trujillo  Merqueo Bogotá  Merqueo  2018-02-02 12:00:00   \n300     magnoliaT trujillo  Merqueo Bogotá  Merqueo  2018-02-02 12:00:00   \n322         Jesus Zamorano  Merqueo Bogotá  Merqueo  2018-02-02 12:00:00   \n\n    StatusOrden  Unidades  UnidadesDisponibles  UnidadesNoDisponibles  \\\n110   Delivered         4                    4                      0   \n186   Delivered         2                    2                      0   \n203   Delivered         3                    3                      0   \n300   Delivered         3                    2                      1   \n322   Delivered        19                   19                      0   \n\n     Repartidor  Otro  TiempoEntrega  El producto estaba en mal estado  \\\n110           0     0              0                                 0   \n186           0     0              0                                 0   \n203           0     0              0                                 0   \n300           0     0              0                                 0   \n322           0     0              0                                 0   \n\n     El producto estaba vencido  Me molesta no haber recibido este producto  \\\n110                           0                                           0   \n186                           0                                           0   \n203                           0                                           0   \n300                           0                                           0   \n322                           0                                           0   \n\n     No recibi el producto y me lo cobraron  Recibí el producto equivocado  \n110                                       0                              0  \n186                                       0                              0  \n203                                       0                              0  \n300                                       0                              0  \n322                                       0                              0  ",
      "text/html": "<div>\n<style scoped>\n    .dataframe tbody tr th:only-of-type {\n        vertical-align: middle;\n    }\n\n    .dataframe tbody tr th {\n        vertical-align: top;\n    }\n\n    .dataframe thead th {\n        text-align: right;\n    }\n</style>\n<table border=\"1\" class=\"dataframe\">\n  <thead>\n    <tr style=\"text-align: right;\">\n      <th></th>\n      <th>IdOrden</th>\n      <th>Source</th>\n      <th>osSource</th>\n      <th>FechaDespacho</th>\n      <th>FechaCreacion</th>\n      <th>FechaGestion</th>\n      <th>Horario</th>\n      <th>MetodoDePago</th>\n      <th>PagoCliente</th>\n      <th>Descuento</th>\n      <th>Domicilio</th>\n      <th>Calificacion</th>\n      <th>Bodega</th>\n      <th>Devolucion</th>\n      <th>Ciudad</th>\n      <th>RazonCancelacionGeneral</th>\n      <th>nombre_picker_frio</th>\n      <th>nombre_picker_seco</th>\n      <th>Tienda</th>\n      <th>Tipo</th>\n      <th>FechaEsperadaEntrega</th>\n      <th>StatusOrden</th>\n      <th>Unidades</th>\n      <th>UnidadesDisponibles</th>\n      <th>UnidadesNoDisponibles</th>\n      <th>Repartidor</th>\n      <th>Otro</th>\n      <th>TiempoEntrega</th>\n      <th>El producto estaba en mal estado</th>\n      <th>El producto estaba vencido</th>\n      <th>Me molesta no haber recibido este producto</th>\n      <th>No recibi el producto y me lo cobraron</th>\n      <th>Recibí el producto equivocado</th>\n    </tr>\n  </thead>\n  <tbody>\n    <tr>\n      <th>110</th>\n      <td>431320</td>\n      <td>Reclamo</td>\n      <td>Android</td>\n      <td>2018-02-02 07:30:00</td>\n      <td>2018-02-01 08:23:00</td>\n      <td>2018-02-02 10:59:32</td>\n      <td>7:00 am - 12:00 pm</td>\n      <td>Efectivo</td>\n      <td>0.0</td>\n      <td>0.0</td>\n      <td>0</td>\n      <td>\\N</td>\n      <td>Ferias</td>\n      <td>0</td>\n      <td>Bogotá</td>\n      <td>0</td>\n      <td>Jose Daniel  Segura Poveda</td>\n      <td>\\N</td>\n      <td>Merqueo Bogotá</td>\n      <td>Merqueo</td>\n      <td>2018-02-02 12:00:00</td>\n      <td>Delivered</td>\n      <td>4</td>\n      <td>4</td>\n      <td>0</td>\n      <td>0</td>\n      <td>0</td>\n      <td>0</td>\n      <td>0</td>\n      <td>0</td>\n      <td>0</td>\n      <td>0</td>\n      <td>0</td>\n    </tr>\n    <tr>\n      <th>186</th>\n      <td>431403</td>\n      <td>Reclamo</td>\n      <td>Android</td>\n      <td>2018-02-02 08:28:44</td>\n      <td>2018-02-01 09:35:48</td>\n      <td>2018-02-02 13:55:57</td>\n      <td>12:00 pm - 5:00 pm</td>\n      <td>Efectivo</td>\n      <td>0.0</td>\n      <td>0.0</td>\n      <td>0</td>\n      <td>\\N</td>\n      <td>Ferias</td>\n      <td>0</td>\n      <td>Bogotá</td>\n      <td>0</td>\n      <td>Jose Daniel  Segura Poveda</td>\n      <td>jose sebastian rativa</td>\n      <td>Merqueo Bogotá</td>\n      <td>Merqueo</td>\n      <td>2018-02-02 17:00:00</td>\n      <td>Delivered</td>\n      <td>2</td>\n      <td>2</td>\n      <td>0</td>\n      <td>0</td>\n      <td>0</td>\n      <td>0</td>\n      <td>0</td>\n      <td>0</td>\n      <td>0</td>\n      <td>0</td>\n      <td>0</td>\n    </tr>\n    <tr>\n      <th>203</th>\n      <td>431422</td>\n      <td>Reclamo</td>\n      <td>Android</td>\n      <td>2018-02-02 08:28:42</td>\n      <td>2018-02-01 09:51:15</td>\n      <td>2018-02-02 09:49:56</td>\n      <td>7:00 am - 12:00 pm</td>\n      <td>Efectivo</td>\n      <td>0.0</td>\n      <td>0.0</td>\n      <td>0</td>\n      <td>\\N</td>\n      <td>Ferias</td>\n      <td>0</td>\n      <td>Bogotá</td>\n      <td>0</td>\n      <td>\\N</td>\n      <td>magnoliaT trujillo</td>\n      <td>Merqueo Bogotá</td>\n      <td>Merqueo</td>\n      <td>2018-02-02 12:00:00</td>\n      <td>Delivered</td>\n      <td>3</td>\n      <td>3</td>\n      <td>0</td>\n      <td>0</td>\n      <td>0</td>\n      <td>0</td>\n      <td>0</td>\n      <td>0</td>\n      <td>0</td>\n      <td>0</td>\n      <td>0</td>\n    </tr>\n    <tr>\n      <th>300</th>\n      <td>431529</td>\n      <td>Reclamo</td>\n      <td>iOS</td>\n      <td>2018-02-02 08:28:42</td>\n      <td>2018-02-01 11:32:48</td>\n      <td>2018-02-02 10:56:41</td>\n      <td>7:00 am - 12:00 pm</td>\n      <td>Efectivo</td>\n      <td>0.0</td>\n      <td>0.0</td>\n      <td>0</td>\n      <td>\\N</td>\n      <td>Ferias</td>\n      <td>0</td>\n      <td>Bogotá</td>\n      <td>0</td>\n      <td>Jose Daniel  Segura Poveda</td>\n      <td>magnoliaT trujillo</td>\n      <td>Merqueo Bogotá</td>\n      <td>Merqueo</td>\n      <td>2018-02-02 12:00:00</td>\n      <td>Delivered</td>\n      <td>3</td>\n      <td>2</td>\n      <td>1</td>\n      <td>0</td>\n      <td>0</td>\n      <td>0</td>\n      <td>0</td>\n      <td>0</td>\n      <td>0</td>\n      <td>0</td>\n      <td>0</td>\n    </tr>\n    <tr>\n      <th>322</th>\n      <td>431555</td>\n      <td>Reclamo</td>\n      <td>Android</td>\n      <td>2018-02-02 06:16:51</td>\n      <td>2018-02-01 11:50:07</td>\n      <td>2018-02-02 11:59:29</td>\n      <td>7:00 am - 12:00 pm</td>\n      <td>Efectivo</td>\n      <td>0.0</td>\n      <td>0.0</td>\n      <td>0</td>\n      <td>\\N</td>\n      <td>Ferias</td>\n      <td>0</td>\n      <td>Bogotá</td>\n      <td>0</td>\n      <td>\\N</td>\n      <td>Jesus Zamorano</td>\n      <td>Merqueo Bogotá</td>\n      <td>Merqueo</td>\n      <td>2018-02-02 12:00:00</td>\n      <td>Delivered</td>\n      <td>19</td>\n      <td>19</td>\n      <td>0</td>\n      <td>0</td>\n      <td>0</td>\n      <td>0</td>\n      <td>0</td>\n      <td>0</td>\n      <td>0</td>\n      <td>0</td>\n      <td>0</td>\n    </tr>\n  </tbody>\n</table>\n</div>"
     },
     "metadata": {},
     "execution_count": 76
    }
   ],
   "source": [
    "#Temp DataFrame of people where Pago=0 and Status=Delivered\n",
    "\n",
    "temp=df[(df['PagoCliente']==0) & (df['StatusOrden']=='Delivered')]\n",
    "print(temp.shape)\n",
    "#filtering pago=0=descuento=0\n",
    "print(temp[temp['PagoCliente']==temp['Descuento']].shape)\n",
    "temp[temp['PagoCliente']==temp['Descuento']].head()"
   ]
  },
  {
   "source": [
    "Now we can see that 1690 wich StatusOrden = Delivered not pay for the order.\n",
    "\n",
    "In a future analysis maybe we need to see if they have been not charged because of food quality."
   ],
   "cell_type": "markdown",
   "metadata": {}
  },
  {
   "source": [
    "Looking into de feature Descuento"
   ],
   "cell_type": "markdown",
   "metadata": {}
  },
  {
   "cell_type": "code",
   "execution_count": 77,
   "metadata": {},
   "outputs": [
    {
     "output_type": "execute_result",
     "data": {
      "text/plain": "0.0        60501\n10000.0     2881\n40000.0      829\n5000.0       718\n30000.0      493\n           ...  \n46142.0        1\n44080.0        1\n7250.0         1\n4742.0         1\n22529.0        1\nName: Descuento, Length: 3040, dtype: int64"
     },
     "metadata": {},
     "execution_count": 77
    }
   ],
   "source": [
    "df.Descuento.value_counts()"
   ]
  },
  {
   "cell_type": "code",
   "execution_count": 78,
   "metadata": {
    "tags": []
   },
   "outputs": [
    {
     "output_type": "stream",
     "name": "stdout",
     "text": "86.21% of people did no get a Discount\n"
    }
   ],
   "source": [
    "print('{}% of people did no get a Discount'.format(round(100*df.Descuento.value_counts()[0]/len(df),2)))"
   ]
  },
  {
   "source": [
    "df.nombre_picker_frio.value_counts()"
   ],
   "cell_type": "markdown",
   "metadata": {}
  },
  {
   "cell_type": "code",
   "execution_count": 79,
   "metadata": {},
   "outputs": [
    {
     "output_type": "display_data",
     "data": {
      "text/plain": "<Figure size 576x576 with 0 Axes>"
     },
     "metadata": {}
    },
    {
     "output_type": "display_data",
     "data": {
      "text/plain": "<Figure size 360x360 with 1 Axes>",
      "image/svg+xml": "<?xml version=\"1.0\" encoding=\"utf-8\" standalone=\"no\"?>\n<!DOCTYPE svg PUBLIC \"-//W3C//DTD SVG 1.1//EN\"\n  \"http://www.w3.org/Graphics/SVG/1.1/DTD/svg11.dtd\">\n<!-- Created with matplotlib (https://matplotlib.org/) -->\n<svg height=\"513.704687pt\" version=\"1.1\" viewBox=\"0 0 308.76375 513.704687\" width=\"308.76375pt\" xmlns=\"http://www.w3.org/2000/svg\" xmlns:xlink=\"http://www.w3.org/1999/xlink\">\n <metadata>\n  <rdf:RDF xmlns:cc=\"http://creativecommons.org/ns#\" xmlns:dc=\"http://purl.org/dc/elements/1.1/\" xmlns:rdf=\"http://www.w3.org/1999/02/22-rdf-syntax-ns#\">\n   <cc:Work>\n    <dc:type rdf:resource=\"http://purl.org/dc/dcmitype/StillImage\"/>\n    <dc:date>2020-09-14T12:30:40.615860</dc:date>\n    <dc:format>image/svg+xml</dc:format>\n    <dc:creator>\n     <cc:Agent>\n      <dc:title>Matplotlib v3.3.1, https://matplotlib.org/</dc:title>\n     </cc:Agent>\n    </dc:creator>\n   </cc:Work>\n  </rdf:RDF>\n </metadata>\n <defs>\n  <style type=\"text/css\">*{stroke-linecap:butt;stroke-linejoin:round;}</style>\n </defs>\n <g id=\"figure_1\">\n  <g id=\"patch_1\">\n   <path d=\"M 0 513.704687 \nL 308.76375 513.704687 \nL 308.76375 0 \nL 0 0 \nz\n\" style=\"fill:none;\"/>\n  </g>\n  <g id=\"axes_1\">\n   <g id=\"patch_2\">\n    <path d=\"M 59.690625 314.6 \nL 301.56375 314.6 \nL 301.56375 7.2 \nL 59.690625 7.2 \nz\n\" style=\"fill:#ffffff;\"/>\n   </g>\n   <g id=\"matplotlib.axis_1\">\n    <g id=\"xtick_1\">\n     <g id=\"line2d_1\">\n      <defs>\n       <path d=\"M 0 0 \nL 0 3.5 \n\" id=\"m78946b8f29\" style=\"stroke:#000000;stroke-width:0.8;\"/>\n      </defs>\n      <g>\n       <use style=\"stroke:#000000;stroke-width:0.8;\" x=\"71.784281\" xlink:href=\"#m78946b8f29\" y=\"314.6\"/>\n      </g>\n     </g>\n     <g id=\"text_1\">\n      <!-- \\N -->\n      <g transform=\"translate(74.543656 332.45)rotate(-90)scale(0.1 -0.1)\">\n       <defs>\n        <path d=\"M 8.296875 72.90625 \nL 33.6875 -9.28125 \nL 25.390625 -9.28125 \nL 0 72.90625 \nz\n\" id=\"DejaVuSans-92\"/>\n        <path d=\"M 9.8125 72.90625 \nL 23.09375 72.90625 \nL 55.421875 11.921875 \nL 55.421875 72.90625 \nL 64.984375 72.90625 \nL 64.984375 0 \nL 51.703125 0 \nL 19.390625 60.984375 \nL 19.390625 0 \nL 9.8125 0 \nz\n\" id=\"DejaVuSans-78\"/>\n       </defs>\n       <use xlink:href=\"#DejaVuSans-92\"/>\n       <use x=\"33.691406\" xlink:href=\"#DejaVuSans-78\"/>\n      </g>\n     </g>\n    </g>\n    <g id=\"xtick_2\">\n     <g id=\"line2d_2\">\n      <g>\n       <use style=\"stroke:#000000;stroke-width:0.8;\" x=\"95.971594\" xlink:href=\"#m78946b8f29\" y=\"314.6\"/>\n      </g>\n     </g>\n     <g id=\"text_2\">\n      <!-- Sergio David Plazas Cruz -->\n      <g transform=\"translate(98.730969 445.892187)rotate(-90)scale(0.1 -0.1)\">\n       <defs>\n        <path d=\"M 53.515625 70.515625 \nL 53.515625 60.890625 \nQ 47.90625 63.578125 42.921875 64.890625 \nQ 37.9375 66.21875 33.296875 66.21875 \nQ 25.25 66.21875 20.875 63.09375 \nQ 16.5 59.96875 16.5 54.203125 \nQ 16.5 49.359375 19.40625 46.890625 \nQ 22.3125 44.4375 30.421875 42.921875 \nL 36.375 41.703125 \nQ 47.40625 39.59375 52.65625 34.296875 \nQ 57.90625 29 57.90625 20.125 \nQ 57.90625 9.515625 50.796875 4.046875 \nQ 43.703125 -1.421875 29.984375 -1.421875 \nQ 24.8125 -1.421875 18.96875 -0.25 \nQ 13.140625 0.921875 6.890625 3.21875 \nL 6.890625 13.375 \nQ 12.890625 10.015625 18.65625 8.296875 \nQ 24.421875 6.59375 29.984375 6.59375 \nQ 38.421875 6.59375 43.015625 9.90625 \nQ 47.609375 13.234375 47.609375 19.390625 \nQ 47.609375 24.75 44.3125 27.78125 \nQ 41.015625 30.8125 33.5 32.328125 \nL 27.484375 33.5 \nQ 16.453125 35.6875 11.515625 40.375 \nQ 6.59375 45.0625 6.59375 53.421875 \nQ 6.59375 63.09375 13.40625 68.65625 \nQ 20.21875 74.21875 32.171875 74.21875 \nQ 37.3125 74.21875 42.625 73.28125 \nQ 47.953125 72.359375 53.515625 70.515625 \nz\n\" id=\"DejaVuSans-83\"/>\n        <path d=\"M 56.203125 29.59375 \nL 56.203125 25.203125 \nL 14.890625 25.203125 \nQ 15.484375 15.921875 20.484375 11.0625 \nQ 25.484375 6.203125 34.421875 6.203125 \nQ 39.59375 6.203125 44.453125 7.46875 \nQ 49.3125 8.734375 54.109375 11.28125 \nL 54.109375 2.78125 \nQ 49.265625 0.734375 44.1875 -0.34375 \nQ 39.109375 -1.421875 33.890625 -1.421875 \nQ 20.796875 -1.421875 13.15625 6.1875 \nQ 5.515625 13.8125 5.515625 26.8125 \nQ 5.515625 40.234375 12.765625 48.109375 \nQ 20.015625 56 32.328125 56 \nQ 43.359375 56 49.78125 48.890625 \nQ 56.203125 41.796875 56.203125 29.59375 \nz\nM 47.21875 32.234375 \nQ 47.125 39.59375 43.09375 43.984375 \nQ 39.0625 48.390625 32.421875 48.390625 \nQ 24.90625 48.390625 20.390625 44.140625 \nQ 15.875 39.890625 15.1875 32.171875 \nz\n\" id=\"DejaVuSans-101\"/>\n        <path d=\"M 41.109375 46.296875 \nQ 39.59375 47.171875 37.8125 47.578125 \nQ 36.03125 48 33.890625 48 \nQ 26.265625 48 22.1875 43.046875 \nQ 18.109375 38.09375 18.109375 28.8125 \nL 18.109375 0 \nL 9.078125 0 \nL 9.078125 54.6875 \nL 18.109375 54.6875 \nL 18.109375 46.1875 \nQ 20.953125 51.171875 25.484375 53.578125 \nQ 30.03125 56 36.53125 56 \nQ 37.453125 56 38.578125 55.875 \nQ 39.703125 55.765625 41.0625 55.515625 \nz\n\" id=\"DejaVuSans-114\"/>\n        <path d=\"M 45.40625 27.984375 \nQ 45.40625 37.75 41.375 43.109375 \nQ 37.359375 48.484375 30.078125 48.484375 \nQ 22.859375 48.484375 18.828125 43.109375 \nQ 14.796875 37.75 14.796875 27.984375 \nQ 14.796875 18.265625 18.828125 12.890625 \nQ 22.859375 7.515625 30.078125 7.515625 \nQ 37.359375 7.515625 41.375 12.890625 \nQ 45.40625 18.265625 45.40625 27.984375 \nz\nM 54.390625 6.78125 \nQ 54.390625 -7.171875 48.1875 -13.984375 \nQ 42 -20.796875 29.203125 -20.796875 \nQ 24.46875 -20.796875 20.265625 -20.09375 \nQ 16.0625 -19.390625 12.109375 -17.921875 \nL 12.109375 -9.1875 \nQ 16.0625 -11.328125 19.921875 -12.34375 \nQ 23.78125 -13.375 27.78125 -13.375 \nQ 36.625 -13.375 41.015625 -8.765625 \nQ 45.40625 -4.15625 45.40625 5.171875 \nL 45.40625 9.625 \nQ 42.625 4.78125 38.28125 2.390625 \nQ 33.9375 0 27.875 0 \nQ 17.828125 0 11.671875 7.65625 \nQ 5.515625 15.328125 5.515625 27.984375 \nQ 5.515625 40.671875 11.671875 48.328125 \nQ 17.828125 56 27.875 56 \nQ 33.9375 56 38.28125 53.609375 \nQ 42.625 51.21875 45.40625 46.390625 \nL 45.40625 54.6875 \nL 54.390625 54.6875 \nz\n\" id=\"DejaVuSans-103\"/>\n        <path d=\"M 9.421875 54.6875 \nL 18.40625 54.6875 \nL 18.40625 0 \nL 9.421875 0 \nz\nM 9.421875 75.984375 \nL 18.40625 75.984375 \nL 18.40625 64.59375 \nL 9.421875 64.59375 \nz\n\" id=\"DejaVuSans-105\"/>\n        <path d=\"M 30.609375 48.390625 \nQ 23.390625 48.390625 19.1875 42.75 \nQ 14.984375 37.109375 14.984375 27.296875 \nQ 14.984375 17.484375 19.15625 11.84375 \nQ 23.34375 6.203125 30.609375 6.203125 \nQ 37.796875 6.203125 41.984375 11.859375 \nQ 46.1875 17.53125 46.1875 27.296875 \nQ 46.1875 37.015625 41.984375 42.703125 \nQ 37.796875 48.390625 30.609375 48.390625 \nz\nM 30.609375 56 \nQ 42.328125 56 49.015625 48.375 \nQ 55.71875 40.765625 55.71875 27.296875 \nQ 55.71875 13.875 49.015625 6.21875 \nQ 42.328125 -1.421875 30.609375 -1.421875 \nQ 18.84375 -1.421875 12.171875 6.21875 \nQ 5.515625 13.875 5.515625 27.296875 \nQ 5.515625 40.765625 12.171875 48.375 \nQ 18.84375 56 30.609375 56 \nz\n\" id=\"DejaVuSans-111\"/>\n        <path id=\"DejaVuSans-32\"/>\n        <path d=\"M 19.671875 64.796875 \nL 19.671875 8.109375 \nL 31.59375 8.109375 \nQ 46.6875 8.109375 53.6875 14.9375 \nQ 60.6875 21.78125 60.6875 36.53125 \nQ 60.6875 51.171875 53.6875 57.984375 \nQ 46.6875 64.796875 31.59375 64.796875 \nz\nM 9.8125 72.90625 \nL 30.078125 72.90625 \nQ 51.265625 72.90625 61.171875 64.09375 \nQ 71.09375 55.28125 71.09375 36.53125 \nQ 71.09375 17.671875 61.125 8.828125 \nQ 51.171875 0 30.078125 0 \nL 9.8125 0 \nz\n\" id=\"DejaVuSans-68\"/>\n        <path d=\"M 34.28125 27.484375 \nQ 23.390625 27.484375 19.1875 25 \nQ 14.984375 22.515625 14.984375 16.5 \nQ 14.984375 11.71875 18.140625 8.90625 \nQ 21.296875 6.109375 26.703125 6.109375 \nQ 34.1875 6.109375 38.703125 11.40625 \nQ 43.21875 16.703125 43.21875 25.484375 \nL 43.21875 27.484375 \nz\nM 52.203125 31.203125 \nL 52.203125 0 \nL 43.21875 0 \nL 43.21875 8.296875 \nQ 40.140625 3.328125 35.546875 0.953125 \nQ 30.953125 -1.421875 24.3125 -1.421875 \nQ 15.921875 -1.421875 10.953125 3.296875 \nQ 6 8.015625 6 15.921875 \nQ 6 25.140625 12.171875 29.828125 \nQ 18.359375 34.515625 30.609375 34.515625 \nL 43.21875 34.515625 \nL 43.21875 35.40625 \nQ 43.21875 41.609375 39.140625 45 \nQ 35.0625 48.390625 27.6875 48.390625 \nQ 23 48.390625 18.546875 47.265625 \nQ 14.109375 46.140625 10.015625 43.890625 \nL 10.015625 52.203125 \nQ 14.9375 54.109375 19.578125 55.046875 \nQ 24.21875 56 28.609375 56 \nQ 40.484375 56 46.34375 49.84375 \nQ 52.203125 43.703125 52.203125 31.203125 \nz\n\" id=\"DejaVuSans-97\"/>\n        <path d=\"M 2.984375 54.6875 \nL 12.5 54.6875 \nL 29.59375 8.796875 \nL 46.6875 54.6875 \nL 56.203125 54.6875 \nL 35.6875 0 \nL 23.484375 0 \nz\n\" id=\"DejaVuSans-118\"/>\n        <path d=\"M 45.40625 46.390625 \nL 45.40625 75.984375 \nL 54.390625 75.984375 \nL 54.390625 0 \nL 45.40625 0 \nL 45.40625 8.203125 \nQ 42.578125 3.328125 38.25 0.953125 \nQ 33.9375 -1.421875 27.875 -1.421875 \nQ 17.96875 -1.421875 11.734375 6.484375 \nQ 5.515625 14.40625 5.515625 27.296875 \nQ 5.515625 40.1875 11.734375 48.09375 \nQ 17.96875 56 27.875 56 \nQ 33.9375 56 38.25 53.625 \nQ 42.578125 51.265625 45.40625 46.390625 \nz\nM 14.796875 27.296875 \nQ 14.796875 17.390625 18.875 11.75 \nQ 22.953125 6.109375 30.078125 6.109375 \nQ 37.203125 6.109375 41.296875 11.75 \nQ 45.40625 17.390625 45.40625 27.296875 \nQ 45.40625 37.203125 41.296875 42.84375 \nQ 37.203125 48.484375 30.078125 48.484375 \nQ 22.953125 48.484375 18.875 42.84375 \nQ 14.796875 37.203125 14.796875 27.296875 \nz\n\" id=\"DejaVuSans-100\"/>\n        <path d=\"M 19.671875 64.796875 \nL 19.671875 37.40625 \nL 32.078125 37.40625 \nQ 38.96875 37.40625 42.71875 40.96875 \nQ 46.484375 44.53125 46.484375 51.125 \nQ 46.484375 57.671875 42.71875 61.234375 \nQ 38.96875 64.796875 32.078125 64.796875 \nz\nM 9.8125 72.90625 \nL 32.078125 72.90625 \nQ 44.34375 72.90625 50.609375 67.359375 \nQ 56.890625 61.8125 56.890625 51.125 \nQ 56.890625 40.328125 50.609375 34.8125 \nQ 44.34375 29.296875 32.078125 29.296875 \nL 19.671875 29.296875 \nL 19.671875 0 \nL 9.8125 0 \nz\n\" id=\"DejaVuSans-80\"/>\n        <path d=\"M 9.421875 75.984375 \nL 18.40625 75.984375 \nL 18.40625 0 \nL 9.421875 0 \nz\n\" id=\"DejaVuSans-108\"/>\n        <path d=\"M 5.515625 54.6875 \nL 48.1875 54.6875 \nL 48.1875 46.484375 \nL 14.40625 7.171875 \nL 48.1875 7.171875 \nL 48.1875 0 \nL 4.296875 0 \nL 4.296875 8.203125 \nL 38.09375 47.515625 \nL 5.515625 47.515625 \nz\n\" id=\"DejaVuSans-122\"/>\n        <path d=\"M 44.28125 53.078125 \nL 44.28125 44.578125 \nQ 40.484375 46.53125 36.375 47.5 \nQ 32.28125 48.484375 27.875 48.484375 \nQ 21.1875 48.484375 17.84375 46.4375 \nQ 14.5 44.390625 14.5 40.28125 \nQ 14.5 37.15625 16.890625 35.375 \nQ 19.28125 33.59375 26.515625 31.984375 \nL 29.59375 31.296875 \nQ 39.15625 29.25 43.1875 25.515625 \nQ 47.21875 21.78125 47.21875 15.09375 \nQ 47.21875 7.46875 41.1875 3.015625 \nQ 35.15625 -1.421875 24.609375 -1.421875 \nQ 20.21875 -1.421875 15.453125 -0.5625 \nQ 10.6875 0.296875 5.421875 2 \nL 5.421875 11.28125 \nQ 10.40625 8.6875 15.234375 7.390625 \nQ 20.0625 6.109375 24.8125 6.109375 \nQ 31.15625 6.109375 34.5625 8.28125 \nQ 37.984375 10.453125 37.984375 14.40625 \nQ 37.984375 18.0625 35.515625 20.015625 \nQ 33.0625 21.96875 24.703125 23.78125 \nL 21.578125 24.515625 \nQ 13.234375 26.265625 9.515625 29.90625 \nQ 5.8125 33.546875 5.8125 39.890625 \nQ 5.8125 47.609375 11.28125 51.796875 \nQ 16.75 56 26.8125 56 \nQ 31.78125 56 36.171875 55.265625 \nQ 40.578125 54.546875 44.28125 53.078125 \nz\n\" id=\"DejaVuSans-115\"/>\n        <path d=\"M 64.40625 67.28125 \nL 64.40625 56.890625 \nQ 59.421875 61.53125 53.78125 63.8125 \nQ 48.140625 66.109375 41.796875 66.109375 \nQ 29.296875 66.109375 22.65625 58.46875 \nQ 16.015625 50.828125 16.015625 36.375 \nQ 16.015625 21.96875 22.65625 14.328125 \nQ 29.296875 6.6875 41.796875 6.6875 \nQ 48.140625 6.6875 53.78125 8.984375 \nQ 59.421875 11.28125 64.40625 15.921875 \nL 64.40625 5.609375 \nQ 59.234375 2.09375 53.4375 0.328125 \nQ 47.65625 -1.421875 41.21875 -1.421875 \nQ 24.65625 -1.421875 15.125 8.703125 \nQ 5.609375 18.84375 5.609375 36.375 \nQ 5.609375 53.953125 15.125 64.078125 \nQ 24.65625 74.21875 41.21875 74.21875 \nQ 47.75 74.21875 53.53125 72.484375 \nQ 59.328125 70.75 64.40625 67.28125 \nz\n\" id=\"DejaVuSans-67\"/>\n        <path d=\"M 8.5 21.578125 \nL 8.5 54.6875 \nL 17.484375 54.6875 \nL 17.484375 21.921875 \nQ 17.484375 14.15625 20.5 10.265625 \nQ 23.53125 6.390625 29.59375 6.390625 \nQ 36.859375 6.390625 41.078125 11.03125 \nQ 45.3125 15.671875 45.3125 23.6875 \nL 45.3125 54.6875 \nL 54.296875 54.6875 \nL 54.296875 0 \nL 45.3125 0 \nL 45.3125 8.40625 \nQ 42.046875 3.421875 37.71875 1 \nQ 33.40625 -1.421875 27.6875 -1.421875 \nQ 18.265625 -1.421875 13.375 4.4375 \nQ 8.5 10.296875 8.5 21.578125 \nz\nM 31.109375 56 \nz\n\" id=\"DejaVuSans-117\"/>\n       </defs>\n       <use xlink:href=\"#DejaVuSans-83\"/>\n       <use x=\"63.476562\" xlink:href=\"#DejaVuSans-101\"/>\n       <use x=\"125\" xlink:href=\"#DejaVuSans-114\"/>\n       <use x=\"164.363281\" xlink:href=\"#DejaVuSans-103\"/>\n       <use x=\"227.839844\" xlink:href=\"#DejaVuSans-105\"/>\n       <use x=\"255.623047\" xlink:href=\"#DejaVuSans-111\"/>\n       <use x=\"316.804688\" xlink:href=\"#DejaVuSans-32\"/>\n       <use x=\"348.591797\" xlink:href=\"#DejaVuSans-68\"/>\n       <use x=\"425.59375\" xlink:href=\"#DejaVuSans-97\"/>\n       <use x=\"486.873047\" xlink:href=\"#DejaVuSans-118\"/>\n       <use x=\"546.052734\" xlink:href=\"#DejaVuSans-105\"/>\n       <use x=\"573.835938\" xlink:href=\"#DejaVuSans-100\"/>\n       <use x=\"637.3125\" xlink:href=\"#DejaVuSans-32\"/>\n       <use x=\"669.099609\" xlink:href=\"#DejaVuSans-80\"/>\n       <use x=\"729.402344\" xlink:href=\"#DejaVuSans-108\"/>\n       <use x=\"757.185547\" xlink:href=\"#DejaVuSans-97\"/>\n       <use x=\"818.464844\" xlink:href=\"#DejaVuSans-122\"/>\n       <use x=\"870.955078\" xlink:href=\"#DejaVuSans-97\"/>\n       <use x=\"932.234375\" xlink:href=\"#DejaVuSans-115\"/>\n       <use x=\"984.333984\" xlink:href=\"#DejaVuSans-32\"/>\n       <use x=\"1016.121094\" xlink:href=\"#DejaVuSans-67\"/>\n       <use x=\"1085.945312\" xlink:href=\"#DejaVuSans-114\"/>\n       <use x=\"1127.058594\" xlink:href=\"#DejaVuSans-117\"/>\n       <use x=\"1190.4375\" xlink:href=\"#DejaVuSans-122\"/>\n      </g>\n     </g>\n    </g>\n    <g id=\"xtick_3\">\n     <g id=\"line2d_3\">\n      <g>\n       <use style=\"stroke:#000000;stroke-width:0.8;\" x=\"120.158906\" xlink:href=\"#m78946b8f29\" y=\"314.6\"/>\n      </g>\n     </g>\n     <g id=\"text_3\">\n      <!-- Brayan David Mayorga Serrato -->\n      <g transform=\"translate(122.918281 475.414062)rotate(-90)scale(0.1 -0.1)\">\n       <defs>\n        <path d=\"M 19.671875 34.8125 \nL 19.671875 8.109375 \nL 35.5 8.109375 \nQ 43.453125 8.109375 47.28125 11.40625 \nQ 51.125 14.703125 51.125 21.484375 \nQ 51.125 28.328125 47.28125 31.5625 \nQ 43.453125 34.8125 35.5 34.8125 \nz\nM 19.671875 64.796875 \nL 19.671875 42.828125 \nL 34.28125 42.828125 \nQ 41.5 42.828125 45.03125 45.53125 \nQ 48.578125 48.25 48.578125 53.8125 \nQ 48.578125 59.328125 45.03125 62.0625 \nQ 41.5 64.796875 34.28125 64.796875 \nz\nM 9.8125 72.90625 \nL 35.015625 72.90625 \nQ 46.296875 72.90625 52.390625 68.21875 \nQ 58.5 63.53125 58.5 54.890625 \nQ 58.5 48.1875 55.375 44.234375 \nQ 52.25 40.28125 46.1875 39.3125 \nQ 53.46875 37.75 57.5 32.78125 \nQ 61.53125 27.828125 61.53125 20.40625 \nQ 61.53125 10.640625 54.890625 5.3125 \nQ 48.25 0 35.984375 0 \nL 9.8125 0 \nz\n\" id=\"DejaVuSans-66\"/>\n        <path d=\"M 32.171875 -5.078125 \nQ 28.375 -14.84375 24.75 -17.8125 \nQ 21.140625 -20.796875 15.09375 -20.796875 \nL 7.90625 -20.796875 \nL 7.90625 -13.28125 \nL 13.1875 -13.28125 \nQ 16.890625 -13.28125 18.9375 -11.515625 \nQ 21 -9.765625 23.484375 -3.21875 \nL 25.09375 0.875 \nL 2.984375 54.6875 \nL 12.5 54.6875 \nL 29.59375 11.921875 \nL 46.6875 54.6875 \nL 56.203125 54.6875 \nz\n\" id=\"DejaVuSans-121\"/>\n        <path d=\"M 54.890625 33.015625 \nL 54.890625 0 \nL 45.90625 0 \nL 45.90625 32.71875 \nQ 45.90625 40.484375 42.875 44.328125 \nQ 39.84375 48.1875 33.796875 48.1875 \nQ 26.515625 48.1875 22.3125 43.546875 \nQ 18.109375 38.921875 18.109375 30.90625 \nL 18.109375 0 \nL 9.078125 0 \nL 9.078125 54.6875 \nL 18.109375 54.6875 \nL 18.109375 46.1875 \nQ 21.34375 51.125 25.703125 53.5625 \nQ 30.078125 56 35.796875 56 \nQ 45.21875 56 50.046875 50.171875 \nQ 54.890625 44.34375 54.890625 33.015625 \nz\n\" id=\"DejaVuSans-110\"/>\n        <path d=\"M 9.8125 72.90625 \nL 24.515625 72.90625 \nL 43.109375 23.296875 \nL 61.8125 72.90625 \nL 76.515625 72.90625 \nL 76.515625 0 \nL 66.890625 0 \nL 66.890625 64.015625 \nL 48.09375 14.015625 \nL 38.1875 14.015625 \nL 19.390625 64.015625 \nL 19.390625 0 \nL 9.8125 0 \nz\n\" id=\"DejaVuSans-77\"/>\n        <path d=\"M 18.3125 70.21875 \nL 18.3125 54.6875 \nL 36.8125 54.6875 \nL 36.8125 47.703125 \nL 18.3125 47.703125 \nL 18.3125 18.015625 \nQ 18.3125 11.328125 20.140625 9.421875 \nQ 21.96875 7.515625 27.59375 7.515625 \nL 36.8125 7.515625 \nL 36.8125 0 \nL 27.59375 0 \nQ 17.1875 0 13.234375 3.875 \nQ 9.28125 7.765625 9.28125 18.015625 \nL 9.28125 47.703125 \nL 2.6875 47.703125 \nL 2.6875 54.6875 \nL 9.28125 54.6875 \nL 9.28125 70.21875 \nz\n\" id=\"DejaVuSans-116\"/>\n       </defs>\n       <use xlink:href=\"#DejaVuSans-66\"/>\n       <use x=\"68.603516\" xlink:href=\"#DejaVuSans-114\"/>\n       <use x=\"109.716797\" xlink:href=\"#DejaVuSans-97\"/>\n       <use x=\"170.996094\" xlink:href=\"#DejaVuSans-121\"/>\n       <use x=\"230.175781\" xlink:href=\"#DejaVuSans-97\"/>\n       <use x=\"291.455078\" xlink:href=\"#DejaVuSans-110\"/>\n       <use x=\"354.833984\" xlink:href=\"#DejaVuSans-32\"/>\n       <use x=\"386.621094\" xlink:href=\"#DejaVuSans-68\"/>\n       <use x=\"463.623047\" xlink:href=\"#DejaVuSans-97\"/>\n       <use x=\"524.902344\" xlink:href=\"#DejaVuSans-118\"/>\n       <use x=\"584.082031\" xlink:href=\"#DejaVuSans-105\"/>\n       <use x=\"611.865234\" xlink:href=\"#DejaVuSans-100\"/>\n       <use x=\"675.341797\" xlink:href=\"#DejaVuSans-32\"/>\n       <use x=\"707.128906\" xlink:href=\"#DejaVuSans-77\"/>\n       <use x=\"793.408203\" xlink:href=\"#DejaVuSans-97\"/>\n       <use x=\"854.6875\" xlink:href=\"#DejaVuSans-121\"/>\n       <use x=\"913.867188\" xlink:href=\"#DejaVuSans-111\"/>\n       <use x=\"975.048828\" xlink:href=\"#DejaVuSans-114\"/>\n       <use x=\"1014.412109\" xlink:href=\"#DejaVuSans-103\"/>\n       <use x=\"1077.888672\" xlink:href=\"#DejaVuSans-97\"/>\n       <use x=\"1139.167969\" xlink:href=\"#DejaVuSans-32\"/>\n       <use x=\"1170.955078\" xlink:href=\"#DejaVuSans-83\"/>\n       <use x=\"1234.431641\" xlink:href=\"#DejaVuSans-101\"/>\n       <use x=\"1295.955078\" xlink:href=\"#DejaVuSans-114\"/>\n       <use x=\"1335.318359\" xlink:href=\"#DejaVuSans-114\"/>\n       <use x=\"1376.431641\" xlink:href=\"#DejaVuSans-97\"/>\n       <use x=\"1437.710938\" xlink:href=\"#DejaVuSans-116\"/>\n       <use x=\"1476.919922\" xlink:href=\"#DejaVuSans-111\"/>\n      </g>\n     </g>\n    </g>\n    <g id=\"xtick_4\">\n     <g id=\"line2d_4\">\n      <g>\n       <use style=\"stroke:#000000;stroke-width:0.8;\" x=\"144.346219\" xlink:href=\"#m78946b8f29\" y=\"314.6\"/>\n      </g>\n     </g>\n     <g id=\"text_4\">\n      <!-- luisa vargas -->\n      <g transform=\"translate(147.105594 381.678125)rotate(-90)scale(0.1 -0.1)\">\n       <use xlink:href=\"#DejaVuSans-108\"/>\n       <use x=\"27.783203\" xlink:href=\"#DejaVuSans-117\"/>\n       <use x=\"91.162109\" xlink:href=\"#DejaVuSans-105\"/>\n       <use x=\"118.945312\" xlink:href=\"#DejaVuSans-115\"/>\n       <use x=\"171.044922\" xlink:href=\"#DejaVuSans-97\"/>\n       <use x=\"232.324219\" xlink:href=\"#DejaVuSans-32\"/>\n       <use x=\"264.111328\" xlink:href=\"#DejaVuSans-118\"/>\n       <use x=\"323.291016\" xlink:href=\"#DejaVuSans-97\"/>\n       <use x=\"384.570312\" xlink:href=\"#DejaVuSans-114\"/>\n       <use x=\"423.933594\" xlink:href=\"#DejaVuSans-103\"/>\n       <use x=\"487.410156\" xlink:href=\"#DejaVuSans-97\"/>\n       <use x=\"548.689453\" xlink:href=\"#DejaVuSans-115\"/>\n      </g>\n     </g>\n    </g>\n    <g id=\"xtick_5\">\n     <g id=\"line2d_5\">\n      <g>\n       <use style=\"stroke:#000000;stroke-width:0.8;\" x=\"168.533531\" xlink:href=\"#m78946b8f29\" y=\"314.6\"/>\n      </g>\n     </g>\n     <g id=\"text_5\">\n      <!-- Diego Mauricio Garzon Peña -->\n      <g transform=\"translate(171.378062 462.589062)rotate(-90)scale(0.1 -0.1)\">\n       <defs>\n        <path d=\"M 48.78125 52.59375 \nL 48.78125 44.1875 \nQ 44.96875 46.296875 41.140625 47.34375 \nQ 37.3125 48.390625 33.40625 48.390625 \nQ 24.65625 48.390625 19.8125 42.84375 \nQ 14.984375 37.3125 14.984375 27.296875 \nQ 14.984375 17.28125 19.8125 11.734375 \nQ 24.65625 6.203125 33.40625 6.203125 \nQ 37.3125 6.203125 41.140625 7.25 \nQ 44.96875 8.296875 48.78125 10.40625 \nL 48.78125 2.09375 \nQ 45.015625 0.34375 40.984375 -0.53125 \nQ 36.96875 -1.421875 32.421875 -1.421875 \nQ 20.0625 -1.421875 12.78125 6.34375 \nQ 5.515625 14.109375 5.515625 27.296875 \nQ 5.515625 40.671875 12.859375 48.328125 \nQ 20.21875 56 33.015625 56 \nQ 37.15625 56 41.109375 55.140625 \nQ 45.0625 54.296875 48.78125 52.59375 \nz\n\" id=\"DejaVuSans-99\"/>\n        <path d=\"M 59.515625 10.40625 \nL 59.515625 29.984375 \nL 43.40625 29.984375 \nL 43.40625 38.09375 \nL 69.28125 38.09375 \nL 69.28125 6.78125 \nQ 63.578125 2.734375 56.6875 0.65625 \nQ 49.8125 -1.421875 42 -1.421875 \nQ 24.90625 -1.421875 15.25 8.5625 \nQ 5.609375 18.5625 5.609375 36.375 \nQ 5.609375 54.25 15.25 64.234375 \nQ 24.90625 74.21875 42 74.21875 \nQ 49.125 74.21875 55.546875 72.453125 \nQ 61.96875 70.703125 67.390625 67.28125 \nL 67.390625 56.78125 \nQ 61.921875 61.421875 55.765625 63.765625 \nQ 49.609375 66.109375 42.828125 66.109375 \nQ 29.4375 66.109375 22.71875 58.640625 \nQ 16.015625 51.171875 16.015625 36.375 \nQ 16.015625 21.625 22.71875 14.15625 \nQ 29.4375 6.6875 42.828125 6.6875 \nQ 48.046875 6.6875 52.140625 7.59375 \nQ 56.25 8.5 59.515625 10.40625 \nz\n\" id=\"DejaVuSans-71\"/>\n        <path d=\"M 54.890625 33.015625 \nL 54.890625 0 \nL 45.90625 0 \nL 45.90625 32.71875 \nQ 45.90625 40.484375 42.875 44.328125 \nQ 39.84375 48.1875 33.796875 48.1875 \nQ 26.515625 48.1875 22.3125 43.546875 \nQ 18.109375 38.921875 18.109375 30.90625 \nL 18.109375 0 \nL 9.078125 0 \nL 9.078125 54.6875 \nL 18.109375 54.6875 \nL 18.109375 46.1875 \nQ 21.34375 51.125 25.703125 53.5625 \nQ 30.078125 56 35.796875 56 \nQ 45.21875 56 50.046875 50.171875 \nQ 54.890625 44.34375 54.890625 33.015625 \nz\nM 32.1875 66.890625 \nL 29.390625 69.578125 \nQ 28.328125 70.5625 27.515625 71.015625 \nQ 26.71875 71.484375 26.078125 71.484375 \nQ 24.21875 71.484375 23.34375 69.703125 \nQ 22.46875 67.921875 22.359375 63.921875 \nL 16.265625 63.921875 \nQ 16.359375 70.515625 18.84375 74.09375 \nQ 21.34375 77.6875 25.78125 77.6875 \nQ 27.640625 77.6875 29.203125 77 \nQ 30.765625 76.3125 32.578125 74.703125 \nL 35.359375 72.015625 \nQ 36.421875 71.046875 37.234375 70.578125 \nQ 38.046875 70.125 38.671875 70.125 \nQ 40.53125 70.125 41.40625 71.90625 \nQ 42.28125 73.6875 42.390625 77.6875 \nL 48.484375 77.6875 \nQ 48.390625 71.09375 45.890625 67.5 \nQ 43.40625 63.921875 38.96875 63.921875 \nQ 37.109375 63.921875 35.546875 64.59375 \nQ 33.984375 65.28125 32.1875 66.890625 \nz\n\" id=\"DejaVuSans-241\"/>\n       </defs>\n       <use xlink:href=\"#DejaVuSans-68\"/>\n       <use x=\"77.001953\" xlink:href=\"#DejaVuSans-105\"/>\n       <use x=\"104.785156\" xlink:href=\"#DejaVuSans-101\"/>\n       <use x=\"166.308594\" xlink:href=\"#DejaVuSans-103\"/>\n       <use x=\"229.785156\" xlink:href=\"#DejaVuSans-111\"/>\n       <use x=\"290.966797\" xlink:href=\"#DejaVuSans-32\"/>\n       <use x=\"322.753906\" xlink:href=\"#DejaVuSans-77\"/>\n       <use x=\"409.033203\" xlink:href=\"#DejaVuSans-97\"/>\n       <use x=\"470.3125\" xlink:href=\"#DejaVuSans-117\"/>\n       <use x=\"533.691406\" xlink:href=\"#DejaVuSans-114\"/>\n       <use x=\"574.804688\" xlink:href=\"#DejaVuSans-105\"/>\n       <use x=\"602.587891\" xlink:href=\"#DejaVuSans-99\"/>\n       <use x=\"657.568359\" xlink:href=\"#DejaVuSans-105\"/>\n       <use x=\"685.351562\" xlink:href=\"#DejaVuSans-111\"/>\n       <use x=\"746.533203\" xlink:href=\"#DejaVuSans-32\"/>\n       <use x=\"778.320312\" xlink:href=\"#DejaVuSans-71\"/>\n       <use x=\"855.810547\" xlink:href=\"#DejaVuSans-97\"/>\n       <use x=\"917.089844\" xlink:href=\"#DejaVuSans-114\"/>\n       <use x=\"958.203125\" xlink:href=\"#DejaVuSans-122\"/>\n       <use x=\"1010.693359\" xlink:href=\"#DejaVuSans-111\"/>\n       <use x=\"1071.875\" xlink:href=\"#DejaVuSans-110\"/>\n       <use x=\"1135.253906\" xlink:href=\"#DejaVuSans-32\"/>\n       <use x=\"1167.041016\" xlink:href=\"#DejaVuSans-80\"/>\n       <use x=\"1223.71875\" xlink:href=\"#DejaVuSans-101\"/>\n       <use x=\"1285.242188\" xlink:href=\"#DejaVuSans-241\"/>\n       <use x=\"1348.621094\" xlink:href=\"#DejaVuSans-97\"/>\n      </g>\n     </g>\n    </g>\n    <g id=\"xtick_6\">\n     <g id=\"line2d_6\">\n      <g>\n       <use style=\"stroke:#000000;stroke-width:0.8;\" x=\"192.720844\" xlink:href=\"#m78946b8f29\" y=\"314.6\"/>\n      </g>\n     </g>\n     <g id=\"text_6\">\n      <!-- johana castro -->\n      <g transform=\"translate(195.480219 389.367187)rotate(-90)scale(0.1 -0.1)\">\n       <defs>\n        <path d=\"M 9.421875 54.6875 \nL 18.40625 54.6875 \nL 18.40625 -0.984375 \nQ 18.40625 -11.421875 14.421875 -16.109375 \nQ 10.453125 -20.796875 1.609375 -20.796875 \nL -1.8125 -20.796875 \nL -1.8125 -13.1875 \nL 0.59375 -13.1875 \nQ 5.71875 -13.1875 7.5625 -10.8125 \nQ 9.421875 -8.453125 9.421875 -0.984375 \nz\nM 9.421875 75.984375 \nL 18.40625 75.984375 \nL 18.40625 64.59375 \nL 9.421875 64.59375 \nz\n\" id=\"DejaVuSans-106\"/>\n        <path d=\"M 54.890625 33.015625 \nL 54.890625 0 \nL 45.90625 0 \nL 45.90625 32.71875 \nQ 45.90625 40.484375 42.875 44.328125 \nQ 39.84375 48.1875 33.796875 48.1875 \nQ 26.515625 48.1875 22.3125 43.546875 \nQ 18.109375 38.921875 18.109375 30.90625 \nL 18.109375 0 \nL 9.078125 0 \nL 9.078125 75.984375 \nL 18.109375 75.984375 \nL 18.109375 46.1875 \nQ 21.34375 51.125 25.703125 53.5625 \nQ 30.078125 56 35.796875 56 \nQ 45.21875 56 50.046875 50.171875 \nQ 54.890625 44.34375 54.890625 33.015625 \nz\n\" id=\"DejaVuSans-104\"/>\n       </defs>\n       <use xlink:href=\"#DejaVuSans-106\"/>\n       <use x=\"27.783203\" xlink:href=\"#DejaVuSans-111\"/>\n       <use x=\"88.964844\" xlink:href=\"#DejaVuSans-104\"/>\n       <use x=\"152.34375\" xlink:href=\"#DejaVuSans-97\"/>\n       <use x=\"213.623047\" xlink:href=\"#DejaVuSans-110\"/>\n       <use x=\"277.001953\" xlink:href=\"#DejaVuSans-97\"/>\n       <use x=\"338.28125\" xlink:href=\"#DejaVuSans-32\"/>\n       <use x=\"370.068359\" xlink:href=\"#DejaVuSans-99\"/>\n       <use x=\"425.048828\" xlink:href=\"#DejaVuSans-97\"/>\n       <use x=\"486.328125\" xlink:href=\"#DejaVuSans-115\"/>\n       <use x=\"538.427734\" xlink:href=\"#DejaVuSans-116\"/>\n       <use x=\"577.636719\" xlink:href=\"#DejaVuSans-114\"/>\n       <use x=\"616.5\" xlink:href=\"#DejaVuSans-111\"/>\n      </g>\n     </g>\n    </g>\n    <g id=\"xtick_7\">\n     <g id=\"line2d_7\">\n      <g>\n       <use style=\"stroke:#000000;stroke-width:0.8;\" x=\"216.908156\" xlink:href=\"#m78946b8f29\" y=\"314.6\"/>\n      </g>\n     </g>\n     <g id=\"text_7\">\n      <!-- Brahian Steven Galindo Rodriguez -->\n      <g transform=\"translate(219.667531 492.826562)rotate(-90)scale(0.1 -0.1)\">\n       <defs>\n        <path d=\"M 44.390625 34.1875 \nQ 47.5625 33.109375 50.5625 29.59375 \nQ 53.5625 26.078125 56.59375 19.921875 \nL 66.609375 0 \nL 56 0 \nL 46.6875 18.703125 \nQ 43.0625 26.03125 39.671875 28.421875 \nQ 36.28125 30.8125 30.421875 30.8125 \nL 19.671875 30.8125 \nL 19.671875 0 \nL 9.8125 0 \nL 9.8125 72.90625 \nL 32.078125 72.90625 \nQ 44.578125 72.90625 50.734375 67.671875 \nQ 56.890625 62.453125 56.890625 51.90625 \nQ 56.890625 45.015625 53.6875 40.46875 \nQ 50.484375 35.9375 44.390625 34.1875 \nz\nM 19.671875 64.796875 \nL 19.671875 38.921875 \nL 32.078125 38.921875 \nQ 39.203125 38.921875 42.84375 42.21875 \nQ 46.484375 45.515625 46.484375 51.90625 \nQ 46.484375 58.296875 42.84375 61.546875 \nQ 39.203125 64.796875 32.078125 64.796875 \nz\n\" id=\"DejaVuSans-82\"/>\n       </defs>\n       <use xlink:href=\"#DejaVuSans-66\"/>\n       <use x=\"68.603516\" xlink:href=\"#DejaVuSans-114\"/>\n       <use x=\"109.716797\" xlink:href=\"#DejaVuSans-97\"/>\n       <use x=\"170.996094\" xlink:href=\"#DejaVuSans-104\"/>\n       <use x=\"234.375\" xlink:href=\"#DejaVuSans-105\"/>\n       <use x=\"262.158203\" xlink:href=\"#DejaVuSans-97\"/>\n       <use x=\"323.4375\" xlink:href=\"#DejaVuSans-110\"/>\n       <use x=\"386.816406\" xlink:href=\"#DejaVuSans-32\"/>\n       <use x=\"418.603516\" xlink:href=\"#DejaVuSans-83\"/>\n       <use x=\"482.080078\" xlink:href=\"#DejaVuSans-116\"/>\n       <use x=\"521.289062\" xlink:href=\"#DejaVuSans-101\"/>\n       <use x=\"582.8125\" xlink:href=\"#DejaVuSans-118\"/>\n       <use x=\"641.992188\" xlink:href=\"#DejaVuSans-101\"/>\n       <use x=\"703.515625\" xlink:href=\"#DejaVuSans-110\"/>\n       <use x=\"766.894531\" xlink:href=\"#DejaVuSans-32\"/>\n       <use x=\"798.681641\" xlink:href=\"#DejaVuSans-71\"/>\n       <use x=\"876.171875\" xlink:href=\"#DejaVuSans-97\"/>\n       <use x=\"937.451172\" xlink:href=\"#DejaVuSans-108\"/>\n       <use x=\"965.234375\" xlink:href=\"#DejaVuSans-105\"/>\n       <use x=\"993.017578\" xlink:href=\"#DejaVuSans-110\"/>\n       <use x=\"1056.396484\" xlink:href=\"#DejaVuSans-100\"/>\n       <use x=\"1119.873047\" xlink:href=\"#DejaVuSans-111\"/>\n       <use x=\"1181.054688\" xlink:href=\"#DejaVuSans-32\"/>\n       <use x=\"1212.841797\" xlink:href=\"#DejaVuSans-82\"/>\n       <use x=\"1277.824219\" xlink:href=\"#DejaVuSans-111\"/>\n       <use x=\"1339.005859\" xlink:href=\"#DejaVuSans-100\"/>\n       <use x=\"1402.482422\" xlink:href=\"#DejaVuSans-114\"/>\n       <use x=\"1443.595703\" xlink:href=\"#DejaVuSans-105\"/>\n       <use x=\"1471.378906\" xlink:href=\"#DejaVuSans-103\"/>\n       <use x=\"1534.855469\" xlink:href=\"#DejaVuSans-117\"/>\n       <use x=\"1598.234375\" xlink:href=\"#DejaVuSans-101\"/>\n       <use x=\"1659.757812\" xlink:href=\"#DejaVuSans-122\"/>\n      </g>\n     </g>\n    </g>\n    <g id=\"xtick_8\">\n     <g id=\"line2d_8\">\n      <g>\n       <use style=\"stroke:#000000;stroke-width:0.8;\" x=\"241.095469\" xlink:href=\"#m78946b8f29\" y=\"314.6\"/>\n      </g>\n     </g>\n     <g id=\"text_8\">\n      <!-- Daniel  Alvarez Bonilla -->\n      <g transform=\"translate(243.854844 433.742187)rotate(-90)scale(0.1 -0.1)\">\n       <defs>\n        <path d=\"M 34.1875 63.1875 \nL 20.796875 26.90625 \nL 47.609375 26.90625 \nz\nM 28.609375 72.90625 \nL 39.796875 72.90625 \nL 67.578125 0 \nL 57.328125 0 \nL 50.6875 18.703125 \nL 17.828125 18.703125 \nL 11.1875 0 \nL 0.78125 0 \nz\n\" id=\"DejaVuSans-65\"/>\n       </defs>\n       <use xlink:href=\"#DejaVuSans-68\"/>\n       <use x=\"77.001953\" xlink:href=\"#DejaVuSans-97\"/>\n       <use x=\"138.28125\" xlink:href=\"#DejaVuSans-110\"/>\n       <use x=\"201.660156\" xlink:href=\"#DejaVuSans-105\"/>\n       <use x=\"229.443359\" xlink:href=\"#DejaVuSans-101\"/>\n       <use x=\"290.966797\" xlink:href=\"#DejaVuSans-108\"/>\n       <use x=\"318.75\" xlink:href=\"#DejaVuSans-32\"/>\n       <use x=\"350.537109\" xlink:href=\"#DejaVuSans-32\"/>\n       <use x=\"382.324219\" xlink:href=\"#DejaVuSans-65\"/>\n       <use x=\"450.732422\" xlink:href=\"#DejaVuSans-108\"/>\n       <use x=\"478.515625\" xlink:href=\"#DejaVuSans-118\"/>\n       <use x=\"537.695312\" xlink:href=\"#DejaVuSans-97\"/>\n       <use x=\"598.974609\" xlink:href=\"#DejaVuSans-114\"/>\n       <use x=\"637.837891\" xlink:href=\"#DejaVuSans-101\"/>\n       <use x=\"699.361328\" xlink:href=\"#DejaVuSans-122\"/>\n       <use x=\"751.851562\" xlink:href=\"#DejaVuSans-32\"/>\n       <use x=\"783.638672\" xlink:href=\"#DejaVuSans-66\"/>\n       <use x=\"852.242188\" xlink:href=\"#DejaVuSans-111\"/>\n       <use x=\"913.423828\" xlink:href=\"#DejaVuSans-110\"/>\n       <use x=\"976.802734\" xlink:href=\"#DejaVuSans-105\"/>\n       <use x=\"1004.585938\" xlink:href=\"#DejaVuSans-108\"/>\n       <use x=\"1032.369141\" xlink:href=\"#DejaVuSans-108\"/>\n       <use x=\"1060.152344\" xlink:href=\"#DejaVuSans-97\"/>\n      </g>\n     </g>\n    </g>\n    <g id=\"xtick_9\">\n     <g id=\"line2d_9\">\n      <g>\n       <use style=\"stroke:#000000;stroke-width:0.8;\" x=\"265.282781\" xlink:href=\"#m78946b8f29\" y=\"314.6\"/>\n      </g>\n     </g>\n     <g id=\"text_9\">\n      <!-- Mauricio Alvarez -->\n      <g transform=\"translate(268.042156 404.109375)rotate(-90)scale(0.1 -0.1)\">\n       <use xlink:href=\"#DejaVuSans-77\"/>\n       <use x=\"86.279297\" xlink:href=\"#DejaVuSans-97\"/>\n       <use x=\"147.558594\" xlink:href=\"#DejaVuSans-117\"/>\n       <use x=\"210.9375\" xlink:href=\"#DejaVuSans-114\"/>\n       <use x=\"252.050781\" xlink:href=\"#DejaVuSans-105\"/>\n       <use x=\"279.833984\" xlink:href=\"#DejaVuSans-99\"/>\n       <use x=\"334.814453\" xlink:href=\"#DejaVuSans-105\"/>\n       <use x=\"362.597656\" xlink:href=\"#DejaVuSans-111\"/>\n       <use x=\"423.779297\" xlink:href=\"#DejaVuSans-32\"/>\n       <use x=\"455.566406\" xlink:href=\"#DejaVuSans-65\"/>\n       <use x=\"523.974609\" xlink:href=\"#DejaVuSans-108\"/>\n       <use x=\"551.757812\" xlink:href=\"#DejaVuSans-118\"/>\n       <use x=\"610.9375\" xlink:href=\"#DejaVuSans-97\"/>\n       <use x=\"672.216797\" xlink:href=\"#DejaVuSans-114\"/>\n       <use x=\"711.080078\" xlink:href=\"#DejaVuSans-101\"/>\n       <use x=\"772.603516\" xlink:href=\"#DejaVuSans-122\"/>\n      </g>\n     </g>\n    </g>\n    <g id=\"xtick_10\">\n     <g id=\"line2d_10\">\n      <g>\n       <use style=\"stroke:#000000;stroke-width:0.8;\" x=\"289.470094\" xlink:href=\"#m78946b8f29\" y=\"314.6\"/>\n      </g>\n     </g>\n     <g id=\"text_10\">\n      <!-- Ximena Ricardo Oviedo -->\n      <g transform=\"translate(292.229469 438.889062)rotate(-90)scale(0.1 -0.1)\">\n       <defs>\n        <path d=\"M 6.296875 72.90625 \nL 16.890625 72.90625 \nL 35.015625 45.796875 \nL 53.21875 72.90625 \nL 63.8125 72.90625 \nL 40.375 37.890625 \nL 65.375 0 \nL 54.78125 0 \nL 34.28125 31 \nL 13.625 0 \nL 2.984375 0 \nL 29 38.921875 \nz\n\" id=\"DejaVuSans-88\"/>\n        <path d=\"M 52 44.1875 \nQ 55.375 50.25 60.0625 53.125 \nQ 64.75 56 71.09375 56 \nQ 79.640625 56 84.28125 50.015625 \nQ 88.921875 44.046875 88.921875 33.015625 \nL 88.921875 0 \nL 79.890625 0 \nL 79.890625 32.71875 \nQ 79.890625 40.578125 77.09375 44.375 \nQ 74.3125 48.1875 68.609375 48.1875 \nQ 61.625 48.1875 57.5625 43.546875 \nQ 53.515625 38.921875 53.515625 30.90625 \nL 53.515625 0 \nL 44.484375 0 \nL 44.484375 32.71875 \nQ 44.484375 40.625 41.703125 44.40625 \nQ 38.921875 48.1875 33.109375 48.1875 \nQ 26.21875 48.1875 22.15625 43.53125 \nQ 18.109375 38.875 18.109375 30.90625 \nL 18.109375 0 \nL 9.078125 0 \nL 9.078125 54.6875 \nL 18.109375 54.6875 \nL 18.109375 46.1875 \nQ 21.1875 51.21875 25.484375 53.609375 \nQ 29.78125 56 35.6875 56 \nQ 41.65625 56 45.828125 52.96875 \nQ 50 49.953125 52 44.1875 \nz\n\" id=\"DejaVuSans-109\"/>\n        <path d=\"M 39.40625 66.21875 \nQ 28.65625 66.21875 22.328125 58.203125 \nQ 16.015625 50.203125 16.015625 36.375 \nQ 16.015625 22.609375 22.328125 14.59375 \nQ 28.65625 6.59375 39.40625 6.59375 \nQ 50.140625 6.59375 56.421875 14.59375 \nQ 62.703125 22.609375 62.703125 36.375 \nQ 62.703125 50.203125 56.421875 58.203125 \nQ 50.140625 66.21875 39.40625 66.21875 \nz\nM 39.40625 74.21875 \nQ 54.734375 74.21875 63.90625 63.9375 \nQ 73.09375 53.65625 73.09375 36.375 \nQ 73.09375 19.140625 63.90625 8.859375 \nQ 54.734375 -1.421875 39.40625 -1.421875 \nQ 24.03125 -1.421875 14.8125 8.828125 \nQ 5.609375 19.09375 5.609375 36.375 \nQ 5.609375 53.65625 14.8125 63.9375 \nQ 24.03125 74.21875 39.40625 74.21875 \nz\n\" id=\"DejaVuSans-79\"/>\n       </defs>\n       <use xlink:href=\"#DejaVuSans-88\"/>\n       <use x=\"68.505859\" xlink:href=\"#DejaVuSans-105\"/>\n       <use x=\"96.289062\" xlink:href=\"#DejaVuSans-109\"/>\n       <use x=\"193.701172\" xlink:href=\"#DejaVuSans-101\"/>\n       <use x=\"255.224609\" xlink:href=\"#DejaVuSans-110\"/>\n       <use x=\"318.603516\" xlink:href=\"#DejaVuSans-97\"/>\n       <use x=\"379.882812\" xlink:href=\"#DejaVuSans-32\"/>\n       <use x=\"411.669922\" xlink:href=\"#DejaVuSans-82\"/>\n       <use x=\"481.152344\" xlink:href=\"#DejaVuSans-105\"/>\n       <use x=\"508.935547\" xlink:href=\"#DejaVuSans-99\"/>\n       <use x=\"563.916016\" xlink:href=\"#DejaVuSans-97\"/>\n       <use x=\"625.195312\" xlink:href=\"#DejaVuSans-114\"/>\n       <use x=\"664.558594\" xlink:href=\"#DejaVuSans-100\"/>\n       <use x=\"728.035156\" xlink:href=\"#DejaVuSans-111\"/>\n       <use x=\"789.216797\" xlink:href=\"#DejaVuSans-32\"/>\n       <use x=\"821.003906\" xlink:href=\"#DejaVuSans-79\"/>\n       <use x=\"899.714844\" xlink:href=\"#DejaVuSans-118\"/>\n       <use x=\"958.894531\" xlink:href=\"#DejaVuSans-105\"/>\n       <use x=\"986.677734\" xlink:href=\"#DejaVuSans-101\"/>\n       <use x=\"1048.201172\" xlink:href=\"#DejaVuSans-100\"/>\n       <use x=\"1111.677734\" xlink:href=\"#DejaVuSans-111\"/>\n      </g>\n     </g>\n    </g>\n    <g id=\"text_11\">\n     <!-- index -->\n     <g transform=\"translate(166.946719 504.425)scale(0.1 -0.1)\">\n      <defs>\n       <path d=\"M 54.890625 54.6875 \nL 35.109375 28.078125 \nL 55.90625 0 \nL 45.3125 0 \nL 29.390625 21.484375 \nL 13.484375 0 \nL 2.875 0 \nL 24.125 28.609375 \nL 4.6875 54.6875 \nL 15.28125 54.6875 \nL 29.78125 35.203125 \nL 44.28125 54.6875 \nz\n\" id=\"DejaVuSans-120\"/>\n      </defs>\n      <use xlink:href=\"#DejaVuSans-105\"/>\n      <use x=\"27.783203\" xlink:href=\"#DejaVuSans-110\"/>\n      <use x=\"91.162109\" xlink:href=\"#DejaVuSans-100\"/>\n      <use x=\"154.638672\" xlink:href=\"#DejaVuSans-101\"/>\n      <use x=\"214.412109\" xlink:href=\"#DejaVuSans-120\"/>\n     </g>\n    </g>\n   </g>\n   <g id=\"matplotlib.axis_2\">\n    <g id=\"ytick_1\">\n     <g id=\"line2d_11\">\n      <defs>\n       <path d=\"M 0 0 \nL -3.5 0 \n\" id=\"m21ec9d6371\" style=\"stroke:#000000;stroke-width:0.8;\"/>\n      </defs>\n      <g>\n       <use style=\"stroke:#000000;stroke-width:0.8;\" x=\"59.690625\" xlink:href=\"#m21ec9d6371\" y=\"250.683827\"/>\n      </g>\n     </g>\n     <g id=\"text_12\">\n      <!-- 5000 -->\n      <g transform=\"translate(27.240625 254.483046)scale(0.1 -0.1)\">\n       <defs>\n        <path d=\"M 10.796875 72.90625 \nL 49.515625 72.90625 \nL 49.515625 64.59375 \nL 19.828125 64.59375 \nL 19.828125 46.734375 \nQ 21.96875 47.46875 24.109375 47.828125 \nQ 26.265625 48.1875 28.421875 48.1875 \nQ 40.625 48.1875 47.75 41.5 \nQ 54.890625 34.8125 54.890625 23.390625 \nQ 54.890625 11.625 47.5625 5.09375 \nQ 40.234375 -1.421875 26.90625 -1.421875 \nQ 22.3125 -1.421875 17.546875 -0.640625 \nQ 12.796875 0.140625 7.71875 1.703125 \nL 7.71875 11.625 \nQ 12.109375 9.234375 16.796875 8.0625 \nQ 21.484375 6.890625 26.703125 6.890625 \nQ 35.15625 6.890625 40.078125 11.328125 \nQ 45.015625 15.765625 45.015625 23.390625 \nQ 45.015625 31 40.078125 35.4375 \nQ 35.15625 39.890625 26.703125 39.890625 \nQ 22.75 39.890625 18.8125 39.015625 \nQ 14.890625 38.140625 10.796875 36.28125 \nz\n\" id=\"DejaVuSans-53\"/>\n        <path d=\"M 31.78125 66.40625 \nQ 24.171875 66.40625 20.328125 58.90625 \nQ 16.5 51.421875 16.5 36.375 \nQ 16.5 21.390625 20.328125 13.890625 \nQ 24.171875 6.390625 31.78125 6.390625 \nQ 39.453125 6.390625 43.28125 13.890625 \nQ 47.125 21.390625 47.125 36.375 \nQ 47.125 51.421875 43.28125 58.90625 \nQ 39.453125 66.40625 31.78125 66.40625 \nz\nM 31.78125 74.21875 \nQ 44.046875 74.21875 50.515625 64.515625 \nQ 56.984375 54.828125 56.984375 36.375 \nQ 56.984375 17.96875 50.515625 8.265625 \nQ 44.046875 -1.421875 31.78125 -1.421875 \nQ 19.53125 -1.421875 13.0625 8.265625 \nQ 6.59375 17.96875 6.59375 36.375 \nQ 6.59375 54.828125 13.0625 64.515625 \nQ 19.53125 74.21875 31.78125 74.21875 \nz\n\" id=\"DejaVuSans-48\"/>\n       </defs>\n       <use xlink:href=\"#DejaVuSans-53\"/>\n       <use x=\"63.623047\" xlink:href=\"#DejaVuSans-48\"/>\n       <use x=\"127.246094\" xlink:href=\"#DejaVuSans-48\"/>\n       <use x=\"190.869141\" xlink:href=\"#DejaVuSans-48\"/>\n      </g>\n     </g>\n    </g>\n    <g id=\"ytick_2\">\n     <g id=\"line2d_12\">\n      <g>\n       <use style=\"stroke:#000000;stroke-width:0.8;\" x=\"59.690625\" xlink:href=\"#m21ec9d6371\" y=\"184.95147\"/>\n      </g>\n     </g>\n     <g id=\"text_13\">\n      <!-- 10000 -->\n      <g transform=\"translate(20.878125 188.750688)scale(0.1 -0.1)\">\n       <defs>\n        <path d=\"M 12.40625 8.296875 \nL 28.515625 8.296875 \nL 28.515625 63.921875 \nL 10.984375 60.40625 \nL 10.984375 69.390625 \nL 28.421875 72.90625 \nL 38.28125 72.90625 \nL 38.28125 8.296875 \nL 54.390625 8.296875 \nL 54.390625 0 \nL 12.40625 0 \nz\n\" id=\"DejaVuSans-49\"/>\n       </defs>\n       <use xlink:href=\"#DejaVuSans-49\"/>\n       <use x=\"63.623047\" xlink:href=\"#DejaVuSans-48\"/>\n       <use x=\"127.246094\" xlink:href=\"#DejaVuSans-48\"/>\n       <use x=\"190.869141\" xlink:href=\"#DejaVuSans-48\"/>\n       <use x=\"254.492188\" xlink:href=\"#DejaVuSans-48\"/>\n      </g>\n     </g>\n    </g>\n    <g id=\"ytick_3\">\n     <g id=\"line2d_13\">\n      <g>\n       <use style=\"stroke:#000000;stroke-width:0.8;\" x=\"59.690625\" xlink:href=\"#m21ec9d6371\" y=\"119.219112\"/>\n      </g>\n     </g>\n     <g id=\"text_14\">\n      <!-- 15000 -->\n      <g transform=\"translate(20.878125 123.018331)scale(0.1 -0.1)\">\n       <use xlink:href=\"#DejaVuSans-49\"/>\n       <use x=\"63.623047\" xlink:href=\"#DejaVuSans-53\"/>\n       <use x=\"127.246094\" xlink:href=\"#DejaVuSans-48\"/>\n       <use x=\"190.869141\" xlink:href=\"#DejaVuSans-48\"/>\n       <use x=\"254.492188\" xlink:href=\"#DejaVuSans-48\"/>\n      </g>\n     </g>\n    </g>\n    <g id=\"ytick_4\">\n     <g id=\"line2d_14\">\n      <g>\n       <use style=\"stroke:#000000;stroke-width:0.8;\" x=\"59.690625\" xlink:href=\"#m21ec9d6371\" y=\"53.486754\"/>\n      </g>\n     </g>\n     <g id=\"text_15\">\n      <!-- 20000 -->\n      <g transform=\"translate(20.878125 57.285973)scale(0.1 -0.1)\">\n       <defs>\n        <path d=\"M 19.1875 8.296875 \nL 53.609375 8.296875 \nL 53.609375 0 \nL 7.328125 0 \nL 7.328125 8.296875 \nQ 12.9375 14.109375 22.625 23.890625 \nQ 32.328125 33.6875 34.8125 36.53125 \nQ 39.546875 41.84375 41.421875 45.53125 \nQ 43.3125 49.21875 43.3125 52.78125 \nQ 43.3125 58.59375 39.234375 62.25 \nQ 35.15625 65.921875 28.609375 65.921875 \nQ 23.96875 65.921875 18.8125 64.3125 \nQ 13.671875 62.703125 7.8125 59.421875 \nL 7.8125 69.390625 \nQ 13.765625 71.78125 18.9375 73 \nQ 24.125 74.21875 28.421875 74.21875 \nQ 39.75 74.21875 46.484375 68.546875 \nQ 53.21875 62.890625 53.21875 53.421875 \nQ 53.21875 48.921875 51.53125 44.890625 \nQ 49.859375 40.875 45.40625 35.40625 \nQ 44.1875 33.984375 37.640625 27.21875 \nQ 31.109375 20.453125 19.1875 8.296875 \nz\n\" id=\"DejaVuSans-50\"/>\n       </defs>\n       <use xlink:href=\"#DejaVuSans-50\"/>\n       <use x=\"63.623047\" xlink:href=\"#DejaVuSans-48\"/>\n       <use x=\"127.246094\" xlink:href=\"#DejaVuSans-48\"/>\n       <use x=\"190.869141\" xlink:href=\"#DejaVuSans-48\"/>\n       <use x=\"254.492188\" xlink:href=\"#DejaVuSans-48\"/>\n      </g>\n     </g>\n    </g>\n    <g id=\"text_16\">\n     <!-- count -->\n     <g transform=\"translate(14.798438 175.00625)rotate(-90)scale(0.1 -0.1)\">\n      <use xlink:href=\"#DejaVuSans-99\"/>\n      <use x=\"54.980469\" xlink:href=\"#DejaVuSans-111\"/>\n      <use x=\"116.162109\" xlink:href=\"#DejaVuSans-117\"/>\n      <use x=\"179.541016\" xlink:href=\"#DejaVuSans-110\"/>\n      <use x=\"242.919922\" xlink:href=\"#DejaVuSans-116\"/>\n     </g>\n    </g>\n   </g>\n   <g id=\"patch_3\">\n    <path d=\"M 59.690625 314.6 \nL 59.690625 7.2 \n\" style=\"fill:none;stroke:#000000;stroke-linecap:square;stroke-linejoin:miter;stroke-width:0.8;\"/>\n   </g>\n   <g id=\"patch_4\">\n    <path d=\"M 59.690625 314.6 \nL 301.56375 314.6 \n\" style=\"fill:none;stroke:#000000;stroke-linecap:square;stroke-linejoin:miter;stroke-width:0.8;\"/>\n   </g>\n   <g id=\"PathCollection_1\">\n    <defs>\n     <path d=\"M 0 2.5 \nC 0.663008 2.5 1.29895 2.236584 1.767767 1.767767 \nC 2.236584 1.29895 2.5 0.663008 2.5 0 \nC 2.5 -0.663008 2.236584 -1.29895 1.767767 -1.767767 \nC 1.29895 -2.236584 0.663008 -2.5 0 -2.5 \nC -0.663008 -2.5 -1.29895 -2.236584 -1.767767 -1.767767 \nC -2.236584 -1.29895 -2.5 -0.663008 -2.5 0 \nC -2.5 0.663008 -2.236584 1.29895 -1.767767 1.767767 \nC -1.29895 2.236584 -0.663008 2.5 0 2.5 \nz\n\" id=\"m5c86d78eae\"/>\n    </defs>\n    <g clip-path=\"url(#pf2f2fe5b56)\">\n     <use style=\"fill:#1f77b4;\" x=\"73.269645\" xlink:href=\"#m5c86d78eae\" y=\"21.172727\"/>\n    </g>\n   </g>\n   <g id=\"PathCollection_2\">\n    <defs>\n     <path d=\"M 0 2.5 \nC 0.663008 2.5 1.29895 2.236584 1.767767 1.767767 \nC 2.236584 1.29895 2.5 0.663008 2.5 0 \nC 2.5 -0.663008 2.236584 -1.29895 1.767767 -1.767767 \nC 1.29895 -2.236584 0.663008 -2.5 0 -2.5 \nC -0.663008 -2.5 -1.29895 -2.236584 -1.767767 -1.767767 \nC -2.236584 -1.29895 -2.5 -0.663008 -2.5 0 \nC -2.5 0.663008 -2.236584 1.29895 -1.767767 1.767767 \nC -1.29895 2.236584 -0.663008 2.5 0 2.5 \nz\n\" id=\"m3aa390cb31\"/>\n    </defs>\n    <g clip-path=\"url(#pf2f2fe5b56)\">\n     <use style=\"fill:#ff7f0e;\" x=\"97.699941\" xlink:href=\"#m3aa390cb31\" y=\"228.111336\"/>\n    </g>\n   </g>\n   <g id=\"PathCollection_3\">\n    <defs>\n     <path d=\"M 0 2.5 \nC 0.663008 2.5 1.29895 2.236584 1.767767 1.767767 \nC 2.236584 1.29895 2.5 0.663008 2.5 0 \nC 2.5 -0.663008 2.236584 -1.29895 1.767767 -1.767767 \nC 1.29895 -2.236584 0.663008 -2.5 0 -2.5 \nC -0.663008 -2.5 -1.29895 -2.236584 -1.767767 -1.767767 \nC -2.236584 -1.29895 -2.5 -0.663008 -2.5 0 \nC -2.5 0.663008 -2.236584 1.29895 -1.767767 1.767767 \nC -1.29895 2.236584 -0.663008 2.5 0 2.5 \nz\n\" id=\"mcad2096ab3\"/>\n    </defs>\n    <g clip-path=\"url(#pf2f2fe5b56)\">\n     <use style=\"fill:#2ca02c;\" x=\"121.217059\" xlink:href=\"#mcad2096ab3\" y=\"235.02638\"/>\n    </g>\n   </g>\n   <g id=\"PathCollection_4\">\n    <defs>\n     <path d=\"M 0 2.5 \nC 0.663008 2.5 1.29895 2.236584 1.767767 1.767767 \nC 2.236584 1.29895 2.5 0.663008 2.5 0 \nC 2.5 -0.663008 2.236584 -1.29895 1.767767 -1.767767 \nC 1.29895 -2.236584 0.663008 -2.5 0 -2.5 \nC -0.663008 -2.5 -1.29895 -2.236584 -1.767767 -1.767767 \nC -2.236584 -1.29895 -2.5 -0.663008 -2.5 0 \nC -2.5 0.663008 -2.236584 1.29895 -1.767767 1.767767 \nC -1.29895 2.236584 -0.663008 2.5 0 2.5 \nz\n\" id=\"m8061b1ae21\"/>\n    </defs>\n    <g clip-path=\"url(#pf2f2fe5b56)\">\n     <use style=\"fill:#d62728;\" x=\"142.645042\" xlink:href=\"#m8061b1ae21\" y=\"237.195548\"/>\n    </g>\n   </g>\n   <g id=\"PathCollection_5\">\n    <defs>\n     <path d=\"M 0 2.5 \nC 0.663008 2.5 1.29895 2.236584 1.767767 1.767767 \nC 2.236584 1.29895 2.5 0.663008 2.5 0 \nC 2.5 -0.663008 2.236584 -1.29895 1.767767 -1.767767 \nC 1.29895 -2.236584 0.663008 -2.5 0 -2.5 \nC -0.663008 -2.5 -1.29895 -2.236584 -1.767767 -1.767767 \nC -2.236584 -1.29895 -2.5 -0.663008 -2.5 0 \nC -2.5 0.663008 -2.236584 1.29895 -1.767767 1.767767 \nC -1.29895 2.236584 -0.663008 2.5 0 2.5 \nz\n\" id=\"me374396494\"/>\n    </defs>\n    <g clip-path=\"url(#pf2f2fe5b56)\">\n     <use style=\"fill:#9467bd;\" x=\"170.454561\" xlink:href=\"#me374396494\" y=\"239.811695\"/>\n    </g>\n   </g>\n   <g id=\"PathCollection_6\">\n    <defs>\n     <path d=\"M 0 2.5 \nC 0.663008 2.5 1.29895 2.236584 1.767767 1.767767 \nC 2.236584 1.29895 2.5 0.663008 2.5 0 \nC 2.5 -0.663008 2.236584 -1.29895 1.767767 -1.767767 \nC 1.29895 -2.236584 0.663008 -2.5 0 -2.5 \nC -0.663008 -2.5 -1.29895 -2.236584 -1.767767 -1.767767 \nC -2.236584 -1.29895 -2.5 -0.663008 -2.5 0 \nC -2.5 0.663008 -2.236584 1.29895 -1.767767 1.767767 \nC -1.29895 2.236584 -0.663008 2.5 0 2.5 \nz\n\" id=\"m48f2dc1b57\"/>\n    </defs>\n    <g clip-path=\"url(#pf2f2fe5b56)\">\n     <use style=\"fill:#8c564b;\" x=\"192.25233\" xlink:href=\"#m48f2dc1b57\" y=\"246.6873\"/>\n    </g>\n   </g>\n   <g id=\"PathCollection_7\">\n    <defs>\n     <path d=\"M 0 2.5 \nC 0.663008 2.5 1.29895 2.236584 1.767767 1.767767 \nC 2.236584 1.29895 2.5 0.663008 2.5 0 \nC 2.5 -0.663008 2.236584 -1.29895 1.767767 -1.767767 \nC 1.29895 -2.236584 0.663008 -2.5 0 -2.5 \nC -0.663008 -2.5 -1.29895 -2.236584 -1.767767 -1.767767 \nC -2.236584 -1.29895 -2.5 -0.663008 -2.5 0 \nC -2.5 0.663008 -2.236584 1.29895 -1.767767 1.767767 \nC -1.29895 2.236584 -0.663008 2.5 0 2.5 \nz\n\" id=\"mccd7691d6d\"/>\n    </defs>\n    <g clip-path=\"url(#pf2f2fe5b56)\">\n     <use style=\"fill:#e377c2;\" x=\"214.938429\" xlink:href=\"#mccd7691d6d\" y=\"254.838112\"/>\n    </g>\n   </g>\n   <g id=\"PathCollection_8\">\n    <defs>\n     <path d=\"M 0 2.5 \nC 0.663008 2.5 1.29895 2.236584 1.767767 1.767767 \nC 2.236584 1.29895 2.5 0.663008 2.5 0 \nC 2.5 -0.663008 2.236584 -1.29895 1.767767 -1.767767 \nC 1.29895 -2.236584 0.663008 -2.5 0 -2.5 \nC -0.663008 -2.5 -1.29895 -2.236584 -1.767767 -1.767767 \nC -2.236584 -1.29895 -2.5 -0.663008 -2.5 0 \nC -2.5 0.663008 -2.236584 1.29895 -1.767767 1.767767 \nC -1.29895 2.236584 -0.663008 2.5 0 2.5 \nz\n\" id=\"m47f30e80ec\"/>\n    </defs>\n    <g clip-path=\"url(#pf2f2fe5b56)\">\n     <use style=\"fill:#7f7f7f;\" x=\"241.314194\" xlink:href=\"#m47f30e80ec\" y=\"265.710244\"/>\n    </g>\n   </g>\n   <g id=\"PathCollection_9\">\n    <defs>\n     <path d=\"M 0 2.5 \nC 0.663008 2.5 1.29895 2.236584 1.767767 1.767767 \nC 2.236584 1.29895 2.5 0.663008 2.5 0 \nC 2.5 -0.663008 2.236584 -1.29895 1.767767 -1.767767 \nC 1.29895 -2.236584 0.663008 -2.5 0 -2.5 \nC -0.663008 -2.5 -1.29895 -2.236584 -1.767767 -1.767767 \nC -2.236584 -1.29895 -2.5 -0.663008 -2.5 0 \nC -2.5 0.663008 -2.236584 1.29895 -1.767767 1.767767 \nC -1.29895 2.236584 -0.663008 2.5 0 2.5 \nz\n\" id=\"m8b49cbb828\"/>\n    </defs>\n    <g clip-path=\"url(#pf2f2fe5b56)\">\n     <use style=\"fill:#bcbd22;\" x=\"267.536478\" xlink:href=\"#m8b49cbb828\" y=\"290.820005\"/>\n    </g>\n   </g>\n   <g id=\"PathCollection_10\">\n    <defs>\n     <path d=\"M 0 2.5 \nC 0.663008 2.5 1.29895 2.236584 1.767767 1.767767 \nC 2.236584 1.29895 2.5 0.663008 2.5 0 \nC 2.5 -0.663008 2.236584 -1.29895 1.767767 -1.767767 \nC 1.29895 -2.236584 0.663008 -2.5 0 -2.5 \nC -0.663008 -2.5 -1.29895 -2.236584 -1.767767 -1.767767 \nC -2.236584 -1.29895 -2.5 -0.663008 -2.5 0 \nC -2.5 0.663008 -2.236584 1.29895 -1.767767 1.767767 \nC -1.29895 2.236584 -0.663008 2.5 0 2.5 \nz\n\" id=\"m2e562eac1c\"/>\n    </defs>\n    <g clip-path=\"url(#pf2f2fe5b56)\">\n     <use style=\"fill:#17becf;\" x=\"290.068765\" xlink:href=\"#m2e562eac1c\" y=\"300.627273\"/>\n    </g>\n   </g>\n  </g>\n </g>\n <defs>\n  <clipPath id=\"pf2f2fe5b56\">\n   <rect height=\"307.4\" width=\"241.873125\" x=\"59.690625\" y=\"7.2\"/>\n  </clipPath>\n </defs>\n</svg>\n",
      "image/png": "[encoded data removed]"
     },
     "metadata": {
      "needs_background": "light"
     }
    }
   ],
   "source": [
    "plt.figure(figsize=(8,8))\n",
    "sns.catplot(x=\"index\", y=\"nombre_picker_frio\", data=df.nombre_picker_frio.value_counts().to_frame().reset_index().head(10))\n",
    "plt.ylabel('count')\n",
    "plt.xticks(rotation=90)\n",
    "plt.show()"
   ]
  },
  {
   "cell_type": "code",
   "execution_count": 80,
   "metadata": {},
   "outputs": [
    {
     "output_type": "execute_result",
     "data": {
      "text/plain": "                       nombre_picker_seco\nJavier Gamez                         3057\njose sebastian rativa                2779\n\\N                                   2693\nMateo Pardo                          2641\nyorman ferreira                      2576\n...                                   ...\nsantiago boada                          1\nEXTRA karen martinez                    1\nEXTR  paola mateus                      1\nalexander espejo                        1\nsandra rodriguez                        1\n\n[215 rows x 1 columns]",
      "text/html": "<div>\n<style scoped>\n    .dataframe tbody tr th:only-of-type {\n        vertical-align: middle;\n    }\n\n    .dataframe tbody tr th {\n        vertical-align: top;\n    }\n\n    .dataframe thead th {\n        text-align: right;\n    }\n</style>\n<table border=\"1\" class=\"dataframe\">\n  <thead>\n    <tr style=\"text-align: right;\">\n      <th></th>\n      <th>nombre_picker_seco</th>\n    </tr>\n  </thead>\n  <tbody>\n    <tr>\n      <th>Javier Gamez</th>\n      <td>3057</td>\n    </tr>\n    <tr>\n      <th>jose sebastian rativa</th>\n      <td>2779</td>\n    </tr>\n    <tr>\n      <th>\\N</th>\n      <td>2693</td>\n    </tr>\n    <tr>\n      <th>Mateo Pardo</th>\n      <td>2641</td>\n    </tr>\n    <tr>\n      <th>yorman ferreira</th>\n      <td>2576</td>\n    </tr>\n    <tr>\n      <th>...</th>\n      <td>...</td>\n    </tr>\n    <tr>\n      <th>santiago boada</th>\n      <td>1</td>\n    </tr>\n    <tr>\n      <th>EXTRA karen martinez</th>\n      <td>1</td>\n    </tr>\n    <tr>\n      <th>EXTR  paola mateus</th>\n      <td>1</td>\n    </tr>\n    <tr>\n      <th>alexander espejo</th>\n      <td>1</td>\n    </tr>\n    <tr>\n      <th>sandra rodriguez</th>\n      <td>1</td>\n    </tr>\n  </tbody>\n</table>\n<p>215 rows × 1 columns</p>\n</div>"
     },
     "metadata": {},
     "execution_count": 80
    }
   ],
   "source": [
    "df.nombre_picker_seco.value_counts().to_frame()"
   ]
  },
  {
   "source": [
    "Doing a describe for the Unidades features, as we must have multiple of them"
   ],
   "cell_type": "markdown",
   "metadata": {}
  },
  {
   "cell_type": "code",
   "execution_count": 81,
   "metadata": {},
   "outputs": [
    {
     "output_type": "execute_result",
     "data": {
      "text/plain": "           Unidades  UnidadesDisponibles  UnidadesNoDisponibles\ncount  70181.000000         70181.000000           70181.000000\nmean      19.076830            16.488836               0.582807\nstd       18.587636            17.582149               1.597893\nmin        1.000000             0.000000               0.000000\n25%        7.000000             5.000000               0.000000\n50%       12.000000            10.000000               0.000000\n75%       26.000000            23.000000               0.000000\nmax      488.000000           268.000000              70.000000",
      "text/html": "<div>\n<style scoped>\n    .dataframe tbody tr th:only-of-type {\n        vertical-align: middle;\n    }\n\n    .dataframe tbody tr th {\n        vertical-align: top;\n    }\n\n    .dataframe thead th {\n        text-align: right;\n    }\n</style>\n<table border=\"1\" class=\"dataframe\">\n  <thead>\n    <tr style=\"text-align: right;\">\n      <th></th>\n      <th>Unidades</th>\n      <th>UnidadesDisponibles</th>\n      <th>UnidadesNoDisponibles</th>\n    </tr>\n  </thead>\n  <tbody>\n    <tr>\n      <th>count</th>\n      <td>70181.000000</td>\n      <td>70181.000000</td>\n      <td>70181.000000</td>\n    </tr>\n    <tr>\n      <th>mean</th>\n      <td>19.076830</td>\n      <td>16.488836</td>\n      <td>0.582807</td>\n    </tr>\n    <tr>\n      <th>std</th>\n      <td>18.587636</td>\n      <td>17.582149</td>\n      <td>1.597893</td>\n    </tr>\n    <tr>\n      <th>min</th>\n      <td>1.000000</td>\n      <td>0.000000</td>\n      <td>0.000000</td>\n    </tr>\n    <tr>\n      <th>25%</th>\n      <td>7.000000</td>\n      <td>5.000000</td>\n      <td>0.000000</td>\n    </tr>\n    <tr>\n      <th>50%</th>\n      <td>12.000000</td>\n      <td>10.000000</td>\n      <td>0.000000</td>\n    </tr>\n    <tr>\n      <th>75%</th>\n      <td>26.000000</td>\n      <td>23.000000</td>\n      <td>0.000000</td>\n    </tr>\n    <tr>\n      <th>max</th>\n      <td>488.000000</td>\n      <td>268.000000</td>\n      <td>70.000000</td>\n    </tr>\n  </tbody>\n</table>\n</div>"
     },
     "metadata": {},
     "execution_count": 81
    }
   ],
   "source": [
    " df[['Unidades', 'UnidadesDisponibles','UnidadesNoDisponibles']].describe()"
   ]
  },
  {
   "cell_type": "code",
   "execution_count": 82,
   "metadata": {},
   "outputs": [
    {
     "output_type": "display_data",
     "data": {
      "text/plain": "<Figure size 432x288 with 1 Axes>",
      "image/svg+xml": "<?xml version=\"1.0\" encoding=\"utf-8\" standalone=\"no\"?>\n<!DOCTYPE svg PUBLIC \"-//W3C//DTD SVG 1.1//EN\"\n  \"http://www.w3.org/Graphics/SVG/1.1/DTD/svg11.dtd\">\n<!-- Created with matplotlib (https://matplotlib.org/) -->\n<svg height=\"248.518125pt\" version=\"1.1\" viewBox=\"0 0 389.82242 248.518125\" width=\"389.82242pt\" xmlns=\"http://www.w3.org/2000/svg\" xmlns:xlink=\"http://www.w3.org/1999/xlink\">\n <metadata>\n  <rdf:RDF xmlns:cc=\"http://creativecommons.org/ns#\" xmlns:dc=\"http://purl.org/dc/elements/1.1/\" xmlns:rdf=\"http://www.w3.org/1999/02/22-rdf-syntax-ns#\">\n   <cc:Work>\n    <dc:type rdf:resource=\"http://purl.org/dc/dcmitype/StillImage\"/>\n    <dc:date>2020-09-14T12:30:47.937055</dc:date>\n    <dc:format>image/svg+xml</dc:format>\n    <dc:creator>\n     <cc:Agent>\n      <dc:title>Matplotlib v3.3.1, https://matplotlib.org/</dc:title>\n     </cc:Agent>\n    </dc:creator>\n   </cc:Work>\n  </rdf:RDF>\n </metadata>\n <defs>\n  <style type=\"text/css\">*{stroke-linecap:butt;stroke-linejoin:round;}</style>\n </defs>\n <g id=\"figure_1\">\n  <g id=\"patch_1\">\n   <path d=\"M 0 248.518125 \nL 389.82242 248.518125 \nL 389.82242 0 \nL 0 0 \nz\n\" style=\"fill:none;\"/>\n  </g>\n  <g id=\"axes_1\">\n   <g id=\"patch_2\">\n    <path d=\"M 46.0125 224.64 \nL 380.8125 224.64 \nL 380.8125 7.2 \nL 46.0125 7.2 \nz\n\" style=\"fill:#ffffff;\"/>\n   </g>\n   <g id=\"patch_3\">\n    <path clip-path=\"url(#p0e4ffa8a8a)\" d=\"M 61.854378 224.64 \nL 92.228372 224.64 \nL 92.228372 28.776637 \nL 61.854378 28.776637 \nz\n\" style=\"fill:#1f77b4;\"/>\n   </g>\n   <g id=\"patch_4\">\n    <path clip-path=\"url(#p0e4ffa8a8a)\" d=\"M 92.228372 224.64 \nL 122.602366 224.64 \nL 122.602366 211.823854 \nL 92.228372 211.823854 \nz\n\" style=\"fill:#1f77b4;\"/>\n   </g>\n   <g id=\"patch_5\">\n    <path clip-path=\"url(#p0e4ffa8a8a)\" d=\"M 122.602366 224.64 \nL 152.97636 224.64 \nL 152.97636 223.61734 \nL 122.602366 223.61734 \nz\n\" style=\"fill:#1f77b4;\"/>\n   </g>\n   <g id=\"patch_6\">\n    <path clip-path=\"url(#p0e4ffa8a8a)\" d=\"M 152.97636 224.64 \nL 183.350354 224.64 \nL 183.350354 224.526371 \nL 152.97636 224.526371 \nz\n\" style=\"fill:#1f77b4;\"/>\n   </g>\n   <g id=\"patch_7\">\n    <path clip-path=\"url(#p0e4ffa8a8a)\" d=\"M 183.350354 224.64 \nL 213.724348 224.64 \nL 213.724348 224.613088 \nL 183.350354 224.613088 \nz\n\" style=\"fill:#1f77b4;\"/>\n   </g>\n   <g id=\"patch_8\">\n    <path clip-path=\"url(#p0e4ffa8a8a)\" d=\"M 213.724348 224.64 \nL 244.098342 224.64 \nL 244.098342 224.63701 \nL 213.724348 224.63701 \nz\n\" style=\"fill:#1f77b4;\"/>\n   </g>\n   <g id=\"patch_9\">\n    <path clip-path=\"url(#p0e4ffa8a8a)\" d=\"M 244.098342 224.64 \nL 274.472336 224.64 \nL 274.472336 224.63701 \nL 244.098342 224.63701 \nz\n\" style=\"fill:#1f77b4;\"/>\n   </g>\n   <g id=\"patch_10\">\n    <path clip-path=\"url(#p0e4ffa8a8a)\" d=\"M 274.472336 224.64 \nL 304.84633 224.64 \nL 304.84633 224.64 \nL 274.472336 224.64 \nz\n\" style=\"fill:#1f77b4;\"/>\n   </g>\n   <g id=\"patch_11\">\n    <path clip-path=\"url(#p0e4ffa8a8a)\" d=\"M 304.84633 224.64 \nL 335.220324 224.64 \nL 335.220324 224.63701 \nL 304.84633 224.63701 \nz\n\" style=\"fill:#1f77b4;\"/>\n   </g>\n   <g id=\"patch_12\">\n    <path clip-path=\"url(#p0e4ffa8a8a)\" d=\"M 335.220324 224.64 \nL 365.594318 224.64 \nL 365.594318 224.63402 \nL 335.220324 224.63402 \nz\n\" style=\"fill:#1f77b4;\"/>\n   </g>\n   <g id=\"patch_13\">\n    <path clip-path=\"url(#p0e4ffa8a8a)\" d=\"M 61.230682 224.64 \nL 77.945734 224.64 \nL 77.945734 58.894281 \nL 61.230682 58.894281 \nz\n\" style=\"fill:#ff7f0e;\"/>\n   </g>\n   <g id=\"patch_14\">\n    <path clip-path=\"url(#p0e4ffa8a8a)\" d=\"M 77.945734 224.64 \nL 94.660786 224.64 \nL 94.660786 189.394104 \nL 77.945734 189.394104 \nz\n\" style=\"fill:#ff7f0e;\"/>\n   </g>\n   <g id=\"patch_15\">\n    <path clip-path=\"url(#p0e4ffa8a8a)\" d=\"M 94.660786 224.64 \nL 111.375838 224.64 \nL 111.375838 217.780402 \nL 94.660786 217.780402 \nz\n\" style=\"fill:#ff7f0e;\"/>\n   </g>\n   <g id=\"patch_16\">\n    <path clip-path=\"url(#p0e4ffa8a8a)\" d=\"M 111.375838 224.64 \nL 128.09089 224.64 \nL 128.09089 223.198707 \nL 111.375838 223.198707 \nz\n\" style=\"fill:#ff7f0e;\"/>\n   </g>\n   <g id=\"patch_17\">\n    <path clip-path=\"url(#p0e4ffa8a8a)\" d=\"M 128.09089 224.64 \nL 144.805943 224.64 \nL 144.805943 224.245289 \nL 128.09089 224.245289 \nz\n\" style=\"fill:#ff7f0e;\"/>\n   </g>\n   <g id=\"patch_18\">\n    <path clip-path=\"url(#p0e4ffa8a8a)\" d=\"M 144.805943 224.64 \nL 161.520995 224.64 \nL 161.520995 224.532352 \nL 144.805943 224.532352 \nz\n\" style=\"fill:#ff7f0e;\"/>\n   </g>\n   <g id=\"patch_19\">\n    <path clip-path=\"url(#p0e4ffa8a8a)\" d=\"M 161.520995 224.64 \nL 178.236047 224.64 \nL 178.236047 224.604117 \nL 161.520995 224.604117 \nz\n\" style=\"fill:#ff7f0e;\"/>\n   </g>\n   <g id=\"patch_20\">\n    <path clip-path=\"url(#p0e4ffa8a8a)\" d=\"M 178.236047 224.64 \nL 194.951099 224.64 \nL 194.951099 224.616078 \nL 178.236047 224.616078 \nz\n\" style=\"fill:#ff7f0e;\"/>\n   </g>\n   <g id=\"patch_21\">\n    <path clip-path=\"url(#p0e4ffa8a8a)\" d=\"M 194.951099 224.64 \nL 211.666151 224.64 \nL 211.666151 224.64 \nL 194.951099 224.64 \nz\n\" style=\"fill:#ff7f0e;\"/>\n   </g>\n   <g id=\"patch_22\">\n    <path clip-path=\"url(#p0e4ffa8a8a)\" d=\"M 211.666151 224.64 \nL 228.381203 224.64 \nL 228.381203 224.63701 \nL 211.666151 224.63701 \nz\n\" style=\"fill:#ff7f0e;\"/>\n   </g>\n   <g id=\"patch_23\">\n    <path clip-path=\"url(#p0e4ffa8a8a)\" d=\"M 61.230682 224.64 \nL 65.596554 224.64 \nL 65.596554 17.554286 \nL 61.230682 17.554286 \nz\n\" style=\"fill:#2ca02c;\"/>\n   </g>\n   <g id=\"patch_24\">\n    <path clip-path=\"url(#p0e4ffa8a8a)\" d=\"M 65.596554 224.64 \nL 69.962425 224.64 \nL 69.962425 222.208939 \nL 65.596554 222.208939 \nz\n\" style=\"fill:#2ca02c;\"/>\n   </g>\n   <g id=\"patch_25\">\n    <path clip-path=\"url(#p0e4ffa8a8a)\" d=\"M 69.962425 224.64 \nL 74.328297 224.64 \nL 74.328297 224.38583 \nL 69.962425 224.38583 \nz\n\" style=\"fill:#2ca02c;\"/>\n   </g>\n   <g id=\"patch_26\">\n    <path clip-path=\"url(#p0e4ffa8a8a)\" d=\"M 74.328297 224.64 \nL 78.694169 224.64 \nL 78.694169 224.580195 \nL 74.328297 224.580195 \nz\n\" style=\"fill:#2ca02c;\"/>\n   </g>\n   <g id=\"patch_27\">\n    <path clip-path=\"url(#p0e4ffa8a8a)\" d=\"M 78.694169 224.64 \nL 83.060041 224.64 \nL 83.060041 224.619068 \nL 78.694169 224.619068 \nz\n\" style=\"fill:#2ca02c;\"/>\n   </g>\n   <g id=\"patch_28\">\n    <path clip-path=\"url(#p0e4ffa8a8a)\" d=\"M 83.060041 224.64 \nL 87.425913 224.64 \nL 87.425913 224.64 \nL 83.060041 224.64 \nz\n\" style=\"fill:#2ca02c;\"/>\n   </g>\n   <g id=\"patch_29\">\n    <path clip-path=\"url(#p0e4ffa8a8a)\" d=\"M 87.425913 224.64 \nL 91.791785 224.64 \nL 91.791785 224.64 \nL 87.425913 224.64 \nz\n\" style=\"fill:#2ca02c;\"/>\n   </g>\n   <g id=\"patch_30\">\n    <path clip-path=\"url(#p0e4ffa8a8a)\" d=\"M 91.791785 224.64 \nL 96.157656 224.64 \nL 96.157656 224.64 \nL 91.791785 224.64 \nz\n\" style=\"fill:#2ca02c;\"/>\n   </g>\n   <g id=\"patch_31\">\n    <path clip-path=\"url(#p0e4ffa8a8a)\" d=\"M 96.157656 224.64 \nL 100.523528 224.64 \nL 100.523528 224.64 \nL 96.157656 224.64 \nz\n\" style=\"fill:#2ca02c;\"/>\n   </g>\n   <g id=\"patch_32\">\n    <path clip-path=\"url(#p0e4ffa8a8a)\" d=\"M 100.523528 224.64 \nL 104.8894 224.64 \nL 104.8894 224.63402 \nL 100.523528 224.63402 \nz\n\" style=\"fill:#2ca02c;\"/>\n   </g>\n   <g id=\"matplotlib.axis_1\">\n    <g id=\"xtick_1\">\n     <g id=\"line2d_1\">\n      <defs>\n       <path d=\"M 0 0 \nL 0 3.5 \n\" id=\"m331f214a57\" style=\"stroke:#000000;stroke-width:0.8;\"/>\n      </defs>\n      <g>\n       <use style=\"stroke:#000000;stroke-width:0.8;\" x=\"61.230682\" xlink:href=\"#m331f214a57\" y=\"224.64\"/>\n      </g>\n     </g>\n     <g id=\"text_1\">\n      <!-- 0 -->\n      <g transform=\"translate(58.049432 239.238437)scale(0.1 -0.1)\">\n       <defs>\n        <path d=\"M 31.78125 66.40625 \nQ 24.171875 66.40625 20.328125 58.90625 \nQ 16.5 51.421875 16.5 36.375 \nQ 16.5 21.390625 20.328125 13.890625 \nQ 24.171875 6.390625 31.78125 6.390625 \nQ 39.453125 6.390625 43.28125 13.890625 \nQ 47.125 21.390625 47.125 36.375 \nQ 47.125 51.421875 43.28125 58.90625 \nQ 39.453125 66.40625 31.78125 66.40625 \nz\nM 31.78125 74.21875 \nQ 44.046875 74.21875 50.515625 64.515625 \nQ 56.984375 54.828125 56.984375 36.375 \nQ 56.984375 17.96875 50.515625 8.265625 \nQ 44.046875 -1.421875 31.78125 -1.421875 \nQ 19.53125 -1.421875 13.0625 8.265625 \nQ 6.59375 17.96875 6.59375 36.375 \nQ 6.59375 54.828125 13.0625 64.515625 \nQ 19.53125 74.21875 31.78125 74.21875 \nz\n\" id=\"DejaVuSans-48\"/>\n       </defs>\n       <use xlink:href=\"#DejaVuSans-48\"/>\n      </g>\n     </g>\n    </g>\n    <g id=\"xtick_2\">\n     <g id=\"line2d_2\">\n      <g>\n       <use style=\"stroke:#000000;stroke-width:0.8;\" x=\"123.600279\" xlink:href=\"#m331f214a57\" y=\"224.64\"/>\n      </g>\n     </g>\n     <g id=\"text_2\">\n      <!-- 100 -->\n      <g transform=\"translate(114.056529 239.238437)scale(0.1 -0.1)\">\n       <defs>\n        <path d=\"M 12.40625 8.296875 \nL 28.515625 8.296875 \nL 28.515625 63.921875 \nL 10.984375 60.40625 \nL 10.984375 69.390625 \nL 28.421875 72.90625 \nL 38.28125 72.90625 \nL 38.28125 8.296875 \nL 54.390625 8.296875 \nL 54.390625 0 \nL 12.40625 0 \nz\n\" id=\"DejaVuSans-49\"/>\n       </defs>\n       <use xlink:href=\"#DejaVuSans-49\"/>\n       <use x=\"63.623047\" xlink:href=\"#DejaVuSans-48\"/>\n       <use x=\"127.246094\" xlink:href=\"#DejaVuSans-48\"/>\n      </g>\n     </g>\n    </g>\n    <g id=\"xtick_3\">\n     <g id=\"line2d_3\">\n      <g>\n       <use style=\"stroke:#000000;stroke-width:0.8;\" x=\"185.969877\" xlink:href=\"#m331f214a57\" y=\"224.64\"/>\n      </g>\n     </g>\n     <g id=\"text_3\">\n      <!-- 200 -->\n      <g transform=\"translate(176.426127 239.238437)scale(0.1 -0.1)\">\n       <defs>\n        <path d=\"M 19.1875 8.296875 \nL 53.609375 8.296875 \nL 53.609375 0 \nL 7.328125 0 \nL 7.328125 8.296875 \nQ 12.9375 14.109375 22.625 23.890625 \nQ 32.328125 33.6875 34.8125 36.53125 \nQ 39.546875 41.84375 41.421875 45.53125 \nQ 43.3125 49.21875 43.3125 52.78125 \nQ 43.3125 58.59375 39.234375 62.25 \nQ 35.15625 65.921875 28.609375 65.921875 \nQ 23.96875 65.921875 18.8125 64.3125 \nQ 13.671875 62.703125 7.8125 59.421875 \nL 7.8125 69.390625 \nQ 13.765625 71.78125 18.9375 73 \nQ 24.125 74.21875 28.421875 74.21875 \nQ 39.75 74.21875 46.484375 68.546875 \nQ 53.21875 62.890625 53.21875 53.421875 \nQ 53.21875 48.921875 51.53125 44.890625 \nQ 49.859375 40.875 45.40625 35.40625 \nQ 44.1875 33.984375 37.640625 27.21875 \nQ 31.109375 20.453125 19.1875 8.296875 \nz\n\" id=\"DejaVuSans-50\"/>\n       </defs>\n       <use xlink:href=\"#DejaVuSans-50\"/>\n       <use x=\"63.623047\" xlink:href=\"#DejaVuSans-48\"/>\n       <use x=\"127.246094\" xlink:href=\"#DejaVuSans-48\"/>\n      </g>\n     </g>\n    </g>\n    <g id=\"xtick_4\">\n     <g id=\"line2d_4\">\n      <g>\n       <use style=\"stroke:#000000;stroke-width:0.8;\" x=\"248.339475\" xlink:href=\"#m331f214a57\" y=\"224.64\"/>\n      </g>\n     </g>\n     <g id=\"text_4\">\n      <!-- 300 -->\n      <g transform=\"translate(238.795725 239.238437)scale(0.1 -0.1)\">\n       <defs>\n        <path d=\"M 40.578125 39.3125 \nQ 47.65625 37.796875 51.625 33 \nQ 55.609375 28.21875 55.609375 21.1875 \nQ 55.609375 10.40625 48.1875 4.484375 \nQ 40.765625 -1.421875 27.09375 -1.421875 \nQ 22.515625 -1.421875 17.65625 -0.515625 \nQ 12.796875 0.390625 7.625 2.203125 \nL 7.625 11.71875 \nQ 11.71875 9.328125 16.59375 8.109375 \nQ 21.484375 6.890625 26.8125 6.890625 \nQ 36.078125 6.890625 40.9375 10.546875 \nQ 45.796875 14.203125 45.796875 21.1875 \nQ 45.796875 27.640625 41.28125 31.265625 \nQ 36.765625 34.90625 28.71875 34.90625 \nL 20.21875 34.90625 \nL 20.21875 43.015625 \nL 29.109375 43.015625 \nQ 36.375 43.015625 40.234375 45.921875 \nQ 44.09375 48.828125 44.09375 54.296875 \nQ 44.09375 59.90625 40.109375 62.90625 \nQ 36.140625 65.921875 28.71875 65.921875 \nQ 24.65625 65.921875 20.015625 65.03125 \nQ 15.375 64.15625 9.8125 62.3125 \nL 9.8125 71.09375 \nQ 15.4375 72.65625 20.34375 73.4375 \nQ 25.25 74.21875 29.59375 74.21875 \nQ 40.828125 74.21875 47.359375 69.109375 \nQ 53.90625 64.015625 53.90625 55.328125 \nQ 53.90625 49.265625 50.4375 45.09375 \nQ 46.96875 40.921875 40.578125 39.3125 \nz\n\" id=\"DejaVuSans-51\"/>\n       </defs>\n       <use xlink:href=\"#DejaVuSans-51\"/>\n       <use x=\"63.623047\" xlink:href=\"#DejaVuSans-48\"/>\n       <use x=\"127.246094\" xlink:href=\"#DejaVuSans-48\"/>\n      </g>\n     </g>\n    </g>\n    <g id=\"xtick_5\">\n     <g id=\"line2d_5\">\n      <g>\n       <use style=\"stroke:#000000;stroke-width:0.8;\" x=\"310.709072\" xlink:href=\"#m331f214a57\" y=\"224.64\"/>\n      </g>\n     </g>\n     <g id=\"text_5\">\n      <!-- 400 -->\n      <g transform=\"translate(301.165322 239.238437)scale(0.1 -0.1)\">\n       <defs>\n        <path d=\"M 37.796875 64.3125 \nL 12.890625 25.390625 \nL 37.796875 25.390625 \nz\nM 35.203125 72.90625 \nL 47.609375 72.90625 \nL 47.609375 25.390625 \nL 58.015625 25.390625 \nL 58.015625 17.1875 \nL 47.609375 17.1875 \nL 47.609375 0 \nL 37.796875 0 \nL 37.796875 17.1875 \nL 4.890625 17.1875 \nL 4.890625 26.703125 \nz\n\" id=\"DejaVuSans-52\"/>\n       </defs>\n       <use xlink:href=\"#DejaVuSans-52\"/>\n       <use x=\"63.623047\" xlink:href=\"#DejaVuSans-48\"/>\n       <use x=\"127.246094\" xlink:href=\"#DejaVuSans-48\"/>\n      </g>\n     </g>\n    </g>\n    <g id=\"xtick_6\">\n     <g id=\"line2d_6\">\n      <g>\n       <use style=\"stroke:#000000;stroke-width:0.8;\" x=\"373.07867\" xlink:href=\"#m331f214a57\" y=\"224.64\"/>\n      </g>\n     </g>\n     <g id=\"text_6\">\n      <!-- 500 -->\n      <g transform=\"translate(363.53492 239.238437)scale(0.1 -0.1)\">\n       <defs>\n        <path d=\"M 10.796875 72.90625 \nL 49.515625 72.90625 \nL 49.515625 64.59375 \nL 19.828125 64.59375 \nL 19.828125 46.734375 \nQ 21.96875 47.46875 24.109375 47.828125 \nQ 26.265625 48.1875 28.421875 48.1875 \nQ 40.625 48.1875 47.75 41.5 \nQ 54.890625 34.8125 54.890625 23.390625 \nQ 54.890625 11.625 47.5625 5.09375 \nQ 40.234375 -1.421875 26.90625 -1.421875 \nQ 22.3125 -1.421875 17.546875 -0.640625 \nQ 12.796875 0.140625 7.71875 1.703125 \nL 7.71875 11.625 \nQ 12.109375 9.234375 16.796875 8.0625 \nQ 21.484375 6.890625 26.703125 6.890625 \nQ 35.15625 6.890625 40.078125 11.328125 \nQ 45.015625 15.765625 45.015625 23.390625 \nQ 45.015625 31 40.078125 35.4375 \nQ 35.15625 39.890625 26.703125 39.890625 \nQ 22.75 39.890625 18.8125 39.015625 \nQ 14.890625 38.140625 10.796875 36.28125 \nz\n\" id=\"DejaVuSans-53\"/>\n       </defs>\n       <use xlink:href=\"#DejaVuSans-53\"/>\n       <use x=\"63.623047\" xlink:href=\"#DejaVuSans-48\"/>\n       <use x=\"127.246094\" xlink:href=\"#DejaVuSans-48\"/>\n      </g>\n     </g>\n    </g>\n   </g>\n   <g id=\"matplotlib.axis_2\">\n    <g id=\"ytick_1\">\n     <g id=\"line2d_7\">\n      <defs>\n       <path d=\"M 0 0 \nL -3.5 0 \n\" id=\"m09883d343d\" style=\"stroke:#000000;stroke-width:0.8;\"/>\n      </defs>\n      <g>\n       <use style=\"stroke:#000000;stroke-width:0.8;\" x=\"46.0125\" xlink:href=\"#m09883d343d\" y=\"224.64\"/>\n      </g>\n     </g>\n     <g id=\"text_7\">\n      <!-- 0 -->\n      <g transform=\"translate(32.65 228.439219)scale(0.1 -0.1)\">\n       <use xlink:href=\"#DejaVuSans-48\"/>\n      </g>\n     </g>\n    </g>\n    <g id=\"ytick_2\">\n     <g id=\"line2d_8\">\n      <g>\n       <use style=\"stroke:#000000;stroke-width:0.8;\" x=\"46.0125\" xlink:href=\"#m09883d343d\" y=\"194.737653\"/>\n      </g>\n     </g>\n     <g id=\"text_8\">\n      <!-- 10000 -->\n      <g transform=\"translate(7.2 198.536872)scale(0.1 -0.1)\">\n       <use xlink:href=\"#DejaVuSans-49\"/>\n       <use x=\"63.623047\" xlink:href=\"#DejaVuSans-48\"/>\n       <use x=\"127.246094\" xlink:href=\"#DejaVuSans-48\"/>\n       <use x=\"190.869141\" xlink:href=\"#DejaVuSans-48\"/>\n       <use x=\"254.492188\" xlink:href=\"#DejaVuSans-48\"/>\n      </g>\n     </g>\n    </g>\n    <g id=\"ytick_3\">\n     <g id=\"line2d_9\">\n      <g>\n       <use style=\"stroke:#000000;stroke-width:0.8;\" x=\"46.0125\" xlink:href=\"#m09883d343d\" y=\"164.835306\"/>\n      </g>\n     </g>\n     <g id=\"text_9\">\n      <!-- 20000 -->\n      <g transform=\"translate(7.2 168.634525)scale(0.1 -0.1)\">\n       <use xlink:href=\"#DejaVuSans-50\"/>\n       <use x=\"63.623047\" xlink:href=\"#DejaVuSans-48\"/>\n       <use x=\"127.246094\" xlink:href=\"#DejaVuSans-48\"/>\n       <use x=\"190.869141\" xlink:href=\"#DejaVuSans-48\"/>\n       <use x=\"254.492188\" xlink:href=\"#DejaVuSans-48\"/>\n      </g>\n     </g>\n    </g>\n    <g id=\"ytick_4\">\n     <g id=\"line2d_10\">\n      <g>\n       <use style=\"stroke:#000000;stroke-width:0.8;\" x=\"46.0125\" xlink:href=\"#m09883d343d\" y=\"134.932959\"/>\n      </g>\n     </g>\n     <g id=\"text_10\">\n      <!-- 30000 -->\n      <g transform=\"translate(7.2 138.732178)scale(0.1 -0.1)\">\n       <use xlink:href=\"#DejaVuSans-51\"/>\n       <use x=\"63.623047\" xlink:href=\"#DejaVuSans-48\"/>\n       <use x=\"127.246094\" xlink:href=\"#DejaVuSans-48\"/>\n       <use x=\"190.869141\" xlink:href=\"#DejaVuSans-48\"/>\n       <use x=\"254.492188\" xlink:href=\"#DejaVuSans-48\"/>\n      </g>\n     </g>\n    </g>\n    <g id=\"ytick_5\">\n     <g id=\"line2d_11\">\n      <g>\n       <use style=\"stroke:#000000;stroke-width:0.8;\" x=\"46.0125\" xlink:href=\"#m09883d343d\" y=\"105.030612\"/>\n      </g>\n     </g>\n     <g id=\"text_11\">\n      <!-- 40000 -->\n      <g transform=\"translate(7.2 108.829831)scale(0.1 -0.1)\">\n       <use xlink:href=\"#DejaVuSans-52\"/>\n       <use x=\"63.623047\" xlink:href=\"#DejaVuSans-48\"/>\n       <use x=\"127.246094\" xlink:href=\"#DejaVuSans-48\"/>\n       <use x=\"190.869141\" xlink:href=\"#DejaVuSans-48\"/>\n       <use x=\"254.492188\" xlink:href=\"#DejaVuSans-48\"/>\n      </g>\n     </g>\n    </g>\n    <g id=\"ytick_6\">\n     <g id=\"line2d_12\">\n      <g>\n       <use style=\"stroke:#000000;stroke-width:0.8;\" x=\"46.0125\" xlink:href=\"#m09883d343d\" y=\"75.128265\"/>\n      </g>\n     </g>\n     <g id=\"text_12\">\n      <!-- 50000 -->\n      <g transform=\"translate(7.2 78.927483)scale(0.1 -0.1)\">\n       <use xlink:href=\"#DejaVuSans-53\"/>\n       <use x=\"63.623047\" xlink:href=\"#DejaVuSans-48\"/>\n       <use x=\"127.246094\" xlink:href=\"#DejaVuSans-48\"/>\n       <use x=\"190.869141\" xlink:href=\"#DejaVuSans-48\"/>\n       <use x=\"254.492188\" xlink:href=\"#DejaVuSans-48\"/>\n      </g>\n     </g>\n    </g>\n    <g id=\"ytick_7\">\n     <g id=\"line2d_13\">\n      <g>\n       <use style=\"stroke:#000000;stroke-width:0.8;\" x=\"46.0125\" xlink:href=\"#m09883d343d\" y=\"45.225918\"/>\n      </g>\n     </g>\n     <g id=\"text_13\">\n      <!-- 60000 -->\n      <g transform=\"translate(7.2 49.025136)scale(0.1 -0.1)\">\n       <defs>\n        <path d=\"M 33.015625 40.375 \nQ 26.375 40.375 22.484375 35.828125 \nQ 18.609375 31.296875 18.609375 23.390625 \nQ 18.609375 15.53125 22.484375 10.953125 \nQ 26.375 6.390625 33.015625 6.390625 \nQ 39.65625 6.390625 43.53125 10.953125 \nQ 47.40625 15.53125 47.40625 23.390625 \nQ 47.40625 31.296875 43.53125 35.828125 \nQ 39.65625 40.375 33.015625 40.375 \nz\nM 52.59375 71.296875 \nL 52.59375 62.3125 \nQ 48.875 64.0625 45.09375 64.984375 \nQ 41.3125 65.921875 37.59375 65.921875 \nQ 27.828125 65.921875 22.671875 59.328125 \nQ 17.53125 52.734375 16.796875 39.40625 \nQ 19.671875 43.65625 24.015625 45.921875 \nQ 28.375 48.1875 33.59375 48.1875 \nQ 44.578125 48.1875 50.953125 41.515625 \nQ 57.328125 34.859375 57.328125 23.390625 \nQ 57.328125 12.15625 50.6875 5.359375 \nQ 44.046875 -1.421875 33.015625 -1.421875 \nQ 20.359375 -1.421875 13.671875 8.265625 \nQ 6.984375 17.96875 6.984375 36.375 \nQ 6.984375 53.65625 15.1875 63.9375 \nQ 23.390625 74.21875 37.203125 74.21875 \nQ 40.921875 74.21875 44.703125 73.484375 \nQ 48.484375 72.75 52.59375 71.296875 \nz\n\" id=\"DejaVuSans-54\"/>\n       </defs>\n       <use xlink:href=\"#DejaVuSans-54\"/>\n       <use x=\"63.623047\" xlink:href=\"#DejaVuSans-48\"/>\n       <use x=\"127.246094\" xlink:href=\"#DejaVuSans-48\"/>\n       <use x=\"190.869141\" xlink:href=\"#DejaVuSans-48\"/>\n       <use x=\"254.492188\" xlink:href=\"#DejaVuSans-48\"/>\n      </g>\n     </g>\n    </g>\n    <g id=\"ytick_8\">\n     <g id=\"line2d_14\">\n      <g>\n       <use style=\"stroke:#000000;stroke-width:0.8;\" x=\"46.0125\" xlink:href=\"#m09883d343d\" y=\"15.323571\"/>\n      </g>\n     </g>\n     <g id=\"text_14\">\n      <!-- 70000 -->\n      <g transform=\"translate(7.2 19.122789)scale(0.1 -0.1)\">\n       <defs>\n        <path d=\"M 8.203125 72.90625 \nL 55.078125 72.90625 \nL 55.078125 68.703125 \nL 28.609375 0 \nL 18.3125 0 \nL 43.21875 64.59375 \nL 8.203125 64.59375 \nz\n\" id=\"DejaVuSans-55\"/>\n       </defs>\n       <use xlink:href=\"#DejaVuSans-55\"/>\n       <use x=\"63.623047\" xlink:href=\"#DejaVuSans-48\"/>\n       <use x=\"127.246094\" xlink:href=\"#DejaVuSans-48\"/>\n       <use x=\"190.869141\" xlink:href=\"#DejaVuSans-48\"/>\n       <use x=\"254.492188\" xlink:href=\"#DejaVuSans-48\"/>\n      </g>\n     </g>\n    </g>\n   </g>\n   <g id=\"patch_33\">\n    <path d=\"M 46.0125 224.64 \nL 46.0125 7.2 \n\" style=\"fill:none;stroke:#000000;stroke-linecap:square;stroke-linejoin:miter;stroke-width:0.8;\"/>\n   </g>\n   <g id=\"patch_34\">\n    <path d=\"M 380.8125 224.64 \nL 380.8125 7.2 \n\" style=\"fill:none;stroke:#000000;stroke-linecap:square;stroke-linejoin:miter;stroke-width:0.8;\"/>\n   </g>\n   <g id=\"patch_35\">\n    <path d=\"M 46.0125 224.64 \nL 380.8125 224.64 \n\" style=\"fill:none;stroke:#000000;stroke-linecap:square;stroke-linejoin:miter;stroke-width:0.8;\"/>\n   </g>\n   <g id=\"patch_36\">\n    <path d=\"M 46.0125 7.2 \nL 380.8125 7.2 \n\" style=\"fill:none;stroke:#000000;stroke-linecap:square;stroke-linejoin:miter;stroke-width:0.8;\"/>\n   </g>\n  </g>\n </g>\n <defs>\n  <clipPath id=\"p0e4ffa8a8a\">\n   <rect height=\"217.44\" width=\"334.8\" x=\"46.0125\" y=\"7.2\"/>\n  </clipPath>\n </defs>\n</svg>\n",
      "image/png": "[encoded data removed]"
     },
     "metadata": {
      "needs_background": "light"
     }
    }
   ],
   "source": [
    "plt.hist(df['Unidades'])\n",
    "plt.hist(df['UnidadesDisponibles'])\n",
    "plt.hist(df['UnidadesNoDisponibles'])\n",
    "plt.show()"
   ]
  },
  {
   "source": [
    "Now lets get some insights of the features with less than ten unique values."
   ],
   "cell_type": "markdown",
   "metadata": {}
  },
  {
   "source": [
    "Seeing which city has more deliveries"
   ],
   "cell_type": "markdown",
   "metadata": {}
  },
  {
   "cell_type": "code",
   "execution_count": 83,
   "metadata": {},
   "outputs": [
    {
     "output_type": "display_data",
     "data": {
      "text/plain": "<Figure size 576x576 with 1 Axes>",
      "image/svg+xml": "<?xml version=\"1.0\" encoding=\"utf-8\" standalone=\"no\"?>\n<!DOCTYPE svg PUBLIC \"-//W3C//DTD SVG 1.1//EN\"\n  \"http://www.w3.org/Graphics/SVG/1.1/DTD/svg11.dtd\">\n<!-- Created with matplotlib (https://matplotlib.org/) -->\n<svg height=\"449.28pt\" version=\"1.1\" viewBox=\"0 0 449.28 449.28\" width=\"449.28pt\" xmlns=\"http://www.w3.org/2000/svg\" xmlns:xlink=\"http://www.w3.org/1999/xlink\">\n <metadata>\n  <rdf:RDF xmlns:cc=\"http://creativecommons.org/ns#\" xmlns:dc=\"http://purl.org/dc/elements/1.1/\" xmlns:rdf=\"http://www.w3.org/1999/02/22-rdf-syntax-ns#\">\n   <cc:Work>\n    <dc:type rdf:resource=\"http://purl.org/dc/dcmitype/StillImage\"/>\n    <dc:date>2020-09-14T12:30:49.087327</dc:date>\n    <dc:format>image/svg+xml</dc:format>\n    <dc:creator>\n     <cc:Agent>\n      <dc:title>Matplotlib v3.3.1, https://matplotlib.org/</dc:title>\n     </cc:Agent>\n    </dc:creator>\n   </cc:Work>\n  </rdf:RDF>\n </metadata>\n <defs>\n  <style type=\"text/css\">*{stroke-linecap:butt;stroke-linejoin:round;}</style>\n </defs>\n <g id=\"figure_1\">\n  <g id=\"patch_1\">\n   <path d=\"M 0 449.28 \nL 449.28 449.28 \nL 449.28 0 \nL 0 0 \nz\n\" style=\"fill:none;\"/>\n  </g>\n  <g id=\"axes_1\">\n   <g id=\"patch_2\">\n    <path d=\"M 221.16096 54.16704 \nC 200.201072 54.16704 179.412706 57.9553 159.800135 65.348811 \nC 140.187565 72.742322 122.071784 83.620077 106.327954 97.456577 \nC 90.584125 111.293078 77.469922 127.861867 67.618885 146.362515 \nC 57.767847 164.863163 51.341205 184.992876 48.649425 205.7792 \nC 45.957644 226.565523 47.044782 247.668253 51.858318 268.067929 \nC 56.671854 288.467605 65.133007 307.830352 76.833024 325.220767 \nC 88.533041 342.611181 103.280431 357.74464 120.362756 369.890054 \nC 137.445081 382.035468 156.58276 390.994058 176.851263 396.333038 \nC 197.119766 401.672018 218.187364 403.304008 239.036294 401.150166 \nC 259.885224 398.996325 280.174258 393.091904 298.923244 383.722142 \nC 317.67223 374.352381 334.57431 361.67063 348.812953 346.289539 \nC 363.051596 330.908449 374.393764 313.079755 382.291522 293.664752 \nC 390.18928 274.249749 394.513368 253.566197 395.054893 232.613305 \nC 395.596418 211.660414 392.346515 190.781112 385.462187 170.984068 \nC 378.577859 151.187025 368.171779 132.79625 354.746659 116.700193 \nC 341.321538 100.604136 325.097102 87.066236 306.857143 76.7405 \nL 221.16096 228.11904 \nL 221.16096 54.16704 \nz\n\" style=\"fill:#092436;opacity:0.5;stroke:#092436;stroke-linejoin:miter;\"/>\n   </g>\n   <g id=\"patch_3\">\n    <path d=\"M 311.288112 59.9191 \nC 298.273723 52.551586 284.363393 46.893054 269.901618 43.08364 \nC 255.439842 39.274226 240.546998 37.345639 225.591913 37.34564 \nL 225.591929 211.29764 \nL 311.288112 59.9191 \nz\n\" style=\"fill:#4c2604;opacity:0.5;stroke:#4c2604;stroke-linejoin:miter;\"/>\n   </g>\n   <g id=\"patch_4\">\n    <path d=\"M 224.64 50.688 \nC 203.680112 50.688 182.891746 54.47626 163.279175 61.869771 \nC 143.666605 69.263282 125.550824 80.141037 109.806994 93.977537 \nC 94.063165 107.814038 80.948962 124.382827 71.097925 142.883475 \nC 61.246887 161.384123 54.820245 181.513836 52.128465 202.30016 \nC 49.436684 223.086483 50.523822 244.189213 55.337358 264.588889 \nC 60.150894 284.988565 68.612047 304.351312 80.312064 321.741727 \nC 92.012081 339.132141 106.759471 354.2656 123.841796 366.411014 \nC 140.924121 378.556428 160.0618 387.515018 180.330303 392.853998 \nC 200.598806 398.192978 221.666404 399.824968 242.515334 397.671126 \nC 263.364264 395.517285 283.653298 389.612864 302.402284 380.243102 \nC 321.15127 370.873341 338.05335 358.19159 352.291993 342.810499 \nC 366.530636 327.429409 377.872804 309.600715 385.770562 290.185712 \nC 393.66832 270.770709 397.992408 250.087157 398.533933 229.134265 \nC 399.075458 208.181374 395.825555 187.302072 388.941227 167.505028 \nC 382.056899 147.707985 371.650819 129.31721 358.225699 113.221153 \nC 344.800578 97.125096 328.576142 83.587196 310.336183 73.26146 \nL 224.64 224.64 \nL 224.64 50.688 \nz\n\" style=\"fill:#1f77b4;\"/>\n   </g>\n   <g id=\"patch_5\">\n    <path d=\"M 314.767152 56.44006 \nC 301.752763 49.072546 287.842433 43.414014 273.380658 39.6046 \nC 258.918882 35.795186 244.026038 33.866599 229.070953 33.8666 \nL 229.070969 207.8186 \nL 314.767152 56.44006 \nz\n\" style=\"fill:#ff7f0e;\"/>\n   </g>\n   <g id=\"matplotlib.axis_1\"/>\n   <g id=\"matplotlib.axis_2\"/>\n   <g id=\"text_1\">\n    <!-- Bogota -->\n    <g transform=\"translate(140.404021 412.434773)scale(0.1 -0.1)\">\n     <defs>\n      <path d=\"M 19.671875 34.8125 \nL 19.671875 8.109375 \nL 35.5 8.109375 \nQ 43.453125 8.109375 47.28125 11.40625 \nQ 51.125 14.703125 51.125 21.484375 \nQ 51.125 28.328125 47.28125 31.5625 \nQ 43.453125 34.8125 35.5 34.8125 \nz\nM 19.671875 64.796875 \nL 19.671875 42.828125 \nL 34.28125 42.828125 \nQ 41.5 42.828125 45.03125 45.53125 \nQ 48.578125 48.25 48.578125 53.8125 \nQ 48.578125 59.328125 45.03125 62.0625 \nQ 41.5 64.796875 34.28125 64.796875 \nz\nM 9.8125 72.90625 \nL 35.015625 72.90625 \nQ 46.296875 72.90625 52.390625 68.21875 \nQ 58.5 63.53125 58.5 54.890625 \nQ 58.5 48.1875 55.375 44.234375 \nQ 52.25 40.28125 46.1875 39.3125 \nQ 53.46875 37.75 57.5 32.78125 \nQ 61.53125 27.828125 61.53125 20.40625 \nQ 61.53125 10.640625 54.890625 5.3125 \nQ 48.25 0 35.984375 0 \nL 9.8125 0 \nz\n\" id=\"DejaVuSans-66\"/>\n      <path d=\"M 30.609375 48.390625 \nQ 23.390625 48.390625 19.1875 42.75 \nQ 14.984375 37.109375 14.984375 27.296875 \nQ 14.984375 17.484375 19.15625 11.84375 \nQ 23.34375 6.203125 30.609375 6.203125 \nQ 37.796875 6.203125 41.984375 11.859375 \nQ 46.1875 17.53125 46.1875 27.296875 \nQ 46.1875 37.015625 41.984375 42.703125 \nQ 37.796875 48.390625 30.609375 48.390625 \nz\nM 30.609375 56 \nQ 42.328125 56 49.015625 48.375 \nQ 55.71875 40.765625 55.71875 27.296875 \nQ 55.71875 13.875 49.015625 6.21875 \nQ 42.328125 -1.421875 30.609375 -1.421875 \nQ 18.84375 -1.421875 12.171875 6.21875 \nQ 5.515625 13.875 5.515625 27.296875 \nQ 5.515625 40.765625 12.171875 48.375 \nQ 18.84375 56 30.609375 56 \nz\n\" id=\"DejaVuSans-111\"/>\n      <path d=\"M 45.40625 27.984375 \nQ 45.40625 37.75 41.375 43.109375 \nQ 37.359375 48.484375 30.078125 48.484375 \nQ 22.859375 48.484375 18.828125 43.109375 \nQ 14.796875 37.75 14.796875 27.984375 \nQ 14.796875 18.265625 18.828125 12.890625 \nQ 22.859375 7.515625 30.078125 7.515625 \nQ 37.359375 7.515625 41.375 12.890625 \nQ 45.40625 18.265625 45.40625 27.984375 \nz\nM 54.390625 6.78125 \nQ 54.390625 -7.171875 48.1875 -13.984375 \nQ 42 -20.796875 29.203125 -20.796875 \nQ 24.46875 -20.796875 20.265625 -20.09375 \nQ 16.0625 -19.390625 12.109375 -17.921875 \nL 12.109375 -9.1875 \nQ 16.0625 -11.328125 19.921875 -12.34375 \nQ 23.78125 -13.375 27.78125 -13.375 \nQ 36.625 -13.375 41.015625 -8.765625 \nQ 45.40625 -4.15625 45.40625 5.171875 \nL 45.40625 9.625 \nQ 42.625 4.78125 38.28125 2.390625 \nQ 33.9375 0 27.875 0 \nQ 17.828125 0 11.671875 7.65625 \nQ 5.515625 15.328125 5.515625 27.984375 \nQ 5.515625 40.671875 11.671875 48.328125 \nQ 17.828125 56 27.875 56 \nQ 33.9375 56 38.28125 53.609375 \nQ 42.625 51.21875 45.40625 46.390625 \nL 45.40625 54.6875 \nL 54.390625 54.6875 \nz\n\" id=\"DejaVuSans-103\"/>\n      <path d=\"M 18.3125 70.21875 \nL 18.3125 54.6875 \nL 36.8125 54.6875 \nL 36.8125 47.703125 \nL 18.3125 47.703125 \nL 18.3125 18.015625 \nQ 18.3125 11.328125 20.140625 9.421875 \nQ 21.96875 7.515625 27.59375 7.515625 \nL 36.8125 7.515625 \nL 36.8125 0 \nL 27.59375 0 \nQ 17.1875 0 13.234375 3.875 \nQ 9.28125 7.765625 9.28125 18.015625 \nL 9.28125 47.703125 \nL 2.6875 47.703125 \nL 2.6875 54.6875 \nL 9.28125 54.6875 \nL 9.28125 70.21875 \nz\n\" id=\"DejaVuSans-116\"/>\n      <path d=\"M 34.28125 27.484375 \nQ 23.390625 27.484375 19.1875 25 \nQ 14.984375 22.515625 14.984375 16.5 \nQ 14.984375 11.71875 18.140625 8.90625 \nQ 21.296875 6.109375 26.703125 6.109375 \nQ 34.1875 6.109375 38.703125 11.40625 \nQ 43.21875 16.703125 43.21875 25.484375 \nL 43.21875 27.484375 \nz\nM 52.203125 31.203125 \nL 52.203125 0 \nL 43.21875 0 \nL 43.21875 8.296875 \nQ 40.140625 3.328125 35.546875 0.953125 \nQ 30.953125 -1.421875 24.3125 -1.421875 \nQ 15.921875 -1.421875 10.953125 3.296875 \nQ 6 8.015625 6 15.921875 \nQ 6 25.140625 12.171875 29.828125 \nQ 18.359375 34.515625 30.609375 34.515625 \nL 43.21875 34.515625 \nL 43.21875 35.40625 \nQ 43.21875 41.609375 39.140625 45 \nQ 35.0625 48.390625 27.6875 48.390625 \nQ 23 48.390625 18.546875 47.265625 \nQ 14.109375 46.140625 10.015625 43.890625 \nL 10.015625 52.203125 \nQ 14.9375 54.109375 19.578125 55.046875 \nQ 24.21875 56 28.609375 56 \nQ 40.484375 56 46.34375 49.84375 \nQ 52.203125 43.703125 52.203125 31.203125 \nz\n\" id=\"DejaVuSans-97\"/>\n     </defs>\n     <use xlink:href=\"#DejaVuSans-66\"/>\n     <use x=\"68.603516\" xlink:href=\"#DejaVuSans-111\"/>\n     <use x=\"129.785156\" xlink:href=\"#DejaVuSans-103\"/>\n     <use x=\"193.261719\" xlink:href=\"#DejaVuSans-111\"/>\n     <use x=\"254.443359\" xlink:href=\"#DejaVuSans-116\"/>\n     <use x=\"293.652344\" xlink:href=\"#DejaVuSans-97\"/>\n    </g>\n   </g>\n   <g id=\"text_2\">\n    <!-- 91.8% -->\n    <g transform=\"translate(182.170588 328.327774)scale(0.1 -0.1)\">\n     <defs>\n      <path d=\"M 10.984375 1.515625 \nL 10.984375 10.5 \nQ 14.703125 8.734375 18.5 7.8125 \nQ 22.3125 6.890625 25.984375 6.890625 \nQ 35.75 6.890625 40.890625 13.453125 \nQ 46.046875 20.015625 46.78125 33.40625 \nQ 43.953125 29.203125 39.59375 26.953125 \nQ 35.25 24.703125 29.984375 24.703125 \nQ 19.046875 24.703125 12.671875 31.3125 \nQ 6.296875 37.9375 6.296875 49.421875 \nQ 6.296875 60.640625 12.9375 67.421875 \nQ 19.578125 74.21875 30.609375 74.21875 \nQ 43.265625 74.21875 49.921875 64.515625 \nQ 56.59375 54.828125 56.59375 36.375 \nQ 56.59375 19.140625 48.40625 8.859375 \nQ 40.234375 -1.421875 26.421875 -1.421875 \nQ 22.703125 -1.421875 18.890625 -0.6875 \nQ 15.09375 0.046875 10.984375 1.515625 \nz\nM 30.609375 32.421875 \nQ 37.25 32.421875 41.125 36.953125 \nQ 45.015625 41.5 45.015625 49.421875 \nQ 45.015625 57.28125 41.125 61.84375 \nQ 37.25 66.40625 30.609375 66.40625 \nQ 23.96875 66.40625 20.09375 61.84375 \nQ 16.21875 57.28125 16.21875 49.421875 \nQ 16.21875 41.5 20.09375 36.953125 \nQ 23.96875 32.421875 30.609375 32.421875 \nz\n\" id=\"DejaVuSans-57\"/>\n      <path d=\"M 12.40625 8.296875 \nL 28.515625 8.296875 \nL 28.515625 63.921875 \nL 10.984375 60.40625 \nL 10.984375 69.390625 \nL 28.421875 72.90625 \nL 38.28125 72.90625 \nL 38.28125 8.296875 \nL 54.390625 8.296875 \nL 54.390625 0 \nL 12.40625 0 \nz\n\" id=\"DejaVuSans-49\"/>\n      <path d=\"M 10.6875 12.40625 \nL 21 12.40625 \nL 21 0 \nL 10.6875 0 \nz\n\" id=\"DejaVuSans-46\"/>\n      <path d=\"M 31.78125 34.625 \nQ 24.75 34.625 20.71875 30.859375 \nQ 16.703125 27.09375 16.703125 20.515625 \nQ 16.703125 13.921875 20.71875 10.15625 \nQ 24.75 6.390625 31.78125 6.390625 \nQ 38.8125 6.390625 42.859375 10.171875 \nQ 46.921875 13.96875 46.921875 20.515625 \nQ 46.921875 27.09375 42.890625 30.859375 \nQ 38.875 34.625 31.78125 34.625 \nz\nM 21.921875 38.8125 \nQ 15.578125 40.375 12.03125 44.71875 \nQ 8.5 49.078125 8.5 55.328125 \nQ 8.5 64.0625 14.71875 69.140625 \nQ 20.953125 74.21875 31.78125 74.21875 \nQ 42.671875 74.21875 48.875 69.140625 \nQ 55.078125 64.0625 55.078125 55.328125 \nQ 55.078125 49.078125 51.53125 44.71875 \nQ 48 40.375 41.703125 38.8125 \nQ 48.828125 37.15625 52.796875 32.3125 \nQ 56.78125 27.484375 56.78125 20.515625 \nQ 56.78125 9.90625 50.3125 4.234375 \nQ 43.84375 -1.421875 31.78125 -1.421875 \nQ 19.734375 -1.421875 13.25 4.234375 \nQ 6.78125 9.90625 6.78125 20.515625 \nQ 6.78125 27.484375 10.78125 32.3125 \nQ 14.796875 37.15625 21.921875 38.8125 \nz\nM 18.3125 54.390625 \nQ 18.3125 48.734375 21.84375 45.5625 \nQ 25.390625 42.390625 31.78125 42.390625 \nQ 38.140625 42.390625 41.71875 45.5625 \nQ 45.3125 48.734375 45.3125 54.390625 \nQ 45.3125 60.0625 41.71875 63.234375 \nQ 38.140625 66.40625 31.78125 66.40625 \nQ 25.390625 66.40625 21.84375 63.234375 \nQ 18.3125 60.0625 18.3125 54.390625 \nz\n\" id=\"DejaVuSans-56\"/>\n      <path d=\"M 72.703125 32.078125 \nQ 68.453125 32.078125 66.03125 28.46875 \nQ 63.625 24.859375 63.625 18.40625 \nQ 63.625 12.0625 66.03125 8.421875 \nQ 68.453125 4.78125 72.703125 4.78125 \nQ 76.859375 4.78125 79.265625 8.421875 \nQ 81.6875 12.0625 81.6875 18.40625 \nQ 81.6875 24.8125 79.265625 28.4375 \nQ 76.859375 32.078125 72.703125 32.078125 \nz\nM 72.703125 38.28125 \nQ 80.421875 38.28125 84.953125 32.90625 \nQ 89.5 27.546875 89.5 18.40625 \nQ 89.5 9.28125 84.9375 3.921875 \nQ 80.375 -1.421875 72.703125 -1.421875 \nQ 64.890625 -1.421875 60.34375 3.921875 \nQ 55.8125 9.28125 55.8125 18.40625 \nQ 55.8125 27.59375 60.375 32.9375 \nQ 64.9375 38.28125 72.703125 38.28125 \nz\nM 22.3125 68.015625 \nQ 18.109375 68.015625 15.6875 64.375 \nQ 13.28125 60.75 13.28125 54.390625 \nQ 13.28125 47.953125 15.671875 44.328125 \nQ 18.0625 40.71875 22.3125 40.71875 \nQ 26.5625 40.71875 28.96875 44.328125 \nQ 31.390625 47.953125 31.390625 54.390625 \nQ 31.390625 60.6875 28.953125 64.34375 \nQ 26.515625 68.015625 22.3125 68.015625 \nz\nM 66.40625 74.21875 \nL 74.21875 74.21875 \nL 28.609375 -1.421875 \nL 20.796875 -1.421875 \nz\nM 22.3125 74.21875 \nQ 30.03125 74.21875 34.609375 68.875 \nQ 39.203125 63.53125 39.203125 54.390625 \nQ 39.203125 45.171875 34.640625 39.84375 \nQ 30.078125 34.515625 22.3125 34.515625 \nQ 14.546875 34.515625 10.03125 39.859375 \nQ 5.515625 45.21875 5.515625 54.390625 \nQ 5.515625 63.484375 10.046875 68.84375 \nQ 14.59375 74.21875 22.3125 74.21875 \nz\n\" id=\"DejaVuSans-37\"/>\n     </defs>\n     <use xlink:href=\"#DejaVuSans-57\"/>\n     <use x=\"63.623047\" xlink:href=\"#DejaVuSans-49\"/>\n     <use x=\"127.246094\" xlink:href=\"#DejaVuSans-46\"/>\n     <use x=\"159.033203\" xlink:href=\"#DejaVuSans-56\"/>\n     <use x=\"222.65625\" xlink:href=\"#DejaVuSans-37\"/>\n    </g>\n   </g>\n   <g id=\"text_3\">\n    <!-- Medellin -->\n    <g transform=\"translate(277.811627 25.542575)scale(0.1 -0.1)\">\n     <defs>\n      <path d=\"M 9.8125 72.90625 \nL 24.515625 72.90625 \nL 43.109375 23.296875 \nL 61.8125 72.90625 \nL 76.515625 72.90625 \nL 76.515625 0 \nL 66.890625 0 \nL 66.890625 64.015625 \nL 48.09375 14.015625 \nL 38.1875 14.015625 \nL 19.390625 64.015625 \nL 19.390625 0 \nL 9.8125 0 \nz\n\" id=\"DejaVuSans-77\"/>\n      <path d=\"M 56.203125 29.59375 \nL 56.203125 25.203125 \nL 14.890625 25.203125 \nQ 15.484375 15.921875 20.484375 11.0625 \nQ 25.484375 6.203125 34.421875 6.203125 \nQ 39.59375 6.203125 44.453125 7.46875 \nQ 49.3125 8.734375 54.109375 11.28125 \nL 54.109375 2.78125 \nQ 49.265625 0.734375 44.1875 -0.34375 \nQ 39.109375 -1.421875 33.890625 -1.421875 \nQ 20.796875 -1.421875 13.15625 6.1875 \nQ 5.515625 13.8125 5.515625 26.8125 \nQ 5.515625 40.234375 12.765625 48.109375 \nQ 20.015625 56 32.328125 56 \nQ 43.359375 56 49.78125 48.890625 \nQ 56.203125 41.796875 56.203125 29.59375 \nz\nM 47.21875 32.234375 \nQ 47.125 39.59375 43.09375 43.984375 \nQ 39.0625 48.390625 32.421875 48.390625 \nQ 24.90625 48.390625 20.390625 44.140625 \nQ 15.875 39.890625 15.1875 32.171875 \nz\n\" id=\"DejaVuSans-101\"/>\n      <path d=\"M 45.40625 46.390625 \nL 45.40625 75.984375 \nL 54.390625 75.984375 \nL 54.390625 0 \nL 45.40625 0 \nL 45.40625 8.203125 \nQ 42.578125 3.328125 38.25 0.953125 \nQ 33.9375 -1.421875 27.875 -1.421875 \nQ 17.96875 -1.421875 11.734375 6.484375 \nQ 5.515625 14.40625 5.515625 27.296875 \nQ 5.515625 40.1875 11.734375 48.09375 \nQ 17.96875 56 27.875 56 \nQ 33.9375 56 38.25 53.625 \nQ 42.578125 51.265625 45.40625 46.390625 \nz\nM 14.796875 27.296875 \nQ 14.796875 17.390625 18.875 11.75 \nQ 22.953125 6.109375 30.078125 6.109375 \nQ 37.203125 6.109375 41.296875 11.75 \nQ 45.40625 17.390625 45.40625 27.296875 \nQ 45.40625 37.203125 41.296875 42.84375 \nQ 37.203125 48.484375 30.078125 48.484375 \nQ 22.953125 48.484375 18.875 42.84375 \nQ 14.796875 37.203125 14.796875 27.296875 \nz\n\" id=\"DejaVuSans-100\"/>\n      <path d=\"M 9.421875 75.984375 \nL 18.40625 75.984375 \nL 18.40625 0 \nL 9.421875 0 \nz\n\" id=\"DejaVuSans-108\"/>\n      <path d=\"M 9.421875 54.6875 \nL 18.40625 54.6875 \nL 18.40625 0 \nL 9.421875 0 \nz\nM 9.421875 75.984375 \nL 18.40625 75.984375 \nL 18.40625 64.59375 \nL 9.421875 64.59375 \nz\n\" id=\"DejaVuSans-105\"/>\n      <path d=\"M 54.890625 33.015625 \nL 54.890625 0 \nL 45.90625 0 \nL 45.90625 32.71875 \nQ 45.90625 40.484375 42.875 44.328125 \nQ 39.84375 48.1875 33.796875 48.1875 \nQ 26.515625 48.1875 22.3125 43.546875 \nQ 18.109375 38.921875 18.109375 30.90625 \nL 18.109375 0 \nL 9.078125 0 \nL 9.078125 54.6875 \nL 18.109375 54.6875 \nL 18.109375 46.1875 \nQ 21.34375 51.125 25.703125 53.5625 \nQ 30.078125 56 35.796875 56 \nQ 45.21875 56 50.046875 50.171875 \nQ 54.890625 44.34375 54.890625 33.015625 \nz\n\" id=\"DejaVuSans-110\"/>\n     </defs>\n     <use xlink:href=\"#DejaVuSans-77\"/>\n     <use x=\"86.279297\" xlink:href=\"#DejaVuSans-101\"/>\n     <use x=\"147.802734\" xlink:href=\"#DejaVuSans-100\"/>\n     <use x=\"211.279297\" xlink:href=\"#DejaVuSans-101\"/>\n     <use x=\"272.802734\" xlink:href=\"#DejaVuSans-108\"/>\n     <use x=\"300.585938\" xlink:href=\"#DejaVuSans-108\"/>\n     <use x=\"328.369141\" xlink:href=\"#DejaVuSans-105\"/>\n     <use x=\"356.152344\" xlink:href=\"#DejaVuSans-110\"/>\n    </g>\n   </g>\n   <g id=\"text_4\">\n    <!-- 8.2% -->\n    <g transform=\"translate(242.954438 109.649575)scale(0.1 -0.1)\">\n     <defs>\n      <path d=\"M 19.1875 8.296875 \nL 53.609375 8.296875 \nL 53.609375 0 \nL 7.328125 0 \nL 7.328125 8.296875 \nQ 12.9375 14.109375 22.625 23.890625 \nQ 32.328125 33.6875 34.8125 36.53125 \nQ 39.546875 41.84375 41.421875 45.53125 \nQ 43.3125 49.21875 43.3125 52.78125 \nQ 43.3125 58.59375 39.234375 62.25 \nQ 35.15625 65.921875 28.609375 65.921875 \nQ 23.96875 65.921875 18.8125 64.3125 \nQ 13.671875 62.703125 7.8125 59.421875 \nL 7.8125 69.390625 \nQ 13.765625 71.78125 18.9375 73 \nQ 24.125 74.21875 28.421875 74.21875 \nQ 39.75 74.21875 46.484375 68.546875 \nQ 53.21875 62.890625 53.21875 53.421875 \nQ 53.21875 48.921875 51.53125 44.890625 \nQ 49.859375 40.875 45.40625 35.40625 \nQ 44.1875 33.984375 37.640625 27.21875 \nQ 31.109375 20.453125 19.1875 8.296875 \nz\n\" id=\"DejaVuSans-50\"/>\n     </defs>\n     <use xlink:href=\"#DejaVuSans-56\"/>\n     <use x=\"63.623047\" xlink:href=\"#DejaVuSans-46\"/>\n     <use x=\"95.410156\" xlink:href=\"#DejaVuSans-50\"/>\n     <use x=\"159.033203\" xlink:href=\"#DejaVuSans-37\"/>\n    </g>\n   </g>\n  </g>\n </g>\n</svg>\n",
      "image/png": "[encoded data removed]"
     },
     "metadata": {}
    }
   ],
   "source": [
    "temp=df[df['StatusOrden']=='Delivered'].groupby('Ciudad')['Source'].count().reset_index(name='count')\n",
    "labels='Bogota','Medellin'\n",
    "sizes=temp['count']\n",
    "explode = (0, 0.1)\n",
    "\n",
    "plt.figure(figsize=(8,8))\n",
    "plt.pie(sizes, explode=explode, labels=labels, autopct='%1.1f%%',shadow=True, startangle=90)\n",
    "plt.show()"
   ]
  },
  {
   "cell_type": "code",
   "execution_count": 84,
   "metadata": {},
   "outputs": [
    {
     "output_type": "execute_result",
     "data": {
      "text/plain": "['Source',\n 'osSource',\n 'Horario',\n 'MetodoDePago',\n 'Domicilio',\n 'Calificacion',\n 'Bodega',\n 'Devolucion',\n 'Ciudad',\n 'RazonCancelacionGeneral',\n 'Tienda',\n 'Tipo',\n 'StatusOrden',\n 'Repartidor',\n 'Otro',\n 'TiempoEntrega',\n 'El producto estaba en mal estado',\n 'El producto estaba vencido',\n 'Me molesta no haber recibido este producto',\n 'No recibi el producto y me lo cobraron',\n 'Recibí el producto equivocado']"
     },
     "metadata": {},
     "execution_count": 84
    }
   ],
   "source": [
    "FWLT10UV"
   ]
  },
  {
   "source": [
    "* We can see by Source or osSource which has more deliverates or more income\n",
    "* horario with more deliveries\n",
    "* MetodoDePago more fequent\n",
    "* Domicilio persistent tip\n",
    "* Calificacion 3 unique values, people often give bad reviews based on the experience, take a look of those with reviews.\n",
    "*  Devolucion insights of why the people return.\n",
    "* CIUDAD, we can play around with other features (Check if Ciudad == Tienda)\n",
    "* RazonCancelaciónGeneral, look at Devolicion also wih this feature\n",
    "* Tipo contains Merqueo and Marketplace, look at which sells more?\n",
    "* StatusOrden  IMPORTANT indicates if  Cancelled or Delivered\n",
    "* Repartidor, tiempo en entrega and Otro contains 0 or 1, what those features tell us?\n",
    "* Check quality of producto (5 features).\n",
    "* Wich Bodega \"sells\" more"
   ],
   "cell_type": "markdown",
   "metadata": {}
  },
  {
   "cell_type": "code",
   "execution_count": 85,
   "metadata": {},
   "outputs": [],
   "source": [
    "#adding Web where \\N is\n",
    "df.osSource=df.osSource.apply(lambda x: 'Web' if x=='\\\\N' else x)"
   ]
  },
  {
   "source": [
    "Looking which osSource have more orders overall"
   ],
   "cell_type": "markdown",
   "metadata": {}
  },
  {
   "cell_type": "code",
   "execution_count": 86,
   "metadata": {
    "tags": []
   },
   "outputs": [
    {
     "output_type": "stream",
     "name": "stdout",
     "text": "osSource  StatusOrden\nAndroid   Cancelled       5412\n          Delivered      42743\nWeb       Cancelled        985\n          Delivered       7494\niOS       Cancelled       1321\n          Delivered      12226\nName: IdOrden, dtype: int64\n"
    },
    {
     "output_type": "display_data",
     "data": {
      "application/vnd.plotly.v1+json": {
       "config": {
        "plotlyServerURL": "https://plot.ly"
       },
       "data": [
        {
         "alignmentgroup": "True",
         "hovertemplate": "StatusOrden=Cancelled<br>osSource=%{x}<br>value=%{y}<extra></extra>",
         "legendgroup": "Cancelled",
         "marker": {
          "color": "#636efa"
         },
         "name": "Cancelled",
         "offsetgroup": "Cancelled",
         "orientation": "v",
         "showlegend": true,
         "textposition": "auto",
         "type": "bar",
         "x": [
          "Android",
          "Web",
          "iOS"
         ],
         "xaxis": "x",
         "y": [
          5412,
          985,
          1321
         ],
         "yaxis": "y"
        },
        {
         "alignmentgroup": "True",
         "hovertemplate": "StatusOrden=Delivered<br>osSource=%{x}<br>value=%{y}<extra></extra>",
         "legendgroup": "Delivered",
         "marker": {
          "color": "#EF553B"
         },
         "name": "Delivered",
         "offsetgroup": "Delivered",
         "orientation": "v",
         "showlegend": true,
         "textposition": "auto",
         "type": "bar",
         "x": [
          "Android",
          "Web",
          "iOS"
         ],
         "xaxis": "x",
         "y": [
          42743,
          7494,
          12226
         ],
         "yaxis": "y"
        }
       ],
       "layout": {
        "barmode": "relative",
        "legend": {
         "title": {
          "text": "StatusOrden"
         },
         "tracegroupgap": 0
        },
        "margin": {
         "t": 60
        },
        "template": {
         "data": {
          "bar": [
           {
            "error_x": {
             "color": "#2a3f5f"
            },
            "error_y": {
             "color": "#2a3f5f"
            },
            "marker": {
             "line": {
              "color": "#E5ECF6",
              "width": 0.5
             }
            },
            "type": "bar"
           }
          ],
          "barpolar": [
           {
            "marker": {
             "line": {
              "color": "#E5ECF6",
              "width": 0.5
             }
            },
            "type": "barpolar"
           }
          ],
          "carpet": [
           {
            "aaxis": {
             "endlinecolor": "#2a3f5f",
             "gridcolor": "white",
             "linecolor": "white",
             "minorgridcolor": "white",
             "startlinecolor": "#2a3f5f"
            },
            "baxis": {
             "endlinecolor": "#2a3f5f",
             "gridcolor": "white",
             "linecolor": "white",
             "minorgridcolor": "white",
             "startlinecolor": "#2a3f5f"
            },
            "type": "carpet"
           }
          ],
          "choropleth": [
           {
            "colorbar": {
             "outlinewidth": 0,
             "ticks": ""
            },
            "type": "choropleth"
           }
          ],
          "contour": [
           {
            "colorbar": {
             "outlinewidth": 0,
             "ticks": ""
            },
            "colorscale": [
             [
              0,
              "#0d0887"
             ],
             [
              0.1111111111111111,
              "#46039f"
             ],
             [
              0.2222222222222222,
              "#7201a8"
             ],
             [
              0.3333333333333333,
              "#9c179e"
             ],
             [
              0.4444444444444444,
              "#bd3786"
             ],
             [
              0.5555555555555556,
              "#d8576b"
             ],
             [
              0.6666666666666666,
              "#ed7953"
             ],
             [
              0.7777777777777778,
              "#fb9f3a"
             ],
             [
              0.8888888888888888,
              "#fdca26"
             ],
             [
              1,
              "#f0f921"
             ]
            ],
            "type": "contour"
           }
          ],
          "contourcarpet": [
           {
            "colorbar": {
             "outlinewidth": 0,
             "ticks": ""
            },
            "type": "contourcarpet"
           }
          ],
          "heatmap": [
           {
            "colorbar": {
             "outlinewidth": 0,
             "ticks": ""
            },
            "colorscale": [
             [
              0,
              "#0d0887"
             ],
             [
              0.1111111111111111,
              "#46039f"
             ],
             [
              0.2222222222222222,
              "#7201a8"
             ],
             [
              0.3333333333333333,
              "#9c179e"
             ],
             [
              0.4444444444444444,
              "#bd3786"
             ],
             [
              0.5555555555555556,
              "#d8576b"
             ],
             [
              0.6666666666666666,
              "#ed7953"
             ],
             [
              0.7777777777777778,
              "#fb9f3a"
             ],
             [
              0.8888888888888888,
              "#fdca26"
             ],
             [
              1,
              "#f0f921"
             ]
            ],
            "type": "heatmap"
           }
          ],
          "heatmapgl": [
           {
            "colorbar": {
             "outlinewidth": 0,
             "ticks": ""
            },
            "colorscale": [
             [
              0,
              "#0d0887"
             ],
             [
              0.1111111111111111,
              "#46039f"
             ],
             [
              0.2222222222222222,
              "#7201a8"
             ],
             [
              0.3333333333333333,
              "#9c179e"
             ],
             [
              0.4444444444444444,
              "#bd3786"
             ],
             [
              0.5555555555555556,
              "#d8576b"
             ],
             [
              0.6666666666666666,
              "#ed7953"
             ],
             [
              0.7777777777777778,
              "#fb9f3a"
             ],
             [
              0.8888888888888888,
              "#fdca26"
             ],
             [
              1,
              "#f0f921"
             ]
            ],
            "type": "heatmapgl"
           }
          ],
          "histogram": [
           {
            "marker": {
             "colorbar": {
              "outlinewidth": 0,
              "ticks": ""
             }
            },
            "type": "histogram"
           }
          ],
          "histogram2d": [
           {
            "colorbar": {
             "outlinewidth": 0,
             "ticks": ""
            },
            "colorscale": [
             [
              0,
              "#0d0887"
             ],
             [
              0.1111111111111111,
              "#46039f"
             ],
             [
              0.2222222222222222,
              "#7201a8"
             ],
             [
              0.3333333333333333,
              "#9c179e"
             ],
             [
              0.4444444444444444,
              "#bd3786"
             ],
             [
              0.5555555555555556,
              "#d8576b"
             ],
             [
              0.6666666666666666,
              "#ed7953"
             ],
             [
              0.7777777777777778,
              "#fb9f3a"
             ],
             [
              0.8888888888888888,
              "#fdca26"
             ],
             [
              1,
              "#f0f921"
             ]
            ],
            "type": "histogram2d"
           }
          ],
          "histogram2dcontour": [
           {
            "colorbar": {
             "outlinewidth": 0,
             "ticks": ""
            },
            "colorscale": [
             [
              0,
              "#0d0887"
             ],
             [
              0.1111111111111111,
              "#46039f"
             ],
             [
              0.2222222222222222,
              "#7201a8"
             ],
             [
              0.3333333333333333,
              "#9c179e"
             ],
             [
              0.4444444444444444,
              "#bd3786"
             ],
             [
              0.5555555555555556,
              "#d8576b"
             ],
             [
              0.6666666666666666,
              "#ed7953"
             ],
             [
              0.7777777777777778,
              "#fb9f3a"
             ],
             [
              0.8888888888888888,
              "#fdca26"
             ],
             [
              1,
              "#f0f921"
             ]
            ],
            "type": "histogram2dcontour"
           }
          ],
          "mesh3d": [
           {
            "colorbar": {
             "outlinewidth": 0,
             "ticks": ""
            },
            "type": "mesh3d"
           }
          ],
          "parcoords": [
           {
            "line": {
             "colorbar": {
              "outlinewidth": 0,
              "ticks": ""
             }
            },
            "type": "parcoords"
           }
          ],
          "pie": [
           {
            "automargin": true,
            "type": "pie"
           }
          ],
          "scatter": [
           {
            "marker": {
             "colorbar": {
              "outlinewidth": 0,
              "ticks": ""
             }
            },
            "type": "scatter"
           }
          ],
          "scatter3d": [
           {
            "line": {
             "colorbar": {
              "outlinewidth": 0,
              "ticks": ""
             }
            },
            "marker": {
             "colorbar": {
              "outlinewidth": 0,
              "ticks": ""
             }
            },
            "type": "scatter3d"
           }
          ],
          "scattercarpet": [
           {
            "marker": {
             "colorbar": {
              "outlinewidth": 0,
              "ticks": ""
             }
            },
            "type": "scattercarpet"
           }
          ],
          "scattergeo": [
           {
            "marker": {
             "colorbar": {
              "outlinewidth": 0,
              "ticks": ""
             }
            },
            "type": "scattergeo"
           }
          ],
          "scattergl": [
           {
            "marker": {
             "colorbar": {
              "outlinewidth": 0,
              "ticks": ""
             }
            },
            "type": "scattergl"
           }
          ],
          "scattermapbox": [
           {
            "marker": {
             "colorbar": {
              "outlinewidth": 0,
              "ticks": ""
             }
            },
            "type": "scattermapbox"
           }
          ],
          "scatterpolar": [
           {
            "marker": {
             "colorbar": {
              "outlinewidth": 0,
              "ticks": ""
             }
            },
            "type": "scatterpolar"
           }
          ],
          "scatterpolargl": [
           {
            "marker": {
             "colorbar": {
              "outlinewidth": 0,
              "ticks": ""
             }
            },
            "type": "scatterpolargl"
           }
          ],
          "scatterternary": [
           {
            "marker": {
             "colorbar": {
              "outlinewidth": 0,
              "ticks": ""
             }
            },
            "type": "scatterternary"
           }
          ],
          "surface": [
           {
            "colorbar": {
             "outlinewidth": 0,
             "ticks": ""
            },
            "colorscale": [
             [
              0,
              "#0d0887"
             ],
             [
              0.1111111111111111,
              "#46039f"
             ],
             [
              0.2222222222222222,
              "#7201a8"
             ],
             [
              0.3333333333333333,
              "#9c179e"
             ],
             [
              0.4444444444444444,
              "#bd3786"
             ],
             [
              0.5555555555555556,
              "#d8576b"
             ],
             [
              0.6666666666666666,
              "#ed7953"
             ],
             [
              0.7777777777777778,
              "#fb9f3a"
             ],
             [
              0.8888888888888888,
              "#fdca26"
             ],
             [
              1,
              "#f0f921"
             ]
            ],
            "type": "surface"
           }
          ],
          "table": [
           {
            "cells": {
             "fill": {
              "color": "#EBF0F8"
             },
             "line": {
              "color": "white"
             }
            },
            "header": {
             "fill": {
              "color": "#C8D4E3"
             },
             "line": {
              "color": "white"
             }
            },
            "type": "table"
           }
          ]
         },
         "layout": {
          "annotationdefaults": {
           "arrowcolor": "#2a3f5f",
           "arrowhead": 0,
           "arrowwidth": 1
          },
          "coloraxis": {
           "colorbar": {
            "outlinewidth": 0,
            "ticks": ""
           }
          },
          "colorscale": {
           "diverging": [
            [
             0,
             "#8e0152"
            ],
            [
             0.1,
             "#c51b7d"
            ],
            [
             0.2,
             "#de77ae"
            ],
            [
             0.3,
             "#f1b6da"
            ],
            [
             0.4,
             "#fde0ef"
            ],
            [
             0.5,
             "#f7f7f7"
            ],
            [
             0.6,
             "#e6f5d0"
            ],
            [
             0.7,
             "#b8e186"
            ],
            [
             0.8,
             "#7fbc41"
            ],
            [
             0.9,
             "#4d9221"
            ],
            [
             1,
             "#276419"
            ]
           ],
           "sequential": [
            [
             0,
             "#0d0887"
            ],
            [
             0.1111111111111111,
             "#46039f"
            ],
            [
             0.2222222222222222,
             "#7201a8"
            ],
            [
             0.3333333333333333,
             "#9c179e"
            ],
            [
             0.4444444444444444,
             "#bd3786"
            ],
            [
             0.5555555555555556,
             "#d8576b"
            ],
            [
             0.6666666666666666,
             "#ed7953"
            ],
            [
             0.7777777777777778,
             "#fb9f3a"
            ],
            [
             0.8888888888888888,
             "#fdca26"
            ],
            [
             1,
             "#f0f921"
            ]
           ],
           "sequentialminus": [
            [
             0,
             "#0d0887"
            ],
            [
             0.1111111111111111,
             "#46039f"
            ],
            [
             0.2222222222222222,
             "#7201a8"
            ],
            [
             0.3333333333333333,
             "#9c179e"
            ],
            [
             0.4444444444444444,
             "#bd3786"
            ],
            [
             0.5555555555555556,
             "#d8576b"
            ],
            [
             0.6666666666666666,
             "#ed7953"
            ],
            [
             0.7777777777777778,
             "#fb9f3a"
            ],
            [
             0.8888888888888888,
             "#fdca26"
            ],
            [
             1,
             "#f0f921"
            ]
           ]
          },
          "colorway": [
           "#636efa",
           "#EF553B",
           "#00cc96",
           "#ab63fa",
           "#FFA15A",
           "#19d3f3",
           "#FF6692",
           "#B6E880",
           "#FF97FF",
           "#FECB52"
          ],
          "font": {
           "color": "#2a3f5f"
          },
          "geo": {
           "bgcolor": "white",
           "lakecolor": "white",
           "landcolor": "#E5ECF6",
           "showlakes": true,
           "showland": true,
           "subunitcolor": "white"
          },
          "hoverlabel": {
           "align": "left"
          },
          "hovermode": "closest",
          "mapbox": {
           "style": "light"
          },
          "paper_bgcolor": "white",
          "plot_bgcolor": "#E5ECF6",
          "polar": {
           "angularaxis": {
            "gridcolor": "white",
            "linecolor": "white",
            "ticks": ""
           },
           "bgcolor": "#E5ECF6",
           "radialaxis": {
            "gridcolor": "white",
            "linecolor": "white",
            "ticks": ""
           }
          },
          "scene": {
           "xaxis": {
            "backgroundcolor": "#E5ECF6",
            "gridcolor": "white",
            "gridwidth": 2,
            "linecolor": "white",
            "showbackground": true,
            "ticks": "",
            "zerolinecolor": "white"
           },
           "yaxis": {
            "backgroundcolor": "#E5ECF6",
            "gridcolor": "white",
            "gridwidth": 2,
            "linecolor": "white",
            "showbackground": true,
            "ticks": "",
            "zerolinecolor": "white"
           },
           "zaxis": {
            "backgroundcolor": "#E5ECF6",
            "gridcolor": "white",
            "gridwidth": 2,
            "linecolor": "white",
            "showbackground": true,
            "ticks": "",
            "zerolinecolor": "white"
           }
          },
          "shapedefaults": {
           "line": {
            "color": "#2a3f5f"
           }
          },
          "ternary": {
           "aaxis": {
            "gridcolor": "white",
            "linecolor": "white",
            "ticks": ""
           },
           "baxis": {
            "gridcolor": "white",
            "linecolor": "white",
            "ticks": ""
           },
           "bgcolor": "#E5ECF6",
           "caxis": {
            "gridcolor": "white",
            "linecolor": "white",
            "ticks": ""
           }
          },
          "title": {
           "x": 0.05
          },
          "xaxis": {
           "automargin": true,
           "gridcolor": "white",
           "linecolor": "white",
           "ticks": "",
           "title": {
            "standoff": 15
           },
           "zerolinecolor": "white",
           "zerolinewidth": 2
          },
          "yaxis": {
           "automargin": true,
           "gridcolor": "white",
           "linecolor": "white",
           "ticks": "",
           "title": {
            "standoff": 15
           },
           "zerolinecolor": "white",
           "zerolinewidth": 2
          }
         }
        },
        "xaxis": {
         "anchor": "y",
         "domain": [
          0,
          1
         ],
         "title": {
          "text": "osSource"
         }
        },
        "yaxis": {
         "anchor": "x",
         "domain": [
          0,
          1
         ],
         "title": {
          "text": "value"
         }
        }
       }
      }
     },
     "metadata": {}
    }
   ],
   "source": [
    "print(df.groupby(['osSource','StatusOrden'])['IdOrden'].count())\n",
    "df.groupby(['osSource','StatusOrden'])['IdOrden'].count().unstack().plot(kind='bar')"
   ]
  },
  {
   "source": [
    "Looking which osSource have more income overall from delivered orders"
   ],
   "cell_type": "markdown",
   "metadata": {}
  },
  {
   "cell_type": "code",
   "execution_count": 87,
   "metadata": {},
   "outputs": [
    {
     "output_type": "display_data",
     "data": {
      "application/vnd.plotly.v1+json": {
       "config": {
        "plotlyServerURL": "https://plot.ly"
       },
       "data": [
        {
         "alignmentgroup": "True",
         "hovertemplate": "variable=PagoCliente<br>osSource=%{x}<br>value=%{y}<extra></extra>",
         "legendgroup": "PagoCliente",
         "marker": {
          "color": "#636efa"
         },
         "name": "PagoCliente",
         "offsetgroup": "PagoCliente",
         "orientation": "v",
         "showlegend": true,
         "textposition": "auto",
         "type": "bar",
         "x": [
          "Android",
          "Web",
          "iOS"
         ],
         "xaxis": "x",
         "y": [
          3318334063,
          681505308.079,
          1039938199
         ],
         "yaxis": "y"
        }
       ],
       "layout": {
        "barmode": "relative",
        "legend": {
         "title": {
          "text": "variable"
         },
         "tracegroupgap": 0
        },
        "margin": {
         "t": 60
        },
        "template": {
         "data": {
          "bar": [
           {
            "error_x": {
             "color": "#2a3f5f"
            },
            "error_y": {
             "color": "#2a3f5f"
            },
            "marker": {
             "line": {
              "color": "#E5ECF6",
              "width": 0.5
             }
            },
            "type": "bar"
           }
          ],
          "barpolar": [
           {
            "marker": {
             "line": {
              "color": "#E5ECF6",
              "width": 0.5
             }
            },
            "type": "barpolar"
           }
          ],
          "carpet": [
           {
            "aaxis": {
             "endlinecolor": "#2a3f5f",
             "gridcolor": "white",
             "linecolor": "white",
             "minorgridcolor": "white",
             "startlinecolor": "#2a3f5f"
            },
            "baxis": {
             "endlinecolor": "#2a3f5f",
             "gridcolor": "white",
             "linecolor": "white",
             "minorgridcolor": "white",
             "startlinecolor": "#2a3f5f"
            },
            "type": "carpet"
           }
          ],
          "choropleth": [
           {
            "colorbar": {
             "outlinewidth": 0,
             "ticks": ""
            },
            "type": "choropleth"
           }
          ],
          "contour": [
           {
            "colorbar": {
             "outlinewidth": 0,
             "ticks": ""
            },
            "colorscale": [
             [
              0,
              "#0d0887"
             ],
             [
              0.1111111111111111,
              "#46039f"
             ],
             [
              0.2222222222222222,
              "#7201a8"
             ],
             [
              0.3333333333333333,
              "#9c179e"
             ],
             [
              0.4444444444444444,
              "#bd3786"
             ],
             [
              0.5555555555555556,
              "#d8576b"
             ],
             [
              0.6666666666666666,
              "#ed7953"
             ],
             [
              0.7777777777777778,
              "#fb9f3a"
             ],
             [
              0.8888888888888888,
              "#fdca26"
             ],
             [
              1,
              "#f0f921"
             ]
            ],
            "type": "contour"
           }
          ],
          "contourcarpet": [
           {
            "colorbar": {
             "outlinewidth": 0,
             "ticks": ""
            },
            "type": "contourcarpet"
           }
          ],
          "heatmap": [
           {
            "colorbar": {
             "outlinewidth": 0,
             "ticks": ""
            },
            "colorscale": [
             [
              0,
              "#0d0887"
             ],
             [
              0.1111111111111111,
              "#46039f"
             ],
             [
              0.2222222222222222,
              "#7201a8"
             ],
             [
              0.3333333333333333,
              "#9c179e"
             ],
             [
              0.4444444444444444,
              "#bd3786"
             ],
             [
              0.5555555555555556,
              "#d8576b"
             ],
             [
              0.6666666666666666,
              "#ed7953"
             ],
             [
              0.7777777777777778,
              "#fb9f3a"
             ],
             [
              0.8888888888888888,
              "#fdca26"
             ],
             [
              1,
              "#f0f921"
             ]
            ],
            "type": "heatmap"
           }
          ],
          "heatmapgl": [
           {
            "colorbar": {
             "outlinewidth": 0,
             "ticks": ""
            },
            "colorscale": [
             [
              0,
              "#0d0887"
             ],
             [
              0.1111111111111111,
              "#46039f"
             ],
             [
              0.2222222222222222,
              "#7201a8"
             ],
             [
              0.3333333333333333,
              "#9c179e"
             ],
             [
              0.4444444444444444,
              "#bd3786"
             ],
             [
              0.5555555555555556,
              "#d8576b"
             ],
             [
              0.6666666666666666,
              "#ed7953"
             ],
             [
              0.7777777777777778,
              "#fb9f3a"
             ],
             [
              0.8888888888888888,
              "#fdca26"
             ],
             [
              1,
              "#f0f921"
             ]
            ],
            "type": "heatmapgl"
           }
          ],
          "histogram": [
           {
            "marker": {
             "colorbar": {
              "outlinewidth": 0,
              "ticks": ""
             }
            },
            "type": "histogram"
           }
          ],
          "histogram2d": [
           {
            "colorbar": {
             "outlinewidth": 0,
             "ticks": ""
            },
            "colorscale": [
             [
              0,
              "#0d0887"
             ],
             [
              0.1111111111111111,
              "#46039f"
             ],
             [
              0.2222222222222222,
              "#7201a8"
             ],
             [
              0.3333333333333333,
              "#9c179e"
             ],
             [
              0.4444444444444444,
              "#bd3786"
             ],
             [
              0.5555555555555556,
              "#d8576b"
             ],
             [
              0.6666666666666666,
              "#ed7953"
             ],
             [
              0.7777777777777778,
              "#fb9f3a"
             ],
             [
              0.8888888888888888,
              "#fdca26"
             ],
             [
              1,
              "#f0f921"
             ]
            ],
            "type": "histogram2d"
           }
          ],
          "histogram2dcontour": [
           {
            "colorbar": {
             "outlinewidth": 0,
             "ticks": ""
            },
            "colorscale": [
             [
              0,
              "#0d0887"
             ],
             [
              0.1111111111111111,
              "#46039f"
             ],
             [
              0.2222222222222222,
              "#7201a8"
             ],
             [
              0.3333333333333333,
              "#9c179e"
             ],
             [
              0.4444444444444444,
              "#bd3786"
             ],
             [
              0.5555555555555556,
              "#d8576b"
             ],
             [
              0.6666666666666666,
              "#ed7953"
             ],
             [
              0.7777777777777778,
              "#fb9f3a"
             ],
             [
              0.8888888888888888,
              "#fdca26"
             ],
             [
              1,
              "#f0f921"
             ]
            ],
            "type": "histogram2dcontour"
           }
          ],
          "mesh3d": [
           {
            "colorbar": {
             "outlinewidth": 0,
             "ticks": ""
            },
            "type": "mesh3d"
           }
          ],
          "parcoords": [
           {
            "line": {
             "colorbar": {
              "outlinewidth": 0,
              "ticks": ""
             }
            },
            "type": "parcoords"
           }
          ],
          "pie": [
           {
            "automargin": true,
            "type": "pie"
           }
          ],
          "scatter": [
           {
            "marker": {
             "colorbar": {
              "outlinewidth": 0,
              "ticks": ""
             }
            },
            "type": "scatter"
           }
          ],
          "scatter3d": [
           {
            "line": {
             "colorbar": {
              "outlinewidth": 0,
              "ticks": ""
             }
            },
            "marker": {
             "colorbar": {
              "outlinewidth": 0,
              "ticks": ""
             }
            },
            "type": "scatter3d"
           }
          ],
          "scattercarpet": [
           {
            "marker": {
             "colorbar": {
              "outlinewidth": 0,
              "ticks": ""
             }
            },
            "type": "scattercarpet"
           }
          ],
          "scattergeo": [
           {
            "marker": {
             "colorbar": {
              "outlinewidth": 0,
              "ticks": ""
             }
            },
            "type": "scattergeo"
           }
          ],
          "scattergl": [
           {
            "marker": {
             "colorbar": {
              "outlinewidth": 0,
              "ticks": ""
             }
            },
            "type": "scattergl"
           }
          ],
          "scattermapbox": [
           {
            "marker": {
             "colorbar": {
              "outlinewidth": 0,
              "ticks": ""
             }
            },
            "type": "scattermapbox"
           }
          ],
          "scatterpolar": [
           {
            "marker": {
             "colorbar": {
              "outlinewidth": 0,
              "ticks": ""
             }
            },
            "type": "scatterpolar"
           }
          ],
          "scatterpolargl": [
           {
            "marker": {
             "colorbar": {
              "outlinewidth": 0,
              "ticks": ""
             }
            },
            "type": "scatterpolargl"
           }
          ],
          "scatterternary": [
           {
            "marker": {
             "colorbar": {
              "outlinewidth": 0,
              "ticks": ""
             }
            },
            "type": "scatterternary"
           }
          ],
          "surface": [
           {
            "colorbar": {
             "outlinewidth": 0,
             "ticks": ""
            },
            "colorscale": [
             [
              0,
              "#0d0887"
             ],
             [
              0.1111111111111111,
              "#46039f"
             ],
             [
              0.2222222222222222,
              "#7201a8"
             ],
             [
              0.3333333333333333,
              "#9c179e"
             ],
             [
              0.4444444444444444,
              "#bd3786"
             ],
             [
              0.5555555555555556,
              "#d8576b"
             ],
             [
              0.6666666666666666,
              "#ed7953"
             ],
             [
              0.7777777777777778,
              "#fb9f3a"
             ],
             [
              0.8888888888888888,
              "#fdca26"
             ],
             [
              1,
              "#f0f921"
             ]
            ],
            "type": "surface"
           }
          ],
          "table": [
           {
            "cells": {
             "fill": {
              "color": "#EBF0F8"
             },
             "line": {
              "color": "white"
             }
            },
            "header": {
             "fill": {
              "color": "#C8D4E3"
             },
             "line": {
              "color": "white"
             }
            },
            "type": "table"
           }
          ]
         },
         "layout": {
          "annotationdefaults": {
           "arrowcolor": "#2a3f5f",
           "arrowhead": 0,
           "arrowwidth": 1
          },
          "coloraxis": {
           "colorbar": {
            "outlinewidth": 0,
            "ticks": ""
           }
          },
          "colorscale": {
           "diverging": [
            [
             0,
             "#8e0152"
            ],
            [
             0.1,
             "#c51b7d"
            ],
            [
             0.2,
             "#de77ae"
            ],
            [
             0.3,
             "#f1b6da"
            ],
            [
             0.4,
             "#fde0ef"
            ],
            [
             0.5,
             "#f7f7f7"
            ],
            [
             0.6,
             "#e6f5d0"
            ],
            [
             0.7,
             "#b8e186"
            ],
            [
             0.8,
             "#7fbc41"
            ],
            [
             0.9,
             "#4d9221"
            ],
            [
             1,
             "#276419"
            ]
           ],
           "sequential": [
            [
             0,
             "#0d0887"
            ],
            [
             0.1111111111111111,
             "#46039f"
            ],
            [
             0.2222222222222222,
             "#7201a8"
            ],
            [
             0.3333333333333333,
             "#9c179e"
            ],
            [
             0.4444444444444444,
             "#bd3786"
            ],
            [
             0.5555555555555556,
             "#d8576b"
            ],
            [
             0.6666666666666666,
             "#ed7953"
            ],
            [
             0.7777777777777778,
             "#fb9f3a"
            ],
            [
             0.8888888888888888,
             "#fdca26"
            ],
            [
             1,
             "#f0f921"
            ]
           ],
           "sequentialminus": [
            [
             0,
             "#0d0887"
            ],
            [
             0.1111111111111111,
             "#46039f"
            ],
            [
             0.2222222222222222,
             "#7201a8"
            ],
            [
             0.3333333333333333,
             "#9c179e"
            ],
            [
             0.4444444444444444,
             "#bd3786"
            ],
            [
             0.5555555555555556,
             "#d8576b"
            ],
            [
             0.6666666666666666,
             "#ed7953"
            ],
            [
             0.7777777777777778,
             "#fb9f3a"
            ],
            [
             0.8888888888888888,
             "#fdca26"
            ],
            [
             1,
             "#f0f921"
            ]
           ]
          },
          "colorway": [
           "#636efa",
           "#EF553B",
           "#00cc96",
           "#ab63fa",
           "#FFA15A",
           "#19d3f3",
           "#FF6692",
           "#B6E880",
           "#FF97FF",
           "#FECB52"
          ],
          "font": {
           "color": "#2a3f5f"
          },
          "geo": {
           "bgcolor": "white",
           "lakecolor": "white",
           "landcolor": "#E5ECF6",
           "showlakes": true,
           "showland": true,
           "subunitcolor": "white"
          },
          "hoverlabel": {
           "align": "left"
          },
          "hovermode": "closest",
          "mapbox": {
           "style": "light"
          },
          "paper_bgcolor": "white",
          "plot_bgcolor": "#E5ECF6",
          "polar": {
           "angularaxis": {
            "gridcolor": "white",
            "linecolor": "white",
            "ticks": ""
           },
           "bgcolor": "#E5ECF6",
           "radialaxis": {
            "gridcolor": "white",
            "linecolor": "white",
            "ticks": ""
           }
          },
          "scene": {
           "xaxis": {
            "backgroundcolor": "#E5ECF6",
            "gridcolor": "white",
            "gridwidth": 2,
            "linecolor": "white",
            "showbackground": true,
            "ticks": "",
            "zerolinecolor": "white"
           },
           "yaxis": {
            "backgroundcolor": "#E5ECF6",
            "gridcolor": "white",
            "gridwidth": 2,
            "linecolor": "white",
            "showbackground": true,
            "ticks": "",
            "zerolinecolor": "white"
           },
           "zaxis": {
            "backgroundcolor": "#E5ECF6",
            "gridcolor": "white",
            "gridwidth": 2,
            "linecolor": "white",
            "showbackground": true,
            "ticks": "",
            "zerolinecolor": "white"
           }
          },
          "shapedefaults": {
           "line": {
            "color": "#2a3f5f"
           }
          },
          "ternary": {
           "aaxis": {
            "gridcolor": "white",
            "linecolor": "white",
            "ticks": ""
           },
           "baxis": {
            "gridcolor": "white",
            "linecolor": "white",
            "ticks": ""
           },
           "bgcolor": "#E5ECF6",
           "caxis": {
            "gridcolor": "white",
            "linecolor": "white",
            "ticks": ""
           }
          },
          "title": {
           "x": 0.05
          },
          "xaxis": {
           "automargin": true,
           "gridcolor": "white",
           "linecolor": "white",
           "ticks": "",
           "title": {
            "standoff": 15
           },
           "zerolinecolor": "white",
           "zerolinewidth": 2
          },
          "yaxis": {
           "automargin": true,
           "gridcolor": "white",
           "linecolor": "white",
           "ticks": "",
           "title": {
            "standoff": 15
           },
           "zerolinecolor": "white",
           "zerolinewidth": 2
          }
         }
        },
        "xaxis": {
         "anchor": "y",
         "domain": [
          0,
          1
         ],
         "title": {
          "text": "osSource"
         }
        },
        "yaxis": {
         "anchor": "x",
         "domain": [
          0,
          1
         ],
         "title": {
          "text": "value"
         }
        }
       }
      }
     },
     "metadata": {}
    }
   ],
   "source": [
    "df[df['StatusOrden'].isin(['Delivered'])].groupby(['osSource'])['PagoCliente'].sum().plot(kind='bar')"
   ]
  },
  {
   "source": [
    "Horario with more Deliveries overall"
   ],
   "cell_type": "markdown",
   "metadata": {}
  },
  {
   "cell_type": "code",
   "execution_count": 88,
   "metadata": {},
   "outputs": [
    {
     "output_type": "display_data",
     "data": {
      "application/vnd.plotly.v1+json": {
       "config": {
        "plotlyServerURL": "https://plot.ly"
       },
       "data": [
        {
         "hovertemplate": "variable=IdOrden<br>Horario=%{x}<br>value=%{y}<extra></extra>",
         "legendgroup": "IdOrden",
         "line": {
          "color": "#636efa",
          "dash": "solid"
         },
         "mode": "lines",
         "name": "IdOrden",
         "orientation": "v",
         "showlegend": true,
         "type": "scatter",
         "x": [
          "12:00 pm - 5:00 pm",
          "5:00 pm - 10:00 pm",
          "7:00 am - 12:00 pm"
         ],
         "xaxis": "x",
         "y": [
          25464,
          8906,
          35811
         ],
         "yaxis": "y"
        }
       ],
       "layout": {
        "legend": {
         "title": {
          "text": "variable"
         },
         "tracegroupgap": 0
        },
        "margin": {
         "t": 60
        },
        "template": {
         "data": {
          "bar": [
           {
            "error_x": {
             "color": "#2a3f5f"
            },
            "error_y": {
             "color": "#2a3f5f"
            },
            "marker": {
             "line": {
              "color": "#E5ECF6",
              "width": 0.5
             }
            },
            "type": "bar"
           }
          ],
          "barpolar": [
           {
            "marker": {
             "line": {
              "color": "#E5ECF6",
              "width": 0.5
             }
            },
            "type": "barpolar"
           }
          ],
          "carpet": [
           {
            "aaxis": {
             "endlinecolor": "#2a3f5f",
             "gridcolor": "white",
             "linecolor": "white",
             "minorgridcolor": "white",
             "startlinecolor": "#2a3f5f"
            },
            "baxis": {
             "endlinecolor": "#2a3f5f",
             "gridcolor": "white",
             "linecolor": "white",
             "minorgridcolor": "white",
             "startlinecolor": "#2a3f5f"
            },
            "type": "carpet"
           }
          ],
          "choropleth": [
           {
            "colorbar": {
             "outlinewidth": 0,
             "ticks": ""
            },
            "type": "choropleth"
           }
          ],
          "contour": [
           {
            "colorbar": {
             "outlinewidth": 0,
             "ticks": ""
            },
            "colorscale": [
             [
              0,
              "#0d0887"
             ],
             [
              0.1111111111111111,
              "#46039f"
             ],
             [
              0.2222222222222222,
              "#7201a8"
             ],
             [
              0.3333333333333333,
              "#9c179e"
             ],
             [
              0.4444444444444444,
              "#bd3786"
             ],
             [
              0.5555555555555556,
              "#d8576b"
             ],
             [
              0.6666666666666666,
              "#ed7953"
             ],
             [
              0.7777777777777778,
              "#fb9f3a"
             ],
             [
              0.8888888888888888,
              "#fdca26"
             ],
             [
              1,
              "#f0f921"
             ]
            ],
            "type": "contour"
           }
          ],
          "contourcarpet": [
           {
            "colorbar": {
             "outlinewidth": 0,
             "ticks": ""
            },
            "type": "contourcarpet"
           }
          ],
          "heatmap": [
           {
            "colorbar": {
             "outlinewidth": 0,
             "ticks": ""
            },
            "colorscale": [
             [
              0,
              "#0d0887"
             ],
             [
              0.1111111111111111,
              "#46039f"
             ],
             [
              0.2222222222222222,
              "#7201a8"
             ],
             [
              0.3333333333333333,
              "#9c179e"
             ],
             [
              0.4444444444444444,
              "#bd3786"
             ],
             [
              0.5555555555555556,
              "#d8576b"
             ],
             [
              0.6666666666666666,
              "#ed7953"
             ],
             [
              0.7777777777777778,
              "#fb9f3a"
             ],
             [
              0.8888888888888888,
              "#fdca26"
             ],
             [
              1,
              "#f0f921"
             ]
            ],
            "type": "heatmap"
           }
          ],
          "heatmapgl": [
           {
            "colorbar": {
             "outlinewidth": 0,
             "ticks": ""
            },
            "colorscale": [
             [
              0,
              "#0d0887"
             ],
             [
              0.1111111111111111,
              "#46039f"
             ],
             [
              0.2222222222222222,
              "#7201a8"
             ],
             [
              0.3333333333333333,
              "#9c179e"
             ],
             [
              0.4444444444444444,
              "#bd3786"
             ],
             [
              0.5555555555555556,
              "#d8576b"
             ],
             [
              0.6666666666666666,
              "#ed7953"
             ],
             [
              0.7777777777777778,
              "#fb9f3a"
             ],
             [
              0.8888888888888888,
              "#fdca26"
             ],
             [
              1,
              "#f0f921"
             ]
            ],
            "type": "heatmapgl"
           }
          ],
          "histogram": [
           {
            "marker": {
             "colorbar": {
              "outlinewidth": 0,
              "ticks": ""
             }
            },
            "type": "histogram"
           }
          ],
          "histogram2d": [
           {
            "colorbar": {
             "outlinewidth": 0,
             "ticks": ""
            },
            "colorscale": [
             [
              0,
              "#0d0887"
             ],
             [
              0.1111111111111111,
              "#46039f"
             ],
             [
              0.2222222222222222,
              "#7201a8"
             ],
             [
              0.3333333333333333,
              "#9c179e"
             ],
             [
              0.4444444444444444,
              "#bd3786"
             ],
             [
              0.5555555555555556,
              "#d8576b"
             ],
             [
              0.6666666666666666,
              "#ed7953"
             ],
             [
              0.7777777777777778,
              "#fb9f3a"
             ],
             [
              0.8888888888888888,
              "#fdca26"
             ],
             [
              1,
              "#f0f921"
             ]
            ],
            "type": "histogram2d"
           }
          ],
          "histogram2dcontour": [
           {
            "colorbar": {
             "outlinewidth": 0,
             "ticks": ""
            },
            "colorscale": [
             [
              0,
              "#0d0887"
             ],
             [
              0.1111111111111111,
              "#46039f"
             ],
             [
              0.2222222222222222,
              "#7201a8"
             ],
             [
              0.3333333333333333,
              "#9c179e"
             ],
             [
              0.4444444444444444,
              "#bd3786"
             ],
             [
              0.5555555555555556,
              "#d8576b"
             ],
             [
              0.6666666666666666,
              "#ed7953"
             ],
             [
              0.7777777777777778,
              "#fb9f3a"
             ],
             [
              0.8888888888888888,
              "#fdca26"
             ],
             [
              1,
              "#f0f921"
             ]
            ],
            "type": "histogram2dcontour"
           }
          ],
          "mesh3d": [
           {
            "colorbar": {
             "outlinewidth": 0,
             "ticks": ""
            },
            "type": "mesh3d"
           }
          ],
          "parcoords": [
           {
            "line": {
             "colorbar": {
              "outlinewidth": 0,
              "ticks": ""
             }
            },
            "type": "parcoords"
           }
          ],
          "pie": [
           {
            "automargin": true,
            "type": "pie"
           }
          ],
          "scatter": [
           {
            "marker": {
             "colorbar": {
              "outlinewidth": 0,
              "ticks": ""
             }
            },
            "type": "scatter"
           }
          ],
          "scatter3d": [
           {
            "line": {
             "colorbar": {
              "outlinewidth": 0,
              "ticks": ""
             }
            },
            "marker": {
             "colorbar": {
              "outlinewidth": 0,
              "ticks": ""
             }
            },
            "type": "scatter3d"
           }
          ],
          "scattercarpet": [
           {
            "marker": {
             "colorbar": {
              "outlinewidth": 0,
              "ticks": ""
             }
            },
            "type": "scattercarpet"
           }
          ],
          "scattergeo": [
           {
            "marker": {
             "colorbar": {
              "outlinewidth": 0,
              "ticks": ""
             }
            },
            "type": "scattergeo"
           }
          ],
          "scattergl": [
           {
            "marker": {
             "colorbar": {
              "outlinewidth": 0,
              "ticks": ""
             }
            },
            "type": "scattergl"
           }
          ],
          "scattermapbox": [
           {
            "marker": {
             "colorbar": {
              "outlinewidth": 0,
              "ticks": ""
             }
            },
            "type": "scattermapbox"
           }
          ],
          "scatterpolar": [
           {
            "marker": {
             "colorbar": {
              "outlinewidth": 0,
              "ticks": ""
             }
            },
            "type": "scatterpolar"
           }
          ],
          "scatterpolargl": [
           {
            "marker": {
             "colorbar": {
              "outlinewidth": 0,
              "ticks": ""
             }
            },
            "type": "scatterpolargl"
           }
          ],
          "scatterternary": [
           {
            "marker": {
             "colorbar": {
              "outlinewidth": 0,
              "ticks": ""
             }
            },
            "type": "scatterternary"
           }
          ],
          "surface": [
           {
            "colorbar": {
             "outlinewidth": 0,
             "ticks": ""
            },
            "colorscale": [
             [
              0,
              "#0d0887"
             ],
             [
              0.1111111111111111,
              "#46039f"
             ],
             [
              0.2222222222222222,
              "#7201a8"
             ],
             [
              0.3333333333333333,
              "#9c179e"
             ],
             [
              0.4444444444444444,
              "#bd3786"
             ],
             [
              0.5555555555555556,
              "#d8576b"
             ],
             [
              0.6666666666666666,
              "#ed7953"
             ],
             [
              0.7777777777777778,
              "#fb9f3a"
             ],
             [
              0.8888888888888888,
              "#fdca26"
             ],
             [
              1,
              "#f0f921"
             ]
            ],
            "type": "surface"
           }
          ],
          "table": [
           {
            "cells": {
             "fill": {
              "color": "#EBF0F8"
             },
             "line": {
              "color": "white"
             }
            },
            "header": {
             "fill": {
              "color": "#C8D4E3"
             },
             "line": {
              "color": "white"
             }
            },
            "type": "table"
           }
          ]
         },
         "layout": {
          "annotationdefaults": {
           "arrowcolor": "#2a3f5f",
           "arrowhead": 0,
           "arrowwidth": 1
          },
          "coloraxis": {
           "colorbar": {
            "outlinewidth": 0,
            "ticks": ""
           }
          },
          "colorscale": {
           "diverging": [
            [
             0,
             "#8e0152"
            ],
            [
             0.1,
             "#c51b7d"
            ],
            [
             0.2,
             "#de77ae"
            ],
            [
             0.3,
             "#f1b6da"
            ],
            [
             0.4,
             "#fde0ef"
            ],
            [
             0.5,
             "#f7f7f7"
            ],
            [
             0.6,
             "#e6f5d0"
            ],
            [
             0.7,
             "#b8e186"
            ],
            [
             0.8,
             "#7fbc41"
            ],
            [
             0.9,
             "#4d9221"
            ],
            [
             1,
             "#276419"
            ]
           ],
           "sequential": [
            [
             0,
             "#0d0887"
            ],
            [
             0.1111111111111111,
             "#46039f"
            ],
            [
             0.2222222222222222,
             "#7201a8"
            ],
            [
             0.3333333333333333,
             "#9c179e"
            ],
            [
             0.4444444444444444,
             "#bd3786"
            ],
            [
             0.5555555555555556,
             "#d8576b"
            ],
            [
             0.6666666666666666,
             "#ed7953"
            ],
            [
             0.7777777777777778,
             "#fb9f3a"
            ],
            [
             0.8888888888888888,
             "#fdca26"
            ],
            [
             1,
             "#f0f921"
            ]
           ],
           "sequentialminus": [
            [
             0,
             "#0d0887"
            ],
            [
             0.1111111111111111,
             "#46039f"
            ],
            [
             0.2222222222222222,
             "#7201a8"
            ],
            [
             0.3333333333333333,
             "#9c179e"
            ],
            [
             0.4444444444444444,
             "#bd3786"
            ],
            [
             0.5555555555555556,
             "#d8576b"
            ],
            [
             0.6666666666666666,
             "#ed7953"
            ],
            [
             0.7777777777777778,
             "#fb9f3a"
            ],
            [
             0.8888888888888888,
             "#fdca26"
            ],
            [
             1,
             "#f0f921"
            ]
           ]
          },
          "colorway": [
           "#636efa",
           "#EF553B",
           "#00cc96",
           "#ab63fa",
           "#FFA15A",
           "#19d3f3",
           "#FF6692",
           "#B6E880",
           "#FF97FF",
           "#FECB52"
          ],
          "font": {
           "color": "#2a3f5f"
          },
          "geo": {
           "bgcolor": "white",
           "lakecolor": "white",
           "landcolor": "#E5ECF6",
           "showlakes": true,
           "showland": true,
           "subunitcolor": "white"
          },
          "hoverlabel": {
           "align": "left"
          },
          "hovermode": "closest",
          "mapbox": {
           "style": "light"
          },
          "paper_bgcolor": "white",
          "plot_bgcolor": "#E5ECF6",
          "polar": {
           "angularaxis": {
            "gridcolor": "white",
            "linecolor": "white",
            "ticks": ""
           },
           "bgcolor": "#E5ECF6",
           "radialaxis": {
            "gridcolor": "white",
            "linecolor": "white",
            "ticks": ""
           }
          },
          "scene": {
           "xaxis": {
            "backgroundcolor": "#E5ECF6",
            "gridcolor": "white",
            "gridwidth": 2,
            "linecolor": "white",
            "showbackground": true,
            "ticks": "",
            "zerolinecolor": "white"
           },
           "yaxis": {
            "backgroundcolor": "#E5ECF6",
            "gridcolor": "white",
            "gridwidth": 2,
            "linecolor": "white",
            "showbackground": true,
            "ticks": "",
            "zerolinecolor": "white"
           },
           "zaxis": {
            "backgroundcolor": "#E5ECF6",
            "gridcolor": "white",
            "gridwidth": 2,
            "linecolor": "white",
            "showbackground": true,
            "ticks": "",
            "zerolinecolor": "white"
           }
          },
          "shapedefaults": {
           "line": {
            "color": "#2a3f5f"
           }
          },
          "ternary": {
           "aaxis": {
            "gridcolor": "white",
            "linecolor": "white",
            "ticks": ""
           },
           "baxis": {
            "gridcolor": "white",
            "linecolor": "white",
            "ticks": ""
           },
           "bgcolor": "#E5ECF6",
           "caxis": {
            "gridcolor": "white",
            "linecolor": "white",
            "ticks": ""
           }
          },
          "title": {
           "x": 0.05
          },
          "xaxis": {
           "automargin": true,
           "gridcolor": "white",
           "linecolor": "white",
           "ticks": "",
           "title": {
            "standoff": 15
           },
           "zerolinecolor": "white",
           "zerolinewidth": 2
          },
          "yaxis": {
           "automargin": true,
           "gridcolor": "white",
           "linecolor": "white",
           "ticks": "",
           "title": {
            "standoff": 15
           },
           "zerolinecolor": "white",
           "zerolinewidth": 2
          }
         }
        },
        "xaxis": {
         "anchor": "y",
         "domain": [
          0,
          1
         ],
         "title": {
          "text": "Horario"
         }
        },
        "yaxis": {
         "anchor": "x",
         "domain": [
          0,
          1
         ],
         "title": {
          "text": "value"
         }
        }
       }
      }
     },
     "metadata": {}
    }
   ],
   "source": [
    "df.groupby('Horario')['IdOrden'].count().plot()"
   ]
  },
  {
   "source": [
    "Checking wich MetodoDePago move more cash overall"
   ],
   "cell_type": "markdown",
   "metadata": {}
  },
  {
   "cell_type": "code",
   "execution_count": 89,
   "metadata": {},
   "outputs": [
    {
     "output_type": "display_data",
     "data": {
      "application/vnd.plotly.v1+json": {
       "config": {
        "plotlyServerURL": "https://plot.ly"
       },
       "data": [
        {
         "alignmentgroup": "True",
         "hovertemplate": "variable=PagoCliente<br>MetodoDePago=%{x}<br>value=%{y}<extra></extra>",
         "legendgroup": "PagoCliente",
         "marker": {
          "color": "#636efa"
         },
         "name": "PagoCliente",
         "offsetgroup": "PagoCliente",
         "orientation": "v",
         "showlegend": true,
         "textposition": "auto",
         "type": "bar",
         "x": [
          "Efectivo",
          "Datáfono",
          "Tarjeta de crédito",
          "Efectivo y datáfono"
         ],
         "xaxis": "x",
         "y": [
          3801956823.46,
          987495018.619,
          971341450,
          11644276
         ],
         "yaxis": "y"
        }
       ],
       "layout": {
        "barmode": "relative",
        "legend": {
         "title": {
          "text": "variable"
         },
         "tracegroupgap": 0
        },
        "margin": {
         "t": 60
        },
        "template": {
         "data": {
          "bar": [
           {
            "error_x": {
             "color": "#2a3f5f"
            },
            "error_y": {
             "color": "#2a3f5f"
            },
            "marker": {
             "line": {
              "color": "#E5ECF6",
              "width": 0.5
             }
            },
            "type": "bar"
           }
          ],
          "barpolar": [
           {
            "marker": {
             "line": {
              "color": "#E5ECF6",
              "width": 0.5
             }
            },
            "type": "barpolar"
           }
          ],
          "carpet": [
           {
            "aaxis": {
             "endlinecolor": "#2a3f5f",
             "gridcolor": "white",
             "linecolor": "white",
             "minorgridcolor": "white",
             "startlinecolor": "#2a3f5f"
            },
            "baxis": {
             "endlinecolor": "#2a3f5f",
             "gridcolor": "white",
             "linecolor": "white",
             "minorgridcolor": "white",
             "startlinecolor": "#2a3f5f"
            },
            "type": "carpet"
           }
          ],
          "choropleth": [
           {
            "colorbar": {
             "outlinewidth": 0,
             "ticks": ""
            },
            "type": "choropleth"
           }
          ],
          "contour": [
           {
            "colorbar": {
             "outlinewidth": 0,
             "ticks": ""
            },
            "colorscale": [
             [
              0,
              "#0d0887"
             ],
             [
              0.1111111111111111,
              "#46039f"
             ],
             [
              0.2222222222222222,
              "#7201a8"
             ],
             [
              0.3333333333333333,
              "#9c179e"
             ],
             [
              0.4444444444444444,
              "#bd3786"
             ],
             [
              0.5555555555555556,
              "#d8576b"
             ],
             [
              0.6666666666666666,
              "#ed7953"
             ],
             [
              0.7777777777777778,
              "#fb9f3a"
             ],
             [
              0.8888888888888888,
              "#fdca26"
             ],
             [
              1,
              "#f0f921"
             ]
            ],
            "type": "contour"
           }
          ],
          "contourcarpet": [
           {
            "colorbar": {
             "outlinewidth": 0,
             "ticks": ""
            },
            "type": "contourcarpet"
           }
          ],
          "heatmap": [
           {
            "colorbar": {
             "outlinewidth": 0,
             "ticks": ""
            },
            "colorscale": [
             [
              0,
              "#0d0887"
             ],
             [
              0.1111111111111111,
              "#46039f"
             ],
             [
              0.2222222222222222,
              "#7201a8"
             ],
             [
              0.3333333333333333,
              "#9c179e"
             ],
             [
              0.4444444444444444,
              "#bd3786"
             ],
             [
              0.5555555555555556,
              "#d8576b"
             ],
             [
              0.6666666666666666,
              "#ed7953"
             ],
             [
              0.7777777777777778,
              "#fb9f3a"
             ],
             [
              0.8888888888888888,
              "#fdca26"
             ],
             [
              1,
              "#f0f921"
             ]
            ],
            "type": "heatmap"
           }
          ],
          "heatmapgl": [
           {
            "colorbar": {
             "outlinewidth": 0,
             "ticks": ""
            },
            "colorscale": [
             [
              0,
              "#0d0887"
             ],
             [
              0.1111111111111111,
              "#46039f"
             ],
             [
              0.2222222222222222,
              "#7201a8"
             ],
             [
              0.3333333333333333,
              "#9c179e"
             ],
             [
              0.4444444444444444,
              "#bd3786"
             ],
             [
              0.5555555555555556,
              "#d8576b"
             ],
             [
              0.6666666666666666,
              "#ed7953"
             ],
             [
              0.7777777777777778,
              "#fb9f3a"
             ],
             [
              0.8888888888888888,
              "#fdca26"
             ],
             [
              1,
              "#f0f921"
             ]
            ],
            "type": "heatmapgl"
           }
          ],
          "histogram": [
           {
            "marker": {
             "colorbar": {
              "outlinewidth": 0,
              "ticks": ""
             }
            },
            "type": "histogram"
           }
          ],
          "histogram2d": [
           {
            "colorbar": {
             "outlinewidth": 0,
             "ticks": ""
            },
            "colorscale": [
             [
              0,
              "#0d0887"
             ],
             [
              0.1111111111111111,
              "#46039f"
             ],
             [
              0.2222222222222222,
              "#7201a8"
             ],
             [
              0.3333333333333333,
              "#9c179e"
             ],
             [
              0.4444444444444444,
              "#bd3786"
             ],
             [
              0.5555555555555556,
              "#d8576b"
             ],
             [
              0.6666666666666666,
              "#ed7953"
             ],
             [
              0.7777777777777778,
              "#fb9f3a"
             ],
             [
              0.8888888888888888,
              "#fdca26"
             ],
             [
              1,
              "#f0f921"
             ]
            ],
            "type": "histogram2d"
           }
          ],
          "histogram2dcontour": [
           {
            "colorbar": {
             "outlinewidth": 0,
             "ticks": ""
            },
            "colorscale": [
             [
              0,
              "#0d0887"
             ],
             [
              0.1111111111111111,
              "#46039f"
             ],
             [
              0.2222222222222222,
              "#7201a8"
             ],
             [
              0.3333333333333333,
              "#9c179e"
             ],
             [
              0.4444444444444444,
              "#bd3786"
             ],
             [
              0.5555555555555556,
              "#d8576b"
             ],
             [
              0.6666666666666666,
              "#ed7953"
             ],
             [
              0.7777777777777778,
              "#fb9f3a"
             ],
             [
              0.8888888888888888,
              "#fdca26"
             ],
             [
              1,
              "#f0f921"
             ]
            ],
            "type": "histogram2dcontour"
           }
          ],
          "mesh3d": [
           {
            "colorbar": {
             "outlinewidth": 0,
             "ticks": ""
            },
            "type": "mesh3d"
           }
          ],
          "parcoords": [
           {
            "line": {
             "colorbar": {
              "outlinewidth": 0,
              "ticks": ""
             }
            },
            "type": "parcoords"
           }
          ],
          "pie": [
           {
            "automargin": true,
            "type": "pie"
           }
          ],
          "scatter": [
           {
            "marker": {
             "colorbar": {
              "outlinewidth": 0,
              "ticks": ""
             }
            },
            "type": "scatter"
           }
          ],
          "scatter3d": [
           {
            "line": {
             "colorbar": {
              "outlinewidth": 0,
              "ticks": ""
             }
            },
            "marker": {
             "colorbar": {
              "outlinewidth": 0,
              "ticks": ""
             }
            },
            "type": "scatter3d"
           }
          ],
          "scattercarpet": [
           {
            "marker": {
             "colorbar": {
              "outlinewidth": 0,
              "ticks": ""
             }
            },
            "type": "scattercarpet"
           }
          ],
          "scattergeo": [
           {
            "marker": {
             "colorbar": {
              "outlinewidth": 0,
              "ticks": ""
             }
            },
            "type": "scattergeo"
           }
          ],
          "scattergl": [
           {
            "marker": {
             "colorbar": {
              "outlinewidth": 0,
              "ticks": ""
             }
            },
            "type": "scattergl"
           }
          ],
          "scattermapbox": [
           {
            "marker": {
             "colorbar": {
              "outlinewidth": 0,
              "ticks": ""
             }
            },
            "type": "scattermapbox"
           }
          ],
          "scatterpolar": [
           {
            "marker": {
             "colorbar": {
              "outlinewidth": 0,
              "ticks": ""
             }
            },
            "type": "scatterpolar"
           }
          ],
          "scatterpolargl": [
           {
            "marker": {
             "colorbar": {
              "outlinewidth": 0,
              "ticks": ""
             }
            },
            "type": "scatterpolargl"
           }
          ],
          "scatterternary": [
           {
            "marker": {
             "colorbar": {
              "outlinewidth": 0,
              "ticks": ""
             }
            },
            "type": "scatterternary"
           }
          ],
          "surface": [
           {
            "colorbar": {
             "outlinewidth": 0,
             "ticks": ""
            },
            "colorscale": [
             [
              0,
              "#0d0887"
             ],
             [
              0.1111111111111111,
              "#46039f"
             ],
             [
              0.2222222222222222,
              "#7201a8"
             ],
             [
              0.3333333333333333,
              "#9c179e"
             ],
             [
              0.4444444444444444,
              "#bd3786"
             ],
             [
              0.5555555555555556,
              "#d8576b"
             ],
             [
              0.6666666666666666,
              "#ed7953"
             ],
             [
              0.7777777777777778,
              "#fb9f3a"
             ],
             [
              0.8888888888888888,
              "#fdca26"
             ],
             [
              1,
              "#f0f921"
             ]
            ],
            "type": "surface"
           }
          ],
          "table": [
           {
            "cells": {
             "fill": {
              "color": "#EBF0F8"
             },
             "line": {
              "color": "white"
             }
            },
            "header": {
             "fill": {
              "color": "#C8D4E3"
             },
             "line": {
              "color": "white"
             }
            },
            "type": "table"
           }
          ]
         },
         "layout": {
          "annotationdefaults": {
           "arrowcolor": "#2a3f5f",
           "arrowhead": 0,
           "arrowwidth": 1
          },
          "coloraxis": {
           "colorbar": {
            "outlinewidth": 0,
            "ticks": ""
           }
          },
          "colorscale": {
           "diverging": [
            [
             0,
             "#8e0152"
            ],
            [
             0.1,
             "#c51b7d"
            ],
            [
             0.2,
             "#de77ae"
            ],
            [
             0.3,
             "#f1b6da"
            ],
            [
             0.4,
             "#fde0ef"
            ],
            [
             0.5,
             "#f7f7f7"
            ],
            [
             0.6,
             "#e6f5d0"
            ],
            [
             0.7,
             "#b8e186"
            ],
            [
             0.8,
             "#7fbc41"
            ],
            [
             0.9,
             "#4d9221"
            ],
            [
             1,
             "#276419"
            ]
           ],
           "sequential": [
            [
             0,
             "#0d0887"
            ],
            [
             0.1111111111111111,
             "#46039f"
            ],
            [
             0.2222222222222222,
             "#7201a8"
            ],
            [
             0.3333333333333333,
             "#9c179e"
            ],
            [
             0.4444444444444444,
             "#bd3786"
            ],
            [
             0.5555555555555556,
             "#d8576b"
            ],
            [
             0.6666666666666666,
             "#ed7953"
            ],
            [
             0.7777777777777778,
             "#fb9f3a"
            ],
            [
             0.8888888888888888,
             "#fdca26"
            ],
            [
             1,
             "#f0f921"
            ]
           ],
           "sequentialminus": [
            [
             0,
             "#0d0887"
            ],
            [
             0.1111111111111111,
             "#46039f"
            ],
            [
             0.2222222222222222,
             "#7201a8"
            ],
            [
             0.3333333333333333,
             "#9c179e"
            ],
            [
             0.4444444444444444,
             "#bd3786"
            ],
            [
             0.5555555555555556,
             "#d8576b"
            ],
            [
             0.6666666666666666,
             "#ed7953"
            ],
            [
             0.7777777777777778,
             "#fb9f3a"
            ],
            [
             0.8888888888888888,
             "#fdca26"
            ],
            [
             1,
             "#f0f921"
            ]
           ]
          },
          "colorway": [
           "#636efa",
           "#EF553B",
           "#00cc96",
           "#ab63fa",
           "#FFA15A",
           "#19d3f3",
           "#FF6692",
           "#B6E880",
           "#FF97FF",
           "#FECB52"
          ],
          "font": {
           "color": "#2a3f5f"
          },
          "geo": {
           "bgcolor": "white",
           "lakecolor": "white",
           "landcolor": "#E5ECF6",
           "showlakes": true,
           "showland": true,
           "subunitcolor": "white"
          },
          "hoverlabel": {
           "align": "left"
          },
          "hovermode": "closest",
          "mapbox": {
           "style": "light"
          },
          "paper_bgcolor": "white",
          "plot_bgcolor": "#E5ECF6",
          "polar": {
           "angularaxis": {
            "gridcolor": "white",
            "linecolor": "white",
            "ticks": ""
           },
           "bgcolor": "#E5ECF6",
           "radialaxis": {
            "gridcolor": "white",
            "linecolor": "white",
            "ticks": ""
           }
          },
          "scene": {
           "xaxis": {
            "backgroundcolor": "#E5ECF6",
            "gridcolor": "white",
            "gridwidth": 2,
            "linecolor": "white",
            "showbackground": true,
            "ticks": "",
            "zerolinecolor": "white"
           },
           "yaxis": {
            "backgroundcolor": "#E5ECF6",
            "gridcolor": "white",
            "gridwidth": 2,
            "linecolor": "white",
            "showbackground": true,
            "ticks": "",
            "zerolinecolor": "white"
           },
           "zaxis": {
            "backgroundcolor": "#E5ECF6",
            "gridcolor": "white",
            "gridwidth": 2,
            "linecolor": "white",
            "showbackground": true,
            "ticks": "",
            "zerolinecolor": "white"
           }
          },
          "shapedefaults": {
           "line": {
            "color": "#2a3f5f"
           }
          },
          "ternary": {
           "aaxis": {
            "gridcolor": "white",
            "linecolor": "white",
            "ticks": ""
           },
           "baxis": {
            "gridcolor": "white",
            "linecolor": "white",
            "ticks": ""
           },
           "bgcolor": "#E5ECF6",
           "caxis": {
            "gridcolor": "white",
            "linecolor": "white",
            "ticks": ""
           }
          },
          "title": {
           "x": 0.05
          },
          "xaxis": {
           "automargin": true,
           "gridcolor": "white",
           "linecolor": "white",
           "ticks": "",
           "title": {
            "standoff": 15
           },
           "zerolinecolor": "white",
           "zerolinewidth": 2
          },
          "yaxis": {
           "automargin": true,
           "gridcolor": "white",
           "linecolor": "white",
           "ticks": "",
           "title": {
            "standoff": 15
           },
           "zerolinecolor": "white",
           "zerolinewidth": 2
          }
         }
        },
        "xaxis": {
         "anchor": "y",
         "domain": [
          0,
          1
         ],
         "title": {
          "text": "MetodoDePago"
         }
        },
        "yaxis": {
         "anchor": "x",
         "domain": [
          0,
          1
         ],
         "title": {
          "text": "value"
         }
        }
       }
      }
     },
     "metadata": {}
    }
   ],
   "source": [
    "df.groupby('MetodoDePago')['PagoCliente'].sum().sort_values(ascending=False).plot(kind='bar')"
   ]
  },
  {
   "source": [
    "Checking Calificacion feature, and the inplications of have a score  of 0 or 1"
   ],
   "cell_type": "markdown",
   "metadata": {}
  },
  {
   "cell_type": "code",
   "execution_count": 90,
   "metadata": {},
   "outputs": [
    {
     "output_type": "execute_result",
     "data": {
      "text/plain": "\\N    44053\n1     22682\n0      3446\nName: Calificacion, dtype: int64"
     },
     "metadata": {},
     "execution_count": 90
    }
   ],
   "source": [
    "df.Calificacion.value_counts()"
   ]
  },
  {
   "cell_type": "code",
   "execution_count": 91,
   "metadata": {},
   "outputs": [
    {
     "output_type": "execute_result",
     "data": {
      "text/plain": "              El producto estaba en mal estado  El producto estaba vencido  \\\nCalificacion                                                                 \n0                                          370                          78   \n1                                            0                           0   \n\\N                                           1                           0   \n\n              Me molesta no haber recibido este producto  \\\nCalificacion                                               \n0                                                    630   \n1                                                      1   \n\\N                                                     0   \n\n              No recibi el producto y me lo cobraron  \\\nCalificacion                                           \n0                                                915   \n1                                                  1   \n\\N                                                 4   \n\n              Recibí el producto equivocado  \nCalificacion                                 \n0                                       405  \n1                                         1  \n\\N                                        2  ",
      "text/html": "<div>\n<style scoped>\n    .dataframe tbody tr th:only-of-type {\n        vertical-align: middle;\n    }\n\n    .dataframe tbody tr th {\n        vertical-align: top;\n    }\n\n    .dataframe thead th {\n        text-align: right;\n    }\n</style>\n<table border=\"1\" class=\"dataframe\">\n  <thead>\n    <tr style=\"text-align: right;\">\n      <th></th>\n      <th>El producto estaba en mal estado</th>\n      <th>El producto estaba vencido</th>\n      <th>Me molesta no haber recibido este producto</th>\n      <th>No recibi el producto y me lo cobraron</th>\n      <th>Recibí el producto equivocado</th>\n    </tr>\n    <tr>\n      <th>Calificacion</th>\n      <th></th>\n      <th></th>\n      <th></th>\n      <th></th>\n      <th></th>\n    </tr>\n  </thead>\n  <tbody>\n    <tr>\n      <th>0</th>\n      <td>370</td>\n      <td>78</td>\n      <td>630</td>\n      <td>915</td>\n      <td>405</td>\n    </tr>\n    <tr>\n      <th>1</th>\n      <td>0</td>\n      <td>0</td>\n      <td>1</td>\n      <td>1</td>\n      <td>1</td>\n    </tr>\n    <tr>\n      <th>\\N</th>\n      <td>1</td>\n      <td>0</td>\n      <td>0</td>\n      <td>4</td>\n      <td>2</td>\n    </tr>\n  </tbody>\n</table>\n</div>"
     },
     "metadata": {},
     "execution_count": 91
    }
   ],
   "source": [
    "#df[df.Calificacion==1]\n",
    "df.groupby('Calificacion')['El producto estaba en mal estado','El producto estaba vencido',\t'Me molesta no haber recibido este producto','No recibi el producto y me lo cobraron','Recibí el producto equivocado'].sum()"
   ]
  },
  {
   "source": [
    "Seems that Calification=0 is bad.\n",
    "\n",
    "We also could see if StatusOrden was Cancelled and Devolucion"
   ],
   "cell_type": "markdown",
   "metadata": {}
  },
  {
   "cell_type": "code",
   "execution_count": 92,
   "metadata": {},
   "outputs": [
    {
     "output_type": "execute_result",
     "data": {
      "text/plain": "       IdOrden  Source osSource       FechaDespacho       FechaCreacion  \\\n18      431221  Device  Android 2018-02-02 06:19:19 2018-02-01 02:39:30   \n20      431223  Device  Android 2018-02-02 07:00:51 2018-02-01 03:51:48   \n27      431231  Device      iOS 2018-02-02 06:33:23 2018-02-01 05:36:01   \n30      431236  Device  Android 2018-02-05 06:16:44 2018-02-01 06:10:32   \n60      431267  Device      iOS 2018-02-02 08:24:06 2018-02-01 07:17:59   \n...        ...     ...      ...                 ...                 ...   \n70161   501368  Device      iOS 2018-04-01 06:35:35 2018-03-31 20:37:11   \n70172   501562  Device      iOS 2018-04-02 06:46:03 2018-03-31 23:05:07   \n70175   502106  Device      iOS 2018-04-02 06:35:11 2018-03-31 17:18:03   \n70176   503463  Device  Android 2018-04-02 13:14:14 2018-03-31 15:37:37   \n70179   504914  Device      iOS 2018-04-04 06:15:05 2018-03-31 15:56:43   \n\n             FechaGestion             Horario MetodoDePago  PagoCliente  \\\n18    2018-02-02 12:13:12  12:00 pm - 5:00 pm     Efectivo     105702.0   \n20    2018-02-02 09:00:39  7:00 am - 12:00 pm     Efectivo      62540.0   \n27    2018-02-02 14:16:06  12:00 pm - 5:00 pm     Efectivo      50430.0   \n30    2018-02-05 15:01:18  12:00 pm - 5:00 pm     Efectivo      50870.0   \n60    2018-02-02 10:32:57  7:00 am - 12:00 pm     Efectivo      60002.0   \n...                   ...                 ...          ...          ...   \n70161 2018-04-01 09:02:11  7:00 am - 12:00 pm     Efectivo      54450.0   \n70172 2018-04-02 13:38:49  12:00 pm - 5:00 pm     Datáfono      93700.0   \n70175 2018-04-02 11:29:07  7:00 am - 12:00 pm     Datáfono     131577.0   \n70176 2018-04-02 18:05:05  5:00 pm - 10:00 pm     Efectivo      25761.0   \n70179 2018-04-04 10:52:47  7:00 am - 12:00 pm     Datáfono      57770.0   \n\n       Descuento  Domicilio Calificacion       Bodega  Devolucion    Ciudad  \\\n18           0.0          0           \\N       Ferias           1    Bogotá   \n20           0.0       2500           \\N       Ferias           1    Bogotá   \n27           0.0          0           \\N       Ferias           1    Bogotá   \n30           0.0       2500           \\N       Ferias           1    Bogotá   \n60           0.0       2500            0       Ferias           1    Bogotá   \n...          ...        ...          ...          ...         ...       ...   \n70161        0.0       4500           \\N  La Estrella           1  Medellín   \n70172        0.0       4500           \\N  La Estrella           1  Medellín   \n70175    39473.0          0           \\N  La Estrella           1  Medellín   \n70176        0.0       4500           \\N  La Estrella           1  Medellín   \n70179    17331.0          0           \\N  La Estrella           1  Medellín   \n\n                 RazonCancelacionGeneral            nombre_picker_frio  \\\n18                Reprogramación-Cliente                            \\N   \n20     Cancelado definitivamente-Cliente  Brayan David Mayorga Serrato   \n27                                     0       Daniel  Alvarez Bonilla   \n30                Reprogramación-Cliente    Diego Mauricio Garzon Peña   \n60                                     0      Sergio David Plazas Cruz   \n...                                  ...                           ...   \n70161             Reprogramación-Cliente         Ximena Ricardo Oviedo   \n70172                                  0         Ximena Ricardo Oviedo   \n70175             Reprogramación-Cliente         Ximena Ricardo Oviedo   \n70176  Cancelado definitivamente-Cliente                            \\N   \n70179  Cancelado definitivamente-Cliente                            \\N   \n\n                       nombre_picker_seco            Tienda     Tipo  \\\n18                         anirley garzon    Merqueo Bogotá  Merqueo   \n20                         anirley garzon    Merqueo Bogotá  Merqueo   \n27                           HEIDI CUESTA    Merqueo Bogotá  Merqueo   \n30     sandra pachon prieto pachon prieto    Merqueo Bogotá  Merqueo   \n60                         anirley garzon    Merqueo Bogotá  Merqueo   \n...                                   ...               ...      ...   \n70161                      Nelson Herrera  Merqueo Medellín  Merqueo   \n70172    natalia andrea  zabala jaramillo  Merqueo Medellín  Merqueo   \n70175            yulieth  estrada montoya  Merqueo Medellín  Merqueo   \n70176               Ximena Ricardo Oviedo  Merqueo Medellín  Merqueo   \n70179                      Cristian Ortiz  Merqueo Medellín  Merqueo   \n\n      FechaEsperadaEntrega StatusOrden  Unidades  UnidadesDisponibles  \\\n18     2018-02-02 17:00:00   Cancelled        19                    0   \n20     2018-02-02 12:00:00   Cancelled         7                    0   \n27     2018-02-02 17:00:00   Delivered        12                   10   \n30     2018-02-05 17:00:00   Cancelled        12                    0   \n60     2018-02-02 12:00:00   Delivered        23                   18   \n...                    ...         ...       ...                  ...   \n70161  2018-04-01 12:00:00   Cancelled         6                    0   \n70172  2018-04-02 17:00:00   Delivered        31                   25   \n70175  2018-04-02 12:00:00   Cancelled        36                    0   \n70176  2018-04-02 22:00:00   Cancelled         6                    0   \n70179  2018-04-04 12:00:00   Cancelled        14                    0   \n\n       UnidadesNoDisponibles  Repartidor  Otro  TiempoEntrega  \\\n18                         0           0     0              0   \n20                         0           0     0              0   \n27                         0           0     0              0   \n30                         0           0     0              0   \n60                         4           0     1              0   \n...                      ...         ...   ...            ...   \n70161                      0           0     0              0   \n70172                      4           0     0              0   \n70175                      1           0     0              0   \n70176                      0           0     0              0   \n70179                      0           0     0              0   \n\n       El producto estaba en mal estado  El producto estaba vencido  \\\n18                                    0                           0   \n20                                    0                           0   \n27                                    0                           0   \n30                                    0                           0   \n60                                    0                           0   \n...                                 ...                         ...   \n70161                                 0                           0   \n70172                                 0                           0   \n70175                                 0                           0   \n70176                                 0                           0   \n70179                                 0                           0   \n\n       Me molesta no haber recibido este producto  \\\n18                                              0   \n20                                              0   \n27                                              0   \n30                                              0   \n60                                              0   \n...                                           ...   \n70161                                           0   \n70172                                           0   \n70175                                           0   \n70176                                           0   \n70179                                           0   \n\n       No recibi el producto y me lo cobraron  Recibí el producto equivocado  \n18                                          0                              0  \n20                                          0                              0  \n27                                          0                              0  \n30                                          0                              0  \n60                                          0                              0  \n...                                       ...                            ...  \n70161                                       0                              0  \n70172                                       0                              0  \n70175                                       0                              0  \n70176                                       0                              0  \n70179                                       0                              0  \n\n[5768 rows x 33 columns]",
      "text/html": "<div>\n<style scoped>\n    .dataframe tbody tr th:only-of-type {\n        vertical-align: middle;\n    }\n\n    .dataframe tbody tr th {\n        vertical-align: top;\n    }\n\n    .dataframe thead th {\n        text-align: right;\n    }\n</style>\n<table border=\"1\" class=\"dataframe\">\n  <thead>\n    <tr style=\"text-align: right;\">\n      <th></th>\n      <th>IdOrden</th>\n      <th>Source</th>\n      <th>osSource</th>\n      <th>FechaDespacho</th>\n      <th>FechaCreacion</th>\n      <th>FechaGestion</th>\n      <th>Horario</th>\n      <th>MetodoDePago</th>\n      <th>PagoCliente</th>\n      <th>Descuento</th>\n      <th>Domicilio</th>\n      <th>Calificacion</th>\n      <th>Bodega</th>\n      <th>Devolucion</th>\n      <th>Ciudad</th>\n      <th>RazonCancelacionGeneral</th>\n      <th>nombre_picker_frio</th>\n      <th>nombre_picker_seco</th>\n      <th>Tienda</th>\n      <th>Tipo</th>\n      <th>FechaEsperadaEntrega</th>\n      <th>StatusOrden</th>\n      <th>Unidades</th>\n      <th>UnidadesDisponibles</th>\n      <th>UnidadesNoDisponibles</th>\n      <th>Repartidor</th>\n      <th>Otro</th>\n      <th>TiempoEntrega</th>\n      <th>El producto estaba en mal estado</th>\n      <th>El producto estaba vencido</th>\n      <th>Me molesta no haber recibido este producto</th>\n      <th>No recibi el producto y me lo cobraron</th>\n      <th>Recibí el producto equivocado</th>\n    </tr>\n  </thead>\n  <tbody>\n    <tr>\n      <th>18</th>\n      <td>431221</td>\n      <td>Device</td>\n      <td>Android</td>\n      <td>2018-02-02 06:19:19</td>\n      <td>2018-02-01 02:39:30</td>\n      <td>2018-02-02 12:13:12</td>\n      <td>12:00 pm - 5:00 pm</td>\n      <td>Efectivo</td>\n      <td>105702.0</td>\n      <td>0.0</td>\n      <td>0</td>\n      <td>\\N</td>\n      <td>Ferias</td>\n      <td>1</td>\n      <td>Bogotá</td>\n      <td>Reprogramación-Cliente</td>\n      <td>\\N</td>\n      <td>anirley garzon</td>\n      <td>Merqueo Bogotá</td>\n      <td>Merqueo</td>\n      <td>2018-02-02 17:00:00</td>\n      <td>Cancelled</td>\n      <td>19</td>\n      <td>0</td>\n      <td>0</td>\n      <td>0</td>\n      <td>0</td>\n      <td>0</td>\n      <td>0</td>\n      <td>0</td>\n      <td>0</td>\n      <td>0</td>\n      <td>0</td>\n    </tr>\n    <tr>\n      <th>20</th>\n      <td>431223</td>\n      <td>Device</td>\n      <td>Android</td>\n      <td>2018-02-02 07:00:51</td>\n      <td>2018-02-01 03:51:48</td>\n      <td>2018-02-02 09:00:39</td>\n      <td>7:00 am - 12:00 pm</td>\n      <td>Efectivo</td>\n      <td>62540.0</td>\n      <td>0.0</td>\n      <td>2500</td>\n      <td>\\N</td>\n      <td>Ferias</td>\n      <td>1</td>\n      <td>Bogotá</td>\n      <td>Cancelado definitivamente-Cliente</td>\n      <td>Brayan David Mayorga Serrato</td>\n      <td>anirley garzon</td>\n      <td>Merqueo Bogotá</td>\n      <td>Merqueo</td>\n      <td>2018-02-02 12:00:00</td>\n      <td>Cancelled</td>\n      <td>7</td>\n      <td>0</td>\n      <td>0</td>\n      <td>0</td>\n      <td>0</td>\n      <td>0</td>\n      <td>0</td>\n      <td>0</td>\n      <td>0</td>\n      <td>0</td>\n      <td>0</td>\n    </tr>\n    <tr>\n      <th>27</th>\n      <td>431231</td>\n      <td>Device</td>\n      <td>iOS</td>\n      <td>2018-02-02 06:33:23</td>\n      <td>2018-02-01 05:36:01</td>\n      <td>2018-02-02 14:16:06</td>\n      <td>12:00 pm - 5:00 pm</td>\n      <td>Efectivo</td>\n      <td>50430.0</td>\n      <td>0.0</td>\n      <td>0</td>\n      <td>\\N</td>\n      <td>Ferias</td>\n      <td>1</td>\n      <td>Bogotá</td>\n      <td>0</td>\n      <td>Daniel  Alvarez Bonilla</td>\n      <td>HEIDI CUESTA</td>\n      <td>Merqueo Bogotá</td>\n      <td>Merqueo</td>\n      <td>2018-02-02 17:00:00</td>\n      <td>Delivered</td>\n      <td>12</td>\n      <td>10</td>\n      <td>0</td>\n      <td>0</td>\n      <td>0</td>\n      <td>0</td>\n      <td>0</td>\n      <td>0</td>\n      <td>0</td>\n      <td>0</td>\n      <td>0</td>\n    </tr>\n    <tr>\n      <th>30</th>\n      <td>431236</td>\n      <td>Device</td>\n      <td>Android</td>\n      <td>2018-02-05 06:16:44</td>\n      <td>2018-02-01 06:10:32</td>\n      <td>2018-02-05 15:01:18</td>\n      <td>12:00 pm - 5:00 pm</td>\n      <td>Efectivo</td>\n      <td>50870.0</td>\n      <td>0.0</td>\n      <td>2500</td>\n      <td>\\N</td>\n      <td>Ferias</td>\n      <td>1</td>\n      <td>Bogotá</td>\n      <td>Reprogramación-Cliente</td>\n      <td>Diego Mauricio Garzon Peña</td>\n      <td>sandra pachon prieto pachon prieto</td>\n      <td>Merqueo Bogotá</td>\n      <td>Merqueo</td>\n      <td>2018-02-05 17:00:00</td>\n      <td>Cancelled</td>\n      <td>12</td>\n      <td>0</td>\n      <td>0</td>\n      <td>0</td>\n      <td>0</td>\n      <td>0</td>\n      <td>0</td>\n      <td>0</td>\n      <td>0</td>\n      <td>0</td>\n      <td>0</td>\n    </tr>\n    <tr>\n      <th>60</th>\n      <td>431267</td>\n      <td>Device</td>\n      <td>iOS</td>\n      <td>2018-02-02 08:24:06</td>\n      <td>2018-02-01 07:17:59</td>\n      <td>2018-02-02 10:32:57</td>\n      <td>7:00 am - 12:00 pm</td>\n      <td>Efectivo</td>\n      <td>60002.0</td>\n      <td>0.0</td>\n      <td>2500</td>\n      <td>0</td>\n      <td>Ferias</td>\n      <td>1</td>\n      <td>Bogotá</td>\n      <td>0</td>\n      <td>Sergio David Plazas Cruz</td>\n      <td>anirley garzon</td>\n      <td>Merqueo Bogotá</td>\n      <td>Merqueo</td>\n      <td>2018-02-02 12:00:00</td>\n      <td>Delivered</td>\n      <td>23</td>\n      <td>18</td>\n      <td>4</td>\n      <td>0</td>\n      <td>1</td>\n      <td>0</td>\n      <td>0</td>\n      <td>0</td>\n      <td>0</td>\n      <td>0</td>\n      <td>0</td>\n    </tr>\n    <tr>\n      <th>...</th>\n      <td>...</td>\n      <td>...</td>\n      <td>...</td>\n      <td>...</td>\n      <td>...</td>\n      <td>...</td>\n      <td>...</td>\n      <td>...</td>\n      <td>...</td>\n      <td>...</td>\n      <td>...</td>\n      <td>...</td>\n      <td>...</td>\n      <td>...</td>\n      <td>...</td>\n      <td>...</td>\n      <td>...</td>\n      <td>...</td>\n      <td>...</td>\n      <td>...</td>\n      <td>...</td>\n      <td>...</td>\n      <td>...</td>\n      <td>...</td>\n      <td>...</td>\n      <td>...</td>\n      <td>...</td>\n      <td>...</td>\n      <td>...</td>\n      <td>...</td>\n      <td>...</td>\n      <td>...</td>\n      <td>...</td>\n    </tr>\n    <tr>\n      <th>70161</th>\n      <td>501368</td>\n      <td>Device</td>\n      <td>iOS</td>\n      <td>2018-04-01 06:35:35</td>\n      <td>2018-03-31 20:37:11</td>\n      <td>2018-04-01 09:02:11</td>\n      <td>7:00 am - 12:00 pm</td>\n      <td>Efectivo</td>\n      <td>54450.0</td>\n      <td>0.0</td>\n      <td>4500</td>\n      <td>\\N</td>\n      <td>La Estrella</td>\n      <td>1</td>\n      <td>Medellín</td>\n      <td>Reprogramación-Cliente</td>\n      <td>Ximena Ricardo Oviedo</td>\n      <td>Nelson Herrera</td>\n      <td>Merqueo Medellín</td>\n      <td>Merqueo</td>\n      <td>2018-04-01 12:00:00</td>\n      <td>Cancelled</td>\n      <td>6</td>\n      <td>0</td>\n      <td>0</td>\n      <td>0</td>\n      <td>0</td>\n      <td>0</td>\n      <td>0</td>\n      <td>0</td>\n      <td>0</td>\n      <td>0</td>\n      <td>0</td>\n    </tr>\n    <tr>\n      <th>70172</th>\n      <td>501562</td>\n      <td>Device</td>\n      <td>iOS</td>\n      <td>2018-04-02 06:46:03</td>\n      <td>2018-03-31 23:05:07</td>\n      <td>2018-04-02 13:38:49</td>\n      <td>12:00 pm - 5:00 pm</td>\n      <td>Datáfono</td>\n      <td>93700.0</td>\n      <td>0.0</td>\n      <td>4500</td>\n      <td>\\N</td>\n      <td>La Estrella</td>\n      <td>1</td>\n      <td>Medellín</td>\n      <td>0</td>\n      <td>Ximena Ricardo Oviedo</td>\n      <td>natalia andrea  zabala jaramillo</td>\n      <td>Merqueo Medellín</td>\n      <td>Merqueo</td>\n      <td>2018-04-02 17:00:00</td>\n      <td>Delivered</td>\n      <td>31</td>\n      <td>25</td>\n      <td>4</td>\n      <td>0</td>\n      <td>0</td>\n      <td>0</td>\n      <td>0</td>\n      <td>0</td>\n      <td>0</td>\n      <td>0</td>\n      <td>0</td>\n    </tr>\n    <tr>\n      <th>70175</th>\n      <td>502106</td>\n      <td>Device</td>\n      <td>iOS</td>\n      <td>2018-04-02 06:35:11</td>\n      <td>2018-03-31 17:18:03</td>\n      <td>2018-04-02 11:29:07</td>\n      <td>7:00 am - 12:00 pm</td>\n      <td>Datáfono</td>\n      <td>131577.0</td>\n      <td>39473.0</td>\n      <td>0</td>\n      <td>\\N</td>\n      <td>La Estrella</td>\n      <td>1</td>\n      <td>Medellín</td>\n      <td>Reprogramación-Cliente</td>\n      <td>Ximena Ricardo Oviedo</td>\n      <td>yulieth  estrada montoya</td>\n      <td>Merqueo Medellín</td>\n      <td>Merqueo</td>\n      <td>2018-04-02 12:00:00</td>\n      <td>Cancelled</td>\n      <td>36</td>\n      <td>0</td>\n      <td>1</td>\n      <td>0</td>\n      <td>0</td>\n      <td>0</td>\n      <td>0</td>\n      <td>0</td>\n      <td>0</td>\n      <td>0</td>\n      <td>0</td>\n    </tr>\n    <tr>\n      <th>70176</th>\n      <td>503463</td>\n      <td>Device</td>\n      <td>Android</td>\n      <td>2018-04-02 13:14:14</td>\n      <td>2018-03-31 15:37:37</td>\n      <td>2018-04-02 18:05:05</td>\n      <td>5:00 pm - 10:00 pm</td>\n      <td>Efectivo</td>\n      <td>25761.0</td>\n      <td>0.0</td>\n      <td>4500</td>\n      <td>\\N</td>\n      <td>La Estrella</td>\n      <td>1</td>\n      <td>Medellín</td>\n      <td>Cancelado definitivamente-Cliente</td>\n      <td>\\N</td>\n      <td>Ximena Ricardo Oviedo</td>\n      <td>Merqueo Medellín</td>\n      <td>Merqueo</td>\n      <td>2018-04-02 22:00:00</td>\n      <td>Cancelled</td>\n      <td>6</td>\n      <td>0</td>\n      <td>0</td>\n      <td>0</td>\n      <td>0</td>\n      <td>0</td>\n      <td>0</td>\n      <td>0</td>\n      <td>0</td>\n      <td>0</td>\n      <td>0</td>\n    </tr>\n    <tr>\n      <th>70179</th>\n      <td>504914</td>\n      <td>Device</td>\n      <td>iOS</td>\n      <td>2018-04-04 06:15:05</td>\n      <td>2018-03-31 15:56:43</td>\n      <td>2018-04-04 10:52:47</td>\n      <td>7:00 am - 12:00 pm</td>\n      <td>Datáfono</td>\n      <td>57770.0</td>\n      <td>17331.0</td>\n      <td>0</td>\n      <td>\\N</td>\n      <td>La Estrella</td>\n      <td>1</td>\n      <td>Medellín</td>\n      <td>Cancelado definitivamente-Cliente</td>\n      <td>\\N</td>\n      <td>Cristian Ortiz</td>\n      <td>Merqueo Medellín</td>\n      <td>Merqueo</td>\n      <td>2018-04-04 12:00:00</td>\n      <td>Cancelled</td>\n      <td>14</td>\n      <td>0</td>\n      <td>0</td>\n      <td>0</td>\n      <td>0</td>\n      <td>0</td>\n      <td>0</td>\n      <td>0</td>\n      <td>0</td>\n      <td>0</td>\n      <td>0</td>\n    </tr>\n  </tbody>\n</table>\n<p>5768 rows × 33 columns</p>\n</div>"
     },
     "metadata": {},
     "execution_count": 92
    }
   ],
   "source": [
    "df[df.Devolucion.isin([1])]#.mode(dropna=False)"
   ]
  },
  {
   "source": [
    "We Could see that more od the Devolucion=1 is because Unidades disponibles<Unidades"
   ],
   "cell_type": "markdown",
   "metadata": {}
  },
  {
   "source": [
    "Checking main razon of RazonCancelacionGeneral overall"
   ],
   "cell_type": "markdown",
   "metadata": {}
  },
  {
   "cell_type": "code",
   "execution_count": 93,
   "metadata": {},
   "outputs": [
    {
     "output_type": "display_data",
     "data": {
      "application/vnd.plotly.v1+json": {
       "config": {
        "plotlyServerURL": "https://plot.ly"
       },
       "data": [
        {
         "alignmentgroup": "True",
         "hovertemplate": "variable=RazonCancelacionGeneral<br>index=%{x}<br>value=%{y}<extra></extra>",
         "legendgroup": "RazonCancelacionGeneral",
         "marker": {
          "color": "#636efa"
         },
         "name": "RazonCancelacionGeneral",
         "offsetgroup": "RazonCancelacionGeneral",
         "orientation": "v",
         "showlegend": true,
         "textposition": "auto",
         "type": "bar",
         "x": [
          "Cancelado definitivamente-Cliente",
          "Reprogramación-Cliente",
          "Reprogramación-Merqueo",
          "Cancelado definitivamente-Merqueo",
          "Cancelado temporalmente-Cliente",
          "Otros",
          "Cancelado temporalmente-Merqueo"
         ],
         "xaxis": "x",
         "y": [
          4195,
          2638,
          581,
          263,
          28,
          11,
          2
         ],
         "yaxis": "y"
        }
       ],
       "layout": {
        "barmode": "relative",
        "legend": {
         "title": {
          "text": "variable"
         },
         "tracegroupgap": 0
        },
        "margin": {
         "t": 60
        },
        "template": {
         "data": {
          "bar": [
           {
            "error_x": {
             "color": "#2a3f5f"
            },
            "error_y": {
             "color": "#2a3f5f"
            },
            "marker": {
             "line": {
              "color": "#E5ECF6",
              "width": 0.5
             }
            },
            "type": "bar"
           }
          ],
          "barpolar": [
           {
            "marker": {
             "line": {
              "color": "#E5ECF6",
              "width": 0.5
             }
            },
            "type": "barpolar"
           }
          ],
          "carpet": [
           {
            "aaxis": {
             "endlinecolor": "#2a3f5f",
             "gridcolor": "white",
             "linecolor": "white",
             "minorgridcolor": "white",
             "startlinecolor": "#2a3f5f"
            },
            "baxis": {
             "endlinecolor": "#2a3f5f",
             "gridcolor": "white",
             "linecolor": "white",
             "minorgridcolor": "white",
             "startlinecolor": "#2a3f5f"
            },
            "type": "carpet"
           }
          ],
          "choropleth": [
           {
            "colorbar": {
             "outlinewidth": 0,
             "ticks": ""
            },
            "type": "choropleth"
           }
          ],
          "contour": [
           {
            "colorbar": {
             "outlinewidth": 0,
             "ticks": ""
            },
            "colorscale": [
             [
              0,
              "#0d0887"
             ],
             [
              0.1111111111111111,
              "#46039f"
             ],
             [
              0.2222222222222222,
              "#7201a8"
             ],
             [
              0.3333333333333333,
              "#9c179e"
             ],
             [
              0.4444444444444444,
              "#bd3786"
             ],
             [
              0.5555555555555556,
              "#d8576b"
             ],
             [
              0.6666666666666666,
              "#ed7953"
             ],
             [
              0.7777777777777778,
              "#fb9f3a"
             ],
             [
              0.8888888888888888,
              "#fdca26"
             ],
             [
              1,
              "#f0f921"
             ]
            ],
            "type": "contour"
           }
          ],
          "contourcarpet": [
           {
            "colorbar": {
             "outlinewidth": 0,
             "ticks": ""
            },
            "type": "contourcarpet"
           }
          ],
          "heatmap": [
           {
            "colorbar": {
             "outlinewidth": 0,
             "ticks": ""
            },
            "colorscale": [
             [
              0,
              "#0d0887"
             ],
             [
              0.1111111111111111,
              "#46039f"
             ],
             [
              0.2222222222222222,
              "#7201a8"
             ],
             [
              0.3333333333333333,
              "#9c179e"
             ],
             [
              0.4444444444444444,
              "#bd3786"
             ],
             [
              0.5555555555555556,
              "#d8576b"
             ],
             [
              0.6666666666666666,
              "#ed7953"
             ],
             [
              0.7777777777777778,
              "#fb9f3a"
             ],
             [
              0.8888888888888888,
              "#fdca26"
             ],
             [
              1,
              "#f0f921"
             ]
            ],
            "type": "heatmap"
           }
          ],
          "heatmapgl": [
           {
            "colorbar": {
             "outlinewidth": 0,
             "ticks": ""
            },
            "colorscale": [
             [
              0,
              "#0d0887"
             ],
             [
              0.1111111111111111,
              "#46039f"
             ],
             [
              0.2222222222222222,
              "#7201a8"
             ],
             [
              0.3333333333333333,
              "#9c179e"
             ],
             [
              0.4444444444444444,
              "#bd3786"
             ],
             [
              0.5555555555555556,
              "#d8576b"
             ],
             [
              0.6666666666666666,
              "#ed7953"
             ],
             [
              0.7777777777777778,
              "#fb9f3a"
             ],
             [
              0.8888888888888888,
              "#fdca26"
             ],
             [
              1,
              "#f0f921"
             ]
            ],
            "type": "heatmapgl"
           }
          ],
          "histogram": [
           {
            "marker": {
             "colorbar": {
              "outlinewidth": 0,
              "ticks": ""
             }
            },
            "type": "histogram"
           }
          ],
          "histogram2d": [
           {
            "colorbar": {
             "outlinewidth": 0,
             "ticks": ""
            },
            "colorscale": [
             [
              0,
              "#0d0887"
             ],
             [
              0.1111111111111111,
              "#46039f"
             ],
             [
              0.2222222222222222,
              "#7201a8"
             ],
             [
              0.3333333333333333,
              "#9c179e"
             ],
             [
              0.4444444444444444,
              "#bd3786"
             ],
             [
              0.5555555555555556,
              "#d8576b"
             ],
             [
              0.6666666666666666,
              "#ed7953"
             ],
             [
              0.7777777777777778,
              "#fb9f3a"
             ],
             [
              0.8888888888888888,
              "#fdca26"
             ],
             [
              1,
              "#f0f921"
             ]
            ],
            "type": "histogram2d"
           }
          ],
          "histogram2dcontour": [
           {
            "colorbar": {
             "outlinewidth": 0,
             "ticks": ""
            },
            "colorscale": [
             [
              0,
              "#0d0887"
             ],
             [
              0.1111111111111111,
              "#46039f"
             ],
             [
              0.2222222222222222,
              "#7201a8"
             ],
             [
              0.3333333333333333,
              "#9c179e"
             ],
             [
              0.4444444444444444,
              "#bd3786"
             ],
             [
              0.5555555555555556,
              "#d8576b"
             ],
             [
              0.6666666666666666,
              "#ed7953"
             ],
             [
              0.7777777777777778,
              "#fb9f3a"
             ],
             [
              0.8888888888888888,
              "#fdca26"
             ],
             [
              1,
              "#f0f921"
             ]
            ],
            "type": "histogram2dcontour"
           }
          ],
          "mesh3d": [
           {
            "colorbar": {
             "outlinewidth": 0,
             "ticks": ""
            },
            "type": "mesh3d"
           }
          ],
          "parcoords": [
           {
            "line": {
             "colorbar": {
              "outlinewidth": 0,
              "ticks": ""
             }
            },
            "type": "parcoords"
           }
          ],
          "pie": [
           {
            "automargin": true,
            "type": "pie"
           }
          ],
          "scatter": [
           {
            "marker": {
             "colorbar": {
              "outlinewidth": 0,
              "ticks": ""
             }
            },
            "type": "scatter"
           }
          ],
          "scatter3d": [
           {
            "line": {
             "colorbar": {
              "outlinewidth": 0,
              "ticks": ""
             }
            },
            "marker": {
             "colorbar": {
              "outlinewidth": 0,
              "ticks": ""
             }
            },
            "type": "scatter3d"
           }
          ],
          "scattercarpet": [
           {
            "marker": {
             "colorbar": {
              "outlinewidth": 0,
              "ticks": ""
             }
            },
            "type": "scattercarpet"
           }
          ],
          "scattergeo": [
           {
            "marker": {
             "colorbar": {
              "outlinewidth": 0,
              "ticks": ""
             }
            },
            "type": "scattergeo"
           }
          ],
          "scattergl": [
           {
            "marker": {
             "colorbar": {
              "outlinewidth": 0,
              "ticks": ""
             }
            },
            "type": "scattergl"
           }
          ],
          "scattermapbox": [
           {
            "marker": {
             "colorbar": {
              "outlinewidth": 0,
              "ticks": ""
             }
            },
            "type": "scattermapbox"
           }
          ],
          "scatterpolar": [
           {
            "marker": {
             "colorbar": {
              "outlinewidth": 0,
              "ticks": ""
             }
            },
            "type": "scatterpolar"
           }
          ],
          "scatterpolargl": [
           {
            "marker": {
             "colorbar": {
              "outlinewidth": 0,
              "ticks": ""
             }
            },
            "type": "scatterpolargl"
           }
          ],
          "scatterternary": [
           {
            "marker": {
             "colorbar": {
              "outlinewidth": 0,
              "ticks": ""
             }
            },
            "type": "scatterternary"
           }
          ],
          "surface": [
           {
            "colorbar": {
             "outlinewidth": 0,
             "ticks": ""
            },
            "colorscale": [
             [
              0,
              "#0d0887"
             ],
             [
              0.1111111111111111,
              "#46039f"
             ],
             [
              0.2222222222222222,
              "#7201a8"
             ],
             [
              0.3333333333333333,
              "#9c179e"
             ],
             [
              0.4444444444444444,
              "#bd3786"
             ],
             [
              0.5555555555555556,
              "#d8576b"
             ],
             [
              0.6666666666666666,
              "#ed7953"
             ],
             [
              0.7777777777777778,
              "#fb9f3a"
             ],
             [
              0.8888888888888888,
              "#fdca26"
             ],
             [
              1,
              "#f0f921"
             ]
            ],
            "type": "surface"
           }
          ],
          "table": [
           {
            "cells": {
             "fill": {
              "color": "#EBF0F8"
             },
             "line": {
              "color": "white"
             }
            },
            "header": {
             "fill": {
              "color": "#C8D4E3"
             },
             "line": {
              "color": "white"
             }
            },
            "type": "table"
           }
          ]
         },
         "layout": {
          "annotationdefaults": {
           "arrowcolor": "#2a3f5f",
           "arrowhead": 0,
           "arrowwidth": 1
          },
          "coloraxis": {
           "colorbar": {
            "outlinewidth": 0,
            "ticks": ""
           }
          },
          "colorscale": {
           "diverging": [
            [
             0,
             "#8e0152"
            ],
            [
             0.1,
             "#c51b7d"
            ],
            [
             0.2,
             "#de77ae"
            ],
            [
             0.3,
             "#f1b6da"
            ],
            [
             0.4,
             "#fde0ef"
            ],
            [
             0.5,
             "#f7f7f7"
            ],
            [
             0.6,
             "#e6f5d0"
            ],
            [
             0.7,
             "#b8e186"
            ],
            [
             0.8,
             "#7fbc41"
            ],
            [
             0.9,
             "#4d9221"
            ],
            [
             1,
             "#276419"
            ]
           ],
           "sequential": [
            [
             0,
             "#0d0887"
            ],
            [
             0.1111111111111111,
             "#46039f"
            ],
            [
             0.2222222222222222,
             "#7201a8"
            ],
            [
             0.3333333333333333,
             "#9c179e"
            ],
            [
             0.4444444444444444,
             "#bd3786"
            ],
            [
             0.5555555555555556,
             "#d8576b"
            ],
            [
             0.6666666666666666,
             "#ed7953"
            ],
            [
             0.7777777777777778,
             "#fb9f3a"
            ],
            [
             0.8888888888888888,
             "#fdca26"
            ],
            [
             1,
             "#f0f921"
            ]
           ],
           "sequentialminus": [
            [
             0,
             "#0d0887"
            ],
            [
             0.1111111111111111,
             "#46039f"
            ],
            [
             0.2222222222222222,
             "#7201a8"
            ],
            [
             0.3333333333333333,
             "#9c179e"
            ],
            [
             0.4444444444444444,
             "#bd3786"
            ],
            [
             0.5555555555555556,
             "#d8576b"
            ],
            [
             0.6666666666666666,
             "#ed7953"
            ],
            [
             0.7777777777777778,
             "#fb9f3a"
            ],
            [
             0.8888888888888888,
             "#fdca26"
            ],
            [
             1,
             "#f0f921"
            ]
           ]
          },
          "colorway": [
           "#636efa",
           "#EF553B",
           "#00cc96",
           "#ab63fa",
           "#FFA15A",
           "#19d3f3",
           "#FF6692",
           "#B6E880",
           "#FF97FF",
           "#FECB52"
          ],
          "font": {
           "color": "#2a3f5f"
          },
          "geo": {
           "bgcolor": "white",
           "lakecolor": "white",
           "landcolor": "#E5ECF6",
           "showlakes": true,
           "showland": true,
           "subunitcolor": "white"
          },
          "hoverlabel": {
           "align": "left"
          },
          "hovermode": "closest",
          "mapbox": {
           "style": "light"
          },
          "paper_bgcolor": "white",
          "plot_bgcolor": "#E5ECF6",
          "polar": {
           "angularaxis": {
            "gridcolor": "white",
            "linecolor": "white",
            "ticks": ""
           },
           "bgcolor": "#E5ECF6",
           "radialaxis": {
            "gridcolor": "white",
            "linecolor": "white",
            "ticks": ""
           }
          },
          "scene": {
           "xaxis": {
            "backgroundcolor": "#E5ECF6",
            "gridcolor": "white",
            "gridwidth": 2,
            "linecolor": "white",
            "showbackground": true,
            "ticks": "",
            "zerolinecolor": "white"
           },
           "yaxis": {
            "backgroundcolor": "#E5ECF6",
            "gridcolor": "white",
            "gridwidth": 2,
            "linecolor": "white",
            "showbackground": true,
            "ticks": "",
            "zerolinecolor": "white"
           },
           "zaxis": {
            "backgroundcolor": "#E5ECF6",
            "gridcolor": "white",
            "gridwidth": 2,
            "linecolor": "white",
            "showbackground": true,
            "ticks": "",
            "zerolinecolor": "white"
           }
          },
          "shapedefaults": {
           "line": {
            "color": "#2a3f5f"
           }
          },
          "ternary": {
           "aaxis": {
            "gridcolor": "white",
            "linecolor": "white",
            "ticks": ""
           },
           "baxis": {
            "gridcolor": "white",
            "linecolor": "white",
            "ticks": ""
           },
           "bgcolor": "#E5ECF6",
           "caxis": {
            "gridcolor": "white",
            "linecolor": "white",
            "ticks": ""
           }
          },
          "title": {
           "x": 0.05
          },
          "xaxis": {
           "automargin": true,
           "gridcolor": "white",
           "linecolor": "white",
           "ticks": "",
           "title": {
            "standoff": 15
           },
           "zerolinecolor": "white",
           "zerolinewidth": 2
          },
          "yaxis": {
           "automargin": true,
           "gridcolor": "white",
           "linecolor": "white",
           "ticks": "",
           "title": {
            "standoff": 15
           },
           "zerolinecolor": "white",
           "zerolinewidth": 2
          }
         }
        },
        "xaxis": {
         "anchor": "y",
         "domain": [
          0,
          1
         ],
         "title": {
          "text": "index"
         }
        },
        "yaxis": {
         "anchor": "x",
         "domain": [
          0,
          1
         ],
         "title": {
          "text": "value"
         }
        }
       }
      }
     },
     "metadata": {}
    }
   ],
   "source": [
    "df.RazonCancelacionGeneral.value_counts().drop(0).plot(kind='bar')"
   ]
  },
  {
   "cell_type": "code",
   "execution_count": 94,
   "metadata": {},
   "outputs": [
    {
     "output_type": "display_data",
     "data": {
      "application/vnd.plotly.v1+json": {
       "config": {
        "plotlyServerURL": "https://plot.ly"
       },
       "data": [
        {
         "alignmentgroup": "True",
         "hovertemplate": "variable=IdOrden<br>Tipo=%{x}<br>value=%{y}<extra></extra>",
         "legendgroup": "IdOrden",
         "marker": {
          "color": "#636efa"
         },
         "name": "IdOrden",
         "offsetgroup": "IdOrden",
         "orientation": "v",
         "showlegend": true,
         "textposition": "auto",
         "type": "bar",
         "x": [
          "Marketplace",
          "Merqueo"
         ],
         "xaxis": "x",
         "y": [
          877,
          69304
         ],
         "yaxis": "y"
        }
       ],
       "layout": {
        "barmode": "relative",
        "legend": {
         "title": {
          "text": "variable"
         },
         "tracegroupgap": 0
        },
        "margin": {
         "t": 60
        },
        "template": {
         "data": {
          "bar": [
           {
            "error_x": {
             "color": "#2a3f5f"
            },
            "error_y": {
             "color": "#2a3f5f"
            },
            "marker": {
             "line": {
              "color": "#E5ECF6",
              "width": 0.5
             }
            },
            "type": "bar"
           }
          ],
          "barpolar": [
           {
            "marker": {
             "line": {
              "color": "#E5ECF6",
              "width": 0.5
             }
            },
            "type": "barpolar"
           }
          ],
          "carpet": [
           {
            "aaxis": {
             "endlinecolor": "#2a3f5f",
             "gridcolor": "white",
             "linecolor": "white",
             "minorgridcolor": "white",
             "startlinecolor": "#2a3f5f"
            },
            "baxis": {
             "endlinecolor": "#2a3f5f",
             "gridcolor": "white",
             "linecolor": "white",
             "minorgridcolor": "white",
             "startlinecolor": "#2a3f5f"
            },
            "type": "carpet"
           }
          ],
          "choropleth": [
           {
            "colorbar": {
             "outlinewidth": 0,
             "ticks": ""
            },
            "type": "choropleth"
           }
          ],
          "contour": [
           {
            "colorbar": {
             "outlinewidth": 0,
             "ticks": ""
            },
            "colorscale": [
             [
              0,
              "#0d0887"
             ],
             [
              0.1111111111111111,
              "#46039f"
             ],
             [
              0.2222222222222222,
              "#7201a8"
             ],
             [
              0.3333333333333333,
              "#9c179e"
             ],
             [
              0.4444444444444444,
              "#bd3786"
             ],
             [
              0.5555555555555556,
              "#d8576b"
             ],
             [
              0.6666666666666666,
              "#ed7953"
             ],
             [
              0.7777777777777778,
              "#fb9f3a"
             ],
             [
              0.8888888888888888,
              "#fdca26"
             ],
             [
              1,
              "#f0f921"
             ]
            ],
            "type": "contour"
           }
          ],
          "contourcarpet": [
           {
            "colorbar": {
             "outlinewidth": 0,
             "ticks": ""
            },
            "type": "contourcarpet"
           }
          ],
          "heatmap": [
           {
            "colorbar": {
             "outlinewidth": 0,
             "ticks": ""
            },
            "colorscale": [
             [
              0,
              "#0d0887"
             ],
             [
              0.1111111111111111,
              "#46039f"
             ],
             [
              0.2222222222222222,
              "#7201a8"
             ],
             [
              0.3333333333333333,
              "#9c179e"
             ],
             [
              0.4444444444444444,
              "#bd3786"
             ],
             [
              0.5555555555555556,
              "#d8576b"
             ],
             [
              0.6666666666666666,
              "#ed7953"
             ],
             [
              0.7777777777777778,
              "#fb9f3a"
             ],
             [
              0.8888888888888888,
              "#fdca26"
             ],
             [
              1,
              "#f0f921"
             ]
            ],
            "type": "heatmap"
           }
          ],
          "heatmapgl": [
           {
            "colorbar": {
             "outlinewidth": 0,
             "ticks": ""
            },
            "colorscale": [
             [
              0,
              "#0d0887"
             ],
             [
              0.1111111111111111,
              "#46039f"
             ],
             [
              0.2222222222222222,
              "#7201a8"
             ],
             [
              0.3333333333333333,
              "#9c179e"
             ],
             [
              0.4444444444444444,
              "#bd3786"
             ],
             [
              0.5555555555555556,
              "#d8576b"
             ],
             [
              0.6666666666666666,
              "#ed7953"
             ],
             [
              0.7777777777777778,
              "#fb9f3a"
             ],
             [
              0.8888888888888888,
              "#fdca26"
             ],
             [
              1,
              "#f0f921"
             ]
            ],
            "type": "heatmapgl"
           }
          ],
          "histogram": [
           {
            "marker": {
             "colorbar": {
              "outlinewidth": 0,
              "ticks": ""
             }
            },
            "type": "histogram"
           }
          ],
          "histogram2d": [
           {
            "colorbar": {
             "outlinewidth": 0,
             "ticks": ""
            },
            "colorscale": [
             [
              0,
              "#0d0887"
             ],
             [
              0.1111111111111111,
              "#46039f"
             ],
             [
              0.2222222222222222,
              "#7201a8"
             ],
             [
              0.3333333333333333,
              "#9c179e"
             ],
             [
              0.4444444444444444,
              "#bd3786"
             ],
             [
              0.5555555555555556,
              "#d8576b"
             ],
             [
              0.6666666666666666,
              "#ed7953"
             ],
             [
              0.7777777777777778,
              "#fb9f3a"
             ],
             [
              0.8888888888888888,
              "#fdca26"
             ],
             [
              1,
              "#f0f921"
             ]
            ],
            "type": "histogram2d"
           }
          ],
          "histogram2dcontour": [
           {
            "colorbar": {
             "outlinewidth": 0,
             "ticks": ""
            },
            "colorscale": [
             [
              0,
              "#0d0887"
             ],
             [
              0.1111111111111111,
              "#46039f"
             ],
             [
              0.2222222222222222,
              "#7201a8"
             ],
             [
              0.3333333333333333,
              "#9c179e"
             ],
             [
              0.4444444444444444,
              "#bd3786"
             ],
             [
              0.5555555555555556,
              "#d8576b"
             ],
             [
              0.6666666666666666,
              "#ed7953"
             ],
             [
              0.7777777777777778,
              "#fb9f3a"
             ],
             [
              0.8888888888888888,
              "#fdca26"
             ],
             [
              1,
              "#f0f921"
             ]
            ],
            "type": "histogram2dcontour"
           }
          ],
          "mesh3d": [
           {
            "colorbar": {
             "outlinewidth": 0,
             "ticks": ""
            },
            "type": "mesh3d"
           }
          ],
          "parcoords": [
           {
            "line": {
             "colorbar": {
              "outlinewidth": 0,
              "ticks": ""
             }
            },
            "type": "parcoords"
           }
          ],
          "pie": [
           {
            "automargin": true,
            "type": "pie"
           }
          ],
          "scatter": [
           {
            "marker": {
             "colorbar": {
              "outlinewidth": 0,
              "ticks": ""
             }
            },
            "type": "scatter"
           }
          ],
          "scatter3d": [
           {
            "line": {
             "colorbar": {
              "outlinewidth": 0,
              "ticks": ""
             }
            },
            "marker": {
             "colorbar": {
              "outlinewidth": 0,
              "ticks": ""
             }
            },
            "type": "scatter3d"
           }
          ],
          "scattercarpet": [
           {
            "marker": {
             "colorbar": {
              "outlinewidth": 0,
              "ticks": ""
             }
            },
            "type": "scattercarpet"
           }
          ],
          "scattergeo": [
           {
            "marker": {
             "colorbar": {
              "outlinewidth": 0,
              "ticks": ""
             }
            },
            "type": "scattergeo"
           }
          ],
          "scattergl": [
           {
            "marker": {
             "colorbar": {
              "outlinewidth": 0,
              "ticks": ""
             }
            },
            "type": "scattergl"
           }
          ],
          "scattermapbox": [
           {
            "marker": {
             "colorbar": {
              "outlinewidth": 0,
              "ticks": ""
             }
            },
            "type": "scattermapbox"
           }
          ],
          "scatterpolar": [
           {
            "marker": {
             "colorbar": {
              "outlinewidth": 0,
              "ticks": ""
             }
            },
            "type": "scatterpolar"
           }
          ],
          "scatterpolargl": [
           {
            "marker": {
             "colorbar": {
              "outlinewidth": 0,
              "ticks": ""
             }
            },
            "type": "scatterpolargl"
           }
          ],
          "scatterternary": [
           {
            "marker": {
             "colorbar": {
              "outlinewidth": 0,
              "ticks": ""
             }
            },
            "type": "scatterternary"
           }
          ],
          "surface": [
           {
            "colorbar": {
             "outlinewidth": 0,
             "ticks": ""
            },
            "colorscale": [
             [
              0,
              "#0d0887"
             ],
             [
              0.1111111111111111,
              "#46039f"
             ],
             [
              0.2222222222222222,
              "#7201a8"
             ],
             [
              0.3333333333333333,
              "#9c179e"
             ],
             [
              0.4444444444444444,
              "#bd3786"
             ],
             [
              0.5555555555555556,
              "#d8576b"
             ],
             [
              0.6666666666666666,
              "#ed7953"
             ],
             [
              0.7777777777777778,
              "#fb9f3a"
             ],
             [
              0.8888888888888888,
              "#fdca26"
             ],
             [
              1,
              "#f0f921"
             ]
            ],
            "type": "surface"
           }
          ],
          "table": [
           {
            "cells": {
             "fill": {
              "color": "#EBF0F8"
             },
             "line": {
              "color": "white"
             }
            },
            "header": {
             "fill": {
              "color": "#C8D4E3"
             },
             "line": {
              "color": "white"
             }
            },
            "type": "table"
           }
          ]
         },
         "layout": {
          "annotationdefaults": {
           "arrowcolor": "#2a3f5f",
           "arrowhead": 0,
           "arrowwidth": 1
          },
          "coloraxis": {
           "colorbar": {
            "outlinewidth": 0,
            "ticks": ""
           }
          },
          "colorscale": {
           "diverging": [
            [
             0,
             "#8e0152"
            ],
            [
             0.1,
             "#c51b7d"
            ],
            [
             0.2,
             "#de77ae"
            ],
            [
             0.3,
             "#f1b6da"
            ],
            [
             0.4,
             "#fde0ef"
            ],
            [
             0.5,
             "#f7f7f7"
            ],
            [
             0.6,
             "#e6f5d0"
            ],
            [
             0.7,
             "#b8e186"
            ],
            [
             0.8,
             "#7fbc41"
            ],
            [
             0.9,
             "#4d9221"
            ],
            [
             1,
             "#276419"
            ]
           ],
           "sequential": [
            [
             0,
             "#0d0887"
            ],
            [
             0.1111111111111111,
             "#46039f"
            ],
            [
             0.2222222222222222,
             "#7201a8"
            ],
            [
             0.3333333333333333,
             "#9c179e"
            ],
            [
             0.4444444444444444,
             "#bd3786"
            ],
            [
             0.5555555555555556,
             "#d8576b"
            ],
            [
             0.6666666666666666,
             "#ed7953"
            ],
            [
             0.7777777777777778,
             "#fb9f3a"
            ],
            [
             0.8888888888888888,
             "#fdca26"
            ],
            [
             1,
             "#f0f921"
            ]
           ],
           "sequentialminus": [
            [
             0,
             "#0d0887"
            ],
            [
             0.1111111111111111,
             "#46039f"
            ],
            [
             0.2222222222222222,
             "#7201a8"
            ],
            [
             0.3333333333333333,
             "#9c179e"
            ],
            [
             0.4444444444444444,
             "#bd3786"
            ],
            [
             0.5555555555555556,
             "#d8576b"
            ],
            [
             0.6666666666666666,
             "#ed7953"
            ],
            [
             0.7777777777777778,
             "#fb9f3a"
            ],
            [
             0.8888888888888888,
             "#fdca26"
            ],
            [
             1,
             "#f0f921"
            ]
           ]
          },
          "colorway": [
           "#636efa",
           "#EF553B",
           "#00cc96",
           "#ab63fa",
           "#FFA15A",
           "#19d3f3",
           "#FF6692",
           "#B6E880",
           "#FF97FF",
           "#FECB52"
          ],
          "font": {
           "color": "#2a3f5f"
          },
          "geo": {
           "bgcolor": "white",
           "lakecolor": "white",
           "landcolor": "#E5ECF6",
           "showlakes": true,
           "showland": true,
           "subunitcolor": "white"
          },
          "hoverlabel": {
           "align": "left"
          },
          "hovermode": "closest",
          "mapbox": {
           "style": "light"
          },
          "paper_bgcolor": "white",
          "plot_bgcolor": "#E5ECF6",
          "polar": {
           "angularaxis": {
            "gridcolor": "white",
            "linecolor": "white",
            "ticks": ""
           },
           "bgcolor": "#E5ECF6",
           "radialaxis": {
            "gridcolor": "white",
            "linecolor": "white",
            "ticks": ""
           }
          },
          "scene": {
           "xaxis": {
            "backgroundcolor": "#E5ECF6",
            "gridcolor": "white",
            "gridwidth": 2,
            "linecolor": "white",
            "showbackground": true,
            "ticks": "",
            "zerolinecolor": "white"
           },
           "yaxis": {
            "backgroundcolor": "#E5ECF6",
            "gridcolor": "white",
            "gridwidth": 2,
            "linecolor": "white",
            "showbackground": true,
            "ticks": "",
            "zerolinecolor": "white"
           },
           "zaxis": {
            "backgroundcolor": "#E5ECF6",
            "gridcolor": "white",
            "gridwidth": 2,
            "linecolor": "white",
            "showbackground": true,
            "ticks": "",
            "zerolinecolor": "white"
           }
          },
          "shapedefaults": {
           "line": {
            "color": "#2a3f5f"
           }
          },
          "ternary": {
           "aaxis": {
            "gridcolor": "white",
            "linecolor": "white",
            "ticks": ""
           },
           "baxis": {
            "gridcolor": "white",
            "linecolor": "white",
            "ticks": ""
           },
           "bgcolor": "#E5ECF6",
           "caxis": {
            "gridcolor": "white",
            "linecolor": "white",
            "ticks": ""
           }
          },
          "title": {
           "x": 0.05
          },
          "xaxis": {
           "automargin": true,
           "gridcolor": "white",
           "linecolor": "white",
           "ticks": "",
           "title": {
            "standoff": 15
           },
           "zerolinecolor": "white",
           "zerolinewidth": 2
          },
          "yaxis": {
           "automargin": true,
           "gridcolor": "white",
           "linecolor": "white",
           "ticks": "",
           "title": {
            "standoff": 15
           },
           "zerolinecolor": "white",
           "zerolinewidth": 2
          }
         }
        },
        "xaxis": {
         "anchor": "y",
         "domain": [
          0,
          1
         ],
         "title": {
          "text": "Tipo"
         }
        },
        "yaxis": {
         "anchor": "x",
         "domain": [
          0,
          1
         ],
         "title": {
          "text": "value"
         }
        }
       }
      }
     },
     "metadata": {}
    }
   ],
   "source": [
    "df.groupby('Tipo')['IdOrden'].count().plot(kind='bar')"
   ]
  },
  {
   "source": [
    "Bast majority of the oderder types is place on Merqueo.\n",
    "\n",
    "Some insight is to look a the item that is most sell by marketplace to incomportorate it in Merqueo."
   ],
   "cell_type": "markdown",
   "metadata": {}
  },
  {
   "source": [
    "'Repartidor','Otro','TiempoEntrega' features?"
   ],
   "cell_type": "markdown",
   "metadata": {}
  },
  {
   "cell_type": "code",
   "execution_count": 95,
   "metadata": {},
   "outputs": [
    {
     "output_type": "execute_result",
     "data": {
      "text/plain": "Repartidor  Otro  TiempoEntrega\n0           0     0                68960\n                  1                  331\n            1     0                  409\n                  1                   11\n1           0     0                  379\n                  1                   72\n            1     0                   12\n                  1                    7\nName: IdOrden, dtype: int64"
     },
     "metadata": {},
     "execution_count": 95
    }
   ],
   "source": [
    "df.groupby(['Repartidor','Otro','TiempoEntrega'])['IdOrden'].count()"
   ]
  },
  {
   "source": [
    "Need to have a better undertating of those features "
   ],
   "cell_type": "markdown",
   "metadata": {}
  },
  {
   "source": [
    "Last I want to check which Bodega is more deamanded"
   ],
   "cell_type": "markdown",
   "metadata": {}
  },
  {
   "cell_type": "code",
   "execution_count": 96,
   "metadata": {},
   "outputs": [
    {
     "output_type": "execute_result",
     "data": {
      "text/plain": "Ferias         40321\nMontevideo     23997\nLa Estrella     5863\nName: Bodega, dtype: int64"
     },
     "metadata": {},
     "execution_count": 96
    }
   ],
   "source": [
    "df.Bodega.value_counts()"
   ]
  },
  {
   "cell_type": "code",
   "execution_count": 97,
   "metadata": {},
   "outputs": [
    {
     "output_type": "display_data",
     "data": {
      "text/plain": "<Figure size 576x576 with 1 Axes>",
      "image/svg+xml": "<?xml version=\"1.0\" encoding=\"utf-8\" standalone=\"no\"?>\n<!DOCTYPE svg PUBLIC \"-//W3C//DTD SVG 1.1//EN\"\n  \"http://www.w3.org/Graphics/SVG/1.1/DTD/svg11.dtd\">\n<!-- Created with matplotlib (https://matplotlib.org/) -->\n<svg height=\"449.28pt\" version=\"1.1\" viewBox=\"0 0 466.995738 449.28\" width=\"466.995738pt\" xmlns=\"http://www.w3.org/2000/svg\" xmlns:xlink=\"http://www.w3.org/1999/xlink\">\n <metadata>\n  <rdf:RDF xmlns:cc=\"http://creativecommons.org/ns#\" xmlns:dc=\"http://purl.org/dc/elements/1.1/\" xmlns:rdf=\"http://www.w3.org/1999/02/22-rdf-syntax-ns#\">\n   <cc:Work>\n    <dc:type rdf:resource=\"http://purl.org/dc/dcmitype/StillImage\"/>\n    <dc:date>2020-09-14T12:30:51.787598</dc:date>\n    <dc:format>image/svg+xml</dc:format>\n    <dc:creator>\n     <cc:Agent>\n      <dc:title>Matplotlib v3.3.1, https://matplotlib.org/</dc:title>\n     </cc:Agent>\n    </dc:creator>\n   </cc:Work>\n  </rdf:RDF>\n </metadata>\n <defs>\n  <style type=\"text/css\">*{stroke-linecap:butt;stroke-linejoin:round;}</style>\n </defs>\n <g id=\"figure_1\">\n  <g id=\"patch_1\">\n   <path d=\"M 0 449.28 \nL 466.995738 449.28 \nL 466.995738 0 \nL 0 0 \nz\n\" style=\"fill:none;\"/>\n  </g>\n  <g id=\"axes_1\">\n   <g id=\"patch_2\">\n    <path d=\"M 219.18403 58.294853 \nC 192.829314 58.294853 166.815985 64.284187 143.114779 75.809111 \nC 119.413572 87.334034 98.638517 104.09597 82.363505 124.825057 \nC 66.088493 145.554144 54.735161 169.71335 49.163624 195.472408 \nC 43.592087 221.231465 43.946686 247.92303 50.200557 273.524986 \nC 56.454429 299.126942 68.445553 322.976016 85.265499 343.265434 \nC 102.085444 363.554852 123.298455 379.758974 147.297462 390.650198 \nC 171.296468 401.541421 197.459725 406.837586 223.80514 406.137462 \nC 250.150555 405.437337 275.995594 398.759062 299.382271 386.608573 \nL 219.18403 232.246853 \nL 219.18403 58.294853 \nz\n\" style=\"fill:#092436;opacity:0.5;stroke:#092436;stroke-linejoin:miter;\"/>\n   </g>\n   <g id=\"patch_3\">\n    <path d=\"M 316.280618 382.480759 \nC 329.551479 375.585917 341.877957 367.008378 352.954783 356.960567 \nC 364.03161 346.912755 373.766582 335.478309 381.91861 322.940406 \nL 236.082377 228.11904 \nL 316.280618 382.480759 \nz\n\" style=\"fill:#4c2604;opacity:0.5;stroke:#4c2604;stroke-linejoin:miter;\"/>\n   </g>\n   <g id=\"patch_4\">\n    <path d=\"M 381.91861 322.940406 \nC 398.987353 296.688505 408.655168 266.308494 409.897432 235.020141 \nC 411.139695 203.731788 403.910913 172.680919 388.977214 145.158403 \nC 374.043515 117.635887 351.951794 94.649639 325.0434 78.635814 \nC 298.135006 62.621989 267.395365 54.167037 236.082361 54.16704 \nL 236.082377 228.11904 \nL 381.91861 322.940406 \nz\n\" style=\"fill:#0d300d;opacity:0.5;stroke:#0d300d;stroke-linejoin:miter;\"/>\n   </g>\n   <g id=\"patch_5\">\n    <path d=\"M 222.66307 54.815813 \nC 196.308354 54.815813 170.295025 60.805147 146.593819 72.330071 \nC 122.892612 83.854994 102.117557 100.61693 85.842545 121.346017 \nC 69.567533 142.075104 58.214201 166.23431 52.642664 191.993368 \nC 47.071127 217.752425 47.425726 244.44399 53.679597 270.045946 \nC 59.933469 295.647902 71.924593 319.496976 88.744539 339.786394 \nC 105.564484 360.075812 126.777495 376.279934 150.776502 387.171158 \nC 174.775508 398.062381 200.938765 403.358546 227.28418 402.658422 \nC 253.629595 401.958297 279.474634 395.280022 302.861311 383.129533 \nL 222.66307 228.767813 \nL 222.66307 54.815813 \nz\n\" style=\"fill:#1f77b4;\"/>\n   </g>\n   <g id=\"patch_6\">\n    <path d=\"M 319.759658 379.001719 \nC 333.030519 372.106877 345.356997 363.529338 356.433823 353.481527 \nC 367.51065 343.433715 377.245622 331.999269 385.39765 319.461366 \nL 239.561417 224.64 \nL 319.759658 379.001719 \nz\n\" style=\"fill:#ff7f0e;\"/>\n   </g>\n   <g id=\"patch_7\">\n    <path d=\"M 385.39765 319.461366 \nC 402.466393 293.209465 412.134208 262.829454 413.376472 231.541101 \nC 414.618735 200.252748 407.389953 169.201879 392.456254 141.679363 \nC 377.522555 114.156847 355.430834 91.170599 328.52244 75.156774 \nC 301.614046 59.142949 270.874405 50.687997 239.561401 50.688 \nL 239.561417 224.64 \nL 385.39765 319.461366 \nz\n\" style=\"fill:#2ca02c;\"/>\n   </g>\n   <g id=\"matplotlib.axis_1\"/>\n   <g id=\"matplotlib.axis_2\"/>\n   <g id=\"text_1\">\n    <!-- Ferias -->\n    <g transform=\"translate(7.2 276.933134)scale(0.1 -0.1)\">\n     <defs>\n      <path d=\"M 9.8125 72.90625 \nL 51.703125 72.90625 \nL 51.703125 64.59375 \nL 19.671875 64.59375 \nL 19.671875 43.109375 \nL 48.578125 43.109375 \nL 48.578125 34.8125 \nL 19.671875 34.8125 \nL 19.671875 0 \nL 9.8125 0 \nz\n\" id=\"DejaVuSans-70\"/>\n      <path d=\"M 56.203125 29.59375 \nL 56.203125 25.203125 \nL 14.890625 25.203125 \nQ 15.484375 15.921875 20.484375 11.0625 \nQ 25.484375 6.203125 34.421875 6.203125 \nQ 39.59375 6.203125 44.453125 7.46875 \nQ 49.3125 8.734375 54.109375 11.28125 \nL 54.109375 2.78125 \nQ 49.265625 0.734375 44.1875 -0.34375 \nQ 39.109375 -1.421875 33.890625 -1.421875 \nQ 20.796875 -1.421875 13.15625 6.1875 \nQ 5.515625 13.8125 5.515625 26.8125 \nQ 5.515625 40.234375 12.765625 48.109375 \nQ 20.015625 56 32.328125 56 \nQ 43.359375 56 49.78125 48.890625 \nQ 56.203125 41.796875 56.203125 29.59375 \nz\nM 47.21875 32.234375 \nQ 47.125 39.59375 43.09375 43.984375 \nQ 39.0625 48.390625 32.421875 48.390625 \nQ 24.90625 48.390625 20.390625 44.140625 \nQ 15.875 39.890625 15.1875 32.171875 \nz\n\" id=\"DejaVuSans-101\"/>\n      <path d=\"M 41.109375 46.296875 \nQ 39.59375 47.171875 37.8125 47.578125 \nQ 36.03125 48 33.890625 48 \nQ 26.265625 48 22.1875 43.046875 \nQ 18.109375 38.09375 18.109375 28.8125 \nL 18.109375 0 \nL 9.078125 0 \nL 9.078125 54.6875 \nL 18.109375 54.6875 \nL 18.109375 46.1875 \nQ 20.953125 51.171875 25.484375 53.578125 \nQ 30.03125 56 36.53125 56 \nQ 37.453125 56 38.578125 55.875 \nQ 39.703125 55.765625 41.0625 55.515625 \nz\n\" id=\"DejaVuSans-114\"/>\n      <path d=\"M 9.421875 54.6875 \nL 18.40625 54.6875 \nL 18.40625 0 \nL 9.421875 0 \nz\nM 9.421875 75.984375 \nL 18.40625 75.984375 \nL 18.40625 64.59375 \nL 9.421875 64.59375 \nz\n\" id=\"DejaVuSans-105\"/>\n      <path d=\"M 34.28125 27.484375 \nQ 23.390625 27.484375 19.1875 25 \nQ 14.984375 22.515625 14.984375 16.5 \nQ 14.984375 11.71875 18.140625 8.90625 \nQ 21.296875 6.109375 26.703125 6.109375 \nQ 34.1875 6.109375 38.703125 11.40625 \nQ 43.21875 16.703125 43.21875 25.484375 \nL 43.21875 27.484375 \nz\nM 52.203125 31.203125 \nL 52.203125 0 \nL 43.21875 0 \nL 43.21875 8.296875 \nQ 40.140625 3.328125 35.546875 0.953125 \nQ 30.953125 -1.421875 24.3125 -1.421875 \nQ 15.921875 -1.421875 10.953125 3.296875 \nQ 6 8.015625 6 15.921875 \nQ 6 25.140625 12.171875 29.828125 \nQ 18.359375 34.515625 30.609375 34.515625 \nL 43.21875 34.515625 \nL 43.21875 35.40625 \nQ 43.21875 41.609375 39.140625 45 \nQ 35.0625 48.390625 27.6875 48.390625 \nQ 23 48.390625 18.546875 47.265625 \nQ 14.109375 46.140625 10.015625 43.890625 \nL 10.015625 52.203125 \nQ 14.9375 54.109375 19.578125 55.046875 \nQ 24.21875 56 28.609375 56 \nQ 40.484375 56 46.34375 49.84375 \nQ 52.203125 43.703125 52.203125 31.203125 \nz\n\" id=\"DejaVuSans-97\"/>\n      <path d=\"M 44.28125 53.078125 \nL 44.28125 44.578125 \nQ 40.484375 46.53125 36.375 47.5 \nQ 32.28125 48.484375 27.875 48.484375 \nQ 21.1875 48.484375 17.84375 46.4375 \nQ 14.5 44.390625 14.5 40.28125 \nQ 14.5 37.15625 16.890625 35.375 \nQ 19.28125 33.59375 26.515625 31.984375 \nL 29.59375 31.296875 \nQ 39.15625 29.25 43.1875 25.515625 \nQ 47.21875 21.78125 47.21875 15.09375 \nQ 47.21875 7.46875 41.1875 3.015625 \nQ 35.15625 -1.421875 24.609375 -1.421875 \nQ 20.21875 -1.421875 15.453125 -0.5625 \nQ 10.6875 0.296875 5.421875 2 \nL 5.421875 11.28125 \nQ 10.40625 8.6875 15.234375 7.390625 \nQ 20.0625 6.109375 24.8125 6.109375 \nQ 31.15625 6.109375 34.5625 8.28125 \nQ 37.984375 10.453125 37.984375 14.40625 \nQ 37.984375 18.0625 35.515625 20.015625 \nQ 33.0625 21.96875 24.703125 23.78125 \nL 21.578125 24.515625 \nQ 13.234375 26.265625 9.515625 29.90625 \nQ 5.8125 33.546875 5.8125 39.890625 \nQ 5.8125 47.609375 11.28125 51.796875 \nQ 16.75 56 26.8125 56 \nQ 31.78125 56 36.171875 55.265625 \nQ 40.578125 54.546875 44.28125 53.078125 \nz\n\" id=\"DejaVuSans-115\"/>\n     </defs>\n     <use xlink:href=\"#DejaVuSans-70\"/>\n     <use x=\"52.019531\" xlink:href=\"#DejaVuSans-101\"/>\n     <use x=\"113.542969\" xlink:href=\"#DejaVuSans-114\"/>\n     <use x=\"154.65625\" xlink:href=\"#DejaVuSans-105\"/>\n     <use x=\"182.439453\" xlink:href=\"#DejaVuSans-97\"/>\n     <use x=\"243.71875\" xlink:href=\"#DejaVuSans-115\"/>\n    </g>\n   </g>\n   <g id=\"text_2\">\n    <!-- 57.6% -->\n    <g transform=\"translate(105.389393 256.294068)scale(0.1 -0.1)\">\n     <defs>\n      <path d=\"M 10.796875 72.90625 \nL 49.515625 72.90625 \nL 49.515625 64.59375 \nL 19.828125 64.59375 \nL 19.828125 46.734375 \nQ 21.96875 47.46875 24.109375 47.828125 \nQ 26.265625 48.1875 28.421875 48.1875 \nQ 40.625 48.1875 47.75 41.5 \nQ 54.890625 34.8125 54.890625 23.390625 \nQ 54.890625 11.625 47.5625 5.09375 \nQ 40.234375 -1.421875 26.90625 -1.421875 \nQ 22.3125 -1.421875 17.546875 -0.640625 \nQ 12.796875 0.140625 7.71875 1.703125 \nL 7.71875 11.625 \nQ 12.109375 9.234375 16.796875 8.0625 \nQ 21.484375 6.890625 26.703125 6.890625 \nQ 35.15625 6.890625 40.078125 11.328125 \nQ 45.015625 15.765625 45.015625 23.390625 \nQ 45.015625 31 40.078125 35.4375 \nQ 35.15625 39.890625 26.703125 39.890625 \nQ 22.75 39.890625 18.8125 39.015625 \nQ 14.890625 38.140625 10.796875 36.28125 \nz\n\" id=\"DejaVuSans-53\"/>\n      <path d=\"M 8.203125 72.90625 \nL 55.078125 72.90625 \nL 55.078125 68.703125 \nL 28.609375 0 \nL 18.3125 0 \nL 43.21875 64.59375 \nL 8.203125 64.59375 \nz\n\" id=\"DejaVuSans-55\"/>\n      <path d=\"M 10.6875 12.40625 \nL 21 12.40625 \nL 21 0 \nL 10.6875 0 \nz\n\" id=\"DejaVuSans-46\"/>\n      <path d=\"M 33.015625 40.375 \nQ 26.375 40.375 22.484375 35.828125 \nQ 18.609375 31.296875 18.609375 23.390625 \nQ 18.609375 15.53125 22.484375 10.953125 \nQ 26.375 6.390625 33.015625 6.390625 \nQ 39.65625 6.390625 43.53125 10.953125 \nQ 47.40625 15.53125 47.40625 23.390625 \nQ 47.40625 31.296875 43.53125 35.828125 \nQ 39.65625 40.375 33.015625 40.375 \nz\nM 52.59375 71.296875 \nL 52.59375 62.3125 \nQ 48.875 64.0625 45.09375 64.984375 \nQ 41.3125 65.921875 37.59375 65.921875 \nQ 27.828125 65.921875 22.671875 59.328125 \nQ 17.53125 52.734375 16.796875 39.40625 \nQ 19.671875 43.65625 24.015625 45.921875 \nQ 28.375 48.1875 33.59375 48.1875 \nQ 44.578125 48.1875 50.953125 41.515625 \nQ 57.328125 34.859375 57.328125 23.390625 \nQ 57.328125 12.15625 50.6875 5.359375 \nQ 44.046875 -1.421875 33.015625 -1.421875 \nQ 20.359375 -1.421875 13.671875 8.265625 \nQ 6.984375 17.96875 6.984375 36.375 \nQ 6.984375 53.65625 15.1875 63.9375 \nQ 23.390625 74.21875 37.203125 74.21875 \nQ 40.921875 74.21875 44.703125 73.484375 \nQ 48.484375 72.75 52.59375 71.296875 \nz\n\" id=\"DejaVuSans-54\"/>\n      <path d=\"M 72.703125 32.078125 \nQ 68.453125 32.078125 66.03125 28.46875 \nQ 63.625 24.859375 63.625 18.40625 \nQ 63.625 12.0625 66.03125 8.421875 \nQ 68.453125 4.78125 72.703125 4.78125 \nQ 76.859375 4.78125 79.265625 8.421875 \nQ 81.6875 12.0625 81.6875 18.40625 \nQ 81.6875 24.8125 79.265625 28.4375 \nQ 76.859375 32.078125 72.703125 32.078125 \nz\nM 72.703125 38.28125 \nQ 80.421875 38.28125 84.953125 32.90625 \nQ 89.5 27.546875 89.5 18.40625 \nQ 89.5 9.28125 84.9375 3.921875 \nQ 80.375 -1.421875 72.703125 -1.421875 \nQ 64.890625 -1.421875 60.34375 3.921875 \nQ 55.8125 9.28125 55.8125 18.40625 \nQ 55.8125 27.59375 60.375 32.9375 \nQ 64.9375 38.28125 72.703125 38.28125 \nz\nM 22.3125 68.015625 \nQ 18.109375 68.015625 15.6875 64.375 \nQ 13.28125 60.75 13.28125 54.390625 \nQ 13.28125 47.953125 15.671875 44.328125 \nQ 18.0625 40.71875 22.3125 40.71875 \nQ 26.5625 40.71875 28.96875 44.328125 \nQ 31.390625 47.953125 31.390625 54.390625 \nQ 31.390625 60.6875 28.953125 64.34375 \nQ 26.515625 68.015625 22.3125 68.015625 \nz\nM 66.40625 74.21875 \nL 74.21875 74.21875 \nL 28.609375 -1.421875 \nL 20.796875 -1.421875 \nz\nM 22.3125 74.21875 \nQ 30.03125 74.21875 34.609375 68.875 \nQ 39.203125 63.53125 39.203125 54.390625 \nQ 39.203125 45.171875 34.640625 39.84375 \nQ 30.078125 34.515625 22.3125 34.515625 \nQ 14.546875 34.515625 10.03125 39.859375 \nQ 5.515625 45.21875 5.515625 54.390625 \nQ 5.515625 63.484375 10.046875 68.84375 \nQ 14.59375 74.21875 22.3125 74.21875 \nz\n\" id=\"DejaVuSans-37\"/>\n     </defs>\n     <use xlink:href=\"#DejaVuSans-53\"/>\n     <use x=\"63.623047\" xlink:href=\"#DejaVuSans-55\"/>\n     <use x=\"127.246094\" xlink:href=\"#DejaVuSans-46\"/>\n     <use x=\"159.033203\" xlink:href=\"#DejaVuSans-54\"/>\n     <use x=\"222.65625\" xlink:href=\"#DejaVuSans-37\"/>\n    </g>\n   </g>\n   <g id=\"text_3\">\n    <!-- Montevideo -->\n    <g transform=\"translate(368.121064 369.125054)scale(0.1 -0.1)\">\n     <defs>\n      <path d=\"M 9.8125 72.90625 \nL 24.515625 72.90625 \nL 43.109375 23.296875 \nL 61.8125 72.90625 \nL 76.515625 72.90625 \nL 76.515625 0 \nL 66.890625 0 \nL 66.890625 64.015625 \nL 48.09375 14.015625 \nL 38.1875 14.015625 \nL 19.390625 64.015625 \nL 19.390625 0 \nL 9.8125 0 \nz\n\" id=\"DejaVuSans-77\"/>\n      <path d=\"M 30.609375 48.390625 \nQ 23.390625 48.390625 19.1875 42.75 \nQ 14.984375 37.109375 14.984375 27.296875 \nQ 14.984375 17.484375 19.15625 11.84375 \nQ 23.34375 6.203125 30.609375 6.203125 \nQ 37.796875 6.203125 41.984375 11.859375 \nQ 46.1875 17.53125 46.1875 27.296875 \nQ 46.1875 37.015625 41.984375 42.703125 \nQ 37.796875 48.390625 30.609375 48.390625 \nz\nM 30.609375 56 \nQ 42.328125 56 49.015625 48.375 \nQ 55.71875 40.765625 55.71875 27.296875 \nQ 55.71875 13.875 49.015625 6.21875 \nQ 42.328125 -1.421875 30.609375 -1.421875 \nQ 18.84375 -1.421875 12.171875 6.21875 \nQ 5.515625 13.875 5.515625 27.296875 \nQ 5.515625 40.765625 12.171875 48.375 \nQ 18.84375 56 30.609375 56 \nz\n\" id=\"DejaVuSans-111\"/>\n      <path d=\"M 54.890625 33.015625 \nL 54.890625 0 \nL 45.90625 0 \nL 45.90625 32.71875 \nQ 45.90625 40.484375 42.875 44.328125 \nQ 39.84375 48.1875 33.796875 48.1875 \nQ 26.515625 48.1875 22.3125 43.546875 \nQ 18.109375 38.921875 18.109375 30.90625 \nL 18.109375 0 \nL 9.078125 0 \nL 9.078125 54.6875 \nL 18.109375 54.6875 \nL 18.109375 46.1875 \nQ 21.34375 51.125 25.703125 53.5625 \nQ 30.078125 56 35.796875 56 \nQ 45.21875 56 50.046875 50.171875 \nQ 54.890625 44.34375 54.890625 33.015625 \nz\n\" id=\"DejaVuSans-110\"/>\n      <path d=\"M 18.3125 70.21875 \nL 18.3125 54.6875 \nL 36.8125 54.6875 \nL 36.8125 47.703125 \nL 18.3125 47.703125 \nL 18.3125 18.015625 \nQ 18.3125 11.328125 20.140625 9.421875 \nQ 21.96875 7.515625 27.59375 7.515625 \nL 36.8125 7.515625 \nL 36.8125 0 \nL 27.59375 0 \nQ 17.1875 0 13.234375 3.875 \nQ 9.28125 7.765625 9.28125 18.015625 \nL 9.28125 47.703125 \nL 2.6875 47.703125 \nL 2.6875 54.6875 \nL 9.28125 54.6875 \nL 9.28125 70.21875 \nz\n\" id=\"DejaVuSans-116\"/>\n      <path d=\"M 2.984375 54.6875 \nL 12.5 54.6875 \nL 29.59375 8.796875 \nL 46.6875 54.6875 \nL 56.203125 54.6875 \nL 35.6875 0 \nL 23.484375 0 \nz\n\" id=\"DejaVuSans-118\"/>\n      <path d=\"M 45.40625 46.390625 \nL 45.40625 75.984375 \nL 54.390625 75.984375 \nL 54.390625 0 \nL 45.40625 0 \nL 45.40625 8.203125 \nQ 42.578125 3.328125 38.25 0.953125 \nQ 33.9375 -1.421875 27.875 -1.421875 \nQ 17.96875 -1.421875 11.734375 6.484375 \nQ 5.515625 14.40625 5.515625 27.296875 \nQ 5.515625 40.1875 11.734375 48.09375 \nQ 17.96875 56 27.875 56 \nQ 33.9375 56 38.25 53.625 \nQ 42.578125 51.265625 45.40625 46.390625 \nz\nM 14.796875 27.296875 \nQ 14.796875 17.390625 18.875 11.75 \nQ 22.953125 6.109375 30.078125 6.109375 \nQ 37.203125 6.109375 41.296875 11.75 \nQ 45.40625 17.390625 45.40625 27.296875 \nQ 45.40625 37.203125 41.296875 42.84375 \nQ 37.203125 48.484375 30.078125 48.484375 \nQ 22.953125 48.484375 18.875 42.84375 \nQ 14.796875 37.203125 14.796875 27.296875 \nz\n\" id=\"DejaVuSans-100\"/>\n     </defs>\n     <use xlink:href=\"#DejaVuSans-77\"/>\n     <use x=\"86.279297\" xlink:href=\"#DejaVuSans-111\"/>\n     <use x=\"147.460938\" xlink:href=\"#DejaVuSans-110\"/>\n     <use x=\"210.839844\" xlink:href=\"#DejaVuSans-116\"/>\n     <use x=\"250.048828\" xlink:href=\"#DejaVuSans-101\"/>\n     <use x=\"311.572266\" xlink:href=\"#DejaVuSans-118\"/>\n     <use x=\"370.751953\" xlink:href=\"#DejaVuSans-105\"/>\n     <use x=\"398.535156\" xlink:href=\"#DejaVuSans-100\"/>\n     <use x=\"462.011719\" xlink:href=\"#DejaVuSans-101\"/>\n     <use x=\"523.535156\" xlink:href=\"#DejaVuSans-111\"/>\n    </g>\n   </g>\n   <g id=\"text_4\">\n    <!-- 8.2% -->\n    <g transform=\"translate(296.982517 304.704291)scale(0.1 -0.1)\">\n     <defs>\n      <path d=\"M 31.78125 34.625 \nQ 24.75 34.625 20.71875 30.859375 \nQ 16.703125 27.09375 16.703125 20.515625 \nQ 16.703125 13.921875 20.71875 10.15625 \nQ 24.75 6.390625 31.78125 6.390625 \nQ 38.8125 6.390625 42.859375 10.171875 \nQ 46.921875 13.96875 46.921875 20.515625 \nQ 46.921875 27.09375 42.890625 30.859375 \nQ 38.875 34.625 31.78125 34.625 \nz\nM 21.921875 38.8125 \nQ 15.578125 40.375 12.03125 44.71875 \nQ 8.5 49.078125 8.5 55.328125 \nQ 8.5 64.0625 14.71875 69.140625 \nQ 20.953125 74.21875 31.78125 74.21875 \nQ 42.671875 74.21875 48.875 69.140625 \nQ 55.078125 64.0625 55.078125 55.328125 \nQ 55.078125 49.078125 51.53125 44.71875 \nQ 48 40.375 41.703125 38.8125 \nQ 48.828125 37.15625 52.796875 32.3125 \nQ 56.78125 27.484375 56.78125 20.515625 \nQ 56.78125 9.90625 50.3125 4.234375 \nQ 43.84375 -1.421875 31.78125 -1.421875 \nQ 19.734375 -1.421875 13.25 4.234375 \nQ 6.78125 9.90625 6.78125 20.515625 \nQ 6.78125 27.484375 10.78125 32.3125 \nQ 14.796875 37.15625 21.921875 38.8125 \nz\nM 18.3125 54.390625 \nQ 18.3125 48.734375 21.84375 45.5625 \nQ 25.390625 42.390625 31.78125 42.390625 \nQ 38.140625 42.390625 41.71875 45.5625 \nQ 45.3125 48.734375 45.3125 54.390625 \nQ 45.3125 60.0625 41.71875 63.234375 \nQ 38.140625 66.40625 31.78125 66.40625 \nQ 25.390625 66.40625 21.84375 63.234375 \nQ 18.3125 60.0625 18.3125 54.390625 \nz\n\" id=\"DejaVuSans-56\"/>\n      <path d=\"M 19.1875 8.296875 \nL 53.609375 8.296875 \nL 53.609375 0 \nL 7.328125 0 \nL 7.328125 8.296875 \nQ 12.9375 14.109375 22.625 23.890625 \nQ 32.328125 33.6875 34.8125 36.53125 \nQ 39.546875 41.84375 41.421875 45.53125 \nQ 43.3125 49.21875 43.3125 52.78125 \nQ 43.3125 58.59375 39.234375 62.25 \nQ 35.15625 65.921875 28.609375 65.921875 \nQ 23.96875 65.921875 18.8125 64.3125 \nQ 13.671875 62.703125 7.8125 59.421875 \nL 7.8125 69.390625 \nQ 13.765625 71.78125 18.9375 73 \nQ 24.125 74.21875 28.421875 74.21875 \nQ 39.75 74.21875 46.484375 68.546875 \nQ 53.21875 62.890625 53.21875 53.421875 \nQ 53.21875 48.921875 51.53125 44.890625 \nQ 49.859375 40.875 45.40625 35.40625 \nQ 44.1875 33.984375 37.640625 27.21875 \nQ 31.109375 20.453125 19.1875 8.296875 \nz\n\" id=\"DejaVuSans-50\"/>\n     </defs>\n     <use xlink:href=\"#DejaVuSans-56\"/>\n     <use x=\"63.623047\" xlink:href=\"#DejaVuSans-46\"/>\n     <use x=\"95.410156\" xlink:href=\"#DejaVuSans-50\"/>\n     <use x=\"159.033203\" xlink:href=\"#DejaVuSans-37\"/>\n    </g>\n   </g>\n   <g id=\"text_5\">\n    <!-- La Estrella -->\n    <g transform=\"translate(407.745738 136.142675)scale(0.1 -0.1)\">\n     <defs>\n      <path d=\"M 9.8125 72.90625 \nL 19.671875 72.90625 \nL 19.671875 8.296875 \nL 55.171875 8.296875 \nL 55.171875 0 \nL 9.8125 0 \nz\n\" id=\"DejaVuSans-76\"/>\n      <path id=\"DejaVuSans-32\"/>\n      <path d=\"M 9.8125 72.90625 \nL 55.90625 72.90625 \nL 55.90625 64.59375 \nL 19.671875 64.59375 \nL 19.671875 43.015625 \nL 54.390625 43.015625 \nL 54.390625 34.71875 \nL 19.671875 34.71875 \nL 19.671875 8.296875 \nL 56.78125 8.296875 \nL 56.78125 0 \nL 9.8125 0 \nz\n\" id=\"DejaVuSans-69\"/>\n      <path d=\"M 9.421875 75.984375 \nL 18.40625 75.984375 \nL 18.40625 0 \nL 9.421875 0 \nz\n\" id=\"DejaVuSans-108\"/>\n     </defs>\n     <use xlink:href=\"#DejaVuSans-76\"/>\n     <use x=\"55.712891\" xlink:href=\"#DejaVuSans-97\"/>\n     <use x=\"116.992188\" xlink:href=\"#DejaVuSans-32\"/>\n     <use x=\"148.779297\" xlink:href=\"#DejaVuSans-69\"/>\n     <use x=\"211.962891\" xlink:href=\"#DejaVuSans-115\"/>\n     <use x=\"264.0625\" xlink:href=\"#DejaVuSans-116\"/>\n     <use x=\"303.271484\" xlink:href=\"#DejaVuSans-114\"/>\n     <use x=\"342.134766\" xlink:href=\"#DejaVuSans-101\"/>\n     <use x=\"403.658203\" xlink:href=\"#DejaVuSans-108\"/>\n     <use x=\"431.441406\" xlink:href=\"#DejaVuSans-108\"/>\n     <use x=\"459.224609\" xlink:href=\"#DejaVuSans-97\"/>\n    </g>\n   </g>\n   <g id=\"text_6\">\n    <!-- 34.2% -->\n    <g transform=\"translate(315.414726 177.622993)scale(0.1 -0.1)\">\n     <defs>\n      <path d=\"M 40.578125 39.3125 \nQ 47.65625 37.796875 51.625 33 \nQ 55.609375 28.21875 55.609375 21.1875 \nQ 55.609375 10.40625 48.1875 4.484375 \nQ 40.765625 -1.421875 27.09375 -1.421875 \nQ 22.515625 -1.421875 17.65625 -0.515625 \nQ 12.796875 0.390625 7.625 2.203125 \nL 7.625 11.71875 \nQ 11.71875 9.328125 16.59375 8.109375 \nQ 21.484375 6.890625 26.8125 6.890625 \nQ 36.078125 6.890625 40.9375 10.546875 \nQ 45.796875 14.203125 45.796875 21.1875 \nQ 45.796875 27.640625 41.28125 31.265625 \nQ 36.765625 34.90625 28.71875 34.90625 \nL 20.21875 34.90625 \nL 20.21875 43.015625 \nL 29.109375 43.015625 \nQ 36.375 43.015625 40.234375 45.921875 \nQ 44.09375 48.828125 44.09375 54.296875 \nQ 44.09375 59.90625 40.109375 62.90625 \nQ 36.140625 65.921875 28.71875 65.921875 \nQ 24.65625 65.921875 20.015625 65.03125 \nQ 15.375 64.15625 9.8125 62.3125 \nL 9.8125 71.09375 \nQ 15.4375 72.65625 20.34375 73.4375 \nQ 25.25 74.21875 29.59375 74.21875 \nQ 40.828125 74.21875 47.359375 69.109375 \nQ 53.90625 64.015625 53.90625 55.328125 \nQ 53.90625 49.265625 50.4375 45.09375 \nQ 46.96875 40.921875 40.578125 39.3125 \nz\n\" id=\"DejaVuSans-51\"/>\n      <path d=\"M 37.796875 64.3125 \nL 12.890625 25.390625 \nL 37.796875 25.390625 \nz\nM 35.203125 72.90625 \nL 47.609375 72.90625 \nL 47.609375 25.390625 \nL 58.015625 25.390625 \nL 58.015625 17.1875 \nL 47.609375 17.1875 \nL 47.609375 0 \nL 37.796875 0 \nL 37.796875 17.1875 \nL 4.890625 17.1875 \nL 4.890625 26.703125 \nz\n\" id=\"DejaVuSans-52\"/>\n     </defs>\n     <use xlink:href=\"#DejaVuSans-51\"/>\n     <use x=\"63.623047\" xlink:href=\"#DejaVuSans-52\"/>\n     <use x=\"127.246094\" xlink:href=\"#DejaVuSans-46\"/>\n     <use x=\"159.033203\" xlink:href=\"#DejaVuSans-50\"/>\n     <use x=\"222.65625\" xlink:href=\"#DejaVuSans-37\"/>\n    </g>\n   </g>\n  </g>\n </g>\n</svg>\n",
      "image/png": "[encoded data removed]"
     },
     "metadata": {}
    }
   ],
   "source": [
    "temp=df[df['StatusOrden']=='Delivered'].groupby('Bodega')['Source'].count().reset_index(name='count')\n",
    "labels=df.Bodega.unique()\n",
    "sizes=temp['count']\n",
    "explode = (0.1, 0,0)\n",
    "\n",
    "plt.figure(figsize=(8,8))\n",
    "plt.pie(sizes, explode=explode, labels=labels, autopct='%1.1f%%',shadow=True, startangle=90)\n",
    "plt.show()"
   ]
  },
  {
   "source": [
    "Ferias have the most demand"
   ],
   "cell_type": "markdown",
   "metadata": {}
  },
  {
   "source": [
    "best picker by month 'nombre_picker_frio', 'nombre_picker_seco' must be the one with more deliveries and income?¿ and whith a Calificacion=1"
   ],
   "cell_type": "markdown",
   "metadata": {}
  },
  {
   "source": [
    "-------------------------"
   ],
   "cell_type": "markdown",
   "metadata": {}
  },
  {
   "source": [
    "### Agreggating features as month, day, year and hours"
   ],
   "cell_type": "markdown",
   "metadata": {}
  },
  {
   "source": [
    "Im goin to work with FechaGestion and split if delivered or cancelled, in order to have a Forecasting of the income to merqueo nad marketplace despite location and other factors."
   ],
   "cell_type": "markdown",
   "metadata": {}
  },
  {
   "cell_type": "code",
   "execution_count": 98,
   "metadata": {},
   "outputs": [],
   "source": [
    "#Create a new column with the Year, Month,day and hour\n",
    "df['Año']=df.FechaGestion.dt.year\n",
    "df['Mes']=df.FechaGestion.dt.month\n",
    "df['Dia']=df.FechaGestion.dt.day\n",
    "df['Hora']=df.FechaGestion.dt.hour\n",
    "df['Date']=df.FechaGestion.dt.date"
   ]
  },
  {
   "cell_type": "code",
   "execution_count": 99,
   "metadata": {},
   "outputs": [
    {
     "output_type": "execute_result",
     "data": {
      "text/plain": "   IdOrden  Source osSource       FechaDespacho       FechaCreacion  \\\n0   431199  Device  Android 2018-02-02 08:28:42 2018-02-01 00:07:58   \n1   431200  Device  Android 2018-02-02 06:16:52 2018-02-01 00:13:41   \n2   431201  Device  Android 2018-02-02 07:00:50 2018-02-01 00:14:16   \n3   431202     Web      Web 2018-02-02 06:16:53 2018-02-01 00:18:50   \n4   431204     Web      Web 2018-02-02 06:21:29 2018-02-01 00:24:20   \n\n         FechaGestion             Horario        MetodoDePago  PagoCliente  \\\n0 2018-02-02 13:42:40  7:00 am - 12:00 pm            Efectivo      42552.0   \n1 2018-02-02 07:13:01  7:00 am - 12:00 pm            Efectivo      32340.0   \n2 2018-02-02 10:07:37  7:00 am - 12:00 pm  Tarjeta de crédito     156610.0   \n3 2018-02-02 09:29:54  7:00 am - 12:00 pm            Efectivo     201140.0   \n4 2018-02-02 08:49:35  7:00 am - 12:00 pm  Tarjeta de crédito     102290.0   \n\n   Descuento  Domicilio Calificacion  Bodega  Devolucion  Ciudad  \\\n0        0.0       2500           \\N  Ferias           0  Bogotá   \n1        0.0       2500           \\N  Ferias           0  Bogotá   \n2        0.0          0           \\N  Ferias           0  Bogotá   \n3        0.0          0           \\N  Ferias           0  Bogotá   \n4    10229.0          0            0  Ferias           0  Bogotá   \n\n  RazonCancelacionGeneral          nombre_picker_frio  \\\n0                       0    Sergio David Plazas Cruz   \n1                       0  Jose Daniel  Segura Poveda   \n2                       0  Diego Mauricio Garzon Peña   \n3                       0  Jose Daniel  Segura Poveda   \n4                       0                luisa vargas   \n\n        nombre_picker_seco          Tienda     Tipo FechaEsperadaEntrega  \\\n0  Daniel  Alvarez Bonilla  Merqueo Bogotá  Merqueo  2018-02-02 12:00:00   \n1          johana s castro  Merqueo Bogotá  Merqueo  2018-02-02 12:00:00   \n2           anirley garzon  Merqueo Bogotá  Merqueo  2018-02-02 12:00:00   \n3             Alison acuña  Merqueo Bogotá  Merqueo  2018-02-02 12:00:00   \n4       magnoliaT trujillo  Merqueo Bogotá  Merqueo  2018-02-02 12:00:00   \n\n  StatusOrden  Unidades  UnidadesDisponibles  UnidadesNoDisponibles  \\\n0   Delivered        10                   10                      0   \n1   Delivered         7                    7                      0   \n2   Delivered        47                   47                      0   \n3   Delivered        80                   80                      0   \n4   Delivered        26                   26                      0   \n\n   Repartidor  Otro  TiempoEntrega  El producto estaba en mal estado  \\\n0           0     0              0                                 0   \n1           0     0              0                                 0   \n2           0     0              0                                 0   \n3           0     0              0                                 0   \n4           0     0              0                                 0   \n\n   El producto estaba vencido  Me molesta no haber recibido este producto  \\\n0                           0                                           0   \n1                           0                                           0   \n2                           0                                           0   \n3                           0                                           0   \n4                           0                                           0   \n\n   No recibi el producto y me lo cobraron  Recibí el producto equivocado  \\\n0                                       0                              0   \n1                                       0                              0   \n2                                       0                              0   \n3                                       0                              0   \n4                                       1                              0   \n\n    Año  Mes  Dia  Hora        Date  \n0  2018    2    2    13  2018-02-02  \n1  2018    2    2     7  2018-02-02  \n2  2018    2    2    10  2018-02-02  \n3  2018    2    2     9  2018-02-02  \n4  2018    2    2     8  2018-02-02  ",
      "text/html": "<div>\n<style scoped>\n    .dataframe tbody tr th:only-of-type {\n        vertical-align: middle;\n    }\n\n    .dataframe tbody tr th {\n        vertical-align: top;\n    }\n\n    .dataframe thead th {\n        text-align: right;\n    }\n</style>\n<table border=\"1\" class=\"dataframe\">\n  <thead>\n    <tr style=\"text-align: right;\">\n      <th></th>\n      <th>IdOrden</th>\n      <th>Source</th>\n      <th>osSource</th>\n      <th>FechaDespacho</th>\n      <th>FechaCreacion</th>\n      <th>FechaGestion</th>\n      <th>Horario</th>\n      <th>MetodoDePago</th>\n      <th>PagoCliente</th>\n      <th>Descuento</th>\n      <th>Domicilio</th>\n      <th>Calificacion</th>\n      <th>Bodega</th>\n      <th>Devolucion</th>\n      <th>Ciudad</th>\n      <th>RazonCancelacionGeneral</th>\n      <th>nombre_picker_frio</th>\n      <th>nombre_picker_seco</th>\n      <th>Tienda</th>\n      <th>Tipo</th>\n      <th>FechaEsperadaEntrega</th>\n      <th>StatusOrden</th>\n      <th>Unidades</th>\n      <th>UnidadesDisponibles</th>\n      <th>UnidadesNoDisponibles</th>\n      <th>Repartidor</th>\n      <th>Otro</th>\n      <th>TiempoEntrega</th>\n      <th>El producto estaba en mal estado</th>\n      <th>El producto estaba vencido</th>\n      <th>Me molesta no haber recibido este producto</th>\n      <th>No recibi el producto y me lo cobraron</th>\n      <th>Recibí el producto equivocado</th>\n      <th>Año</th>\n      <th>Mes</th>\n      <th>Dia</th>\n      <th>Hora</th>\n      <th>Date</th>\n    </tr>\n  </thead>\n  <tbody>\n    <tr>\n      <th>0</th>\n      <td>431199</td>\n      <td>Device</td>\n      <td>Android</td>\n      <td>2018-02-02 08:28:42</td>\n      <td>2018-02-01 00:07:58</td>\n      <td>2018-02-02 13:42:40</td>\n      <td>7:00 am - 12:00 pm</td>\n      <td>Efectivo</td>\n      <td>42552.0</td>\n      <td>0.0</td>\n      <td>2500</td>\n      <td>\\N</td>\n      <td>Ferias</td>\n      <td>0</td>\n      <td>Bogotá</td>\n      <td>0</td>\n      <td>Sergio David Plazas Cruz</td>\n      <td>Daniel  Alvarez Bonilla</td>\n      <td>Merqueo Bogotá</td>\n      <td>Merqueo</td>\n      <td>2018-02-02 12:00:00</td>\n      <td>Delivered</td>\n      <td>10</td>\n      <td>10</td>\n      <td>0</td>\n      <td>0</td>\n      <td>0</td>\n      <td>0</td>\n      <td>0</td>\n      <td>0</td>\n      <td>0</td>\n      <td>0</td>\n      <td>0</td>\n      <td>2018</td>\n      <td>2</td>\n      <td>2</td>\n      <td>13</td>\n      <td>2018-02-02</td>\n    </tr>\n    <tr>\n      <th>1</th>\n      <td>431200</td>\n      <td>Device</td>\n      <td>Android</td>\n      <td>2018-02-02 06:16:52</td>\n      <td>2018-02-01 00:13:41</td>\n      <td>2018-02-02 07:13:01</td>\n      <td>7:00 am - 12:00 pm</td>\n      <td>Efectivo</td>\n      <td>32340.0</td>\n      <td>0.0</td>\n      <td>2500</td>\n      <td>\\N</td>\n      <td>Ferias</td>\n      <td>0</td>\n      <td>Bogotá</td>\n      <td>0</td>\n      <td>Jose Daniel  Segura Poveda</td>\n      <td>johana s castro</td>\n      <td>Merqueo Bogotá</td>\n      <td>Merqueo</td>\n      <td>2018-02-02 12:00:00</td>\n      <td>Delivered</td>\n      <td>7</td>\n      <td>7</td>\n      <td>0</td>\n      <td>0</td>\n      <td>0</td>\n      <td>0</td>\n      <td>0</td>\n      <td>0</td>\n      <td>0</td>\n      <td>0</td>\n      <td>0</td>\n      <td>2018</td>\n      <td>2</td>\n      <td>2</td>\n      <td>7</td>\n      <td>2018-02-02</td>\n    </tr>\n    <tr>\n      <th>2</th>\n      <td>431201</td>\n      <td>Device</td>\n      <td>Android</td>\n      <td>2018-02-02 07:00:50</td>\n      <td>2018-02-01 00:14:16</td>\n      <td>2018-02-02 10:07:37</td>\n      <td>7:00 am - 12:00 pm</td>\n      <td>Tarjeta de crédito</td>\n      <td>156610.0</td>\n      <td>0.0</td>\n      <td>0</td>\n      <td>\\N</td>\n      <td>Ferias</td>\n      <td>0</td>\n      <td>Bogotá</td>\n      <td>0</td>\n      <td>Diego Mauricio Garzon Peña</td>\n      <td>anirley garzon</td>\n      <td>Merqueo Bogotá</td>\n      <td>Merqueo</td>\n      <td>2018-02-02 12:00:00</td>\n      <td>Delivered</td>\n      <td>47</td>\n      <td>47</td>\n      <td>0</td>\n      <td>0</td>\n      <td>0</td>\n      <td>0</td>\n      <td>0</td>\n      <td>0</td>\n      <td>0</td>\n      <td>0</td>\n      <td>0</td>\n      <td>2018</td>\n      <td>2</td>\n      <td>2</td>\n      <td>10</td>\n      <td>2018-02-02</td>\n    </tr>\n    <tr>\n      <th>3</th>\n      <td>431202</td>\n      <td>Web</td>\n      <td>Web</td>\n      <td>2018-02-02 06:16:53</td>\n      <td>2018-02-01 00:18:50</td>\n      <td>2018-02-02 09:29:54</td>\n      <td>7:00 am - 12:00 pm</td>\n      <td>Efectivo</td>\n      <td>201140.0</td>\n      <td>0.0</td>\n      <td>0</td>\n      <td>\\N</td>\n      <td>Ferias</td>\n      <td>0</td>\n      <td>Bogotá</td>\n      <td>0</td>\n      <td>Jose Daniel  Segura Poveda</td>\n      <td>Alison acuña</td>\n      <td>Merqueo Bogotá</td>\n      <td>Merqueo</td>\n      <td>2018-02-02 12:00:00</td>\n      <td>Delivered</td>\n      <td>80</td>\n      <td>80</td>\n      <td>0</td>\n      <td>0</td>\n      <td>0</td>\n      <td>0</td>\n      <td>0</td>\n      <td>0</td>\n      <td>0</td>\n      <td>0</td>\n      <td>0</td>\n      <td>2018</td>\n      <td>2</td>\n      <td>2</td>\n      <td>9</td>\n      <td>2018-02-02</td>\n    </tr>\n    <tr>\n      <th>4</th>\n      <td>431204</td>\n      <td>Web</td>\n      <td>Web</td>\n      <td>2018-02-02 06:21:29</td>\n      <td>2018-02-01 00:24:20</td>\n      <td>2018-02-02 08:49:35</td>\n      <td>7:00 am - 12:00 pm</td>\n      <td>Tarjeta de crédito</td>\n      <td>102290.0</td>\n      <td>10229.0</td>\n      <td>0</td>\n      <td>0</td>\n      <td>Ferias</td>\n      <td>0</td>\n      <td>Bogotá</td>\n      <td>0</td>\n      <td>luisa vargas</td>\n      <td>magnoliaT trujillo</td>\n      <td>Merqueo Bogotá</td>\n      <td>Merqueo</td>\n      <td>2018-02-02 12:00:00</td>\n      <td>Delivered</td>\n      <td>26</td>\n      <td>26</td>\n      <td>0</td>\n      <td>0</td>\n      <td>0</td>\n      <td>0</td>\n      <td>0</td>\n      <td>0</td>\n      <td>0</td>\n      <td>1</td>\n      <td>0</td>\n      <td>2018</td>\n      <td>2</td>\n      <td>2</td>\n      <td>8</td>\n      <td>2018-02-02</td>\n    </tr>\n  </tbody>\n</table>\n</div>"
     },
     "metadata": {},
     "execution_count": 99
    }
   ],
   "source": [
    "df.head()"
   ]
  },
  {
   "cell_type": "code",
   "execution_count": 100,
   "metadata": {},
   "outputs": [
    {
     "output_type": "display_data",
     "data": {
      "application/vnd.plotly.v1+json": {
       "config": {
        "plotlyServerURL": "https://plot.ly"
       },
       "data": [
        {
         "hovertemplate": "StatusOrden=Cancelled<br>Date=%{x}<br>value=%{y}<extra></extra>",
         "legendgroup": "Cancelled",
         "line": {
          "color": "#636efa",
          "dash": "solid"
         },
         "mode": "lines",
         "name": "Cancelled",
         "orientation": "v",
         "showlegend": true,
         "type": "scatter",
         "x": [
          "2018-02-01",
          "2018-02-02",
          "2018-02-03",
          "2018-02-04",
          "2018-02-05",
          "2018-02-06",
          "2018-02-07",
          "2018-02-08",
          "2018-02-09",
          "2018-02-10",
          "2018-02-11",
          "2018-02-12",
          "2018-02-13",
          "2018-02-14",
          "2018-02-15",
          "2018-02-16",
          "2018-02-17",
          "2018-02-18",
          "2018-02-19",
          "2018-02-20",
          "2018-02-21",
          "2018-02-22",
          "2018-02-23",
          "2018-02-24",
          "2018-02-25",
          "2018-02-26",
          "2018-02-27",
          "2018-02-28",
          "2018-03-01",
          "2018-03-02",
          "2018-03-03",
          "2018-03-04",
          "2018-03-05",
          "2018-03-06",
          "2018-03-07",
          "2018-03-08",
          "2018-03-09",
          "2018-03-10",
          "2018-03-11",
          "2018-03-12",
          "2018-03-13",
          "2018-03-14",
          "2018-03-15",
          "2018-03-16",
          "2018-03-17",
          "2018-03-18",
          "2018-03-19",
          "2018-03-20",
          "2018-03-21",
          "2018-03-22",
          "2018-03-23",
          "2018-03-24",
          "2018-03-25",
          "2018-03-26",
          "2018-03-27",
          "2018-03-28",
          "2018-03-29",
          "2018-03-30",
          "2018-03-31",
          "2018-04-01",
          "2018-04-02",
          "2018-04-03",
          "2018-04-04",
          "2018-04-05",
          "2018-04-06",
          "2018-04-07",
          "2018-04-08",
          "2018-04-09",
          "2018-04-10",
          "2018-04-11",
          "2018-04-12",
          "2018-04-13",
          "2018-04-14",
          "2018-04-16",
          "2018-04-18"
         ],
         "xaxis": "x",
         "y": [
          1477085,
          10173390,
          11467778,
          11213528,
          15492686,
          10874384,
          11090547,
          11446579,
          13084675,
          7677885,
          7167830,
          10327222,
          9779289,
          8749127,
          11070682,
          9837026,
          9308723,
          8987135,
          16683624,
          14646817,
          15928231,
          11658285,
          8151672,
          8545481,
          11279680,
          8512738,
          13828106,
          15003079,
          11709623,
          15089260,
          13633253,
          13852671,
          11661317,
          9798120,
          12569234,
          8744200,
          7179169,
          7479560,
          8087836,
          25383658,
          7700449,
          12615539,
          9194316,
          15428935,
          11183358,
          13060942,
          18374632,
          29875436,
          13970098,
          7315983,
          9072980,
          8512851,
          10033460,
          13266196,
          21113708,
          9780427,
          11742626,
          17720769,
          25110788,
          6076056,
          7044647,
          2603266,
          1437930,
          938639,
          172526,
          218400,
          null,
          null,
          29094,
          29094,
          29094,
          312824,
          43750,
          null,
          null
         ],
         "yaxis": "y"
        },
        {
         "hovertemplate": "StatusOrden=Delivered<br>Date=%{x}<br>value=%{y}<extra></extra>",
         "legendgroup": "Delivered",
         "line": {
          "color": "#EF553B",
          "dash": "solid"
         },
         "mode": "lines",
         "name": "Delivered",
         "orientation": "v",
         "showlegend": true,
         "type": "scatter",
         "x": [
          "2018-02-01",
          "2018-02-02",
          "2018-02-03",
          "2018-02-04",
          "2018-02-05",
          "2018-02-06",
          "2018-02-07",
          "2018-02-08",
          "2018-02-09",
          "2018-02-10",
          "2018-02-11",
          "2018-02-12",
          "2018-02-13",
          "2018-02-14",
          "2018-02-15",
          "2018-02-16",
          "2018-02-17",
          "2018-02-18",
          "2018-02-19",
          "2018-02-20",
          "2018-02-21",
          "2018-02-22",
          "2018-02-23",
          "2018-02-24",
          "2018-02-25",
          "2018-02-26",
          "2018-02-27",
          "2018-02-28",
          "2018-03-01",
          "2018-03-02",
          "2018-03-03",
          "2018-03-04",
          "2018-03-05",
          "2018-03-06",
          "2018-03-07",
          "2018-03-08",
          "2018-03-09",
          "2018-03-10",
          "2018-03-11",
          "2018-03-12",
          "2018-03-13",
          "2018-03-14",
          "2018-03-15",
          "2018-03-16",
          "2018-03-17",
          "2018-03-18",
          "2018-03-19",
          "2018-03-20",
          "2018-03-21",
          "2018-03-22",
          "2018-03-23",
          "2018-03-24",
          "2018-03-25",
          "2018-03-26",
          "2018-03-27",
          "2018-03-28",
          "2018-03-29",
          "2018-03-30",
          "2018-03-31",
          "2018-04-01",
          "2018-04-02",
          "2018-04-03",
          "2018-04-04",
          "2018-04-05",
          "2018-04-06",
          "2018-04-07",
          "2018-04-08",
          "2018-04-09",
          "2018-04-10",
          "2018-04-11",
          "2018-04-12",
          "2018-04-13",
          "2018-04-14",
          "2018-04-16",
          "2018-04-18"
         ],
         "xaxis": "x",
         "y": [
          null,
          86081349,
          89070117,
          119516450,
          110160332,
          90678893,
          80657250,
          75769257,
          66297585,
          69304426,
          76195667,
          73261779,
          69808258,
          63347092,
          64624291,
          76135064,
          85309771,
          106097274,
          111383328,
          94399569,
          85836734,
          69143704,
          61644346,
          73674759.93,
          112810327.149,
          104012851,
          95600121,
          101821161,
          99803095,
          93010123,
          98206511,
          117043187,
          107172147,
          84555313,
          71916351,
          63563890,
          51831647,
          61459040,
          73503580,
          78080456,
          64171502,
          95687518,
          90414097,
          89064291,
          95628789,
          95303265,
          108499602,
          85674903,
          68859411,
          53484697,
          52314579,
          56251403,
          80076522,
          83037125,
          77063472,
          77740510,
          81277192,
          73691009,
          116920979,
          144244381,
          23802812,
          6704771,
          4272079,
          755014,
          575708,
          561827,
          147355,
          56890,
          275790,
          null,
          null,
          null,
          null,
          330050,
          102931
         ],
         "yaxis": "y"
        }
       ],
       "layout": {
        "legend": {
         "title": {
          "text": "StatusOrden"
         },
         "tracegroupgap": 0
        },
        "margin": {
         "t": 60
        },
        "template": {
         "data": {
          "bar": [
           {
            "error_x": {
             "color": "#2a3f5f"
            },
            "error_y": {
             "color": "#2a3f5f"
            },
            "marker": {
             "line": {
              "color": "#E5ECF6",
              "width": 0.5
             }
            },
            "type": "bar"
           }
          ],
          "barpolar": [
           {
            "marker": {
             "line": {
              "color": "#E5ECF6",
              "width": 0.5
             }
            },
            "type": "barpolar"
           }
          ],
          "carpet": [
           {
            "aaxis": {
             "endlinecolor": "#2a3f5f",
             "gridcolor": "white",
             "linecolor": "white",
             "minorgridcolor": "white",
             "startlinecolor": "#2a3f5f"
            },
            "baxis": {
             "endlinecolor": "#2a3f5f",
             "gridcolor": "white",
             "linecolor": "white",
             "minorgridcolor": "white",
             "startlinecolor": "#2a3f5f"
            },
            "type": "carpet"
           }
          ],
          "choropleth": [
           {
            "colorbar": {
             "outlinewidth": 0,
             "ticks": ""
            },
            "type": "choropleth"
           }
          ],
          "contour": [
           {
            "colorbar": {
             "outlinewidth": 0,
             "ticks": ""
            },
            "colorscale": [
             [
              0,
              "#0d0887"
             ],
             [
              0.1111111111111111,
              "#46039f"
             ],
             [
              0.2222222222222222,
              "#7201a8"
             ],
             [
              0.3333333333333333,
              "#9c179e"
             ],
             [
              0.4444444444444444,
              "#bd3786"
             ],
             [
              0.5555555555555556,
              "#d8576b"
             ],
             [
              0.6666666666666666,
              "#ed7953"
             ],
             [
              0.7777777777777778,
              "#fb9f3a"
             ],
             [
              0.8888888888888888,
              "#fdca26"
             ],
             [
              1,
              "#f0f921"
             ]
            ],
            "type": "contour"
           }
          ],
          "contourcarpet": [
           {
            "colorbar": {
             "outlinewidth": 0,
             "ticks": ""
            },
            "type": "contourcarpet"
           }
          ],
          "heatmap": [
           {
            "colorbar": {
             "outlinewidth": 0,
             "ticks": ""
            },
            "colorscale": [
             [
              0,
              "#0d0887"
             ],
             [
              0.1111111111111111,
              "#46039f"
             ],
             [
              0.2222222222222222,
              "#7201a8"
             ],
             [
              0.3333333333333333,
              "#9c179e"
             ],
             [
              0.4444444444444444,
              "#bd3786"
             ],
             [
              0.5555555555555556,
              "#d8576b"
             ],
             [
              0.6666666666666666,
              "#ed7953"
             ],
             [
              0.7777777777777778,
              "#fb9f3a"
             ],
             [
              0.8888888888888888,
              "#fdca26"
             ],
             [
              1,
              "#f0f921"
             ]
            ],
            "type": "heatmap"
           }
          ],
          "heatmapgl": [
           {
            "colorbar": {
             "outlinewidth": 0,
             "ticks": ""
            },
            "colorscale": [
             [
              0,
              "#0d0887"
             ],
             [
              0.1111111111111111,
              "#46039f"
             ],
             [
              0.2222222222222222,
              "#7201a8"
             ],
             [
              0.3333333333333333,
              "#9c179e"
             ],
             [
              0.4444444444444444,
              "#bd3786"
             ],
             [
              0.5555555555555556,
              "#d8576b"
             ],
             [
              0.6666666666666666,
              "#ed7953"
             ],
             [
              0.7777777777777778,
              "#fb9f3a"
             ],
             [
              0.8888888888888888,
              "#fdca26"
             ],
             [
              1,
              "#f0f921"
             ]
            ],
            "type": "heatmapgl"
           }
          ],
          "histogram": [
           {
            "marker": {
             "colorbar": {
              "outlinewidth": 0,
              "ticks": ""
             }
            },
            "type": "histogram"
           }
          ],
          "histogram2d": [
           {
            "colorbar": {
             "outlinewidth": 0,
             "ticks": ""
            },
            "colorscale": [
             [
              0,
              "#0d0887"
             ],
             [
              0.1111111111111111,
              "#46039f"
             ],
             [
              0.2222222222222222,
              "#7201a8"
             ],
             [
              0.3333333333333333,
              "#9c179e"
             ],
             [
              0.4444444444444444,
              "#bd3786"
             ],
             [
              0.5555555555555556,
              "#d8576b"
             ],
             [
              0.6666666666666666,
              "#ed7953"
             ],
             [
              0.7777777777777778,
              "#fb9f3a"
             ],
             [
              0.8888888888888888,
              "#fdca26"
             ],
             [
              1,
              "#f0f921"
             ]
            ],
            "type": "histogram2d"
           }
          ],
          "histogram2dcontour": [
           {
            "colorbar": {
             "outlinewidth": 0,
             "ticks": ""
            },
            "colorscale": [
             [
              0,
              "#0d0887"
             ],
             [
              0.1111111111111111,
              "#46039f"
             ],
             [
              0.2222222222222222,
              "#7201a8"
             ],
             [
              0.3333333333333333,
              "#9c179e"
             ],
             [
              0.4444444444444444,
              "#bd3786"
             ],
             [
              0.5555555555555556,
              "#d8576b"
             ],
             [
              0.6666666666666666,
              "#ed7953"
             ],
             [
              0.7777777777777778,
              "#fb9f3a"
             ],
             [
              0.8888888888888888,
              "#fdca26"
             ],
             [
              1,
              "#f0f921"
             ]
            ],
            "type": "histogram2dcontour"
           }
          ],
          "mesh3d": [
           {
            "colorbar": {
             "outlinewidth": 0,
             "ticks": ""
            },
            "type": "mesh3d"
           }
          ],
          "parcoords": [
           {
            "line": {
             "colorbar": {
              "outlinewidth": 0,
              "ticks": ""
             }
            },
            "type": "parcoords"
           }
          ],
          "pie": [
           {
            "automargin": true,
            "type": "pie"
           }
          ],
          "scatter": [
           {
            "marker": {
             "colorbar": {
              "outlinewidth": 0,
              "ticks": ""
             }
            },
            "type": "scatter"
           }
          ],
          "scatter3d": [
           {
            "line": {
             "colorbar": {
              "outlinewidth": 0,
              "ticks": ""
             }
            },
            "marker": {
             "colorbar": {
              "outlinewidth": 0,
              "ticks": ""
             }
            },
            "type": "scatter3d"
           }
          ],
          "scattercarpet": [
           {
            "marker": {
             "colorbar": {
              "outlinewidth": 0,
              "ticks": ""
             }
            },
            "type": "scattercarpet"
           }
          ],
          "scattergeo": [
           {
            "marker": {
             "colorbar": {
              "outlinewidth": 0,
              "ticks": ""
             }
            },
            "type": "scattergeo"
           }
          ],
          "scattergl": [
           {
            "marker": {
             "colorbar": {
              "outlinewidth": 0,
              "ticks": ""
             }
            },
            "type": "scattergl"
           }
          ],
          "scattermapbox": [
           {
            "marker": {
             "colorbar": {
              "outlinewidth": 0,
              "ticks": ""
             }
            },
            "type": "scattermapbox"
           }
          ],
          "scatterpolar": [
           {
            "marker": {
             "colorbar": {
              "outlinewidth": 0,
              "ticks": ""
             }
            },
            "type": "scatterpolar"
           }
          ],
          "scatterpolargl": [
           {
            "marker": {
             "colorbar": {
              "outlinewidth": 0,
              "ticks": ""
             }
            },
            "type": "scatterpolargl"
           }
          ],
          "scatterternary": [
           {
            "marker": {
             "colorbar": {
              "outlinewidth": 0,
              "ticks": ""
             }
            },
            "type": "scatterternary"
           }
          ],
          "surface": [
           {
            "colorbar": {
             "outlinewidth": 0,
             "ticks": ""
            },
            "colorscale": [
             [
              0,
              "#0d0887"
             ],
             [
              0.1111111111111111,
              "#46039f"
             ],
             [
              0.2222222222222222,
              "#7201a8"
             ],
             [
              0.3333333333333333,
              "#9c179e"
             ],
             [
              0.4444444444444444,
              "#bd3786"
             ],
             [
              0.5555555555555556,
              "#d8576b"
             ],
             [
              0.6666666666666666,
              "#ed7953"
             ],
             [
              0.7777777777777778,
              "#fb9f3a"
             ],
             [
              0.8888888888888888,
              "#fdca26"
             ],
             [
              1,
              "#f0f921"
             ]
            ],
            "type": "surface"
           }
          ],
          "table": [
           {
            "cells": {
             "fill": {
              "color": "#EBF0F8"
             },
             "line": {
              "color": "white"
             }
            },
            "header": {
             "fill": {
              "color": "#C8D4E3"
             },
             "line": {
              "color": "white"
             }
            },
            "type": "table"
           }
          ]
         },
         "layout": {
          "annotationdefaults": {
           "arrowcolor": "#2a3f5f",
           "arrowhead": 0,
           "arrowwidth": 1
          },
          "coloraxis": {
           "colorbar": {
            "outlinewidth": 0,
            "ticks": ""
           }
          },
          "colorscale": {
           "diverging": [
            [
             0,
             "#8e0152"
            ],
            [
             0.1,
             "#c51b7d"
            ],
            [
             0.2,
             "#de77ae"
            ],
            [
             0.3,
             "#f1b6da"
            ],
            [
             0.4,
             "#fde0ef"
            ],
            [
             0.5,
             "#f7f7f7"
            ],
            [
             0.6,
             "#e6f5d0"
            ],
            [
             0.7,
             "#b8e186"
            ],
            [
             0.8,
             "#7fbc41"
            ],
            [
             0.9,
             "#4d9221"
            ],
            [
             1,
             "#276419"
            ]
           ],
           "sequential": [
            [
             0,
             "#0d0887"
            ],
            [
             0.1111111111111111,
             "#46039f"
            ],
            [
             0.2222222222222222,
             "#7201a8"
            ],
            [
             0.3333333333333333,
             "#9c179e"
            ],
            [
             0.4444444444444444,
             "#bd3786"
            ],
            [
             0.5555555555555556,
             "#d8576b"
            ],
            [
             0.6666666666666666,
             "#ed7953"
            ],
            [
             0.7777777777777778,
             "#fb9f3a"
            ],
            [
             0.8888888888888888,
             "#fdca26"
            ],
            [
             1,
             "#f0f921"
            ]
           ],
           "sequentialminus": [
            [
             0,
             "#0d0887"
            ],
            [
             0.1111111111111111,
             "#46039f"
            ],
            [
             0.2222222222222222,
             "#7201a8"
            ],
            [
             0.3333333333333333,
             "#9c179e"
            ],
            [
             0.4444444444444444,
             "#bd3786"
            ],
            [
             0.5555555555555556,
             "#d8576b"
            ],
            [
             0.6666666666666666,
             "#ed7953"
            ],
            [
             0.7777777777777778,
             "#fb9f3a"
            ],
            [
             0.8888888888888888,
             "#fdca26"
            ],
            [
             1,
             "#f0f921"
            ]
           ]
          },
          "colorway": [
           "#636efa",
           "#EF553B",
           "#00cc96",
           "#ab63fa",
           "#FFA15A",
           "#19d3f3",
           "#FF6692",
           "#B6E880",
           "#FF97FF",
           "#FECB52"
          ],
          "font": {
           "color": "#2a3f5f"
          },
          "geo": {
           "bgcolor": "white",
           "lakecolor": "white",
           "landcolor": "#E5ECF6",
           "showlakes": true,
           "showland": true,
           "subunitcolor": "white"
          },
          "hoverlabel": {
           "align": "left"
          },
          "hovermode": "closest",
          "mapbox": {
           "style": "light"
          },
          "paper_bgcolor": "white",
          "plot_bgcolor": "#E5ECF6",
          "polar": {
           "angularaxis": {
            "gridcolor": "white",
            "linecolor": "white",
            "ticks": ""
           },
           "bgcolor": "#E5ECF6",
           "radialaxis": {
            "gridcolor": "white",
            "linecolor": "white",
            "ticks": ""
           }
          },
          "scene": {
           "xaxis": {
            "backgroundcolor": "#E5ECF6",
            "gridcolor": "white",
            "gridwidth": 2,
            "linecolor": "white",
            "showbackground": true,
            "ticks": "",
            "zerolinecolor": "white"
           },
           "yaxis": {
            "backgroundcolor": "#E5ECF6",
            "gridcolor": "white",
            "gridwidth": 2,
            "linecolor": "white",
            "showbackground": true,
            "ticks": "",
            "zerolinecolor": "white"
           },
           "zaxis": {
            "backgroundcolor": "#E5ECF6",
            "gridcolor": "white",
            "gridwidth": 2,
            "linecolor": "white",
            "showbackground": true,
            "ticks": "",
            "zerolinecolor": "white"
           }
          },
          "shapedefaults": {
           "line": {
            "color": "#2a3f5f"
           }
          },
          "ternary": {
           "aaxis": {
            "gridcolor": "white",
            "linecolor": "white",
            "ticks": ""
           },
           "baxis": {
            "gridcolor": "white",
            "linecolor": "white",
            "ticks": ""
           },
           "bgcolor": "#E5ECF6",
           "caxis": {
            "gridcolor": "white",
            "linecolor": "white",
            "ticks": ""
           }
          },
          "title": {
           "x": 0.05
          },
          "xaxis": {
           "automargin": true,
           "gridcolor": "white",
           "linecolor": "white",
           "ticks": "",
           "title": {
            "standoff": 15
           },
           "zerolinecolor": "white",
           "zerolinewidth": 2
          },
          "yaxis": {
           "automargin": true,
           "gridcolor": "white",
           "linecolor": "white",
           "ticks": "",
           "title": {
            "standoff": 15
           },
           "zerolinecolor": "white",
           "zerolinewidth": 2
          }
         }
        },
        "xaxis": {
         "anchor": "y",
         "domain": [
          0,
          1
         ],
         "title": {
          "text": "Date"
         }
        },
        "yaxis": {
         "anchor": "x",
         "domain": [
          0,
          1
         ],
         "title": {
          "text": "value"
         }
        }
       }
      }
     },
     "metadata": {}
    }
   ],
   "source": [
    "df.groupby(['Date','StatusOrden'])['PagoCliente'].sum().unstack().plot()"
   ]
  },
  {
   "source": [
    "WE can do a time series prediction for the next days using DNN"
   ],
   "cell_type": "markdown",
   "metadata": {}
  },
  {
   "cell_type": "code",
   "execution_count": 101,
   "metadata": {},
   "outputs": [
    {
     "output_type": "execute_result",
     "data": {
      "text/plain": "StatusOrden   Cancelled    Delivered\nDate                                \n2018-02-01    1477085.0          NaN\n2018-02-02   10173390.0   86081349.0\n2018-02-03   11467778.0   89070117.0\n2018-02-04   11213528.0  119516450.0\n2018-02-05   15492686.0  110160332.0\n...                 ...          ...\n2018-04-12      29094.0          NaN\n2018-04-13     312824.0          NaN\n2018-04-14      43750.0          NaN\n2018-04-16          NaN     330050.0\n2018-04-18          NaN     102931.0\n\n[75 rows x 2 columns]",
      "text/html": "<div>\n<style scoped>\n    .dataframe tbody tr th:only-of-type {\n        vertical-align: middle;\n    }\n\n    .dataframe tbody tr th {\n        vertical-align: top;\n    }\n\n    .dataframe thead th {\n        text-align: right;\n    }\n</style>\n<table border=\"1\" class=\"dataframe\">\n  <thead>\n    <tr style=\"text-align: right;\">\n      <th>StatusOrden</th>\n      <th>Cancelled</th>\n      <th>Delivered</th>\n    </tr>\n    <tr>\n      <th>Date</th>\n      <th></th>\n      <th></th>\n    </tr>\n  </thead>\n  <tbody>\n    <tr>\n      <th>2018-02-01</th>\n      <td>1477085.0</td>\n      <td>NaN</td>\n    </tr>\n    <tr>\n      <th>2018-02-02</th>\n      <td>10173390.0</td>\n      <td>86081349.0</td>\n    </tr>\n    <tr>\n      <th>2018-02-03</th>\n      <td>11467778.0</td>\n      <td>89070117.0</td>\n    </tr>\n    <tr>\n      <th>2018-02-04</th>\n      <td>11213528.0</td>\n      <td>119516450.0</td>\n    </tr>\n    <tr>\n      <th>2018-02-05</th>\n      <td>15492686.0</td>\n      <td>110160332.0</td>\n    </tr>\n    <tr>\n      <th>...</th>\n      <td>...</td>\n      <td>...</td>\n    </tr>\n    <tr>\n      <th>2018-04-12</th>\n      <td>29094.0</td>\n      <td>NaN</td>\n    </tr>\n    <tr>\n      <th>2018-04-13</th>\n      <td>312824.0</td>\n      <td>NaN</td>\n    </tr>\n    <tr>\n      <th>2018-04-14</th>\n      <td>43750.0</td>\n      <td>NaN</td>\n    </tr>\n    <tr>\n      <th>2018-04-16</th>\n      <td>NaN</td>\n      <td>330050.0</td>\n    </tr>\n    <tr>\n      <th>2018-04-18</th>\n      <td>NaN</td>\n      <td>102931.0</td>\n    </tr>\n  </tbody>\n</table>\n<p>75 rows × 2 columns</p>\n</div>"
     },
     "metadata": {},
     "execution_count": 101
    }
   ],
   "source": [
    "df.groupby(['Date','StatusOrden'])['PagoCliente'].sum().unstack()"
   ]
  },
  {
   "cell_type": "code",
   "execution_count": 102,
   "metadata": {},
   "outputs": [
    {
     "output_type": "execute_result",
     "data": {
      "text/plain": "StatusOrden   Cancelled    Delivered\nDate                                \n2018-02-01    1477085.0          NaN\n2018-02-02   10173390.0   86081349.0\n2018-02-03   11467778.0   89070117.0\n2018-02-04   11213528.0  119516450.0\n2018-02-05   15492686.0  110160332.0\n...                 ...          ...\n2018-04-12      29094.0     297494.0\n2018-04-13     312824.0     308346.0\n2018-04-14      43750.0     319198.0\n2018-04-16      43750.0     330050.0\n2018-04-18      43750.0     102931.0\n\n[75 rows x 2 columns]",
      "text/html": "<div>\n<style scoped>\n    .dataframe tbody tr th:only-of-type {\n        vertical-align: middle;\n    }\n\n    .dataframe tbody tr th {\n        vertical-align: top;\n    }\n\n    .dataframe thead th {\n        text-align: right;\n    }\n</style>\n<table border=\"1\" class=\"dataframe\">\n  <thead>\n    <tr style=\"text-align: right;\">\n      <th>StatusOrden</th>\n      <th>Cancelled</th>\n      <th>Delivered</th>\n    </tr>\n    <tr>\n      <th>Date</th>\n      <th></th>\n      <th></th>\n    </tr>\n  </thead>\n  <tbody>\n    <tr>\n      <th>2018-02-01</th>\n      <td>1477085.0</td>\n      <td>NaN</td>\n    </tr>\n    <tr>\n      <th>2018-02-02</th>\n      <td>10173390.0</td>\n      <td>86081349.0</td>\n    </tr>\n    <tr>\n      <th>2018-02-03</th>\n      <td>11467778.0</td>\n      <td>89070117.0</td>\n    </tr>\n    <tr>\n      <th>2018-02-04</th>\n      <td>11213528.0</td>\n      <td>119516450.0</td>\n    </tr>\n    <tr>\n      <th>2018-02-05</th>\n      <td>15492686.0</td>\n      <td>110160332.0</td>\n    </tr>\n    <tr>\n      <th>...</th>\n      <td>...</td>\n      <td>...</td>\n    </tr>\n    <tr>\n      <th>2018-04-12</th>\n      <td>29094.0</td>\n      <td>297494.0</td>\n    </tr>\n    <tr>\n      <th>2018-04-13</th>\n      <td>312824.0</td>\n      <td>308346.0</td>\n    </tr>\n    <tr>\n      <th>2018-04-14</th>\n      <td>43750.0</td>\n      <td>319198.0</td>\n    </tr>\n    <tr>\n      <th>2018-04-16</th>\n      <td>43750.0</td>\n      <td>330050.0</td>\n    </tr>\n    <tr>\n      <th>2018-04-18</th>\n      <td>43750.0</td>\n      <td>102931.0</td>\n    </tr>\n  </tbody>\n</table>\n<p>75 rows × 2 columns</p>\n</div>"
     },
     "metadata": {},
     "execution_count": 102
    }
   ],
   "source": [
    "# Because DNN are sensitive with missing values we are ging to interpolate NaN\n",
    "df.groupby(['Date','StatusOrden'])['PagoCliente'].sum().unstack().interpolate(method ='linear', limit_direction ='forward')"
   ]
  },
  {
   "cell_type": "code",
   "execution_count": 103,
   "metadata": {},
   "outputs": [
    {
     "output_type": "display_data",
     "data": {
      "application/vnd.plotly.v1+json": {
       "config": {
        "plotlyServerURL": "https://plot.ly"
       },
       "data": [
        {
         "hovertemplate": "StatusOrden=Cancelled<br>Date=%{x}<br>value=%{y}<extra></extra>",
         "legendgroup": "Cancelled",
         "line": {
          "color": "#636efa",
          "dash": "solid"
         },
         "mode": "lines",
         "name": "Cancelled",
         "orientation": "v",
         "showlegend": true,
         "type": "scatter",
         "x": [
          "2018-02-01",
          "2018-02-02",
          "2018-02-03",
          "2018-02-04",
          "2018-02-05",
          "2018-02-06",
          "2018-02-07",
          "2018-02-08",
          "2018-02-09",
          "2018-02-10",
          "2018-02-11",
          "2018-02-12",
          "2018-02-13",
          "2018-02-14",
          "2018-02-15",
          "2018-02-16",
          "2018-02-17",
          "2018-02-18",
          "2018-02-19",
          "2018-02-20",
          "2018-02-21",
          "2018-02-22",
          "2018-02-23",
          "2018-02-24",
          "2018-02-25",
          "2018-02-26",
          "2018-02-27",
          "2018-02-28",
          "2018-03-01",
          "2018-03-02",
          "2018-03-03",
          "2018-03-04",
          "2018-03-05",
          "2018-03-06",
          "2018-03-07",
          "2018-03-08",
          "2018-03-09",
          "2018-03-10",
          "2018-03-11",
          "2018-03-12",
          "2018-03-13",
          "2018-03-14",
          "2018-03-15",
          "2018-03-16",
          "2018-03-17",
          "2018-03-18",
          "2018-03-19",
          "2018-03-20",
          "2018-03-21",
          "2018-03-22",
          "2018-03-23",
          "2018-03-24",
          "2018-03-25",
          "2018-03-26",
          "2018-03-27",
          "2018-03-28",
          "2018-03-29",
          "2018-03-30",
          "2018-03-31",
          "2018-04-01",
          "2018-04-02",
          "2018-04-03",
          "2018-04-04",
          "2018-04-05",
          "2018-04-06",
          "2018-04-07",
          "2018-04-08",
          "2018-04-09",
          "2018-04-10",
          "2018-04-11",
          "2018-04-12",
          "2018-04-13",
          "2018-04-14",
          "2018-04-16",
          "2018-04-18"
         ],
         "xaxis": "x",
         "y": [
          1477085,
          10173390,
          11467778,
          11213528,
          15492686,
          10874384,
          11090547,
          11446579,
          13084675,
          7677885,
          7167830,
          10327222,
          9779289,
          8749127,
          11070682,
          9837026,
          9308723,
          8987135,
          16683624,
          14646817,
          15928231,
          11658285,
          8151672,
          8545481,
          11279680,
          8512738,
          13828106,
          15003079,
          11709623,
          15089260,
          13633253,
          13852671,
          11661317,
          9798120,
          12569234,
          8744200,
          7179169,
          7479560,
          8087836,
          25383658,
          7700449,
          12615539,
          9194316,
          15428935,
          11183358,
          13060942,
          18374632,
          29875436,
          13970098,
          7315983,
          9072980,
          8512851,
          10033460,
          13266196,
          21113708,
          9780427,
          11742626,
          17720769,
          25110788,
          6076056,
          7044647,
          2603266,
          1437930,
          938639,
          172526,
          218400,
          155298,
          92196,
          29094,
          29094,
          29094,
          312824,
          43750,
          43750,
          43750
         ],
         "yaxis": "y"
        },
        {
         "hovertemplate": "StatusOrden=Delivered<br>Date=%{x}<br>value=%{y}<extra></extra>",
         "legendgroup": "Delivered",
         "line": {
          "color": "#EF553B",
          "dash": "solid"
         },
         "mode": "lines",
         "name": "Delivered",
         "orientation": "v",
         "showlegend": true,
         "type": "scatter",
         "x": [
          "2018-02-01",
          "2018-02-02",
          "2018-02-03",
          "2018-02-04",
          "2018-02-05",
          "2018-02-06",
          "2018-02-07",
          "2018-02-08",
          "2018-02-09",
          "2018-02-10",
          "2018-02-11",
          "2018-02-12",
          "2018-02-13",
          "2018-02-14",
          "2018-02-15",
          "2018-02-16",
          "2018-02-17",
          "2018-02-18",
          "2018-02-19",
          "2018-02-20",
          "2018-02-21",
          "2018-02-22",
          "2018-02-23",
          "2018-02-24",
          "2018-02-25",
          "2018-02-26",
          "2018-02-27",
          "2018-02-28",
          "2018-03-01",
          "2018-03-02",
          "2018-03-03",
          "2018-03-04",
          "2018-03-05",
          "2018-03-06",
          "2018-03-07",
          "2018-03-08",
          "2018-03-09",
          "2018-03-10",
          "2018-03-11",
          "2018-03-12",
          "2018-03-13",
          "2018-03-14",
          "2018-03-15",
          "2018-03-16",
          "2018-03-17",
          "2018-03-18",
          "2018-03-19",
          "2018-03-20",
          "2018-03-21",
          "2018-03-22",
          "2018-03-23",
          "2018-03-24",
          "2018-03-25",
          "2018-03-26",
          "2018-03-27",
          "2018-03-28",
          "2018-03-29",
          "2018-03-30",
          "2018-03-31",
          "2018-04-01",
          "2018-04-02",
          "2018-04-03",
          "2018-04-04",
          "2018-04-05",
          "2018-04-06",
          "2018-04-07",
          "2018-04-08",
          "2018-04-09",
          "2018-04-10",
          "2018-04-11",
          "2018-04-12",
          "2018-04-13",
          "2018-04-14",
          "2018-04-16",
          "2018-04-18"
         ],
         "xaxis": "x",
         "y": [
          null,
          86081349,
          89070117,
          119516450,
          110160332,
          90678893,
          80657250,
          75769257,
          66297585,
          69304426,
          76195667,
          73261779,
          69808258,
          63347092,
          64624291,
          76135064,
          85309771,
          106097274,
          111383328,
          94399569,
          85836734,
          69143704,
          61644346,
          73674759.93,
          112810327.149,
          104012851,
          95600121,
          101821161,
          99803095,
          93010123,
          98206511,
          117043187,
          107172147,
          84555313,
          71916351,
          63563890,
          51831647,
          61459040,
          73503580,
          78080456,
          64171502,
          95687518,
          90414097,
          89064291,
          95628789,
          95303265,
          108499602,
          85674903,
          68859411,
          53484697,
          52314579,
          56251403,
          80076522,
          83037125,
          77063472,
          77740510,
          81277192,
          73691009,
          116920979,
          144244381,
          23802812,
          6704771,
          4272079,
          755014,
          575708,
          561827,
          147355,
          56890,
          275790,
          286642,
          297494,
          308346,
          319198,
          330050,
          102931
         ],
         "yaxis": "y"
        }
       ],
       "layout": {
        "legend": {
         "title": {
          "text": "StatusOrden"
         },
         "tracegroupgap": 0
        },
        "margin": {
         "t": 60
        },
        "template": {
         "data": {
          "bar": [
           {
            "error_x": {
             "color": "#2a3f5f"
            },
            "error_y": {
             "color": "#2a3f5f"
            },
            "marker": {
             "line": {
              "color": "#E5ECF6",
              "width": 0.5
             }
            },
            "type": "bar"
           }
          ],
          "barpolar": [
           {
            "marker": {
             "line": {
              "color": "#E5ECF6",
              "width": 0.5
             }
            },
            "type": "barpolar"
           }
          ],
          "carpet": [
           {
            "aaxis": {
             "endlinecolor": "#2a3f5f",
             "gridcolor": "white",
             "linecolor": "white",
             "minorgridcolor": "white",
             "startlinecolor": "#2a3f5f"
            },
            "baxis": {
             "endlinecolor": "#2a3f5f",
             "gridcolor": "white",
             "linecolor": "white",
             "minorgridcolor": "white",
             "startlinecolor": "#2a3f5f"
            },
            "type": "carpet"
           }
          ],
          "choropleth": [
           {
            "colorbar": {
             "outlinewidth": 0,
             "ticks": ""
            },
            "type": "choropleth"
           }
          ],
          "contour": [
           {
            "colorbar": {
             "outlinewidth": 0,
             "ticks": ""
            },
            "colorscale": [
             [
              0,
              "#0d0887"
             ],
             [
              0.1111111111111111,
              "#46039f"
             ],
             [
              0.2222222222222222,
              "#7201a8"
             ],
             [
              0.3333333333333333,
              "#9c179e"
             ],
             [
              0.4444444444444444,
              "#bd3786"
             ],
             [
              0.5555555555555556,
              "#d8576b"
             ],
             [
              0.6666666666666666,
              "#ed7953"
             ],
             [
              0.7777777777777778,
              "#fb9f3a"
             ],
             [
              0.8888888888888888,
              "#fdca26"
             ],
             [
              1,
              "#f0f921"
             ]
            ],
            "type": "contour"
           }
          ],
          "contourcarpet": [
           {
            "colorbar": {
             "outlinewidth": 0,
             "ticks": ""
            },
            "type": "contourcarpet"
           }
          ],
          "heatmap": [
           {
            "colorbar": {
             "outlinewidth": 0,
             "ticks": ""
            },
            "colorscale": [
             [
              0,
              "#0d0887"
             ],
             [
              0.1111111111111111,
              "#46039f"
             ],
             [
              0.2222222222222222,
              "#7201a8"
             ],
             [
              0.3333333333333333,
              "#9c179e"
             ],
             [
              0.4444444444444444,
              "#bd3786"
             ],
             [
              0.5555555555555556,
              "#d8576b"
             ],
             [
              0.6666666666666666,
              "#ed7953"
             ],
             [
              0.7777777777777778,
              "#fb9f3a"
             ],
             [
              0.8888888888888888,
              "#fdca26"
             ],
             [
              1,
              "#f0f921"
             ]
            ],
            "type": "heatmap"
           }
          ],
          "heatmapgl": [
           {
            "colorbar": {
             "outlinewidth": 0,
             "ticks": ""
            },
            "colorscale": [
             [
              0,
              "#0d0887"
             ],
             [
              0.1111111111111111,
              "#46039f"
             ],
             [
              0.2222222222222222,
              "#7201a8"
             ],
             [
              0.3333333333333333,
              "#9c179e"
             ],
             [
              0.4444444444444444,
              "#bd3786"
             ],
             [
              0.5555555555555556,
              "#d8576b"
             ],
             [
              0.6666666666666666,
              "#ed7953"
             ],
             [
              0.7777777777777778,
              "#fb9f3a"
             ],
             [
              0.8888888888888888,
              "#fdca26"
             ],
             [
              1,
              "#f0f921"
             ]
            ],
            "type": "heatmapgl"
           }
          ],
          "histogram": [
           {
            "marker": {
             "colorbar": {
              "outlinewidth": 0,
              "ticks": ""
             }
            },
            "type": "histogram"
           }
          ],
          "histogram2d": [
           {
            "colorbar": {
             "outlinewidth": 0,
             "ticks": ""
            },
            "colorscale": [
             [
              0,
              "#0d0887"
             ],
             [
              0.1111111111111111,
              "#46039f"
             ],
             [
              0.2222222222222222,
              "#7201a8"
             ],
             [
              0.3333333333333333,
              "#9c179e"
             ],
             [
              0.4444444444444444,
              "#bd3786"
             ],
             [
              0.5555555555555556,
              "#d8576b"
             ],
             [
              0.6666666666666666,
              "#ed7953"
             ],
             [
              0.7777777777777778,
              "#fb9f3a"
             ],
             [
              0.8888888888888888,
              "#fdca26"
             ],
             [
              1,
              "#f0f921"
             ]
            ],
            "type": "histogram2d"
           }
          ],
          "histogram2dcontour": [
           {
            "colorbar": {
             "outlinewidth": 0,
             "ticks": ""
            },
            "colorscale": [
             [
              0,
              "#0d0887"
             ],
             [
              0.1111111111111111,
              "#46039f"
             ],
             [
              0.2222222222222222,
              "#7201a8"
             ],
             [
              0.3333333333333333,
              "#9c179e"
             ],
             [
              0.4444444444444444,
              "#bd3786"
             ],
             [
              0.5555555555555556,
              "#d8576b"
             ],
             [
              0.6666666666666666,
              "#ed7953"
             ],
             [
              0.7777777777777778,
              "#fb9f3a"
             ],
             [
              0.8888888888888888,
              "#fdca26"
             ],
             [
              1,
              "#f0f921"
             ]
            ],
            "type": "histogram2dcontour"
           }
          ],
          "mesh3d": [
           {
            "colorbar": {
             "outlinewidth": 0,
             "ticks": ""
            },
            "type": "mesh3d"
           }
          ],
          "parcoords": [
           {
            "line": {
             "colorbar": {
              "outlinewidth": 0,
              "ticks": ""
             }
            },
            "type": "parcoords"
           }
          ],
          "pie": [
           {
            "automargin": true,
            "type": "pie"
           }
          ],
          "scatter": [
           {
            "marker": {
             "colorbar": {
              "outlinewidth": 0,
              "ticks": ""
             }
            },
            "type": "scatter"
           }
          ],
          "scatter3d": [
           {
            "line": {
             "colorbar": {
              "outlinewidth": 0,
              "ticks": ""
             }
            },
            "marker": {
             "colorbar": {
              "outlinewidth": 0,
              "ticks": ""
             }
            },
            "type": "scatter3d"
           }
          ],
          "scattercarpet": [
           {
            "marker": {
             "colorbar": {
              "outlinewidth": 0,
              "ticks": ""
             }
            },
            "type": "scattercarpet"
           }
          ],
          "scattergeo": [
           {
            "marker": {
             "colorbar": {
              "outlinewidth": 0,
              "ticks": ""
             }
            },
            "type": "scattergeo"
           }
          ],
          "scattergl": [
           {
            "marker": {
             "colorbar": {
              "outlinewidth": 0,
              "ticks": ""
             }
            },
            "type": "scattergl"
           }
          ],
          "scattermapbox": [
           {
            "marker": {
             "colorbar": {
              "outlinewidth": 0,
              "ticks": ""
             }
            },
            "type": "scattermapbox"
           }
          ],
          "scatterpolar": [
           {
            "marker": {
             "colorbar": {
              "outlinewidth": 0,
              "ticks": ""
             }
            },
            "type": "scatterpolar"
           }
          ],
          "scatterpolargl": [
           {
            "marker": {
             "colorbar": {
              "outlinewidth": 0,
              "ticks": ""
             }
            },
            "type": "scatterpolargl"
           }
          ],
          "scatterternary": [
           {
            "marker": {
             "colorbar": {
              "outlinewidth": 0,
              "ticks": ""
             }
            },
            "type": "scatterternary"
           }
          ],
          "surface": [
           {
            "colorbar": {
             "outlinewidth": 0,
             "ticks": ""
            },
            "colorscale": [
             [
              0,
              "#0d0887"
             ],
             [
              0.1111111111111111,
              "#46039f"
             ],
             [
              0.2222222222222222,
              "#7201a8"
             ],
             [
              0.3333333333333333,
              "#9c179e"
             ],
             [
              0.4444444444444444,
              "#bd3786"
             ],
             [
              0.5555555555555556,
              "#d8576b"
             ],
             [
              0.6666666666666666,
              "#ed7953"
             ],
             [
              0.7777777777777778,
              "#fb9f3a"
             ],
             [
              0.8888888888888888,
              "#fdca26"
             ],
             [
              1,
              "#f0f921"
             ]
            ],
            "type": "surface"
           }
          ],
          "table": [
           {
            "cells": {
             "fill": {
              "color": "#EBF0F8"
             },
             "line": {
              "color": "white"
             }
            },
            "header": {
             "fill": {
              "color": "#C8D4E3"
             },
             "line": {
              "color": "white"
             }
            },
            "type": "table"
           }
          ]
         },
         "layout": {
          "annotationdefaults": {
           "arrowcolor": "#2a3f5f",
           "arrowhead": 0,
           "arrowwidth": 1
          },
          "coloraxis": {
           "colorbar": {
            "outlinewidth": 0,
            "ticks": ""
           }
          },
          "colorscale": {
           "diverging": [
            [
             0,
             "#8e0152"
            ],
            [
             0.1,
             "#c51b7d"
            ],
            [
             0.2,
             "#de77ae"
            ],
            [
             0.3,
             "#f1b6da"
            ],
            [
             0.4,
             "#fde0ef"
            ],
            [
             0.5,
             "#f7f7f7"
            ],
            [
             0.6,
             "#e6f5d0"
            ],
            [
             0.7,
             "#b8e186"
            ],
            [
             0.8,
             "#7fbc41"
            ],
            [
             0.9,
             "#4d9221"
            ],
            [
             1,
             "#276419"
            ]
           ],
           "sequential": [
            [
             0,
             "#0d0887"
            ],
            [
             0.1111111111111111,
             "#46039f"
            ],
            [
             0.2222222222222222,
             "#7201a8"
            ],
            [
             0.3333333333333333,
             "#9c179e"
            ],
            [
             0.4444444444444444,
             "#bd3786"
            ],
            [
             0.5555555555555556,
             "#d8576b"
            ],
            [
             0.6666666666666666,
             "#ed7953"
            ],
            [
             0.7777777777777778,
             "#fb9f3a"
            ],
            [
             0.8888888888888888,
             "#fdca26"
            ],
            [
             1,
             "#f0f921"
            ]
           ],
           "sequentialminus": [
            [
             0,
             "#0d0887"
            ],
            [
             0.1111111111111111,
             "#46039f"
            ],
            [
             0.2222222222222222,
             "#7201a8"
            ],
            [
             0.3333333333333333,
             "#9c179e"
            ],
            [
             0.4444444444444444,
             "#bd3786"
            ],
            [
             0.5555555555555556,
             "#d8576b"
            ],
            [
             0.6666666666666666,
             "#ed7953"
            ],
            [
             0.7777777777777778,
             "#fb9f3a"
            ],
            [
             0.8888888888888888,
             "#fdca26"
            ],
            [
             1,
             "#f0f921"
            ]
           ]
          },
          "colorway": [
           "#636efa",
           "#EF553B",
           "#00cc96",
           "#ab63fa",
           "#FFA15A",
           "#19d3f3",
           "#FF6692",
           "#B6E880",
           "#FF97FF",
           "#FECB52"
          ],
          "font": {
           "color": "#2a3f5f"
          },
          "geo": {
           "bgcolor": "white",
           "lakecolor": "white",
           "landcolor": "#E5ECF6",
           "showlakes": true,
           "showland": true,
           "subunitcolor": "white"
          },
          "hoverlabel": {
           "align": "left"
          },
          "hovermode": "closest",
          "mapbox": {
           "style": "light"
          },
          "paper_bgcolor": "white",
          "plot_bgcolor": "#E5ECF6",
          "polar": {
           "angularaxis": {
            "gridcolor": "white",
            "linecolor": "white",
            "ticks": ""
           },
           "bgcolor": "#E5ECF6",
           "radialaxis": {
            "gridcolor": "white",
            "linecolor": "white",
            "ticks": ""
           }
          },
          "scene": {
           "xaxis": {
            "backgroundcolor": "#E5ECF6",
            "gridcolor": "white",
            "gridwidth": 2,
            "linecolor": "white",
            "showbackground": true,
            "ticks": "",
            "zerolinecolor": "white"
           },
           "yaxis": {
            "backgroundcolor": "#E5ECF6",
            "gridcolor": "white",
            "gridwidth": 2,
            "linecolor": "white",
            "showbackground": true,
            "ticks": "",
            "zerolinecolor": "white"
           },
           "zaxis": {
            "backgroundcolor": "#E5ECF6",
            "gridcolor": "white",
            "gridwidth": 2,
            "linecolor": "white",
            "showbackground": true,
            "ticks": "",
            "zerolinecolor": "white"
           }
          },
          "shapedefaults": {
           "line": {
            "color": "#2a3f5f"
           }
          },
          "ternary": {
           "aaxis": {
            "gridcolor": "white",
            "linecolor": "white",
            "ticks": ""
           },
           "baxis": {
            "gridcolor": "white",
            "linecolor": "white",
            "ticks": ""
           },
           "bgcolor": "#E5ECF6",
           "caxis": {
            "gridcolor": "white",
            "linecolor": "white",
            "ticks": ""
           }
          },
          "title": {
           "x": 0.05
          },
          "xaxis": {
           "automargin": true,
           "gridcolor": "white",
           "linecolor": "white",
           "ticks": "",
           "title": {
            "standoff": 15
           },
           "zerolinecolor": "white",
           "zerolinewidth": 2
          },
          "yaxis": {
           "automargin": true,
           "gridcolor": "white",
           "linecolor": "white",
           "ticks": "",
           "title": {
            "standoff": 15
           },
           "zerolinecolor": "white",
           "zerolinewidth": 2
          }
         }
        },
        "xaxis": {
         "anchor": "y",
         "domain": [
          0,
          1
         ],
         "title": {
          "text": "Date"
         }
        },
        "yaxis": {
         "anchor": "x",
         "domain": [
          0,
          1
         ],
         "title": {
          "text": "value"
         }
        }
       }
      }
     },
     "metadata": {}
    }
   ],
   "source": [
    "#ploting\n",
    "df.groupby(['Date','StatusOrden'])['PagoCliente'].sum().unstack().interpolate(method ='linear', limit_direction ='forward').plot()"
   ]
  },
  {
   "cell_type": "code",
   "execution_count": 104,
   "metadata": {},
   "outputs": [
    {
     "output_type": "execute_result",
     "data": {
      "text/plain": "         Date    Delivered\n0  2018-02-01          NaN\n1  2018-02-02   86081349.0\n2  2018-02-03   89070117.0\n3  2018-02-04  119516450.0\n4  2018-02-05  110160332.0",
      "text/html": "<div>\n<style scoped>\n    .dataframe tbody tr th:only-of-type {\n        vertical-align: middle;\n    }\n\n    .dataframe tbody tr th {\n        vertical-align: top;\n    }\n\n    .dataframe thead th {\n        text-align: right;\n    }\n</style>\n<table border=\"1\" class=\"dataframe\">\n  <thead>\n    <tr style=\"text-align: right;\">\n      <th></th>\n      <th>Date</th>\n      <th>Delivered</th>\n    </tr>\n  </thead>\n  <tbody>\n    <tr>\n      <th>0</th>\n      <td>2018-02-01</td>\n      <td>NaN</td>\n    </tr>\n    <tr>\n      <th>1</th>\n      <td>2018-02-02</td>\n      <td>86081349.0</td>\n    </tr>\n    <tr>\n      <th>2</th>\n      <td>2018-02-03</td>\n      <td>89070117.0</td>\n    </tr>\n    <tr>\n      <th>3</th>\n      <td>2018-02-04</td>\n      <td>119516450.0</td>\n    </tr>\n    <tr>\n      <th>4</th>\n      <td>2018-02-05</td>\n      <td>110160332.0</td>\n    </tr>\n  </tbody>\n</table>\n</div>"
     },
     "metadata": {},
     "execution_count": 104
    }
   ],
   "source": [
    "dlv=df.groupby(['Date','StatusOrden'])['PagoCliente'].sum().unstack().interpolate(method ='linear', limit_direction ='forward')['Delivered'].reset_index()\n",
    "dlv.head()"
   ]
  },
  {
   "source": [
    "Remove before 1 Apr 2018 and 1 Feb 2018"
   ],
   "cell_type": "markdown",
   "metadata": {}
  },
  {
   "cell_type": "code",
   "execution_count": 105,
   "metadata": {},
   "outputs": [],
   "source": [
    "from sklearn.model_selection import train_test_split"
   ]
  },
  {
   "cell_type": "code",
   "execution_count": 106,
   "metadata": {},
   "outputs": [],
   "source": [
    "X=dlv['Date']\n",
    "y=dlv['Delivered']\n",
    "X_train, X_test, y_train, y_test = train_test_split(X, y, test_size=0.33, shuffle=False)#,random_state=42)"
   ]
  },
  {
   "cell_type": "code",
   "execution_count": 107,
   "metadata": {},
   "outputs": [
    {
     "output_type": "execute_result",
     "data": {
      "text/plain": "0     2018-02-01\n1     2018-02-02\n2     2018-02-03\n3     2018-02-04\n4     2018-02-05\n5     2018-02-06\n6     2018-02-07\n7     2018-02-08\n8     2018-02-09\n9     2018-02-10\n10    2018-02-11\n11    2018-02-12\n12    2018-02-13\n13    2018-02-14\n14    2018-02-15\n15    2018-02-16\n16    2018-02-17\n17    2018-02-18\n18    2018-02-19\n19    2018-02-20\n20    2018-02-21\n21    2018-02-22\n22    2018-02-23\n23    2018-02-24\n24    2018-02-25\n25    2018-02-26\n26    2018-02-27\n27    2018-02-28\n28    2018-03-01\n29    2018-03-02\n30    2018-03-03\n31    2018-03-04\n32    2018-03-05\n33    2018-03-06\n34    2018-03-07\n35    2018-03-08\n36    2018-03-09\n37    2018-03-10\n38    2018-03-11\n39    2018-03-12\n40    2018-03-13\n41    2018-03-14\n42    2018-03-15\n43    2018-03-16\n44    2018-03-17\n45    2018-03-18\n46    2018-03-19\n47    2018-03-20\n48    2018-03-21\n49    2018-03-22\nName: Date, dtype: object"
     },
     "metadata": {},
     "execution_count": 107
    }
   ],
   "source": [
    "X_train"
   ]
  },
  {
   "cell_type": "code",
   "execution_count": null,
   "metadata": {},
   "outputs": [],
   "source": [
    "import tensorflow as tf\n",
    "from keras.models import Sequential\n",
    "from keras.layers import Dense"
   ]
  },
  {
   "cell_type": "code",
   "execution_count": null,
   "metadata": {},
   "outputs": [],
   "source": []
  },
  {
   "cell_type": "code",
   "execution_count": null,
   "metadata": {},
   "outputs": [],
   "source": [
    "#Creating a simple model With just Dense layers\n",
    "def model_dnn(look_back):\n",
    "    model=Sequential()\n",
    "    model.add(Dense(units=32, input_dim=look_back, activation='relu'))\n",
    "    model.add(Dense(8, activation='relu'))\n",
    "    model.add(Dense(1))\n",
    "    model.compile(loss='mean_squared_error',  optimizer='adam',metrics = ['mse', 'mae'])\n",
    "    return model"
   ]
  },
  {
   "source": [
    "Fitting the model"
   ],
   "cell_type": "markdown",
   "metadata": {}
  },
  {
   "cell_type": "code",
   "execution_count": null,
   "metadata": {},
   "outputs": [],
   "source": [
    "model=model_dnn(look_back)\n",
    "\n",
    "history=model.fit(X_train,y_train,epochs=100, batch_size=30, verbose=1, validation_data=(X_test,y_test),callbacks=[EarlyStopping(monitor='val_loss', patience=10)],shuffle=False)"
   ]
  },
  {
   "source": [
    "Model evaluation"
   ],
   "cell_type": "markdown",
   "metadata": {}
  },
  {
   "cell_type": "code",
   "execution_count": null,
   "metadata": {},
   "outputs": [],
   "source": [
    " def model_loss(history):\n",
    "    plt.figure(figsize=(8,4))\n",
    "    plt.plot(history.history['loss'], label='Train Loss')\n",
    "    plt.plot(history.history['val_loss'], label='Test Loss')\n",
    "    plt.title('model loss')\n",
    "    plt.ylabel('loss')\n",
    "    plt.xlabel('epochs')\n",
    "    plt.legend(loc='upper right')\n",
    "    plt.show();"
   ]
  },
  {
   "cell_type": "code",
   "execution_count": null,
   "metadata": {},
   "outputs": [],
   "source": [
    "train_score = model.evaluate(X_train, y_train, verbose=0)\n",
    "print('Train Root Mean Squared Error(RMSE): %.2f; Train Mean Absolute Error(MAE) : %.2f ' \n",
    "% (np.sqrt(train_score[1]), train_score[2]))\n",
    "test_score = model.evaluate(testX, testY, verbose=0)\n",
    "print('Test Root Mean Squared Error(RMSE): %.2f; Test Mean Absolute Error(MAE) : %.2f ' \n",
    "% (np.sqrt(test_score[1]), test_score[2]))\n",
    "model_loss(history)"
   ]
  }
 ]
}